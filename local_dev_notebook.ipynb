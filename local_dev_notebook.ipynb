{
 "cells": [
  {
   "cell_type": "code",
   "execution_count": 2,
   "id": "8315afbb",
   "metadata": {},
   "outputs": [
    {
     "name": "stdout",
     "output_type": "stream",
     "text": [
      "Welcome to the Glue Interactive Sessions Kernel\n",
      "For more information on available magic commands, please type %help in any new cell.\n",
      "\n",
      "Please view our Getting Started page to access the most up-to-date information on the Interactive Sessions kernel: https://docs.aws.amazon.com/glue/latest/dg/interactive-sessions.html\n",
      "Current iam_role is None\n",
      "iam_role has been set to arn:aws:iam::481237842548:role/CF-dev-TruveDevops-Glue-Role.\n"
     ]
    }
   ],
   "source": [
    "%iam_role arn:aws:iam::481237842548:role/CF-dev-TruveDevops-Glue-Role"
   ]
  },
  {
   "cell_type": "code",
   "execution_count": 4,
   "id": "86f8f0a6",
   "metadata": {},
   "outputs": [
    {
     "name": "stdout",
     "output_type": "stream",
     "text": [
      "Previous region: None\n",
      "Setting new region to: us-west-2\n",
      "Region is set to: us-west-2\n"
     ]
    }
   ],
   "source": [
    "%region us-west-2"
   ]
  },
  {
   "cell_type": "code",
   "execution_count": 0,
   "id": "c7525825",
   "metadata": {},
   "outputs": [
    {
     "name": "stdout",
     "output_type": "stream",
     "text": [
      "Additional python modules to be included:\n",
      "s3://dev-truve-devops-05-databricks-bucketetlrawdata-wu3m2thgf3o/sstm_transformation-0.1.0-py3-none-any.whl\n",
      "Previous number of workers: 5\n",
      "Setting new number of workers to: 2\n",
      "Authenticating with profile=default\n",
      "glue_role_arn defined by user: arn:aws:iam::481237842548:role/CF-dev-TruveDevops-Glue-Role\n",
      "Trying to create a Glue session for the kernel.\n",
      "Worker Type: G.1X\n",
      "Number of Workers: 2\n",
      "Session ID: 6d81da78-d500-4f9d-a248-10e597fed9fb\n",
      "Applying the following default arguments:\n",
      "--glue_kernel_version 0.31\n",
      "--enable-glue-datacatalog true\n",
      "--additional-python-modules s3://dev-truve-devops-05-databricks-bucketetlrawdata-wu3m2thgf3o/sstm_transformation-0.1.0-py3-none-any.whl\n",
      "Waiting for session 6d81da78-d500-4f9d-a248-10e597fed9fb to get into ready status...\n",
      "Session 6d81da78-d500-4f9d-a248-10e597fed9fb has been created\n",
      "\n",
      "\n"
     ]
    }
   ],
   "source": [
    "%additional_python_modules \"s3://dev-truve-devops-05-databricks-bucketetlrawdata-wu3m2thgf3o/sstm_transformation-0.1.0-py3-none-any.whl\"\n",
    "%number_of_workers 2\n",
    "\n",
    "import sys\n",
    "from awsglue.transforms import *\n",
    "from awsglue.utils import getResolvedOptions\n",
    "from pyspark.context import SparkContext\n",
    "from awsglue.context import GlueContext\n",
    "from awsglue.job import Job\n",
    "  \n",
    "sc = SparkContext.getOrCreate()\n",
    "glueContext = GlueContext(sc)\n",
    "spark = glueContext.spark_session\n",
    "job = Job(glueContext)"
   ]
  },
  {
   "cell_type": "code",
   "execution_count": null,
   "id": "4f82a92a",
   "metadata": {},
   "outputs": [],
   "source": [
    "#download configuration file\n",
    "import boto3\n",
    "session = boto3.Session()\n",
    "\n",
    "s3 = session.resource('s3')\n",
    "s3.Bucket('dev-truve-devops-05-databricks-bucketetlrawdata-wu3m2thgf3o').download_file('confs/filevine/sstm.yaml', 'sstm.yaml')"
   ]
  },
  {
   "cell_type": "code",
   "execution_count": null,
   "id": "d8ae1f81",
   "metadata": {},
   "outputs": [],
   "source": [
    "with open(\"sstm.yaml\", \"r\") as f:\n",
    "    sstm_config = f.read()"
   ]
  },
  {
   "cell_type": "code",
   "execution_count": null,
   "id": "e61f8750",
   "metadata": {},
   "outputs": [],
   "source": [
    "sstm_config"
   ]
  },
  {
   "cell_type": "code",
   "execution_count": null,
   "id": "826bfe0f",
   "metadata": {},
   "outputs": [],
   "source": [
    "def readFromFile(ext, path) :\n",
    "    fileContent = spark.read.format(ext).option(\"header\", \"true\").load(path)\n",
    "    return fileContent\n"
   ]
  },
  {
   "cell_type": "code",
   "execution_count": null,
   "id": "088295e0",
   "metadata": {},
   "outputs": [],
   "source": [
    "def writeToFile(df_join , path, mode) :\n",
    "    df_join.write.parquet(path,mode=mode)"
   ]
  },
  {
   "cell_type": "code",
   "execution_count": null,
   "id": "ffc29d9f",
   "metadata": {},
   "outputs": [],
   "source": [
    "spark.conf.set(\"spark.sql.parquet.enableVectorizedReader\",\"false\")\n",
    "spark.conf.set(\"spark.sql.sources.partitionColumnTypeInference.enabled\", \"false\")\n",
    "spark.conf.set(\"spark.sql.parquet.writeLegacyFormat\", \"true\")\n"
   ]
  },
  {
   "cell_type": "code",
   "execution_count": null,
   "id": "2c402ec4",
   "metadata": {},
   "outputs": [],
   "source": [
    "from sstm_transformation.tsm_builder import TSMBuilder"
   ]
  },
  {
   "cell_type": "code",
   "execution_count": null,
   "id": "65ab263f",
   "metadata": {},
   "outputs": [],
   "source": [
    "#PeopleType Transformation\n",
    "from awsglue.dynamicframe import DynamicFrame\n",
    "builder = TSMBuilder(\"sstm.yaml\", spark=spark)\n",
    "def people_type_transformation():\n",
    "    #Read Raw Data\n",
    "    contact_dyf = glueContext.create_dynamic_frame_from_options(\\\n",
    "    connection_type = \"s3\", \\\n",
    "    connection_options = {\n",
    "        \"paths\": [\"s3://dev-truve-devops-05-databricks-bucketetlrawdata-wu3m2thgf3o/filevine/6586/contact/historical_contacts.parquet\"]}, \\\n",
    "    format = \"parquet\",\n",
    "    )\n",
    "    contact_sp_df = contact_dyf.toDF()\n",
    "    sstm_peoplemaster_df = builder.build_peopletypes(contact_df=contact_sp_df)\n",
    "    sstm_peoplemaster_dyf = DynamicFrame.fromDF(sstm_peoplemaster_df, glueContext, \"sstm_peoplemaster\")\n",
    "    print(sstm_peoplemaster_dyf.count())\n",
    "    sstm_peoplemaster_df.write.mode(\"overwrite\").format(\"parquet\").save(\"s3://dev-truve-devops-05-databr-bucketetlprocesseddata-h2m2xopoctot/peoplemaster/\")\n",
    "    print(\"PeopleTypes Processed successfully\")"
   ]
  },
  {
   "cell_type": "code",
   "execution_count": null,
   "id": "e015b833",
   "metadata": {},
   "outputs": [],
   "source": [
    "def people_master_transformation():\n",
    "    #Read Raw Data\n",
    "    contact_dyf = glueContext.create_dynamic_frame_from_options(\\\n",
    "    connection_type = \"s3\", \\\n",
    "    connection_options = {\n",
    "        \"paths\": [\"s3://dev-truve-devops-05-databricks-bucketetlrawdata-wu3m2thgf3o/filevine/6586/contact/historical_contacts.parquet\"]}, \\\n",
    "    format = \"parquet\",\n",
    "    )\n",
    "    contact_sp_df = contact_dyf.toDF()\n",
    "    print(contact_sp_df.count())\n",
    "    sstm_peoplemaster_df = builder.build_peoplemaster(contact_df=contact_sp_df)\n",
    "    trans_obj = DynamicFrame.fromDF(sstm_peoplemaster_df, glueContext, \"sstm_peoplemaster\")\n",
    "    print(trans_obj)\n",
    "    #sstm_peoplemaster_df.write.mode(\"overwrite\").format(\"parquet\").save(\"s3://dev-truve-devops-05-databr-bucketetlprocesseddata-h2m2xopoctot/peoplemaster/\")\n",
    "    #print(\"PeopleTypes Processed successfully\")"
   ]
  },
  {
   "cell_type": "code",
   "execution_count": null,
   "id": "58b6a7da",
   "metadata": {},
   "outputs": [],
   "source": [
    "#people_type_transformation()\n",
    "people_master_transformation()"
   ]
  },
  {
   "cell_type": "code",
   "execution_count": null,
   "id": "9242600f",
   "metadata": {},
   "outputs": [],
   "source": [
    "df_forms =readFromFile(\"parquet\", \"s3://dev-truve-devops-05-databricks-bucketetlrawdata-wu3m2thgf3o/filevine/6586/18764/*/form/casesummary.parquet\")\n"
   ]
  },
  {
   "cell_type": "code",
   "execution_count": null,
   "id": "80d99540",
   "metadata": {},
   "outputs": [],
   "source": []
  },
  {
   "cell_type": "code",
   "execution_count": null,
   "id": "518d9b86",
   "metadata": {},
   "outputs": [],
   "source": [
    "df_forms.count()"
   ]
  },
  {
   "cell_type": "code",
   "execution_count": null,
   "id": "397dc58c",
   "metadata": {},
   "outputs": [],
   "source": [
    "df_forms.printSchema()"
   ]
  },
  {
   "cell_type": "code",
   "execution_count": null,
   "id": "d3dfcde4",
   "metadata": {},
   "outputs": [],
   "source": [
    "df_forms.show()"
   ]
  },
  {
   "cell_type": "code",
   "execution_count": null,
   "id": "12b12b8a",
   "metadata": {},
   "outputs": [],
   "source": [
    "from awsglue.dynamicframe import DynamicFrame\n",
    "\n",
    "dyf_casesummary = DynamicFrame.fromDF(df_forms, glueContext, \"nested\")\n"
   ]
  },
  {
   "cell_type": "code",
   "execution_count": null,
   "id": "51af2d6e",
   "metadata": {},
   "outputs": [],
   "source": [
    "glueContext.write_dynamic_frame.from_options(frame = dyf_casesummary,\n",
    "                                         connection_type = \"s3\",\n",
    "                                         connection_options = {\"path\": \"s3://dev-truve-devops-05-databricks-bucketetlrawdata-wu3m2thgf3o/temp/casesummary/\"},\n",
    "                                         format = \"parquet\")"
   ]
  },
  {
   "cell_type": "code",
   "execution_count": null,
   "id": "4a922154",
   "metadata": {},
   "outputs": [],
   "source": [
    "writeToFile(df_forms,\"s3://dev-truve-devops-05-databricks-bucketetlrawdata-wu3m2thgf3o/temp/casesummary/\", \"overwrite\")\n"
   ]
  },
  {
   "cell_type": "code",
   "execution_count": null,
   "id": "d30e2e35",
   "metadata": {},
   "outputs": [],
   "source": [
    "%stop_session"
   ]
  },
  {
   "cell_type": "code",
   "execution_count": null,
   "id": "db45956f",
   "metadata": {},
   "outputs": [],
   "source": [
    "df_forms =readFromFile(\"parquet\", \"s3://dev-truve-devops-05-databricks-bucketetlrawdata-wu3m2thgf3o/filevine/6586/18764/*/collection/meds.parquet\")\n"
   ]
  },
  {
   "cell_type": "code",
   "execution_count": null,
   "id": "039b79a3",
   "metadata": {},
   "outputs": [],
   "source": [
    "df_forms.count()"
   ]
  },
  {
   "cell_type": "code",
   "execution_count": null,
   "id": "1d0d9f34",
   "metadata": {},
   "outputs": [],
   "source": [
    "df_forms.printSchema()"
   ]
  },
  {
   "cell_type": "code",
   "execution_count": null,
   "id": "029929cf",
   "metadata": {},
   "outputs": [],
   "source": [
    "df_forms.show(n=10)"
   ]
  },
  {
   "cell_type": "code",
   "execution_count": null,
   "id": "ee68bd6b",
   "metadata": {},
   "outputs": [],
   "source": [
    "writeToFile(df_forms,\"s3://dev-truve-devops-05-databricks-bucketetlrawdata-wu3m2thgf3o/temp/meds/\", \"overwrite\")\n"
   ]
  },
  {
   "cell_type": "code",
   "execution_count": null,
   "id": "49074dc7",
   "metadata": {},
   "outputs": [],
   "source": [
    "df_forms =readFromFile(\"parquet\", \"s3://dev-truve-devops-05-databricks-bucketetlrawdata-wu3m2thgf3o/filevine/6586/18764/10171369/form/intake.parquet\")\n"
   ]
  },
  {
   "cell_type": "code",
   "execution_count": null,
   "id": "d6c38272",
   "metadata": {},
   "outputs": [],
   "source": [
    "df_forms.count()"
   ]
  },
  {
   "cell_type": "code",
   "execution_count": null,
   "id": "2c692f91",
   "metadata": {},
   "outputs": [],
   "source": [
    "df_forms.show(n=10)"
   ]
  },
  {
   "cell_type": "code",
   "execution_count": null,
   "id": "0d2bab31",
   "metadata": {},
   "outputs": [],
   "source": [
    "df_forms.printSchema()"
   ]
  },
  {
   "cell_type": "code",
   "execution_count": null,
   "id": "548fea86",
   "metadata": {},
   "outputs": [],
   "source": [
    "writeToFile(df_forms,\"s3://dev-truve-devops-05-databricks-bucketetlrawdata-wu3m2thgf3o/temp/intake/\", \"overwrite\")\n"
   ]
  },
  {
   "cell_type": "code",
   "execution_count": null,
   "id": "0e3a1f5e",
   "metadata": {},
   "outputs": [],
   "source": []
  }
 ],
 "metadata": {
  "kernelspec": {
   "display_name": "Glue PySpark",
   "language": "python",
   "name": "glue_pyspark"
  },
  "language_info": {
   "codemirror_mode": {
    "name": "python",
    "version": 3
   },
   "file_extension": ".py",
   "mimetype": "text/x-python",
   "name": "Python_Glue_Session",
   "pygments_lexer": "python3"
  }
 },
 "nbformat": 4,
 "nbformat_minor": 5
}
