{
 "cells": [
  {
   "cell_type": "code",
   "execution_count": 2,
   "id": "8315afbb",
   "metadata": {},
   "outputs": [
    {
     "name": "stdout",
     "output_type": "stream",
     "text": [
      "Welcome to the Glue Interactive Sessions Kernel\n",
      "For more information on available magic commands, please type %help in any new cell.\n",
      "\n",
      "Please view our Getting Started page to access the most up-to-date information on the Interactive Sessions kernel: https://docs.aws.amazon.com/glue/latest/dg/interactive-sessions.html\n",
      "It looks like there is a newer version of the kernel available. The latest version is 0.35 and you have 0.31 installed.\n",
      "Please run `pip install --upgrade aws-glue-sessions` to upgrade your kernel\n",
      "Current iam_role is None\n",
      "iam_role has been set to arn:aws:iam::481237842548:role/CF-dev-TruveDevops-Glue-Role.\n"
     ]
    }
   ],
   "source": [
    "%iam_role arn:aws:iam::481237842548:role/CF-dev-TruveDevops-Glue-Role"
   ]
  },
  {
   "cell_type": "code",
   "execution_count": 4,
   "id": "86f8f0a6",
   "metadata": {},
   "outputs": [
    {
     "name": "stdout",
     "output_type": "stream",
     "text": [
      "Previous region: None\n",
      "Setting new region to: us-west-2\n",
      "Region is set to: us-west-2\n"
     ]
    }
   ],
   "source": [
    "%region us-west-2"
   ]
  },
  {
   "cell_type": "code",
   "execution_count": 0,
   "id": "c7525825",
   "metadata": {},
   "outputs": [
    {
     "name": "stdout",
     "output_type": "stream",
     "text": [
      "Additional python modules to be included:\n",
      "s3://dev-truve-devops-05-databricks-bucketetlrawdata-wu3m2thgf3o/sstm_transformation-0.1.0-py3-none-any.whl\n",
      "Previous number of workers: 5\n",
      "Setting new number of workers to: 2\n",
      "Connections to be included:\n",
      "dev-glue-redshift-connection\n",
      "Current idle_timeout is None minutes.\n",
      "idle_timeout has been set to 60 minutes.\n",
      "Authenticating with profile=default\n",
      "glue_role_arn defined by user: arn:aws:iam::481237842548:role/CF-dev-TruveDevops-Glue-Role\n",
      "Trying to create a Glue session for the kernel.\n",
      "Worker Type: G.1X\n",
      "Number of Workers: 2\n",
      "Session ID: 7343626d-9330-479e-90b2-7fa628d91202\n",
      "Applying the following default arguments:\n",
      "--glue_kernel_version 0.31\n",
      "--enable-glue-datacatalog true\n",
      "--additional-python-modules s3://dev-truve-devops-05-databricks-bucketetlrawdata-wu3m2thgf3o/sstm_transformation-0.1.0-py3-none-any.whl\n",
      "Waiting for session 7343626d-9330-479e-90b2-7fa628d91202 to get into ready status...\n",
      "Session 7343626d-9330-479e-90b2-7fa628d91202 has been created\n",
      "\n",
      "\n"
     ]
    }
   ],
   "source": [
    "%additional_python_modules \"s3://dev-truve-devops-05-databricks-bucketetlrawdata-wu3m2thgf3o/sstm_transformation-0.1.0-py3-none-any.whl\"\n",
    "%number_of_workers 2\n",
    "%connections dev-glue-redshift-connection\n",
    "%idle_timeout 60\n",
    "\n",
    "import sys\n",
    "from awsglue.transforms import *\n",
    "from awsglue.utils import getResolvedOptions\n",
    "from pyspark.context import SparkContext\n",
    "from awsglue.context import GlueContext\n",
    "from awsglue.job import Job\n",
    "  \n",
    "sc = SparkContext.getOrCreate()\n",
    "glueContext = GlueContext(sc)\n",
    "spark = glueContext.spark_session\n",
    "job = Job(glueContext)"
   ]
  },
  {
   "cell_type": "code",
   "execution_count": 1,
   "id": "4f82a92a",
   "metadata": {},
   "outputs": [
    {
     "name": "stdout",
     "output_type": "stream",
     "text": [
      "\n"
     ]
    }
   ],
   "source": [
    "#download configuration file\n",
    "import boto3\n",
    "session = boto3.Session()\n",
    "\n",
    "s3 = session.resource('s3')\n",
    "s3.Bucket('dev-truve-devops-05-databricks-bucketetlrawdata-wu3m2thgf3o').download_file('confs/filevine/sstm.yaml', 'sstm.yaml')"
   ]
  },
  {
   "cell_type": "code",
   "execution_count": 2,
   "id": "d8ae1f81",
   "metadata": {},
   "outputs": [
    {
     "name": "stdout",
     "output_type": "stream",
     "text": [
      "\n"
     ]
    }
   ],
   "source": [
    "with open(\"sstm.yaml\", \"r\") as f:\n",
    "    sstm_config = f.read()\n",
    "    "
   ]
  },
  {
   "cell_type": "code",
   "execution_count": 3,
   "id": "826bfe0f",
   "metadata": {},
   "outputs": [
    {
     "name": "stdout",
     "output_type": "stream",
     "text": [
      "\n"
     ]
    }
   ],
   "source": [
    "def readFromFile(ext, path) :\n",
    "    fileContent = spark.read.format(ext).option(\"header\", \"true\").option(\"mergeSchema\", \"true\").load(path)\n",
    "    return fileContent\n"
   ]
  },
  {
   "cell_type": "code",
   "execution_count": 4,
   "id": "088295e0",
   "metadata": {},
   "outputs": [
    {
     "name": "stdout",
     "output_type": "stream",
     "text": [
      "\n"
     ]
    }
   ],
   "source": [
    "def writeToFile(df_join , path, mode) :\n",
    "    df_join.write.parquet(path,mode=mode)"
   ]
  },
  {
   "cell_type": "code",
   "execution_count": 5,
   "id": "fe962eda",
   "metadata": {},
   "outputs": [
    {
     "name": "stdout",
     "output_type": "stream",
     "text": [
      "\n"
     ]
    }
   ],
   "source": [
    "spark.conf.set(\"spark.sql.parquet.enableVectorizedReader\",\"false\")\n",
    "spark.conf.set(\"spark.sql.sources.partitionColumnTypeInference.enabled\", \"false\")\n"
   ]
  },
  {
   "cell_type": "code",
   "execution_count": 6,
   "id": "2c402ec4",
   "metadata": {},
   "outputs": [
    {
     "name": "stdout",
     "output_type": "stream",
     "text": [
      "\n"
     ]
    }
   ],
   "source": [
    "from sstm_transformation.tsm_builder import TSMBuilder\n",
    "from pyspark.sql.functions import input_file_name\n",
    "import pyspark.sql.functions as F\n",
    "\n"
   ]
  },
  {
   "cell_type": "code",
   "execution_count": 7,
   "id": "61fde2b8",
   "metadata": {},
   "outputs": [
    {
     "name": "stdout",
     "output_type": "stream",
     "text": [
      "\n"
     ]
    }
   ],
   "source": [
    "#Read All dfs \n",
    "\n",
    "#df_project =readFromFile(\"parquet\", \"s3://dev-truve-devops-05-databricks-bucketetlrawdata-wu3m2thgf3o/filevine/6586/18764/*/project.parquet\")\n",
    "#df_intake =readFromFile(\"parquet\", \"s3://dev-truve-devops-05-databricks-bucketetlrawdata-wu3m2thgf3o/filevine/6586/18764/*/form/intake.parquet\")\n",
    "#df_contact =readFromFile(\"parquet\", \"s3://dev-truve-devops-05-databricks-bucketetlrawdata-wu3m2thgf3o/filevine/6586/contact/historical_contacts.parquet\")\n",
    "#df_projecttype = readFromFile(\"parquet\", \"s3://dev-truve-devops-05-databricks-bucketetlrawdata-wu3m2thgf3o/filevine/6586/projecttype/\")\n",
    "df_meds = readFromFile(\"parquet\", \"s3://dev-truve-devops-05-databricks-bucketetlrawdata-wu3m2thgf3o/filevine/6586/18764/*/collections/meds.parquet\")\n",
    "#df_casesummary =readFromFile(\"parquet\", \"s3://dev-truve-devops-05-databricks-bucketetlrawdata-wu3m2thgf3o/filevine/6586/18764/*/form/casesummary.parquet\")\n",
    "#df_project_vitals =readFromFile(\"parquet\", \"s3://dev-truve-devops-05-databricks-bucketetlrawdata-wu3m2thgf3o/filevine/6586/18764/*/project_vitals.parquet\")\n"
   ]
  },
  {
   "cell_type": "code",
   "execution_count": 9,
   "id": "7b4712b1",
   "metadata": {},
   "outputs": [
    {
     "name": "stdout",
     "output_type": "stream",
     "text": [
      "28153\n"
     ]
    }
   ],
   "source": [
    "df_meds.count()"
   ]
  },
  {
   "cell_type": "code",
   "execution_count": 8,
   "id": "42943584",
   "metadata": {},
   "outputs": [
    {
     "name": "stdout",
     "output_type": "stream",
     "text": [
      "\n"
     ]
    }
   ],
   "source": [
    "df_project_vitals = df_project_vitals.withColumn(\"input_file\", input_file_name())\n"
   ]
  },
  {
   "cell_type": "code",
   "execution_count": 10,
   "id": "14afade1",
   "metadata": {},
   "outputs": [
    {
     "name": "stdout",
     "output_type": "stream",
     "text": [
      "\n"
     ]
    }
   ],
   "source": [
    "df_meds_modified = df_meds.filter(df_meds.id.isNotNull())"
   ]
  },
  {
   "cell_type": "code",
   "execution_count": 11,
   "id": "14c0f2c1",
   "metadata": {},
   "outputs": [
    {
     "name": "stdout",
     "output_type": "stream",
     "text": [
      "16117\n"
     ]
    }
   ],
   "source": [
    "df_meds_modified.count()"
   ]
  },
  {
   "cell_type": "code",
   "execution_count": 9,
   "id": "890003de",
   "metadata": {},
   "outputs": [
    {
     "name": "stdout",
     "output_type": "stream",
     "text": [
      "\n"
     ]
    }
   ],
   "source": [
    "df_project_vitals = df_project_vitals.withColumn('projectId', F.element_at(F.split(F.col('input_file'), '/'), -2))\n"
   ]
  },
  {
   "cell_type": "code",
   "execution_count": 12,
   "id": "3987403f",
   "metadata": {},
   "outputs": [
    {
     "name": "stdout",
     "output_type": "stream",
     "text": [
      "\n"
     ]
    }
   ],
   "source": [
    "builder = TSMBuilder(\"sstm.yaml\", spark=spark)\n"
   ]
  },
  {
   "cell_type": "code",
   "execution_count": 11,
   "id": "d0d26e39",
   "metadata": {},
   "outputs": [
    {
     "name": "stdout",
     "output_type": "stream",
     "text": [
      "+--------------------+--------------------+-----------+--------------------+--------+-----+--------------------+---------+\n",
      "|           fieldName|        friendlyName|  fieldType|               value|position|links|          input_file|projectId|\n",
      "+--------------------+--------------------+-----------+--------------------+--------+-----+--------------------+---------+\n",
      "|paralegal223935Fu...|        Case Manager|    Default|       Mark Patricio|       0|   {}|s3://dev-truve-de...|  7866965|\n",
      "|        incidentDate|       Incident Date|   DateOnly|2020-10-05T00:00:...|       1|   {}|s3://dev-truve-de...|  7866965|\n",
      "|statuteoflimitati...|                 SOL|   DateOnly|2022-10-05T00:00:...|       2|   {}|s3://dev-truve-de...|  7866965|\n",
      "|     clientBirthDate|Client Date of Birth|   DateOnly|1978-02-09T00:00:...|       3|   {}|s3://dev-truve-de...|  7866965|\n",
      "|       mridone223935|           MRI Done?|    Boolean|                null|       4|   {}|s3://dev-truve-de...|  7866965|\n",
      "|  accidenttype223938|       Accident Type|    Default|Motor Vehicle Col...|       5|   {}|s3://dev-truve-de...|  7866965|\n",
      "|          createDate|         Create Date|DateTimeUtc|2020-10-12T17:30:...|       6|   {}|s3://dev-truve-de...|  7866965|\n",
      "|countOfredflags18764|Count of Red Flag...|    Default|                   2|       7|   {}|s3://dev-truve-de...|  7866965|\n",
      "|       projectNumber|      Project Number|ProjectLink|             7866965|       8|   {}|s3://dev-truve-de...|  7866965|\n",
      "|        projectEmail|       Email Address|     MailTo|fragatanetonelson...|       9|   {}|s3://dev-truve-de...|  7866965|\n",
      "|       vipcase223935|           VIP Case?|    Boolean|               false|      10|   {}|s3://dev-truve-de...|  7866965|\n",
      "|primaryattorney22...|Supervising Attor...|    Default|    Ali J Awad, Esq.|      11|   {}|s3://dev-truve-de...|  7866965|\n",
      "|paralegal223935Fu...|        Case Manager|    Default|        Iamme Staton|       0|   {}|s3://dev-truve-de...|  9465452|\n",
      "|        incidentDate|       Incident Date|   DateOnly|2019-07-10T00:00:...|       1|   {}|s3://dev-truve-de...|  9465452|\n",
      "|statuteoflimitati...|                 SOL|   DateOnly|2021-07-10T00:00:...|       2|   {}|s3://dev-truve-de...|  9465452|\n",
      "|     clientBirthDate|Client Date of Birth|   DateOnly|1982-03-20T00:00:...|       3|   {}|s3://dev-truve-de...|  9465452|\n",
      "|       mridone223935|           MRI Done?|    Boolean|                null|       4|   {}|s3://dev-truve-de...|  9465452|\n",
      "|  accidenttype223938|       Accident Type|    Default|Premises Liabilit...|       5|   {}|s3://dev-truve-de...|  9465452|\n",
      "|          createDate|         Create Date|DateTimeUtc|2021-06-03T20:59:...|       6|   {}|s3://dev-truve-de...|  9465452|\n",
      "|countOfredflags18764|Count of Red Flag...|    Default|                   3|       7|   {}|s3://dev-truve-de...|  9465452|\n",
      "+--------------------+--------------------+-----------+--------------------+--------+-----+--------------------+---------+\n",
      "only showing top 20 rows\n"
     ]
    }
   ],
   "source": [
    "df_project_vitals.show()\n",
    "#s3://dev-truve-devops-05-databricks-bucketetlrawdata-wu3m2thgf3o/filevine/6586/18764/10387917/project_vitals.parquet"
   ]
  },
  {
   "cell_type": "code",
   "execution_count": 15,
   "id": "9ce20a1d",
   "metadata": {},
   "outputs": [
    {
     "name": "stdout",
     "output_type": "stream",
     "text": [
      "\n"
     ]
    }
   ],
   "source": [
    "#Upload data on S3 \n",
    "from awsglue.dynamicframe import DynamicFrame\n",
    "def upload_result(result):\n",
    "    temp_bucket = \"s3://dev-truve-devops-05-databricks-bucketetlrawdata-wu3m2thgf3o/temp\"\n",
    "    for key, df in result.items():\n",
    "        print(f\"Writing {key}\")\n",
    "        writeToFile(df,\"s3://dev-truve-devops-05-databr-bucketetlprocesseddata-h2m2xopoctot/{}/\".format(key.lower()), \"overwrite\")\n",
    "        dyf = DynamicFrame.fromDF(dataframe=df, glue_ctx=glueContext, name=key)\n",
    "        table_name = key.lower()\n",
    "        dyf.show(10)\n",
    "        \n",
    "        datasink = glueContext.write_dynamic_frame.from_jdbc_conf(\n",
    "                        frame=dyf,\n",
    "                        catalog_connection=\"dev-glue-redshift-connection\",\n",
    "                        connection_options={\n",
    "                            \"preactions\" : \"delete from tsm_dev.{}\".format(table_name),\n",
    "                            \"dbtable\": \"tsm_dev.{}\".format(table_name), \n",
    "                            \"database\": \"truve\",\n",
    "                        },\n",
    "                        redshift_tmp_dir=temp_bucket,\n",
    "                        transformation_ctx=\"datasink\",\n",
    "                    )\n",
    "        '''\n",
    "        #break\n",
    "        redshift_connection_options = {\"url\": \"jdbc:redshift://dev-redshift-cluster.cxorr0thbkvd.us-west-2.redshift.amazonaws.com:5439/truve\", \n",
    "                        \"user\": \"truveadmin\", \n",
    "                        \"password\": \"XXXXXXX\",\n",
    "                        \"preactions\" : \"delete from tsm.{}\".format(table_name),\n",
    "                        \"dbtable\": \"tsm.{}\".format(table_name), \n",
    "                        \"redshiftTmpDir\": temp_bucket} \n",
    "        datasink4 = glueContext.write_dynamic_frame.from_options(frame=dyf,\n",
    "                                                        connection_type=\"redshift\",\n",
    "                                                        connection_options=redshift_connection_options)\n",
    "        '''\n",
    "        #break\n",
    "    "
   ]
  },
  {
   "cell_type": "code",
   "execution_count": null,
   "id": "65ab263f",
   "metadata": {},
   "outputs": [],
   "source": [
    "#PeopleType Transformation\n",
    "def people_type_transformation(df_contact):\n",
    "    #Read Raw Data\n",
    "    result = builder.build_peopletypes(contact_df=df_contact)\n",
    "    #print(result)\n",
    "    upload_result(result)\n",
    "    \n",
    "people_type_transformation(df_contact)"
   ]
  },
  {
   "cell_type": "code",
   "execution_count": null,
   "id": "2b7d1c88",
   "metadata": {},
   "outputs": [],
   "source": [
    "#Peoples Transformation\n",
    "def people_master_transformation(df_contact):\n",
    "    #Read Raw Data\n",
    "    result = builder.build_peoplemaster(contact_df=df_contact)\n",
    "    #print(result)\n",
    "    #return result\n",
    "    upload_result(result)\n",
    "    \n",
    "people_master_result = people_master_transformation(df_contact)"
   ]
  },
  {
   "cell_type": "code",
   "execution_count": null,
   "id": "414e4ca9",
   "metadata": {},
   "outputs": [],
   "source": [
    "#Peoples Transformation\n",
    "def projecttype_transformation(df_projecttype):\n",
    "    #Read Raw Data\n",
    "    result = builder.build_practicetypes(df_projecttype)\n",
    "    print(result)\n",
    "    upload_result(result)\n",
    "    \n",
    "projecttype_transformation(df_projecttype)"
   ]
  },
  {
   "cell_type": "code",
   "execution_count": null,
   "id": "0398e31c",
   "metadata": {},
   "outputs": [],
   "source": [
    "#Peoples Transformation\n",
    "df_projecttype = readFromFile(\"parquet\", \"s3://dev-truve-devops-05-databricks-bucketetlrawdata-wu3m2thgf3o/filevine/6586/projecttype/\")\n",
    "\n",
    "def phases_transformation(df_projecttype):\n",
    "    #Read Raw Data\n",
    "    \n",
    "    result = builder.build_phasemaster(df_projecttype)\n",
    "    print(result)\n",
    "    upload_result(result)\n",
    "    \n",
    "phases_transformation(df_projecttype)"
   ]
  },
  {
   "cell_type": "code",
   "execution_count": 16,
   "id": "39abe18a",
   "metadata": {},
   "outputs": [
    {
     "name": "stdout",
     "output_type": "stream",
     "text": [
      "+------------+-------------+--------------+--------+--------------------+--------------------+--------------------+-----------+-------------+--------+-------+-------+-------+\n",
      "|Truve_Org_ID|Client_Org_ID|Parent_Case_ID| Case_ID|      Case_Figure_ID|         Figure_Type|     Figure_Sub_Type|Figure_Date|Figure_Status|   Value|Custom1|Custom2|Custom3|\n",
      "+------------+-------------+--------------+--------+--------------------+--------------------+--------------------+-----------+-------------+--------+-------+-------+-------+\n",
      "|        6586|         6586|       8865186| 8865186|585273e8-e51f-48f...|       Case Expenses|       Case Expenses|       null|         null|   108.0|   null|   null|   null|\n",
      "|        6586|         6586|       8865186| 8865186|63142579-4e07-4ea...|       Case Expenses|       Case Expenses|       null|         null|    98.0|   null|   null|   null|\n",
      "|        6586|         6586|       8865186| 8865186|e8d7cf5b-5fbd-47c...|       Case Expenses|       Case Expenses|       null|         null|   238.7|   null|   null|   null|\n",
      "|        6586|         6586|       8865186| 8865186|7212ac32-38c7-4bb...|       Case Expenses|       Case Expenses|       null|         null|  230.21|   null|   null|   null|\n",
      "|        6586|         6586|       8865186| 8865186|2c6ba66a-968a-4dd...|        Medical Bill|        Medical Bill|       null|         null|  3524.0|   null|   null|   null|\n",
      "|        6586|         6586|       8865186| 8865186|6d7943b2-6dbe-453...|          Lost Wages|          Lost Wages|       null|         null|     0.0|   null|   null|   null|\n",
      "|        6586|         6586|       8865186| 8865186|7cba9bed-7c52-40d...|        Medical Bill|        Medical Bill|       null|         null|  3880.0|   null|   null|   null|\n",
      "|        6586|         6586|       8865186| 8865186|6944d5a5-80f5-48e...|        Medical Bill|        Medical Bill|       null|         null|    null|   null|   null|   null|\n",
      "|        6586|         6586|       8865186| 8865186|fa70abc1-1d02-4ea...|        Medical Bill|        Medical Bill|       null|         null|   653.0|   null|   null|   null|\n",
      "|        6586|         6586|       8865186| 8865186|ba9a809e-1e4e-4af...|        Medical Bill|        Medical Bill|       null|         null|    99.0|   null|   null|   null|\n",
      "|        6586|         6586|       8865186| 8865186|faebfe2d-78bb-455...|    Subrogation Bill|    Subrogation Bill|       null|         null|    null|   null|   null|   null|\n",
      "|        6586|         6586|       8865186| 8865186|d4646b5c-1a51-4fe...|        Medical Bill|        Medical Bill|       null|         null|  3278.0|   null|   null|   null|\n",
      "|        6586|         6586|       8865186| 8865186|a5026d6c-e2ad-4e9...|        Medical Bill|        Medical Bill| 2021-08-02|         null|  3360.0|   null|   null|   null|\n",
      "|        6586|         6586|       8865186| 8865186|fbaf9aa4-3309-409...|       Case Expenses|       Case Expenses|       null|         null|    null|   null|   null|   null|\n",
      "|        6586|         6586|       8865186| 8865186|0bf8f9ee-3bc0-46e...|     Attorney's Fees|     Attorney's Fees|       null|         null|    null|   null|   null|   null|\n",
      "|        6586|         6586|      10142312|10142312|4b0b4f27-bd17-434...|        Medical Bill|        Medical Bill|       null|         null|    null|   null|   null|   null|\n",
      "|        6586|         6586|      10142312|10142312|816ff9eb-fa11-4e5...|       Case Expenses|       Case Expenses|       null|         null|    70.0|   null|   null|   null|\n",
      "|        6586|         6586|      10142312|10142312|2b54cb61-ad43-431...|       Case Expenses|       Case Expenses|       null|         null|   32.88|   null|   null|   null|\n",
      "|        6586|         6586|      10142312|10142312|14e825ac-db85-42e...|        Medical Bill|        Medical Bill| 2022-05-26|         null|   911.0|   null|   null|   null|\n",
      "|        6586|         6586|      10142312|10142312|c317fe32-3259-450...|       Case Expenses|       Case Expenses|       null|         null|   98.97|   null|   null|   null|\n",
      "|        6586|         6586|      10142312|10142312|b7b242a2-2ba9-465...|       Case Expenses|       Case Expenses|       null|         null|    35.0|   null|   null|   null|\n",
      "|        6586|         6586|      10142312|10142312|dcdbe650-547a-47b...|Debt Payment (Col...|Debt Payment (Col...|       null|         null|  6181.0|   null|   null|   null|\n",
      "|        6586|         6586|      10142312|10142312|a17634fe-6c6d-453...|          Lost Wages|          Lost Wages|       null|         null|   360.0|   null|   null|   null|\n",
      "|        6586|         6586|      10142312|10142312|3229f1bf-6d73-4de...|       Case Expenses|       Case Expenses|       null|         null|    35.0|   null|   null|   null|\n",
      "|        6586|         6586|      10142312|10142312|c4449130-54ff-4bb...|        Medical Bill|        Medical Bill|       null|         null|  1580.0|   null|   null|   null|\n",
      "|        6586|         6586|      10142312|10142312|5d876971-7006-4e4...|       Case Expenses|       Case Expenses|       null|         null|    35.0|   null|   null|   null|\n",
      "|        6586|         6586|      10142312|10142312|09cab6cd-f5a6-4c0...|     Medical Funding|     Medical Funding|       null|         null|  3900.0|   null|   null|   null|\n",
      "|        6586|         6586|      10142312|10142312|6ad83020-c1cd-463...|        Medical Bill|        Medical Bill|       null|         null|    null|   null|   null|   null|\n",
      "|        6586|         6586|      10142312|10142312|db2902c1-bc51-482...|        Medical Bill|        Medical Bill| 2022-07-06|         null| 16605.0|   null|   null|   null|\n",
      "|        6586|         6586|      10142312|10142312|507e1efc-bc01-4bf...|       Case Expenses|       Case Expenses|       null|         null|    11.0|   null|   null|   null|\n",
      "|        6586|         6586|      10142312|10142312|a62d0d9d-418b-448...|        Medical Bill|        Medical Bill|       null|         null|   251.0|   null|   null|   null|\n",
      "|        6586|         6586|      10142312|10142312|ce8d6553-d157-4c6...|        Medical Bill|        Medical Bill|       null|         null|  6181.0|   null|   null|   null|\n",
      "|        6586|         6586|      10142312|10142312|79bf0542-62de-4ed...|        Medical Bill|        Medical Bill| 2022-04-08|         null|  5304.0|   null|   null|   null|\n",
      "|        6586|         6586|      10142312|10142312|5dc01eec-cc73-4ac...|       Case Expenses|       Case Expenses|       null|         null|   595.0|   null|   null|   null|\n",
      "|        6586|         6586|      10142312|10142312|17434c8e-34d6-441...|     Attorney's Fees|     Attorney's Fees|       null|         null|    null|   null|   null|   null|\n",
      "|        6586|         6586|      10065970|10065970|96861292-0cb3-42a...|   Settlement Amount|   Settlement Amount|       null|         null| 25000.0|   null|   null|   null|\n",
      "|        6586|         6586|      10065970|10065970|16c51346-0e64-4b5...|       Case Expenses|       Case Expenses|       null|         null|   997.0|   null|   null|   null|\n",
      "|        6586|         6586|      10065970|10065970|739d271b-68a5-4df...|       Case Expenses|       Case Expenses|       null|         null|     6.1|   null|   null|   null|\n",
      "|        6586|         6586|      10065970|10065970|f378cefb-150f-47d...|        Medical Bill|        Medical Bill|       null|         null|   164.0|   null|   null|   null|\n",
      "|        6586|         6586|      10065970|10065970|ef96736f-bef6-48b...| Pre-Settlement Loan| Pre-Settlement Loan|       null|         null|    null|   null|   null|   null|\n",
      "|        6586|         6586|      10065970|10065970|3f6428e1-6ac3-44f...| Pre-Settlement Loan| Pre-Settlement Loan|       null|         null|    null|   null|   null|   null|\n",
      "|        6586|         6586|      10065970|10065970|f7e6cb4e-7be7-4c4...|       Case Expenses|       Case Expenses|       null|         null|    11.5|   null|   null|   null|\n",
      "|        6586|         6586|      10065970|10065970|797da2df-6666-421...|       Case Expenses|       Case Expenses|       null|         null|  302.62|   null|   null|   null|\n",
      "|        6586|         6586|      10065970|10065970|0d6a596e-35a0-42f...|       Case Expenses|       Case Expenses|       null|         null|   40.49|   null|   null|   null|\n",
      "|        6586|         6586|      10065970|10065970|e970b310-14e3-439...| Pre-Settlement Loan| Pre-Settlement Loan|       null|         null|    null|   null|   null|   null|\n",
      "|        6586|         6586|      10065970|10065970|c3209f4b-b017-4ee...|    Subrogation Bill|    Subrogation Bill|       null|         null|   52.07|   null|   null|   null|\n",
      "|        6586|         6586|      10065970|10065970|51a53ef1-3012-4f2...|        Medical Bill|        Medical Bill|       null|         null|     0.0|   null|   null|   null|\n",
      "|        6586|         6586|      10065970|10065970|f57e6576-33ba-459...|        Medical Bill|        Medical Bill|       null|         null|     0.0|   null|   null|   null|\n",
      "|        6586|         6586|      10065970|10065970|5ba96c4f-cb79-478...|        Medical Bill|        Medical Bill| 2022-05-09|         null|  1135.0|   null|   null|   null|\n",
      "|        6586|         6586|      10065970|10065970|f4221774-0eaf-4c6...|          Lost Wages|          Lost Wages|       null|         null|  9900.0|   null|   null|   null|\n",
      "|        6586|         6586|      10065970|10065970|fde82b46-9bd9-46b...|       Case Expenses|       Case Expenses|       null|         null|    10.0|   null|   null|   null|\n",
      "|        6586|         6586|      10065970|10065970|8d17cd3b-e349-423...|       Case Expenses|       Case Expenses|       null|         null|   360.0|   null|   null|   null|\n",
      "|        6586|         6586|      10065970|10065970|4ef5fdc5-9571-496...|       Case Expenses|       Case Expenses|       null|         null|    87.0|   null|   null|   null|\n",
      "|        6586|         6586|      10065970|10065970|c7f7c55f-bb6a-4e3...|        Medical Bill|        Medical Bill| 2022-02-21|         null|     0.0|   null|   null|   null|\n",
      "|        6586|         6586|      10065970|10065970|19aef4e4-69a7-4b1...|        Medical Bill|        Medical Bill| 2022-02-18|         null|  1950.0|   null|   null|   null|\n",
      "|        6586|         6586|      10065970|10065970|01ee9c11-11d6-412...|        Medical Bill|        Medical Bill|       null|         null|     0.0|   null|   null|   null|\n",
      "|        6586|         6586|      10065970|10065970|cb29dc43-ca3d-4ca...|        Medical Bill|        Medical Bill|       null|         null|     0.0|   null|   null|   null|\n",
      "|        6586|         6586|      10065970|10065970|5bb7ce92-7054-4d8...|        Medical Bill|        Medical Bill| 2022-02-17|         null|   490.0|   null|   null|   null|\n",
      "|        6586|         6586|      10065970|10065970|a5b163b6-77df-4c5...|        Medical Bill|        Medical Bill| 2021-11-29|         null|   164.0|   null|   null|   null|\n",
      "|        6586|         6586|      10065970|10065970|dd4eb980-6f54-415...|       Case Expenses|       Case Expenses|       null|         null|   595.0|   null|   null|   null|\n",
      "|        6586|         6586|      10065970|10065970|537bfeca-d076-4e7...|     Attorney's Fees|     Attorney's Fees|       null|         null|  8333.0|   null|   null|   null|\n",
      "|        6586|         6586|       9801364| 9801364|9fa5597f-113f-40c...|       Case Expenses|       Case Expenses|       null|         null|    35.0|   null|   null|   null|\n",
      "|        6586|         6586|       9801364| 9801364|b9fd6607-19aa-4bd...|       Case Expenses|       Case Expenses|       null|         null|   41.46|   null|   null|   null|\n",
      "|        6586|         6586|       9801364| 9801364|b7959594-8133-459...|       Case Expenses|       Case Expenses|       null|         null|    13.2|   null|   null|   null|\n",
      "|        6586|         6586|       9801364| 9801364|b1ce30e0-f21f-4db...|       Case Expenses|       Case Expenses|       null|         null|    70.0|   null|   null|   null|\n",
      "|        6586|         6586|       9801364| 9801364|0cd42cfe-7629-40c...|       Case Expenses|       Case Expenses|       null|         null|   54.75|   null|   null|   null|\n",
      "|        6586|         6586|       9801364| 9801364|aeecc4d9-95be-46c...|       Case Expenses|       Case Expenses|       null|         null|    4.67|   null|   null|   null|\n",
      "|        6586|         6586|       9801364| 9801364|e699c7ce-4a7b-487...|       Case Expenses|       Case Expenses|       null|         null|    70.0|   null|   null|   null|\n",
      "|        6586|         6586|       9801364| 9801364|c078e771-1c16-456...|       Case Expenses|       Case Expenses|       null|         null|    35.0|   null|   null|   null|\n",
      "|        6586|         6586|       9801364| 9801364|6821cdf7-3ece-47b...|        Medical Bill|        Medical Bill|       null|         null|    null|   null|   null|   null|\n",
      "|        6586|         6586|       9801364| 9801364|75392858-e4e8-4b7...|Debt Payment (Col...|Debt Payment (Col...|       null|         null|12806.54|   null|   null|   null|\n",
      "|        6586|         6586|       9801364| 9801364|8d274dea-2f4c-4ce...|       Case Expenses|       Case Expenses|       null|         null|    35.0|   null|   null|   null|\n",
      "|        6586|         6586|       9801364| 9801364|e6b9a6ef-6798-487...|       Case Expenses|       Case Expenses|       null|         null|  100.14|   null|   null|   null|\n",
      "|        6586|         6586|       9801364| 9801364|8ab39571-06b7-49a...|       Case Expenses|       Case Expenses|       null|         null|    8.36|   null|   null|   null|\n",
      "|        6586|         6586|       9801364| 9801364|f3236a05-35fd-455...|        Medical Bill|        Medical Bill|       null|         null|   19.05|   null|   null|   null|\n",
      "|        6586|         6586|       9801364| 9801364|547191db-d15c-4cb...|       Case Expenses|       Case Expenses|       null|         null|    9.36|   null|   null|   null|\n",
      "|        6586|         6586|       9801364| 9801364|e9516e4a-a672-449...|       Case Expenses|       Case Expenses|       null|         null|    11.0|   null|   null|   null|\n",
      "|        6586|         6586|       9801364| 9801364|64db905d-082f-43f...|       Case Expenses|       Case Expenses|       null|         null|   367.6|   null|   null|   null|\n",
      "|        6586|         6586|       9801364| 9801364|6e831166-6a4b-45a...|        Medical Bill|        Medical Bill|       null|         null|  1950.0|   null|   null|   null|\n",
      "|        6586|         6586|       9801364| 9801364|86f54df9-7f3f-4ce...|       Case Expenses|       Case Expenses|       null|         null|  417.97|   null|   null|   null|\n",
      "|        6586|         6586|       9801364| 9801364|75a287e3-59ca-42b...|        Medical Bill|        Medical Bill| 2021-09-21|         null|  6500.0|   null|   null|   null|\n",
      "|        6586|         6586|       9801364| 9801364|9b4c6836-f72e-416...|        Medical Bill|        Medical Bill| 2021-09-21|         null|  2225.0|   null|   null|   null|\n",
      "|        6586|         6586|       9801364| 9801364|d150c0fe-0f2c-440...|        Medical Bill|        Medical Bill|       null|         null|  8985.0|   null|   null|   null|\n",
      "|        6586|         6586|       9801364| 9801364|6edc5d61-f055-4b4...|        Medical Bill|        Medical Bill| 2021-09-21|         null| 4624.69|   null|   null|   null|\n",
      "|        6586|         6586|       9801364| 9801364|c63d3dc8-b382-4dc...|        Medical Bill|        Medical Bill| 2021-09-21|         null|   517.0|   null|   null|   null|\n",
      "|        6586|         6586|       9801364| 9801364|9b74a7e0-38c9-467...|        Medical Bill|        Medical Bill| 2021-09-21|         null|  1250.0|   null|   null|   null|\n",
      "|        6586|         6586|       9801364| 9801364|5cbf2c9f-c1b4-484...|        Medical Bill|        Medical Bill| 2021-09-21|         null|  2642.0|   null|   null|   null|\n",
      "|        6586|         6586|       9801364| 9801364|2d083ade-4eb6-463...|        Medical Bill|        Medical Bill| 2021-09-21|         null| 14112.1|   null|   null|   null|\n",
      "|        6586|         6586|       9801364| 9801364|6a99349e-ad8c-438...|       Case Expenses|       Case Expenses|       null|         null|   595.0|   null|   null|   null|\n",
      "|        6586|         6586|       9801364| 9801364|6366dac2-cc39-4e0...|     Attorney's Fees|     Attorney's Fees|       null|         null|    null|   null|   null|   null|\n",
      "|        6586|         6586|       8120987| 8120987|7179e22e-66ed-474...|       Case Expenses|       Case Expenses|       null|         null|    35.0|   null|   null|   null|\n",
      "|        6586|         6586|       8120987| 8120987|cb59685d-64b6-4e0...|       Case Expenses|       Case Expenses|       null|         null|    73.5|   null|   null|   null|\n",
      "|        6586|         6586|       8120987| 8120987|7cae3c8d-f3b6-4d6...|       Case Expenses|       Case Expenses|       null|         null|    35.0|   null|   null|   null|\n",
      "|        6586|         6586|       8120987| 8120987|f88f3e53-46ca-482...|       Case Expenses|       Case Expenses|       null|         null|   32.67|   null|   null|   null|\n",
      "|        6586|         6586|       8120987| 8120987|86ecda6f-a05b-4ce...|        Medical Bill|        Medical Bill|       null|         null|    null|   null|   null|   null|\n",
      "|        6586|         6586|       8120987| 8120987|36503903-fe0d-4dd...|        Medical Bill|        Medical Bill|       null|         null|    null|   null|   null|   null|\n",
      "|        6586|         6586|       8120987| 8120987|5d749aa2-78f1-47f...|        Medical Bill|        Medical Bill|       null|         null|    null|   null|   null|   null|\n",
      "|        6586|         6586|       8120987| 8120987|e5d0267c-eeb9-41f...|        Medical Bill|        Medical Bill| 2021-11-22|         null| 1478.79|   null|   null|   null|\n",
      "|        6586|         6586|       8120987| 8120987|00065693-6999-47f...|          Lost Wages|          Lost Wages|       null|         null|    null|   null|   null|   null|\n",
      "|        6586|         6586|       8120987| 8120987|6a520e56-a10f-472...|        Medical Bill|        Medical Bill| 2021-05-13|         null|    null|   null|   null|   null|\n",
      "+------------+-------------+--------------+--------+--------------------+--------------------+--------------------+-----------+-------------+--------+-------+-------+-------+\n",
      "only showing top 100 rows\n",
      "\n",
      "Writing CMS_CaseFigures\n",
      "{\"Truve_Org_ID\": 6586, \"Client_Org_ID\": \"6586\", \"Parent_Case_ID\": 8865186, \"Case_ID\": 8865186, \"Case_Figure_ID\": \"585273e8-e51f-48f2-9e22-2a8e9551b4f1\", \"Figure_Type\": \"Case Expenses\", \"Figure_Sub_Type\": \"Case Expenses\", \"Figure_Date\": null, \"Figure_Status\": null, \"Value\": 108.0000, \"Custom1\": null, \"Custom2\": null, \"Custom3\": null}\n",
      "{\"Truve_Org_ID\": 6586, \"Client_Org_ID\": \"6586\", \"Parent_Case_ID\": 8865186, \"Case_ID\": 8865186, \"Case_Figure_ID\": \"63142579-4e07-4eaf-ad6b-7efc9125a879\", \"Figure_Type\": \"Case Expenses\", \"Figure_Sub_Type\": \"Case Expenses\", \"Figure_Date\": null, \"Figure_Status\": null, \"Value\": 98.0000, \"Custom1\": null, \"Custom2\": null, \"Custom3\": null}\n",
      "{\"Truve_Org_ID\": 6586, \"Client_Org_ID\": \"6586\", \"Parent_Case_ID\": 8865186, \"Case_ID\": 8865186, \"Case_Figure_ID\": \"e8d7cf5b-5fbd-47c0-838d-92311ec091f1\", \"Figure_Type\": \"Case Expenses\", \"Figure_Sub_Type\": \"Case Expenses\", \"Figure_Date\": null, \"Figure_Status\": null, \"Value\": 238.7000, \"Custom1\": null, \"Custom2\": null, \"Custom3\": null}\n",
      "{\"Truve_Org_ID\": 6586, \"Client_Org_ID\": \"6586\", \"Parent_Case_ID\": 8865186, \"Case_ID\": 8865186, \"Case_Figure_ID\": \"7212ac32-38c7-4bb6-9cd9-75be5bb14268\", \"Figure_Type\": \"Case Expenses\", \"Figure_Sub_Type\": \"Case Expenses\", \"Figure_Date\": null, \"Figure_Status\": null, \"Value\": 230.2100, \"Custom1\": null, \"Custom2\": null, \"Custom3\": null}\n",
      "{\"Truve_Org_ID\": 6586, \"Client_Org_ID\": \"6586\", \"Parent_Case_ID\": 8865186, \"Case_ID\": 8865186, \"Case_Figure_ID\": \"2c6ba66a-968a-4ddc-8388-77d9a9a452bf\", \"Figure_Type\": \"Medical Bill\", \"Figure_Sub_Type\": \"Medical Bill\", \"Figure_Date\": null, \"Figure_Status\": null, \"Value\": 3524.0000, \"Custom1\": null, \"Custom2\": null, \"Custom3\": null}\n",
      "{\"Truve_Org_ID\": 6586, \"Client_Org_ID\": \"6586\", \"Parent_Case_ID\": 8865186, \"Case_ID\": 8865186, \"Case_Figure_ID\": \"6d7943b2-6dbe-4537-879f-104d1843c9b3\", \"Figure_Type\": \"Lost Wages\", \"Figure_Sub_Type\": \"Lost Wages\", \"Figure_Date\": null, \"Figure_Status\": null, \"Value\": 0.0000, \"Custom1\": null, \"Custom2\": null, \"Custom3\": null}\n",
      "{\"Truve_Org_ID\": 6586, \"Client_Org_ID\": \"6586\", \"Parent_Case_ID\": 8865186, \"Case_ID\": 8865186, \"Case_Figure_ID\": \"7cba9bed-7c52-40d2-a8ca-eaa77f0b97aa\", \"Figure_Type\": \"Medical Bill\", \"Figure_Sub_Type\": \"Medical Bill\", \"Figure_Date\": null, \"Figure_Status\": null, \"Value\": 3880.0000, \"Custom1\": null, \"Custom2\": null, \"Custom3\": null}\n",
      "{\"Truve_Org_ID\": 6586, \"Client_Org_ID\": \"6586\", \"Parent_Case_ID\": 8865186, \"Case_ID\": 8865186, \"Case_Figure_ID\": \"6944d5a5-80f5-48e5-a5f5-4aa50db13fa0\", \"Figure_Type\": \"Medical Bill\", \"Figure_Sub_Type\": \"Medical Bill\", \"Figure_Date\": null, \"Figure_Status\": null, \"Value\": null, \"Custom1\": null, \"Custom2\": null, \"Custom3\": null}\n",
      "{\"Truve_Org_ID\": 6586, \"Client_Org_ID\": \"6586\", \"Parent_Case_ID\": 8865186, \"Case_ID\": 8865186, \"Case_Figure_ID\": \"fa70abc1-1d02-4ea4-865e-ffff8d678b8c\", \"Figure_Type\": \"Medical Bill\", \"Figure_Sub_Type\": \"Medical Bill\", \"Figure_Date\": null, \"Figure_Status\": null, \"Value\": 653.0000, \"Custom1\": null, \"Custom2\": null, \"Custom3\": null}\n",
      "{\"Truve_Org_ID\": 6586, \"Client_Org_ID\": \"6586\", \"Parent_Case_ID\": 8865186, \"Case_ID\": 8865186, \"Case_Figure_ID\": \"ba9a809e-1e4e-4af2-a237-aaa962a0df3e\", \"Figure_Type\": \"Medical Bill\", \"Figure_Sub_Type\": \"Medical Bill\", \"Figure_Date\": null, \"Figure_Status\": null, \"Value\": 99.0000, \"Custom1\": null, \"Custom2\": null, \"Custom3\": null}\n",
      "{\"Truve_Org_ID\": 6586, \"Client_Org_ID\": \"6586\", \"Parent_Case_ID\": 8865186, \"Case_ID\": 8865186, \"Case_Figure_ID\": \"faebfe2d-78bb-4554-a60a-44a6127f5b47\", \"Figure_Type\": \"Subrogation Bill\", \"Figure_Sub_Type\": \"Subrogation Bill\", \"Figure_Date\": null, \"Figure_Status\": null, \"Value\": null, \"Custom1\": null, \"Custom2\": null, \"Custom3\": null}\n",
      "{\"Truve_Org_ID\": 6586, \"Client_Org_ID\": \"6586\", \"Parent_Case_ID\": 8865186, \"Case_ID\": 8865186, \"Case_Figure_ID\": \"d4646b5c-1a51-4fee-972e-63d5c2585ff5\", \"Figure_Type\": \"Medical Bill\", \"Figure_Sub_Type\": \"Medical Bill\", \"Figure_Date\": null, \"Figure_Status\": null, \"Value\": 3278.0000, \"Custom1\": null, \"Custom2\": null, \"Custom3\": null}\n",
      "{\"Truve_Org_ID\": 6586, \"Client_Org_ID\": \"6586\", \"Parent_Case_ID\": 8865186, \"Case_ID\": 8865186, \"Case_Figure_ID\": \"a5026d6c-e2ad-4e95-9925-50e1f4084023\", \"Figure_Type\": \"Medical Bill\", \"Figure_Sub_Type\": \"Medical Bill\", \"Figure_Date\": 2021-08-02, \"Figure_Status\": null, \"Value\": 3360.0000, \"Custom1\": null, \"Custom2\": null, \"Custom3\": null}\n",
      "{\"Truve_Org_ID\": 6586, \"Client_Org_ID\": \"6586\", \"Parent_Case_ID\": 8865186, \"Case_ID\": 8865186, \"Case_Figure_ID\": \"fbaf9aa4-3309-4090-9068-c94ec3ed97c4\", \"Figure_Type\": \"Case Expenses\", \"Figure_Sub_Type\": \"Case Expenses\", \"Figure_Date\": null, \"Figure_Status\": null, \"Value\": null, \"Custom1\": null, \"Custom2\": null, \"Custom3\": null}\n",
      "{\"Truve_Org_ID\": 6586, \"Client_Org_ID\": \"6586\", \"Parent_Case_ID\": 8865186, \"Case_ID\": 8865186, \"Case_Figure_ID\": \"0bf8f9ee-3bc0-46e1-af33-d3aca56e05dd\", \"Figure_Type\": \"Attorney's Fees\", \"Figure_Sub_Type\": \"Attorney's Fees\", \"Figure_Date\": null, \"Figure_Status\": null, \"Value\": null, \"Custom1\": null, \"Custom2\": null, \"Custom3\": null}\n",
      "{\"Truve_Org_ID\": 6586, \"Client_Org_ID\": \"6586\", \"Parent_Case_ID\": 10142312, \"Case_ID\": 10142312, \"Case_Figure_ID\": \"4b0b4f27-bd17-4347-b563-4f375d228040\", \"Figure_Type\": \"Medical Bill\", \"Figure_Sub_Type\": \"Medical Bill\", \"Figure_Date\": null, \"Figure_Status\": null, \"Value\": null, \"Custom1\": null, \"Custom2\": null, \"Custom3\": null}\n",
      "{\"Truve_Org_ID\": 6586, \"Client_Org_ID\": \"6586\", \"Parent_Case_ID\": 10142312, \"Case_ID\": 10142312, \"Case_Figure_ID\": \"816ff9eb-fa11-4e5a-9c4a-ff6da8ee426e\", \"Figure_Type\": \"Case Expenses\", \"Figure_Sub_Type\": \"Case Expenses\", \"Figure_Date\": null, \"Figure_Status\": null, \"Value\": 70.0000, \"Custom1\": null, \"Custom2\": null, \"Custom3\": null}\n",
      "{\"Truve_Org_ID\": 6586, \"Client_Org_ID\": \"6586\", \"Parent_Case_ID\": 10142312, \"Case_ID\": 10142312, \"Case_Figure_ID\": \"2b54cb61-ad43-431d-bad4-85ebb4bef796\", \"Figure_Type\": \"Case Expenses\", \"Figure_Sub_Type\": \"Case Expenses\", \"Figure_Date\": null, \"Figure_Status\": null, \"Value\": 32.8800, \"Custom1\": null, \"Custom2\": null, \"Custom3\": null}\n",
      "{\"Truve_Org_ID\": 6586, \"Client_Org_ID\": \"6586\", \"Parent_Case_ID\": 10142312, \"Case_ID\": 10142312, \"Case_Figure_ID\": \"14e825ac-db85-42e0-b544-1dba0e694fa6\", \"Figure_Type\": \"Medical Bill\", \"Figure_Sub_Type\": \"Medical Bill\", \"Figure_Date\": 2022-05-26, \"Figure_Status\": null, \"Value\": 911.0000, \"Custom1\": null, \"Custom2\": null, \"Custom3\": null}\n",
      "{\"Truve_Org_ID\": 6586, \"Client_Org_ID\": \"6586\", \"Parent_Case_ID\": 10142312, \"Case_ID\": 10142312, \"Case_Figure_ID\": \"c317fe32-3259-4503-b3f0-81b0868aa7a4\", \"Figure_Type\": \"Case Expenses\", \"Figure_Sub_Type\": \"Case Expenses\", \"Figure_Date\": null, \"Figure_Status\": null, \"Value\": 98.9700, \"Custom1\": null, \"Custom2\": null, \"Custom3\": null}\n"
     ]
    }
   ],
   "source": [
    "#Peoples Transformation\n",
    "def value_transformation(df_meds):\n",
    "    #Read Raw Data\n",
    "    result = builder.build_casefigures(df_meds)\n",
    "    #print(result)\n",
    "    upload_result(result)\n",
    "    return result\n",
    "    \n",
    "result = value_transformation(df_meds_modified)"
   ]
  },
  {
   "cell_type": "code",
   "execution_count": null,
   "id": "3cca86ca",
   "metadata": {},
   "outputs": [],
   "source": [
    "#Peoples Transformation\n",
    "def cases_transformation(df_project):\n",
    "    #Read Raw Data\n",
    "    result = builder.build_casemaster(df_project)\n",
    "    return result\n",
    "    #print(result)\n",
    "    #upload_result(result)\n",
    "    \n",
    "result = cases_transformation(df_project)"
   ]
  },
  {
   "cell_type": "code",
   "execution_count": null,
   "id": "1da98d96",
   "metadata": {},
   "outputs": [],
   "source": [
    "#Peoples Transformation\n",
    "def intake_transformation(df_intake):\n",
    "    #Read Raw Data\n",
    "    result = builder.build_intakesummary(df_intake)\n",
    "    return result \n",
    "\n",
    "result = intake_transformation(df_intake)\n",
    "#result[\"IntakeDetails\"] = result[\"IntakeDetails\"].drop(\"referral_fee\")\n",
    "upload_result(result)\n"
   ]
  },
  {
   "cell_type": "code",
   "execution_count": 13,
   "id": "0293276f",
   "metadata": {},
   "outputs": [
    {
     "name": "stdout",
     "output_type": "stream",
     "text": [
      "+--------+------------+-------------+--------------+-------------------+---------------------+----------------+-----------------------+-------------------------+---------------------------+-----------------------+-----------+--------------------+------------+-----------+--------------------------+-----------------------+--------------+------------+------------+------------+--------------+-------------+-------+-------+-------+-------+-------+--------------------+\n",
      "| Case_ID|Truve_Org_ID|Client_Org_ID|Parent_Case_ID|Plaintiff_Full_Name|Case_Marketing_Source|Case_Source_Name|Attorney_Fee_Percentage|Estimated_Settlement_Date|Estimated_Settlement_Amount|If_Case_Settled_Presuit|If_VIP_Case|If_Case_Referred_Out|Case_Type_ID|Attorney_ID|Prelitigation_Paralegal_ID|Litigation_Paralegal_ID|CaseManager_ID|Cocounsel_ID|Case_Team_ID|Insurance_ID|Case_Status_ID|Case_Phase_ID|Custom1|Custom2|Custom3|Custom4|Custom5|    Case_Create_Date|\n",
      "+--------+------------+-------------+--------------+-------------------+---------------------+----------------+-----------------------+-------------------------+---------------------------+-----------------------+-----------+--------------------+------------+-----------+--------------------------+-----------------------+--------------+------------+------------+------------+--------------+-------------+-------+-------+-------+-------+-------+--------------------+\n",
      "| 7532487|        6586|         6586|       7532487|               null|                 null|            null|                   null|               2022-12-30|                300000.0000|                  false|       true|                null|        null|   23952638|                  35230478|               35230478|      35230478|        null|        null|        null|          null|       180476|   null|   null|   null|   null|   null|2020-03-16T04:00:...|\n",
      "| 9252629|        6586|         6586|       9252629|               null|                 null|            null|              9575.0000|               2022-08-29|                 25000.0000|                   null|      false|                null|        null|   34679431|                  34679431|               34679431|      34676029|        null|        null|        null|          null|        91395|   null|   null|   null|   null|   null|2021-04-28T12:48:...|\n",
      "| 7666642|        6586|         6586|       7666642|               null|                 null|            null|                   null|               2022-12-30|                 50000.0000|                  false|      false|                null|        null|   26397954|                  33053480|               33053480|      33053480|        null|        null|        null|          null|       163606|   null|   null|   null|   null|   null|                null|\n",
      "| 9306605|        6586|         6586|       9306605|               null|                 null|            null|             18800.0000|               2021-12-23|                 50000.0000|                   null|       true|                null|        null|   32695985|                  27906302|               27906302|      34676029|        null|        null|        null|          null|        91396|   null|   null|   null|   null|   null|                null|\n",
      "| 9561096|        6586|         6586|       9561096|               null|                 null|            null|              9162.5000|               2022-09-15|                 25000.0000|                   null|      false|                null|        null|   34679431|                  34679431|               34679431|      34676029|        null|        null|        null|          null|        91396|   null|   null|   null|   null|   null|2021-07-02T13:46:...|\n",
      "| 8917878|        6586|         6586|       8917878|               null|                 null|            null|                   null|               2022-06-30|                       null|                  false|       true|                null|        null|   23952638|                  35230478|               35230478|      35230478|        null|        null|        null|          null|        91396|   null|   null|   null|   null|   null|2021-03-24T21:18:...|\n",
      "| 9204300|        6586|         6586|       9204300|               null|                 null|            null|                   null|               2023-03-15|                100000.0000|                  false|      false|                null|        null|   23952638|                  35230478|               35230478|      35230478|        null|        null|        null|          null|       163606|   null|   null|   null|   null|   null|2021-04-20T15:12:...|\n",
      "| 8756979|        6586|         6586|       8756979|               null|                 null|            null|                   null|                     null|                       null|                   null|      false|                null|        null|   24499015|                  23938585|               23938585|      34676029|        null|        null|        null|          null|       168717|   null|   null|   null|   null|   null|2021-02-25T22:22:...|\n",
      "| 7970709|        6586|         6586|       7970709|               null|                 null|            null|                   null|               2022-11-14|                150000.0000|                  false|       true|                null|        null|   23952638|                  35230478|               35230478|      35230478|        null|        null|        null|          null|       163606|   null|   null|   null|   null|   null|2020-10-21T19:12:...|\n",
      "| 9729893|        6586|         6586|       9729893|               null|                 null|            null|                   null|               2022-11-15|                150000.0000|                   null|       true|                null|        null|   35174952|                  32040787|               32040787|      34676029|        null|        null|        null|          null|        91392|   null|   null|   null|   null|   null|2021-08-11T22:33:...|\n",
      "| 9653744|        6586|         6586|       9653744|               null|                 null|            null|                   null|               2023-05-05|                120000.0000|                  false|       true|                null|        null|   23952638|                  35230478|               35230478|      35230478|        null|        null|        null|          null|       163606|   null|   null|   null|   null|   null|2021-07-17T12:15:...|\n",
      "| 7532875|        6586|         6586|       7532875|               null|                 null|            null|                   null|               2022-12-14|                       null|                  false|       true|                null|        null|   34679431|                  27906302|               27906302|      34676029|        null|        null|        null|          null|        91395|   null|   null|   null|   null|   null|2020-05-14T04:00:...|\n",
      "| 8822429|        6586|         6586|       8822429|               null|                 null|            null|              3900.0000|               2021-10-26|                 50000.0000|                   null|      false|                null|        null|   24499015|                  23938585|               23938585|          null|        null|        null|        null|          null|        91396|   null|   null|   null|   null|   null|2021-03-02T20:08:...|\n",
      "|10032844|        6586|         6586|      10032844|               null|                 null|            null|                   null|                     null|                       null|                   null|       null|                null|        null|   32695985|                  23907325|               23907325|      34676029|        null|        null|        null|          null|       168716|   null|   null|   null|   null|   null|2021-11-11T16:37:...|\n",
      "|10253956|        6586|         6586|      10253956|               null|                 null|            null|                   null|               2023-04-14|                250000.0000|                  false|       true|                null|        null|   23952638|                  35230478|               35230478|      35230478|        null|        null|        null|          null|       163606|   null|   null|   null|   null|   null|2022-02-07T19:37:...|\n",
      "| 9232581|        6586|         6586|       9232581|               null|                 null|            null|                   null|               2022-12-23|                 50000.0000|                  false|       true|                null|        null|   23952638|                  35230478|               35230478|      35230478|        null|        null|        null|          null|       163606|   null|   null|   null|   null|   null|2021-04-25T16:09:...|\n",
      "| 8734475|        6586|         6586|       8734475|               null|                 null|            null|                   null|               2022-10-31|                 83500.0000|                   null|      false|                null|        null|   35174952|                  35174952|               35174952|      34676029|        null|        null|        null|          null|        91392|   null|   null|   null|   null|   null|2021-02-22T20:25:...|\n",
      "| 8751952|        6586|         6586|       8751952|               null|                 null|            null|                   null|               2022-10-28|                 88500.0000|                   null|      false|                null|        null|   35174952|                  32040787|               32040787|      34676029|        null|        null|        null|          null|        91392|   null|   null|   null|   null|   null|2021-02-24T17:12:...|\n",
      "|10033809|        6586|         6586|      10033809|               null|                 null|            null|                   null|               2022-12-16|                 25000.0000|                   null|      false|                null|        null|   35174952|                  35174952|               35174952|      34676029|        null|        null|        null|          null|       103017|   null|   null|   null|   null|   null|2021-11-11T19:43:...|\n",
      "| 8112501|        6586|         6586|       8112501|               null|                 null|            null|                   null|               2022-03-12|                       null|                  false|      false|                null|        null|   23952638|                  35230478|               35230478|      35230478|        null|        null|        null|          null|       168717|   null|   null|   null|   null|   null|2020-11-16T01:20:...|\n",
      "| 9300049|        6586|         6586|       9300049|               null|                 null|            null|             40000.0000|               2021-11-23|                100000.0000|                   null|      false|                null|        null|   32695985|                  34679431|               34679431|      34676029|        null|        null|        null|          null|        91396|   null|   null|   null|   null|   null|                null|\n",
      "|10065463|        6586|         6586|      10065463|               null|                 null|            null|              8750.0000|               2022-11-30|                 50000.0000|                   null|      false|                null|        null|   34679431|                  30627149|               30627149|      34676029|        null|        null|        null|          null|       103019|   null|   null|   null|   null|   null|2021-11-26T15:07:...|\n",
      "| 9234752|        6586|         6586|       9234752|               null|                 null|            null|                   null|               2022-05-02|                100000.0000|                  false|       true|                null|        null|   24499015|                  23938585|               23938585|          null|        null|        null|        null|          null|        91396|   null|   null|   null|   null|   null|2021-04-26T12:22:...|\n",
      "| 7532454|        6586|         6586|       7532454|               null|                 null|            null|             21000.0000|               2022-02-28|                 25000.0000|                   null|       true|                null|        null|   32695985|                  23938585|               23938585|          null|        null|        null|        null|          null|        91396|   null|   null|   null|   null|   null|2020-03-02T05:00:...|\n",
      "| 7533161|        6586|         6586|       7533161|               null|                 null|            null|                   null|               2023-03-31|                400000.0000|                  false|       true|                null|        null|   23952638|                  35230478|               35230478|      35230478|        null|        null|        null|          null|       163606|   null|   null|   null|   null|   null|2019-08-19T04:00:...|\n",
      "| 7532490|        6586|         6586|       7532490|               null|                 null|            null|                   null|               2023-01-27|                125000.0000|                  false|       true|                null|        null|   23952638|                  35230478|               35230478|      35230478|        null|        null|        null|          null|       180485|   null|   null|   null|   null|   null|2020-03-16T04:00:...|\n",
      "| 9445518|        6586|         6586|       9445518|               null|                 null|            null|             10400.0000|               2021-12-15|                 26000.0000|                   null|      false|                null|        null|   24499015|                  23938585|               23938585|          null|        null|        null|        null|          null|        91396|   null|   null|   null|   null|   null|2021-05-26T23:06:...|\n",
      "| 7532464|        6586|         6586|       7532464|               null|                 null|            null|                   null|               2020-12-25|                150000.0000|                  false|       true|                null|        null|   23952638|                  24035791|               24035791|      34676029|        null|        null|        null|          null|        91396|   null|   null|   null|   null|   null|2020-03-09T04:00:...|\n",
      "| 7532489|        6586|         6586|       7532489|               null|                 null|            null|                   null|               2022-12-30|                150000.0000|                  false|       true|                null|        null|   23952638|                  35230478|               35230478|      35230478|        null|        null|        null|          null|       180485|   null|   null|   null|   null|   null|2020-03-16T04:00:...|\n",
      "| 9718873|        6586|         6586|       9718873|               null|                 null|            null|                   null|               2022-11-12|                 15000.0000|                   null|      false|                null|        null|   34679431|                  30627149|               30627149|      34676029|        null|        null|        null|          null|       176616|   null|   null|   null|   null|   null|2021-08-07T20:16:...|\n",
      "| 9450626|        6586|         6586|       9450626|               null|                 null|            null|             51000.0000|               2022-10-20|                122500.0000|                   null|       true|                null|        null|   34679431|                  34679431|               34679431|      34676029|        null|        null|        null|          null|        91396|   null|   null|   null|   null|   null|2021-05-28T14:03:...|\n",
      "| 9447353|        6586|         6586|       9447353|               null|                 null|            null|              3750.0000|               2022-01-02|                  8000.0000|                   null|      false|                null|        null|   24499015|                  32619591|               32619591|      34676029|        null|        null|        null|          null|        91396|   null|   null|   null|   null|   null|2021-05-27T13:38:...|\n",
      "| 8115333|        6586|         6586|       8115333|               null|                 null|            null|                   null|               2024-01-04|                 60000.0000|                  false|      false|                null|        null|   26397954|                  33053480|               33053480|      33053480|        null|        null|        null|          null|       163606|   null|   null|   null|   null|   null|2020-11-16T21:00:...|\n",
      "| 9852971|        6586|         6586|       9852971|               null|                 null|            null|                   null|               2023-01-31|                250000.0000|                  false|       true|                null|        null|   23952638|                  35230478|               35230478|      35230478|        null|        null|        null|          null|       163606|   null|   null|   null|   null|   null|2021-09-21T17:41:...|\n",
      "| 8142851|        6586|         6586|       8142851|               null|                 null|            null|                   null|               2023-06-20|                 50000.0000|                  false|      false|                null|        null|   26397954|                  33053480|               33053480|      33053480|        null|        null|        null|          null|       163605|   null|   null|   null|   null|   null|2020-11-25T02:02:...|\n",
      "| 9313384|        6586|         6586|       9313384|               null|                 null|            null|                   null|               2023-03-15|                100000.0000|                   null|       true|                null|        null|   34679431|                  23907325|               23907325|      34676029|        null|        null|        null|          null|        91390|   null|   null|   null|   null|   null|                null|\n",
      "|10905404|        6586|         6586|      10905404|               null|                 null|            null|                   null|               2023-05-13|                100000.0000|                   null|       true|                null|        null|   32695985|                  33005217|               33005217|      34676029|        null|        null|        null|          null|        91390|   null|   null|   null|   null|   null|2022-09-09T20:33:...|\n",
      "|10127459|        6586|         6586|      10127459|               null|                 null|            null|                   null|               2022-10-31|                  6000.0000|                   null|      false|                null|        null|   32695985|                  31935462|               31935462|      34676029|        null|        null|        null|          null|       168717|   null|   null|   null|   null|   null|2021-12-08T16:41:...|\n",
      "| 8990151|        6586|         6586|       8990151|               null|                 null|            null|                   null|               2022-06-30|                 25000.0000|                   null|      false|                null|        null|   26397954|                  33053480|               33053480|      33053480|        null|        null|        null|          null|        91396|   null|   null|   null|   null|   null|2021-04-02T18:30:...|\n",
      "| 7533298|        6586|         6586|       7533298|               null|                 null|            null|                   null|                     null|                 25000.0000|                   null|      false|                null|        null|   32695985|                  25501318|               25501318|      34676029|        null|        null|        null|          null|        91396|   null|   null|   null|   null|   null|2020-07-13T04:00:...|\n",
      "| 9875664|        6586|         6586|       9875664|               null|                 null|            null|                   null|               2022-09-30|                     0.0000|                   null|      false|                null|        null|   32695985|                  31935462|               31935462|          null|        null|        null|        null|          null|       168717|   null|   null|   null|   null|   null|                null|\n",
      "| 8901324|        6586|         6586|       8901324|               null|                 null|            null|                   null|               2022-12-23|                 85000.0000|                  false|       true|                null|        null|   23952638|                  35230478|               35230478|      35230478|        null|        null|        null|          null|       163606|   null|   null|   null|   null|   null|2021-03-19T18:17:...|\n",
      "| 9470606|        6586|         6586|       9470606|               null|                 null|            null|                   null|               2022-08-31|                 15000.0000|                   null|      false|                null|        null|   34676029|                  34296407|               34296407|      34676029|    35092962|        null|        null|          null|       130598|   null|   null|   null|   null|   null|                null|\n",
      "| 8862376|        6586|         6586|       8862376|               null|                 null|            null|             10000.0000|               2021-10-29|                250000.0000|                   null|      false|                null|        null|   32695985|                  25501318|               25501318|          null|        null|        null|        null|          null|        91396|   null|   null|   null|   null|   null|2021-03-10T19:42:...|\n",
      "| 9391374|        6586|         6586|       9391374|               null|                 null|            null|                   null|               2024-03-20|                100000.0000|                  false|      false|                null|        null|   26397954|                  33053480|               33053480|      33053480|        null|        null|        null|          null|       163606|   null|   null|   null|   null|   null|2021-05-19T22:53:...|\n",
      "| 8834610|        6586|         6586|       8834610|               null|                 null|            null|                   null|               2021-06-04|                 80000.0000|                   null|      false|                null|        null|   24499015|                  23938585|               23938585|      34676029|        null|        null|        null|          null|        91396|   null|   null|   null|   null|   null|2021-03-05T16:55:...|\n",
      "| 7532900|        6586|         6586|       7532900|               null|                 null|            null|                   null|               2023-01-18|                200000.0000|                  false|       true|                null|        null|   23952638|                  35230478|               35230478|      35230478|        null|        null|        null|          null|       163605|   null|   null|   null|   null|   null|2020-05-26T04:00:...|\n",
      "| 7532295|        6586|         6586|       7532295|               null|                 null|            null|                   null|               2023-05-06|                 50000.0000|                   null|       true|                null|        null|   26397954|                  33053480|               33053480|      33053480|        null|        null|        null|          null|       163606|   null|   null|   null|   null|   null|2019-12-06T05:00:...|\n",
      "| 9430178|        6586|         6586|       9430178|               null|                 null|            null|                   null|               2023-06-30|                 65000.0000|                  false|      false|                null|        null|   26397954|                  33053480|               33053480|      33053480|        null|        null|        null|          null|       163606|   null|   null|   null|   null|   null|2021-05-24T18:09:...|\n",
      "| 7532590|        6586|         6586|       7532590|               null|                 null|            null|             44431.6300|               2022-06-21|                250000.0000|                  false|       true|                null|        null|   23952638|                  35230478|               35230478|      35230478|        null|        null|        null|          null|        91396|   null|   null|   null|   null|   null|2018-12-26T05:00:...|\n",
      "| 7533302|        6586|         6586|       7533302|               null|                 null|            null|                   null|                     null|                  1000.0000|                   null|       null|                null|        null|   32695985|                  25501318|               25501318|      34676029|        null|        null|        null|          null|        91396|   null|   null|   null|   null|   null|2020-07-13T04:00:...|\n",
      "| 8759360|        6586|         6586|       8759360|               null|                 null|            null|                   null|               2022-09-29|                100000.0000|                   null|      false|                null|        null|   34679431|                  27906302|               27906302|      34676029|        null|        null|        null|          null|       130597|   null|   null|   null|   null|   null|2021-02-26T20:10:...|\n",
      "| 9664499|        6586|         6586|       9664499|               null|                 null|            null|                   null|               2022-12-30|                150000.0000|                   null|       true|                null|        null|   34679431|                  25501318|               25501318|      34676029|        null|        null|        null|          null|       144438|   null|   null|   null|   null|   null|2021-07-21T20:50:...|\n",
      "| 9441228|        6586|         6586|       9441228|               null|                 null|            null|              9900.0000|               2022-09-23|                 26000.0000|                   null|      false|                null|        null|   34679431|                  34679431|               34679431|      34676029|        null|        null|        null|          null|        91396|   null|   null|   null|   null|   null|2021-05-26T17:51:...|\n",
      "| 7532465|        6586|         6586|       7532465|               null|                 null|            null|                   null|                     null|                       null|                  false|       true|                null|        null|   23952638|                  24035791|               24035791|      34676029|        null|        null|        null|          null|        91396|   null|   null|   null|   null|   null|2020-03-09T04:00:...|\n",
      "| 8181310|        6586|         6586|       8181310|               null|                 null|            null|                   null|               2023-06-02|                 50000.0000|                  false|      false|                null|        null|   26397954|                  33053480|               33053480|      33053480|        null|        null|        null|          null|       163606|   null|   null|   null|   null|   null|2020-12-06T20:27:...|\n",
      "| 9576044|        6586|         6586|       9576044|               null|                 null|            null|                   null|               2023-06-23|                250000.0000|                  false|       true|                null|        null|   26397954|                  33053480|               33053480|      33053480|        null|        null|        null|          null|       163606|   null|   null|   null|   null|   null|2021-07-09T17:02:...|\n",
      "| 9570006|        6586|         6586|       9570006|               null|                 null|            null|                   null|               2023-09-30|                 40000.0000|                  false|       true|                null|        null|   26397954|                  33053480|               33053480|      33053480|        null|        null|        null|          null|       163606|   null|   null|   null|   null|   null|2021-07-07T17:54:...|\n",
      "| 7533300|        6586|         6586|       7533300|               null|                 null|            null|                   null|                     null|                 15000.0000|                   null|       null|                null|        null|   32695985|                  25501318|               25501318|      34676029|        null|        null|        null|          null|        91396|   null|   null|   null|   null|   null|2020-07-13T04:00:...|\n",
      "| 9746708|        6586|         6586|       9746708|               null|                 null|            null|                   null|               2022-09-30|                 17500.0000|                   null|      false|                null|        null|   26397954|                  33053480|               33053480|      33053480|        null|        null|        null|          null|       130597|   null|   null|   null|   null|   null|2021-08-18T21:07:...|\n",
      "| 9314954|        6586|         6586|       9314954|               null|                 null|            null|                   null|               2023-03-09|                 30000.0000|                  false|      false|                null|        null|   23952638|                  35230478|               35230478|      35230478|        null|        null|        null|          null|       163606|   null|   null|   null|   null|   null|2021-05-08T19:08:...|\n",
      "| 9740543|        6586|         6586|       9740543|               null|                 null|            null|                   null|               2022-12-27|                 25000.0000|                   null|      false|                null|        null|   32695985|                  31935462|               31935462|      34676029|        null|        null|        null|          null|       177675|   null|   null|   null|   null|   null|2021-08-17T12:49:...|\n",
      "|10054834|        6586|         6586|      10054834|               null|                 null|            null|             10000.0000|               2022-07-31|                 25000.0000|                   true|      false|                null|        null|   34679431|                  30627149|               30627149|      34676029|        null|        null|        null|          null|        91396|   null|   null|   null|   null|   null|2021-11-20T01:07:...|\n",
      "|10262368|        6586|         6586|      10262368|               null|                 null|            null|                   null|               2022-07-13|                 10000.0000|                   null|       null|                null|        null|   32695985|                  30280883|               30280883|      34676029|        null|        null|        null|          null|       168716|   null|   null|   null|   null|   null|2022-02-10T16:09:...|\n",
      "| 9662547|        6586|         6586|       9662547|               null|                 null|            null|                   null|               2022-09-08|                 20000.0000|                   null|      false|                null|        null|   34676029|                  34296407|               34296407|      34676029|        null|        null|        null|          null|       130598|   null|   null|   null|   null|   null|2021-07-21T15:30:...|\n",
      "| 9477373|        6586|         6586|       9477373|               null|                 null|            null|                   null|               2021-01-08|                 10000.0000|                   null|      false|                null|        null|   34676029|                  34296407|               34296407|      34676029|    33533345|        null|        null|          null|       130598|   null|   null|   null|   null|   null|2021-06-09T14:12:...|\n",
      "| 8865186|        6586|         6586|       8865186|               null|                 null|            null|                   null|               2022-11-10|                 25000.0000|                   null|      false|                null|        null|   26397954|                  33053480|               33053480|      33053480|        null|        null|        null|          null|       163606|   null|   null|   null|   null|   null|2021-03-11T13:19:...|\n",
      "| 9653743|        6586|         6586|       9653743|               null|                 null|            null|             10000.0000|               2022-11-30|                  8500.0000|                   null|      false|                null|        null|   35125016|                  33567750|               33567750|      34676029|        null|        null|        null|          null|        91392|   null|   null|   null|   null|   null|2021-07-17T12:14:...|\n",
      "| 9896924|        6586|         6586|       9896924|               null|                 null|            null|                   null|               2023-06-15|                 15000.0000|                   null|      false|                null|        null|   26397954|                  33053480|               33053480|      33053480|        null|        null|        null|          null|       168717|   null|   null|   null|   null|   null|2021-10-01T22:04:...|\n",
      "|10105127|        6586|         6586|      10105127|               null|                 null|            null|                   null|               2022-11-26|                  1000.0000|                   null|       null|                null|        null|   32695985|                  33567750|               33567750|      34676029|        null|        null|        null|          null|       168717|   null|   null|   null|   null|   null|2021-12-02T19:02:...|\n",
      "| 9746778|        6586|         6586|       9746778|               null|                 null|            null|                   null|               2022-09-30|                 17500.0000|                   null|      false|                null|        null|   26397954|                  33053480|               33053480|      33053480|        null|        null|        null|          null|       130597|   null|   null|   null|   null|   null|2021-08-18T21:27:...|\n",
      "| 7857494|        6586|         6586|       7857494|               null|                 null|            null|                   null|               2022-10-28|                100000.0000|                   null|       true|                null|        null|   34679431|                  27906302|               27906302|      34676029|        null|        null|        null|          null|       130597|   null|   null|   null|   null|   null|2020-10-09T13:52:...|\n",
      "| 9709847|        6586|         6586|       9709847|               null|                 null|            null|             15000.0000|               2022-09-30|                 55000.0000|                   null|       null|                null|        null|   35174952|                  27906302|               27906302|      34676029|        null|        null|        null|          null|       130597|   null|   null|   null|   null|   null|2021-08-04T14:47:...|\n",
      "| 9881564|        6586|         6586|       9881564|               null|                 null|            null|                   null|               2022-11-30|                175000.0000|                   null|       true|                null|        null|   35174952|                  35174952|               35174952|      34676029|        null|        null|        null|          null|       103017|   null|   null|   null|   null|   null|2021-09-27T21:17:...|\n",
      "| 7550223|        6586|         6586|       7550223|               null|                 null|            null|                   null|               2023-02-24|                500000.0000|                  false|       true|                null|        null|   23952638|                  35230478|               35230478|      35230478|        null|        null|        null|          null|       163606|   null|   null|   null|   null|   null|2020-08-05T17:31:...|\n",
      "| 9854136|        6586|         6586|       9854136|               null|                 null|            null|                   null|                     null|                       null|                   null|       true|                null|        null|   23952638|                  35230478|               35230478|      35230478|        null|        null|        null|          null|       103016|   null|   null|   null|   null|   null|2021-09-21T20:57:...|\n",
      "| 7532312|        6586|         6586|       7532312|               null|                 null|            null|                   null|               2022-11-01|                125000.0000|                  false|      false|                null|        null|   23952638|                  35230478|               35230478|      35230478|        null|        null|        null|          null|       163606|   null|   null|   null|   null|   null|2019-12-12T05:00:...|\n",
      "| 9665522|        6586|         6586|       9665522|               null|                 null|            null|             10000.0000|               2021-12-27|                 90000.0000|                   null|      false|                null|        null|   32695985|                  23938585|               23938585|      32661307|        null|        null|        null|          null|        91396|   null|   null|   null|   null|   null|2021-07-22T13:46:...|\n",
      "| 8877424|        6586|         6586|       8877424|               null|                 null|            null|                   null|               2021-01-12|                250000.0000|                   null|       true|                null|        null|   24499015|                  32040787|               32040787|          null|        null|        null|        null|          null|        91396|   null|   null|   null|   null|   null|2021-03-12T00:45:...|\n",
      "| 9195606|        6586|         6586|       9195606|               null|                 null|            null|                   null|               2023-03-23|                 10000.0000|                   null|      false|                null|        null|   32695985|                  33989335|               33989335|      34676029|        null|        null|        null|          null|        91390|   null|   null|   null|   null|   null|2021-04-18T19:11:...|\n",
      "|10262366|        6586|         6586|      10262366|               null|                 null|            null|                   null|               2022-07-13|                 10000.0000|                   null|      false|                null|        null|   32695985|                  30280883|               30280883|      34676029|        null|        null|        null|          null|       168716|   null|   null|   null|   null|   null|2022-02-10T16:09:...|\n",
      "| 9146364|        6586|         6586|       9146364|               null|                 null|            null|                   null|               2022-11-30|                 15000.0000|                   null|       null|                null|        null|   32695985|                  31935462|               31935462|      34676029|        null|        null|        null|          null|        91392|   null|   null|   null|   null|   null|2021-04-14T13:51:...|\n",
      "| 9750624|        6586|         6586|       9750624|               null|                 null|            null|                   null|               2022-10-14|                 10000.0000|                   null|      false|                null|        null|   34679431|                  25501318|               25501318|      34676029|        null|        null|        null|          null|       103019|   null|   null|   null|   null|   null|2021-08-20T13:52:...|\n",
      "| 9151470|        6586|         6586|       9151470|               null|                 null|            null|                   null|               2023-06-30|                 10000.0000|                   null|      false|                null|        null|   35174952|                  35174952|               35174952|      34676029|        null|        null|        null|          null|        91392|   null|   null|   null|   null|   null|2021-04-15T15:40:...|\n",
      "|10065303|        6586|         6586|      10065303|               null|                 null|            null|              8333.3300|               2022-08-31|                 25000.0000|                   true|      false|                null|        null|   34679431|                  30627149|               30627149|      34676029|        null|        null|        null|          null|        91396|   null|   null|   null|   null|   null|2021-11-25T18:06:...|\n",
      "| 9742382|        6586|         6586|       9742382|               null|                 null|            null|                   null|               2022-12-07|                  5000.0000|                   null|      false|                null|        null|   32695985|                  31935462|               31935462|      34676029|        null|        null|        null|          null|       177675|   null|   null|   null|   null|   null|2021-08-17T18:27:...|\n",
      "|10066408|        6586|         6586|      10066408|               null|                 null|            null|              8333.0000|               2022-07-01|                 25000.0000|                   null|      false|                null|        null|   34679431|                  34679431|               34679431|      34676029|        null|        null|        null|          null|        91396|   null|   null|   null|   null|   null|2021-11-29T03:07:...|\n",
      "| 7532430|        6586|         6586|       7532430|               null|                 null|            null|                   null|               2023-12-15|                325000.0000|                  false|       true|                null|        null|   26397954|                  33053480|               33053480|      33053480|        null|        null|        null|          null|       163606|   null|   null|   null|   null|   null|2020-02-21T05:00:...|\n",
      "| 8893939|        6586|         6586|       8893939|               null|                 null|            null|              3600.0000|               2021-11-30|                 10000.0000|                   null|      false|                null|        null|   24499015|                  25501318|               25501318|          null|        null|        null|        null|          null|        91396|   null|   null|   null|   null|   null|2021-03-17T18:33:...|\n",
      "| 9801364|        6586|         6586|       9801364|               null|                 null|            null|                   null|               2023-01-11|                250000.0000|                  false|       true|                null|        null|   23952638|                  35230478|               35230478|      35230478|        null|        null|        null|          null|       163606|   null|   null|   null|   null|   null|2021-09-09T23:28:...|\n",
      "| 9150598|        6586|         6586|       9150598|               null|                 null|            null|             10000.0000|               2022-06-30|                 35000.0000|                   null|      false|                null|        null|   34679431|                  25501318|               25501318|      34676029|        null|        null|        null|          null|        91396|   null|   null|   null|   null|   null|2021-04-15T12:53:...|\n",
      "| 8275275|        6586|         6586|       8275275|               null|                 null|            null|                   null|               2022-09-30|                 25000.0000|                  false|      false|                null|        null|   26397954|                  33053480|               33053480|      33053480|        null|        null|        null|          null|       163606|   null|   null|   null|   null|   null|2020-12-23T16:55:...|\n",
      "| 9101807|        6586|         6586|       9101807|               null|                 null|            null|              8489.5200|               2022-10-12|                 25000.0000|                   null|      false|                null|        null|   35125016|                  31935462|               31935462|      34676029|        null|        null|        null|          null|        91396|   null|   null|   null|   null|   null|2021-04-05T17:00:...|\n",
      "| 9741717|        6586|         6586|       9741717|               null|                 null|            null|                   null|               2022-10-28|                  6500.0000|                   null|      false|                null|        null|   35125016|                  31935462|               31935462|      34676029|        null|        null|        null|          null|       177675|   null|   null|   null|   null|   null|2021-08-17T16:34:...|\n",
      "|10146094|        6586|         6586|      10146094|               null|                 null|            null|                   null|               2023-02-28|                 20000.0000|                   null|      false|                null|        null|   35174952|                  31931223|               31931223|      34676029|        null|        null|        null|          null|        91390|   null|   null|   null|   null|   null|2021-12-16T17:11:...|\n",
      "| 8916246|        6586|         6586|       8916246|               null|                 null|            null|                   null|               2023-12-15|                       null|                  false|       true|                null|        null|   23952638|                  35230478|               35230478|      35230478|        null|        null|        null|          null|       163606|   null|   null|   null|   null|   null|2021-03-24T16:30:...|\n",
      "|10082437|        6586|         6586|      10082437|               null|                 null|            null|                   null|               2022-09-30|                 25000.0000|                   null|      false|                null|        null|   35125016|                  33567750|               33567750|      34676029|        null|        null|        null|          null|        91392|   null|   null|   null|   null|   null|                null|\n",
      "| 9884415|        6586|         6586|       9884415|               null|                 null|            null|              8333.3300|               2022-10-14|                 25000.0000|                   true|      false|                null|        null|   35174952|                  27906302|               27906302|      34676029|        null|        null|        null|          null|        91395|   null|   null|   null|   null|   null|2021-09-28T18:21:...|\n",
      "| 9704606|        6586|         6586|       9704606|               null|                 null|            null|              7650.0000|               2022-10-30|                 12500.0000|                  false|      false|                null|        null|   26397954|                  33053480|               33053480|      33053480|        null|        null|        null|          null|        91396|   null|   null|   null|   null|   null|2021-08-02T20:05:...|\n",
      "| 9770627|        6586|         6586|       9770627|               null|                 null|            null|                   null|               2022-10-21|                 30000.0000|                   null|       null|                null|        null|   35174952|                  35174952|               35174952|      34676029|        null|        null|        null|          null|        91392|   null|   null|   null|   null|   null|2021-08-28T13:50:...|\n",
      "+--------+------------+-------------+--------------+-------------------+---------------------+----------------+-----------------------+-------------------------+---------------------------+-----------------------+-----------+--------------------+------------+-----------+--------------------------+-----------------------+--------------+------------+------------+------------+--------------+-------------+-------+-------+-------+-------+-------+--------------------+\n",
      "only showing top 100 rows\n",
      "\n",
      "root\n",
      " |-- Case_ID: integer (nullable = true)\n",
      " |-- Truve_Org_ID: integer (nullable = true)\n",
      " |-- Client_Org_ID: string (nullable = false)\n",
      " |-- Parent_Case_ID: integer (nullable = true)\n",
      " |-- Plaintiff_Full_Name: string (nullable = true)\n",
      " |-- Case_Marketing_Source: string (nullable = true)\n",
      " |-- Case_Source_Name: string (nullable = true)\n",
      " |-- Attorney_Fee_Percentage: decimal(10,4) (nullable = true)\n",
      " |-- Estimated_Settlement_Date: date (nullable = true)\n",
      " |-- Estimated_Settlement_Amount: decimal(10,4) (nullable = true)\n",
      " |-- If_Case_Settled_Presuit: string (nullable = true)\n",
      " |-- If_VIP_Case: string (nullable = true)\n",
      " |-- If_Case_Referred_Out: string (nullable = true)\n",
      " |-- Case_Type_ID: integer (nullable = true)\n",
      " |-- Attorney_ID: integer (nullable = true)\n",
      " |-- Prelitigation_Paralegal_ID: integer (nullable = true)\n",
      " |-- Litigation_Paralegal_ID: integer (nullable = true)\n",
      " |-- CaseManager_ID: integer (nullable = true)\n",
      " |-- Cocounsel_ID: integer (nullable = true)\n",
      " |-- Case_Team_ID: integer (nullable = true)\n",
      " |-- Insurance_ID: integer (nullable = true)\n",
      " |-- Case_Status_ID: integer (nullable = true)\n",
      " |-- Case_Phase_ID: integer (nullable = true)\n",
      " |-- Custom1: string (nullable = true)\n",
      " |-- Custom2: string (nullable = true)\n",
      " |-- Custom3: string (nullable = true)\n",
      " |-- Custom4: string (nullable = true)\n",
      " |-- Custom5: string (nullable = true)\n",
      " |-- Case_Create_Date: string (nullable = true)\n",
      "\n",
      "{'CMS_CaseDetails': DataFrame[Case_ID: int, Truve_Org_ID: int, Client_Org_ID: string, Parent_Case_ID: int, Plaintiff_Full_Name: string, Case_Marketing_Source: string, Case_Source_Name: string, Attorney_Fee_Percentage: decimal(10,4), Estimated_Settlement_Date: date, Estimated_Settlement_Amount: decimal(10,4), If_Case_Settled_Presuit: string, If_VIP_Case: string, If_Case_Referred_Out: string, Case_Type_ID: int, Attorney_ID: int, Prelitigation_Paralegal_ID: int, Litigation_Paralegal_ID: int, CaseManager_ID: int, Cocounsel_ID: int, Case_Team_ID: int, Insurance_ID: int, Case_Status_ID: int, Case_Phase_ID: int, Custom1: string, Custom2: string, Custom3: string, Custom4: string, Custom5: string, Case_Create_Date: string]}\n",
      "Writing CMS_CaseDetails\n",
      "{\"Case_ID\": 7532487, \"Truve_Org_ID\": 6586, \"Client_Org_ID\": \"6586\", \"Parent_Case_ID\": 7532487, \"Plaintiff_Full_Name\": null, \"Case_Marketing_Source\": null, \"Case_Source_Name\": null, \"Attorney_Fee_Percentage\": null, \"Estimated_Settlement_Date\": 2022-12-30, \"Estimated_Settlement_Amount\": 300000.0000, \"If_Case_Settled_Presuit\": \"false\", \"If_VIP_Case\": \"true\", \"If_Case_Referred_Out\": null, \"Case_Type_ID\": null, \"Attorney_ID\": 23952638, \"Prelitigation_Paralegal_ID\": 35230478, \"Litigation_Paralegal_ID\": 35230478, \"CaseManager_ID\": 35230478, \"Cocounsel_ID\": null, \"Case_Team_ID\": null, \"Insurance_ID\": null, \"Case_Status_ID\": null, \"Case_Phase_ID\": 180476, \"Custom1\": null, \"Custom2\": null, \"Custom3\": null, \"Custom4\": null, \"Custom5\": null, \"Case_Create_Date\": \"2020-03-16T04:00:00.0000000\"}\n",
      "{\"Case_ID\": 9252629, \"Truve_Org_ID\": 6586, \"Client_Org_ID\": \"6586\", \"Parent_Case_ID\": 9252629, \"Plaintiff_Full_Name\": null, \"Case_Marketing_Source\": null, \"Case_Source_Name\": null, \"Attorney_Fee_Percentage\": 9575.0000, \"Estimated_Settlement_Date\": 2022-08-29, \"Estimated_Settlement_Amount\": 25000.0000, \"If_Case_Settled_Presuit\": null, \"If_VIP_Case\": \"false\", \"If_Case_Referred_Out\": null, \"Case_Type_ID\": null, \"Attorney_ID\": 34679431, \"Prelitigation_Paralegal_ID\": 34679431, \"Litigation_Paralegal_ID\": 34679431, \"CaseManager_ID\": 34676029, \"Cocounsel_ID\": null, \"Case_Team_ID\": null, \"Insurance_ID\": null, \"Case_Status_ID\": null, \"Case_Phase_ID\": 91395, \"Custom1\": null, \"Custom2\": null, \"Custom3\": null, \"Custom4\": null, \"Custom5\": null, \"Case_Create_Date\": \"2021-04-28T12:48:56.9500000\"}\n",
      "{\"Case_ID\": 7666642, \"Truve_Org_ID\": 6586, \"Client_Org_ID\": \"6586\", \"Parent_Case_ID\": 7666642, \"Plaintiff_Full_Name\": null, \"Case_Marketing_Source\": null, \"Case_Source_Name\": null, \"Attorney_Fee_Percentage\": null, \"Estimated_Settlement_Date\": 2022-12-30, \"Estimated_Settlement_Amount\": 50000.0000, \"If_Case_Settled_Presuit\": \"false\", \"If_VIP_Case\": \"false\", \"If_Case_Referred_Out\": null, \"Case_Type_ID\": null, \"Attorney_ID\": 26397954, \"Prelitigation_Paralegal_ID\": 33053480, \"Litigation_Paralegal_ID\": 33053480, \"CaseManager_ID\": 33053480, \"Cocounsel_ID\": null, \"Case_Team_ID\": null, \"Insurance_ID\": null, \"Case_Status_ID\": null, \"Case_Phase_ID\": 163606, \"Custom1\": null, \"Custom2\": null, \"Custom3\": null, \"Custom4\": null, \"Custom5\": null, \"Case_Create_Date\": null}\n",
      "{\"Case_ID\": 9306605, \"Truve_Org_ID\": 6586, \"Client_Org_ID\": \"6586\", \"Parent_Case_ID\": 9306605, \"Plaintiff_Full_Name\": null, \"Case_Marketing_Source\": null, \"Case_Source_Name\": null, \"Attorney_Fee_Percentage\": 18800.0000, \"Estimated_Settlement_Date\": 2021-12-23, \"Estimated_Settlement_Amount\": 50000.0000, \"If_Case_Settled_Presuit\": null, \"If_VIP_Case\": \"true\", \"If_Case_Referred_Out\": null, \"Case_Type_ID\": null, \"Attorney_ID\": 32695985, \"Prelitigation_Paralegal_ID\": 27906302, \"Litigation_Paralegal_ID\": 27906302, \"CaseManager_ID\": 34676029, \"Cocounsel_ID\": null, \"Case_Team_ID\": null, \"Insurance_ID\": null, \"Case_Status_ID\": null, \"Case_Phase_ID\": 91396, \"Custom1\": null, \"Custom2\": null, \"Custom3\": null, \"Custom4\": null, \"Custom5\": null, \"Case_Create_Date\": null}\n",
      "{\"Case_ID\": 9561096, \"Truve_Org_ID\": 6586, \"Client_Org_ID\": \"6586\", \"Parent_Case_ID\": 9561096, \"Plaintiff_Full_Name\": null, \"Case_Marketing_Source\": null, \"Case_Source_Name\": null, \"Attorney_Fee_Percentage\": 9162.5000, \"Estimated_Settlement_Date\": 2022-09-15, \"Estimated_Settlement_Amount\": 25000.0000, \"If_Case_Settled_Presuit\": null, \"If_VIP_Case\": \"false\", \"If_Case_Referred_Out\": null, \"Case_Type_ID\": null, \"Attorney_ID\": 34679431, \"Prelitigation_Paralegal_ID\": 34679431, \"Litigation_Paralegal_ID\": 34679431, \"CaseManager_ID\": 34676029, \"Cocounsel_ID\": null, \"Case_Team_ID\": null, \"Insurance_ID\": null, \"Case_Status_ID\": null, \"Case_Phase_ID\": 91396, \"Custom1\": null, \"Custom2\": null, \"Custom3\": null, \"Custom4\": null, \"Custom5\": null, \"Case_Create_Date\": \"2021-07-02T13:46:27.4300000\"}\n",
      "{\"Case_ID\": 8917878, \"Truve_Org_ID\": 6586, \"Client_Org_ID\": \"6586\", \"Parent_Case_ID\": 8917878, \"Plaintiff_Full_Name\": null, \"Case_Marketing_Source\": null, \"Case_Source_Name\": null, \"Attorney_Fee_Percentage\": null, \"Estimated_Settlement_Date\": 2022-06-30, \"Estimated_Settlement_Amount\": null, \"If_Case_Settled_Presuit\": \"false\", \"If_VIP_Case\": \"true\", \"If_Case_Referred_Out\": null, \"Case_Type_ID\": null, \"Attorney_ID\": 23952638, \"Prelitigation_Paralegal_ID\": 35230478, \"Litigation_Paralegal_ID\": 35230478, \"CaseManager_ID\": 35230478, \"Cocounsel_ID\": null, \"Case_Team_ID\": null, \"Insurance_ID\": null, \"Case_Status_ID\": null, \"Case_Phase_ID\": 91396, \"Custom1\": null, \"Custom2\": null, \"Custom3\": null, \"Custom4\": null, \"Custom5\": null, \"Case_Create_Date\": \"2021-03-24T21:18:30.9070000\"}\n",
      "{\"Case_ID\": 9204300, \"Truve_Org_ID\": 6586, \"Client_Org_ID\": \"6586\", \"Parent_Case_ID\": 9204300, \"Plaintiff_Full_Name\": null, \"Case_Marketing_Source\": null, \"Case_Source_Name\": null, \"Attorney_Fee_Percentage\": null, \"Estimated_Settlement_Date\": 2023-03-15, \"Estimated_Settlement_Amount\": 100000.0000, \"If_Case_Settled_Presuit\": \"false\", \"If_VIP_Case\": \"false\", \"If_Case_Referred_Out\": null, \"Case_Type_ID\": null, \"Attorney_ID\": 23952638, \"Prelitigation_Paralegal_ID\": 35230478, \"Litigation_Paralegal_ID\": 35230478, \"CaseManager_ID\": 35230478, \"Cocounsel_ID\": null, \"Case_Team_ID\": null, \"Insurance_ID\": null, \"Case_Status_ID\": null, \"Case_Phase_ID\": 163606, \"Custom1\": null, \"Custom2\": null, \"Custom3\": null, \"Custom4\": null, \"Custom5\": null, \"Case_Create_Date\": \"2021-04-20T15:12:18.0230000\"}\n",
      "{\"Case_ID\": 8756979, \"Truve_Org_ID\": 6586, \"Client_Org_ID\": \"6586\", \"Parent_Case_ID\": 8756979, \"Plaintiff_Full_Name\": null, \"Case_Marketing_Source\": null, \"Case_Source_Name\": null, \"Attorney_Fee_Percentage\": null, \"Estimated_Settlement_Date\": null, \"Estimated_Settlement_Amount\": null, \"If_Case_Settled_Presuit\": null, \"If_VIP_Case\": \"false\", \"If_Case_Referred_Out\": null, \"Case_Type_ID\": null, \"Attorney_ID\": 24499015, \"Prelitigation_Paralegal_ID\": 23938585, \"Litigation_Paralegal_ID\": 23938585, \"CaseManager_ID\": 34676029, \"Cocounsel_ID\": null, \"Case_Team_ID\": null, \"Insurance_ID\": null, \"Case_Status_ID\": null, \"Case_Phase_ID\": 168717, \"Custom1\": null, \"Custom2\": null, \"Custom3\": null, \"Custom4\": null, \"Custom5\": null, \"Case_Create_Date\": \"2021-02-25T22:22:54.7730000\"}\n",
      "{\"Case_ID\": 7970709, \"Truve_Org_ID\": 6586, \"Client_Org_ID\": \"6586\", \"Parent_Case_ID\": 7970709, \"Plaintiff_Full_Name\": null, \"Case_Marketing_Source\": null, \"Case_Source_Name\": null, \"Attorney_Fee_Percentage\": null, \"Estimated_Settlement_Date\": 2022-11-14, \"Estimated_Settlement_Amount\": 150000.0000, \"If_Case_Settled_Presuit\": \"false\", \"If_VIP_Case\": \"true\", \"If_Case_Referred_Out\": null, \"Case_Type_ID\": null, \"Attorney_ID\": 23952638, \"Prelitigation_Paralegal_ID\": 35230478, \"Litigation_Paralegal_ID\": 35230478, \"CaseManager_ID\": 35230478, \"Cocounsel_ID\": null, \"Case_Team_ID\": null, \"Insurance_ID\": null, \"Case_Status_ID\": null, \"Case_Phase_ID\": 163606, \"Custom1\": null, \"Custom2\": null, \"Custom3\": null, \"Custom4\": null, \"Custom5\": null, \"Case_Create_Date\": \"2020-10-21T19:12:43.5430000\"}\n",
      "{\"Case_ID\": 9729893, \"Truve_Org_ID\": 6586, \"Client_Org_ID\": \"6586\", \"Parent_Case_ID\": 9729893, \"Plaintiff_Full_Name\": null, \"Case_Marketing_Source\": null, \"Case_Source_Name\": null, \"Attorney_Fee_Percentage\": null, \"Estimated_Settlement_Date\": 2022-11-15, \"Estimated_Settlement_Amount\": 150000.0000, \"If_Case_Settled_Presuit\": null, \"If_VIP_Case\": \"true\", \"If_Case_Referred_Out\": null, \"Case_Type_ID\": null, \"Attorney_ID\": 35174952, \"Prelitigation_Paralegal_ID\": 32040787, \"Litigation_Paralegal_ID\": 32040787, \"CaseManager_ID\": 34676029, \"Cocounsel_ID\": null, \"Case_Team_ID\": null, \"Insurance_ID\": null, \"Case_Status_ID\": null, \"Case_Phase_ID\": 91392, \"Custom1\": null, \"Custom2\": null, \"Custom3\": null, \"Custom4\": null, \"Custom5\": null, \"Case_Create_Date\": \"2021-08-11T22:33:58.3100000\"}\n",
      "{\"Case_ID\": 9653744, \"Truve_Org_ID\": 6586, \"Client_Org_ID\": \"6586\", \"Parent_Case_ID\": 9653744, \"Plaintiff_Full_Name\": null, \"Case_Marketing_Source\": null, \"Case_Source_Name\": null, \"Attorney_Fee_Percentage\": null, \"Estimated_Settlement_Date\": 2023-05-05, \"Estimated_Settlement_Amount\": 120000.0000, \"If_Case_Settled_Presuit\": \"false\", \"If_VIP_Case\": \"true\", \"If_Case_Referred_Out\": null, \"Case_Type_ID\": null, \"Attorney_ID\": 23952638, \"Prelitigation_Paralegal_ID\": 35230478, \"Litigation_Paralegal_ID\": 35230478, \"CaseManager_ID\": 35230478, \"Cocounsel_ID\": null, \"Case_Team_ID\": null, \"Insurance_ID\": null, \"Case_Status_ID\": null, \"Case_Phase_ID\": 163606, \"Custom1\": null, \"Custom2\": null, \"Custom3\": null, \"Custom4\": null, \"Custom5\": null, \"Case_Create_Date\": \"2021-07-17T12:15:12.7600000\"}\n",
      "{\"Case_ID\": 7532875, \"Truve_Org_ID\": 6586, \"Client_Org_ID\": \"6586\", \"Parent_Case_ID\": 7532875, \"Plaintiff_Full_Name\": null, \"Case_Marketing_Source\": null, \"Case_Source_Name\": null, \"Attorney_Fee_Percentage\": null, \"Estimated_Settlement_Date\": 2022-12-14, \"Estimated_Settlement_Amount\": null, \"If_Case_Settled_Presuit\": \"false\", \"If_VIP_Case\": \"true\", \"If_Case_Referred_Out\": null, \"Case_Type_ID\": null, \"Attorney_ID\": 34679431, \"Prelitigation_Paralegal_ID\": 27906302, \"Litigation_Paralegal_ID\": 27906302, \"CaseManager_ID\": 34676029, \"Cocounsel_ID\": null, \"Case_Team_ID\": null, \"Insurance_ID\": null, \"Case_Status_ID\": null, \"Case_Phase_ID\": 91395, \"Custom1\": null, \"Custom2\": null, \"Custom3\": null, \"Custom4\": null, \"Custom5\": null, \"Case_Create_Date\": \"2020-05-14T04:00:00.0000000\"}\n",
      "{\"Case_ID\": 8822429, \"Truve_Org_ID\": 6586, \"Client_Org_ID\": \"6586\", \"Parent_Case_ID\": 8822429, \"Plaintiff_Full_Name\": null, \"Case_Marketing_Source\": null, \"Case_Source_Name\": null, \"Attorney_Fee_Percentage\": 3900.0000, \"Estimated_Settlement_Date\": 2021-10-26, \"Estimated_Settlement_Amount\": 50000.0000, \"If_Case_Settled_Presuit\": null, \"If_VIP_Case\": \"false\", \"If_Case_Referred_Out\": null, \"Case_Type_ID\": null, \"Attorney_ID\": 24499015, \"Prelitigation_Paralegal_ID\": 23938585, \"Litigation_Paralegal_ID\": 23938585, \"CaseManager_ID\": null, \"Cocounsel_ID\": null, \"Case_Team_ID\": null, \"Insurance_ID\": null, \"Case_Status_ID\": null, \"Case_Phase_ID\": 91396, \"Custom1\": null, \"Custom2\": null, \"Custom3\": null, \"Custom4\": null, \"Custom5\": null, \"Case_Create_Date\": \"2021-03-02T20:08:10.2170000\"}\n",
      "{\"Case_ID\": 10032844, \"Truve_Org_ID\": 6586, \"Client_Org_ID\": \"6586\", \"Parent_Case_ID\": 10032844, \"Plaintiff_Full_Name\": null, \"Case_Marketing_Source\": null, \"Case_Source_Name\": null, \"Attorney_Fee_Percentage\": null, \"Estimated_Settlement_Date\": null, \"Estimated_Settlement_Amount\": null, \"If_Case_Settled_Presuit\": null, \"If_VIP_Case\": null, \"If_Case_Referred_Out\": null, \"Case_Type_ID\": null, \"Attorney_ID\": 32695985, \"Prelitigation_Paralegal_ID\": 23907325, \"Litigation_Paralegal_ID\": 23907325, \"CaseManager_ID\": 34676029, \"Cocounsel_ID\": null, \"Case_Team_ID\": null, \"Insurance_ID\": null, \"Case_Status_ID\": null, \"Case_Phase_ID\": 168716, \"Custom1\": null, \"Custom2\": null, \"Custom3\": null, \"Custom4\": null, \"Custom5\": null, \"Case_Create_Date\": \"2021-11-11T16:37:04.1330000\"}\n",
      "{\"Case_ID\": 10253956, \"Truve_Org_ID\": 6586, \"Client_Org_ID\": \"6586\", \"Parent_Case_ID\": 10253956, \"Plaintiff_Full_Name\": null, \"Case_Marketing_Source\": null, \"Case_Source_Name\": null, \"Attorney_Fee_Percentage\": null, \"Estimated_Settlement_Date\": 2023-04-14, \"Estimated_Settlement_Amount\": 250000.0000, \"If_Case_Settled_Presuit\": \"false\", \"If_VIP_Case\": \"true\", \"If_Case_Referred_Out\": null, \"Case_Type_ID\": null, \"Attorney_ID\": 23952638, \"Prelitigation_Paralegal_ID\": 35230478, \"Litigation_Paralegal_ID\": 35230478, \"CaseManager_ID\": 35230478, \"Cocounsel_ID\": null, \"Case_Team_ID\": null, \"Insurance_ID\": null, \"Case_Status_ID\": null, \"Case_Phase_ID\": 163606, \"Custom1\": null, \"Custom2\": null, \"Custom3\": null, \"Custom4\": null, \"Custom5\": null, \"Case_Create_Date\": \"2022-02-07T19:37:49.8630000\"}\n",
      "{\"Case_ID\": 9232581, \"Truve_Org_ID\": 6586, \"Client_Org_ID\": \"6586\", \"Parent_Case_ID\": 9232581, \"Plaintiff_Full_Name\": null, \"Case_Marketing_Source\": null, \"Case_Source_Name\": null, \"Attorney_Fee_Percentage\": null, \"Estimated_Settlement_Date\": 2022-12-23, \"Estimated_Settlement_Amount\": 50000.0000, \"If_Case_Settled_Presuit\": \"false\", \"If_VIP_Case\": \"true\", \"If_Case_Referred_Out\": null, \"Case_Type_ID\": null, \"Attorney_ID\": 23952638, \"Prelitigation_Paralegal_ID\": 35230478, \"Litigation_Paralegal_ID\": 35230478, \"CaseManager_ID\": 35230478, \"Cocounsel_ID\": null, \"Case_Team_ID\": null, \"Insurance_ID\": null, \"Case_Status_ID\": null, \"Case_Phase_ID\": 163606, \"Custom1\": null, \"Custom2\": null, \"Custom3\": null, \"Custom4\": null, \"Custom5\": null, \"Case_Create_Date\": \"2021-04-25T16:09:09.5030000\"}\n",
      "{\"Case_ID\": 8734475, \"Truve_Org_ID\": 6586, \"Client_Org_ID\": \"6586\", \"Parent_Case_ID\": 8734475, \"Plaintiff_Full_Name\": null, \"Case_Marketing_Source\": null, \"Case_Source_Name\": null, \"Attorney_Fee_Percentage\": null, \"Estimated_Settlement_Date\": 2022-10-31, \"Estimated_Settlement_Amount\": 83500.0000, \"If_Case_Settled_Presuit\": null, \"If_VIP_Case\": \"false\", \"If_Case_Referred_Out\": null, \"Case_Type_ID\": null, \"Attorney_ID\": 35174952, \"Prelitigation_Paralegal_ID\": 35174952, \"Litigation_Paralegal_ID\": 35174952, \"CaseManager_ID\": 34676029, \"Cocounsel_ID\": null, \"Case_Team_ID\": null, \"Insurance_ID\": null, \"Case_Status_ID\": null, \"Case_Phase_ID\": 91392, \"Custom1\": null, \"Custom2\": null, \"Custom3\": null, \"Custom4\": null, \"Custom5\": null, \"Case_Create_Date\": \"2021-02-22T20:25:58.9430000\"}\n",
      "{\"Case_ID\": 8751952, \"Truve_Org_ID\": 6586, \"Client_Org_ID\": \"6586\", \"Parent_Case_ID\": 8751952, \"Plaintiff_Full_Name\": null, \"Case_Marketing_Source\": null, \"Case_Source_Name\": null, \"Attorney_Fee_Percentage\": null, \"Estimated_Settlement_Date\": 2022-10-28, \"Estimated_Settlement_Amount\": 88500.0000, \"If_Case_Settled_Presuit\": null, \"If_VIP_Case\": \"false\", \"If_Case_Referred_Out\": null, \"Case_Type_ID\": null, \"Attorney_ID\": 35174952, \"Prelitigation_Paralegal_ID\": 32040787, \"Litigation_Paralegal_ID\": 32040787, \"CaseManager_ID\": 34676029, \"Cocounsel_ID\": null, \"Case_Team_ID\": null, \"Insurance_ID\": null, \"Case_Status_ID\": null, \"Case_Phase_ID\": 91392, \"Custom1\": null, \"Custom2\": null, \"Custom3\": null, \"Custom4\": null, \"Custom5\": null, \"Case_Create_Date\": \"2021-02-24T17:12:49.5300000\"}\n",
      "{\"Case_ID\": 10033809, \"Truve_Org_ID\": 6586, \"Client_Org_ID\": \"6586\", \"Parent_Case_ID\": 10033809, \"Plaintiff_Full_Name\": null, \"Case_Marketing_Source\": null, \"Case_Source_Name\": null, \"Attorney_Fee_Percentage\": null, \"Estimated_Settlement_Date\": 2022-12-16, \"Estimated_Settlement_Amount\": 25000.0000, \"If_Case_Settled_Presuit\": null, \"If_VIP_Case\": \"false\", \"If_Case_Referred_Out\": null, \"Case_Type_ID\": null, \"Attorney_ID\": 35174952, \"Prelitigation_Paralegal_ID\": 35174952, \"Litigation_Paralegal_ID\": 35174952, \"CaseManager_ID\": 34676029, \"Cocounsel_ID\": null, \"Case_Team_ID\": null, \"Insurance_ID\": null, \"Case_Status_ID\": null, \"Case_Phase_ID\": 103017, \"Custom1\": null, \"Custom2\": null, \"Custom3\": null, \"Custom4\": null, \"Custom5\": null, \"Case_Create_Date\": \"2021-11-11T19:43:39.0130000\"}\n",
      "{\"Case_ID\": 8112501, \"Truve_Org_ID\": 6586, \"Client_Org_ID\": \"6586\", \"Parent_Case_ID\": 8112501, \"Plaintiff_Full_Name\": null, \"Case_Marketing_Source\": null, \"Case_Source_Name\": null, \"Attorney_Fee_Percentage\": null, \"Estimated_Settlement_Date\": 2022-03-12, \"Estimated_Settlement_Amount\": null, \"If_Case_Settled_Presuit\": \"false\", \"If_VIP_Case\": \"false\", \"If_Case_Referred_Out\": null, \"Case_Type_ID\": null, \"Attorney_ID\": 23952638, \"Prelitigation_Paralegal_ID\": 35230478, \"Litigation_Paralegal_ID\": 35230478, \"CaseManager_ID\": 35230478, \"Cocounsel_ID\": null, \"Case_Team_ID\": null, \"Insurance_ID\": null, \"Case_Status_ID\": null, \"Case_Phase_ID\": 168717, \"Custom1\": null, \"Custom2\": null, \"Custom3\": null, \"Custom4\": null, \"Custom5\": null, \"Case_Create_Date\": \"2020-11-16T01:20:06.6970000\"}\n"
     ]
    }
   ],
   "source": [
    "#Peoples Transformation\n",
    "def casesummary_transformation(df_casesummary, df_project_vitals, df_project):\n",
    "    #Read Raw Data\n",
    "    result = builder.build_casesummary(df_casesummary, df_project_vitals, df_project)\n",
    "    print(result)\n",
    "    upload_result(result)\n",
    "    \n",
    "casesummary_transformation(df_casesummary, df_project_vitals, df_project)"
   ]
  },
  {
   "cell_type": "code",
   "execution_count": null,
   "id": "a1145e45",
   "metadata": {},
   "outputs": [],
   "source": [
    "processed_project_df = result[\"CMS_Cases\"]\n",
    "processed_project_df.printSchema()"
   ]
  },
  {
   "cell_type": "code",
   "execution_count": null,
   "id": "f2d5f8d6",
   "metadata": {},
   "outputs": [],
   "source": [
    "#Peoples Transformation\n",
    "def casetype_transformation(df_casesummary, project_df):\n",
    "    #Read Raw Data\n",
    "    result = builder.build_casetypes(df_casesummary, project_df)\n",
    "    #print(result)\n",
    "    #return result\n",
    "    upload_result(result)\n",
    "    return result\n",
    "    \n",
    "casetype_result = casetype_transformation(df_casesummary, df_project)"
   ]
  },
  {
   "cell_type": "code",
   "execution_count": null,
   "id": "21c01f16",
   "metadata": {},
   "outputs": [],
   "source": [
    "processed_case_type_df = casetype_result[\"CMS_CaseTypes\"]\n",
    "\n",
    "#Peoples Transformation\n",
    "def cases_transformation(df_project, processed_case_type_df, df_project_vitals, df_casesummary):\n",
    "    #Read Raw Data\n",
    "    result = builder.build_casemaster(df_project, processed_case_type_df, df_project_vitals, df_casesummary)\n",
    "    #return result\n",
    "    #print(result)\n",
    "    upload_result(result)\n",
    "    return result\n",
    "    \n",
    "result = cases_transformation(df_project, processed_case_type_df, df_project_vitals, df_casesummary)"
   ]
  },
  {
   "cell_type": "code",
   "execution_count": null,
   "id": "d661cb65",
   "metadata": {},
   "outputs": [],
   "source": [
    "%stop_session"
   ]
  },
  {
   "cell_type": "code",
   "execution_count": null,
   "id": "9b05b5c2",
   "metadata": {},
   "outputs": [],
   "source": [
    "df_casesummary.select(\"caseType\").distinct().show(10)"
   ]
  },
  {
   "cell_type": "code",
   "execution_count": null,
   "id": "2410d7a1",
   "metadata": {},
   "outputs": [],
   "source": [
    "casetype_df = casetype_result[\"CMS_CaseTypes\"]\n"
   ]
  },
  {
   "cell_type": "code",
   "execution_count": null,
   "id": "2e7888ff",
   "metadata": {},
   "outputs": [],
   "source": [
    "casetype_df.show()"
   ]
  },
  {
   "cell_type": "code",
   "execution_count": null,
   "id": "edc3129e",
   "metadata": {},
   "outputs": [],
   "source": [
    "people_df = people_master_result[\"CMS_People\"]"
   ]
  },
  {
   "cell_type": "code",
   "execution_count": null,
   "id": "244086e7",
   "metadata": {},
   "outputs": [],
   "source": [
    "people_df"
   ]
  },
  {
   "cell_type": "code",
   "execution_count": null,
   "id": "0b9aba5e",
   "metadata": {},
   "outputs": [],
   "source": [
    "people_df.show()"
   ]
  },
  {
   "cell_type": "code",
   "execution_count": null,
   "id": "ff002c06",
   "metadata": {},
   "outputs": [],
   "source": [
    "\n",
    "# Find count for empty, None, Null, Nan with string literals.\n",
    "from pyspark.sql.functions import col,isnan,when,count\n",
    "df2 = people_df.select([count(when(col(c).contains('None') | \\\n",
    "                            col(c).contains('NULL') | \\\n",
    "                            (col(c) == '' ) | \\\n",
    "                            col(c).isNull() , c \n",
    "                           )).alias(c)\n",
    "                    for c in people_df.columns])\n",
    "df2.show()\n"
   ]
  },
  {
   "cell_type": "code",
   "execution_count": null,
   "id": "e6ae9a02",
   "metadata": {},
   "outputs": [],
   "source": [
    "%stop_session"
   ]
  },
  {
   "cell_type": "code",
   "execution_count": null,
   "id": "f74b62bc",
   "metadata": {},
   "outputs": [],
   "source": [
    "case_df = result[\"CMS_Cases\"]"
   ]
  },
  {
   "cell_type": "code",
   "execution_count": null,
   "id": "e50e8767",
   "metadata": {},
   "outputs": [],
   "source": [
    "case_figure_df.select(\"Case_Figure_ID\", \"Case_ID\").show()"
   ]
  },
  {
   "cell_type": "code",
   "execution_count": null,
   "id": "0aa95be8",
   "metadata": {},
   "outputs": [],
   "source": [
    "from pyspark.sql.functions import col,isnan,when,count\n",
    "df2 = case_df.select([count(when(col(c).contains('None') | \\\n",
    "                            col(c).contains('NULL') | \\\n",
    "                            (col(c) == '' ) | \\\n",
    "                            col(c).isNull() , c \n",
    "                           )).alias(c)\n",
    "                    for c in case_df.columns])\n",
    "df2.show()\n"
   ]
  },
  {
   "cell_type": "code",
   "execution_count": null,
   "id": "bee93861",
   "metadata": {},
   "outputs": [],
   "source": []
  }
 ],
 "metadata": {
  "kernelspec": {
   "display_name": "Glue PySpark",
   "language": "python",
   "name": "glue_pyspark"
  },
  "language_info": {
   "codemirror_mode": {
    "name": "python",
    "version": 3
   },
   "file_extension": ".py",
   "mimetype": "text/x-python",
   "name": "Python_Glue_Session",
   "pygments_lexer": "python3"
  }
 },
 "nbformat": 4,
 "nbformat_minor": 5
}
