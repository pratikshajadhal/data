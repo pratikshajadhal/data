{
 "cells": [
  {
   "cell_type": "code",
   "execution_count": null,
   "id": "8315afbb",
   "metadata": {},
   "outputs": [],
   "source": [
    "%iam_role arn:aws:iam::481237842548:role/CF-dev-TruveDevops-Glue-Role"
   ]
  },
  {
   "cell_type": "code",
   "execution_count": null,
   "id": "86f8f0a6",
   "metadata": {},
   "outputs": [],
   "source": [
    "%region us-west-2"
   ]
  },
  {
   "cell_type": "code",
   "execution_count": null,
   "id": "c7525825",
   "metadata": {},
   "outputs": [],
   "source": [
    "%additional_python_modules \"s3://dev-truve-devops-05-databricks-bucketetlrawdata-wu3m2thgf3o/sstm_transformation-0.1.0-py3-none-any.whl\"\n",
    "%number_of_workers 2\n",
    "%connections dev-glue-redshift-connection\n",
    "%idle_timeout 60\n",
    "\n",
    "import sys\n",
    "from awsglue.transforms import *\n",
    "from awsglue.utils import getResolvedOptions\n",
    "from pyspark.context import SparkContext\n",
    "from awsglue.context import GlueContext\n",
    "from awsglue.job import Job\n",
    "  \n",
    "sc = SparkContext.getOrCreate()\n",
    "glueContext = GlueContext(sc)\n",
    "spark = glueContext.spark_session\n",
    "job = Job(glueContext)"
   ]
  },
  {
   "cell_type": "code",
   "execution_count": null,
   "id": "4f82a92a",
   "metadata": {},
   "outputs": [],
   "source": [
    "#download configuration file\n",
    "import boto3\n",
    "session = boto3.Session()\n",
    "\n",
    "s3 = session.resource('s3')\n",
    "s3.Bucket('dev-truve-devops-05-databricks-bucketetlrawdata-wu3m2thgf3o').download_file('confs/filevine/sstm.yaml', 'sstm.yaml')"
   ]
  },
  {
   "cell_type": "code",
   "execution_count": null,
   "id": "d8ae1f81",
   "metadata": {},
   "outputs": [],
   "source": [
    "with open(\"sstm.yaml\", \"r\") as f:\n",
    "    sstm_config = f.read()\n",
    "    "
   ]
  },
  {
   "cell_type": "code",
   "execution_count": null,
   "id": "826bfe0f",
   "metadata": {},
   "outputs": [],
   "source": [
    "def readFromFile(ext, path) :\n",
    "    fileContent = spark.read.format(ext).option(\"header\", \"true\").option(\"mergeSchema\", \"true\").load(path)\n",
    "    return fileContent\n"
   ]
  },
  {
   "cell_type": "code",
   "execution_count": null,
   "id": "088295e0",
   "metadata": {},
   "outputs": [],
   "source": [
    "def writeToFile(df_join , path, mode) :\n",
    "    df_join.write.parquet(path,mode=mode)"
   ]
  },
  {
   "cell_type": "code",
   "execution_count": null,
   "id": "fe962eda",
   "metadata": {},
   "outputs": [],
   "source": [
    "spark.conf.set(\"spark.sql.parquet.enableVectorizedReader\",\"false\")\n",
    "spark.conf.set(\"spark.sql.sources.partitionColumnTypeInference.enabled\", \"false\")\n"
   ]
  },
  {
   "cell_type": "code",
   "execution_count": null,
   "id": "2c402ec4",
   "metadata": {},
   "outputs": [],
   "source": [
    "from sstm_transformation.tsm_builder import TSMBuilder\n",
    "from pyspark.sql.functions import input_file_name\n",
    "import pyspark.sql.functions as F\n",
    "\n"
   ]
  },
  {
   "cell_type": "code",
   "execution_count": null,
   "id": "61fde2b8",
   "metadata": {},
   "outputs": [],
   "source": [
    "#Read All dfs \n",
    "\n",
    "df_project =readFromFile(\"parquet\", \"s3://dev-truve-devops-05-databricks-bucketetlrawdata-wu3m2thgf3o/filevine/6586/18764/*/project.parquet\")\n",
    "df_intake =readFromFile(\"parquet\", \"s3://dev-truve-devops-05-databricks-bucketetlrawdata-wu3m2thgf3o/filevine/6586/18764/*/form/intake.parquet\")\n",
    "df_contact =readFromFile(\"parquet\", \"s3://dev-truve-devops-05-databricks-bucketetlrawdata-wu3m2thgf3o/filevine/6586/contact/historical_contacts.parquet\")\n",
    "df_projecttype = readFromFile(\"parquet\", \"s3://dev-truve-devops-05-databricks-bucketetlrawdata-wu3m2thgf3o/filevine/6586/projecttype/\")\n",
    "df_meds = readFromFile(\"parquet\", \"s3://dev-truve-devops-05-databricks-bucketetlrawdata-wu3m2thgf3o/filevine/6586/18764/*/collections/meds.parquet\")\n",
    "df_casesummary =readFromFile(\"parquet\", \"s3://dev-truve-devops-05-databricks-bucketetlrawdata-wu3m2thgf3o/filevine/6586/18764/*/form/casesummary.parquet\")\n",
    "df_project_vitals =readFromFile(\"parquet\", \"s3://dev-truve-devops-05-databricks-bucketetlrawdata-wu3m2thgf3o/filevine/6586/18764/*/project_vitals.parquet\")\n"
   ]
  },
  {
   "cell_type": "code",
   "execution_count": null,
   "id": "7b4712b1",
   "metadata": {},
   "outputs": [],
   "source": [
    "df_meds.count()"
   ]
  },
  {
   "cell_type": "code",
   "execution_count": null,
   "id": "42943584",
   "metadata": {},
   "outputs": [],
   "source": [
    "df_project_vitals = df_project_vitals.withColumn(\"input_file\", input_file_name())\n"
   ]
  },
  {
   "cell_type": "code",
   "execution_count": null,
   "id": "7ea7d81d",
   "metadata": {},
   "outputs": [],
   "source": [
    "df_meds_modified = df_meds.filter(df_meds.id.isNotNull())"
   ]
  },
  {
   "cell_type": "code",
   "execution_count": null,
   "id": "53913502",
   "metadata": {},
   "outputs": [],
   "source": [
    "df_meds_modified.count()"
   ]
  },
  {
   "cell_type": "code",
   "execution_count": null,
   "id": "890003de",
   "metadata": {},
   "outputs": [],
   "source": [
    "df_project_vitals = df_project_vitals.withColumn('projectId', F.element_at(F.split(F.col('input_file'), '/'), -2))\n"
   ]
  },
  {
   "cell_type": "code",
   "execution_count": null,
   "id": "3987403f",
   "metadata": {},
   "outputs": [],
   "source": [
    "builder = TSMBuilder(\"sstm.yaml\", spark=spark)\n"
   ]
  },
  {
   "cell_type": "code",
   "execution_count": null,
   "id": "d0d26e39",
   "metadata": {},
   "outputs": [],
   "source": [
    "df_project_vitals.show()\n",
    "#s3://dev-truve-devops-05-databricks-bucketetlrawdata-wu3m2thgf3o/filevine/6586/18764/10387917/project_vitals.parquet"
   ]
  },
  {
   "cell_type": "code",
   "execution_count": null,
   "id": "9ce20a1d",
   "metadata": {},
   "outputs": [],
   "source": [
    "#Upload data on S3 \n",
    "from awsglue.dynamicframe import DynamicFrame\n",
    "def upload_result(result):\n",
    "    temp_bucket = \"s3://dev-truve-devops-05-databricks-bucketetlrawdata-wu3m2thgf3o/temp\"\n",
    "    for key, df in result.items():\n",
    "        print(f\"Writing {key}\")\n",
    "        writeToFile(df,\"s3://dev-truve-devops-05-databr-bucketetlprocesseddata-h2m2xopoctot/{}/\".format(key.lower()), \"overwrite\")\n",
    "        dyf = DynamicFrame.fromDF(dataframe=df, glue_ctx=glueContext, name=key)\n",
    "        table_name = key.lower()\n",
    "        dyf.show(10)\n",
    "        \n",
    "        datasink = glueContext.write_dynamic_frame.from_jdbc_conf(\n",
    "                        frame=dyf,\n",
    "                        catalog_connection=\"dev-glue-redshift-connection\",\n",
    "                        connection_options={\n",
    "                            \"preactions\" : \"delete from tsm.{}\".format(table_name),\n",
    "                            \"dbtable\": \"tsm.{}\".format(table_name), \n",
    "                            \"database\": \"truve\",\n",
    "                        },\n",
    "                        redshift_tmp_dir=temp_bucket,\n",
    "                        transformation_ctx=\"datasink\",\n",
    "                    )\n",
    "        '''\n",
    "        #break\n",
    "        redshift_connection_options = {\"url\": \"jdbc:redshift://dev-redshift-cluster.cxorr0thbkvd.us-west-2.redshift.amazonaws.com:5439/truve\", \n",
    "                        \"user\": \"truveadmin\", \n",
    "                        \"password\": \"XXXXXXX\",\n",
    "                        \"preactions\" : \"delete from tsm.{}\".format(table_name),\n",
    "                        \"dbtable\": \"tsm.{}\".format(table_name), \n",
    "                        \"redshiftTmpDir\": temp_bucket} \n",
    "        datasink4 = glueContext.write_dynamic_frame.from_options(frame=dyf,\n",
    "                                                        connection_type=\"redshift\",\n",
    "                                                        connection_options=redshift_connection_options)\n",
    "        '''\n",
    "        #break\n",
    "    "
   ]
  },
  {
   "cell_type": "code",
   "execution_count": null,
   "id": "65ab263f",
   "metadata": {},
   "outputs": [],
   "source": [
    "#PeopleType Transformation\n",
    "def people_type_transformation(df_contact):\n",
    "    #Read Raw Data\n",
    "    result = builder.build_peopletypes(contact_df=df_contact)\n",
    "    #print(result)\n",
    "    upload_result(result)\n",
    "    \n",
    "people_type_transformation(df_contact)"
   ]
  },
  {
   "cell_type": "code",
   "execution_count": null,
   "id": "2b7d1c88",
   "metadata": {},
   "outputs": [],
   "source": [
    "#Peoples Transformation\n",
    "def people_master_transformation(df_contact):\n",
    "    #Read Raw Data\n",
    "    result = builder.build_peoplemaster(contact_df=df_contact)\n",
    "    #print(result)\n",
    "    #return result\n",
    "    upload_result(result)\n",
    "    \n",
    "people_master_result = people_master_transformation(df_contact)"
   ]
  },
  {
   "cell_type": "code",
   "execution_count": null,
   "id": "414e4ca9",
   "metadata": {},
   "outputs": [],
   "source": [
    "#Peoples Transformation\n",
    "def projecttype_transformation(df_projecttype):\n",
    "    #Read Raw Data\n",
    "    result = builder.build_practicetypes(df_projecttype)\n",
    "    print(result)\n",
    "    upload_result(result)\n",
    "    \n",
    "projecttype_transformation(df_projecttype)"
   ]
  },
  {
   "cell_type": "code",
   "execution_count": null,
   "id": "0398e31c",
   "metadata": {},
   "outputs": [],
   "source": [
    "#Peoples Transformation\n",
    "df_projecttype = readFromFile(\"parquet\", \"s3://dev-truve-devops-05-databricks-bucketetlrawdata-wu3m2thgf3o/filevine/6586/projecttype/\")\n",
    "\n",
    "def phases_transformation(df_projecttype):\n",
    "    #Read Raw Data\n",
    "    \n",
    "    result = builder.build_phasemaster(df_projecttype)\n",
    "    print(result)\n",
    "    upload_result(result)\n",
    "    \n",
    "phases_transformation(df_projecttype)"
   ]
  },
  {
   "cell_type": "code",
   "execution_count": null,
   "id": "39abe18a",
   "metadata": {},
   "outputs": [],
   "source": [
    "#Peoples Transformation\n",
    "def value_transformation(df_meds):\n",
    "    #Read Raw Data\n",
    "    result = builder.build_casefigures(df_meds)\n",
    "    #print(result)\n",
    "    upload_result(result)\n",
    "    return result\n",
    "    \n",
    "result = value_transformation(df_meds_modified)"
   ]
  },
  {
   "cell_type": "code",
   "execution_count": null,
   "id": "3cca86ca",
   "metadata": {},
   "outputs": [],
   "source": [
    "#Peoples Transformation\n",
    "'''\n",
    "def cases_transformation(df_project):\n",
    "    #Read Raw Data\n",
    "    result = builder.build_casemaster(df_project)\n",
    "    return result\n",
    "    #print(result)\n",
    "    #upload_result(result)\n",
    "    \n",
    "result = cases_transformation(df_project)\n",
    "'''"
   ]
  },
  {
   "cell_type": "code",
   "execution_count": null,
   "id": "1da98d96",
   "metadata": {},
   "outputs": [],
   "source": [
    "#Peoples Transformation\n",
    "def intake_transformation(df_intake):\n",
    "    #Read Raw Data\n",
    "    result = builder.build_intakesummary(df_intake)\n",
    "    return result \n",
    "\n",
    "result = intake_transformation(df_intake)\n",
    "#result[\"IntakeDetails\"] = result[\"IntakeDetails\"].drop(\"referral_fee\")\n",
    "upload_result(result)\n"
   ]
  },
  {
   "cell_type": "code",
   "execution_count": null,
   "id": "0293276f",
   "metadata": {},
   "outputs": [],
   "source": [
    "#Peoples Transformation\n",
    "def casesummary_transformation(df_casesummary, df_project_vitals, df_project):\n",
    "    #Read Raw Data\n",
    "    result = builder.build_casesummary(df_casesummary, df_project_vitals, df_project)\n",
    "    print(result)\n",
    "    upload_result(result)\n",
    "    \n",
    "casesummary_transformation(df_casesummary, df_project_vitals, df_project)"
   ]
  },
  {
   "cell_type": "code",
   "execution_count": null,
   "id": "a1145e45",
   "metadata": {},
   "outputs": [],
   "source": [
    "processed_project_df = result[\"CMS_Cases\"]\n",
    "processed_project_df.printSchema()"
   ]
  },
  {
   "cell_type": "code",
   "execution_count": null,
   "id": "f2d5f8d6",
   "metadata": {},
   "outputs": [],
   "source": [
    "#Peoples Transformation\n",
    "def casetype_transformation(df_casesummary, project_df):\n",
    "    #Read Raw Data\n",
    "    result = builder.build_casetypes(df_casesummary, project_df)\n",
    "    #print(result)\n",
    "    #return result\n",
    "    upload_result(result)\n",
    "    return result\n",
    "    \n",
    "casetype_result = casetype_transformation(df_casesummary, df_project)"
   ]
  },
  {
   "cell_type": "code",
   "execution_count": null,
   "id": "21c01f16",
   "metadata": {},
   "outputs": [],
   "source": [
    "processed_case_type_df = casetype_result[\"CMS_CaseTypes\"]\n",
    "\n",
    "#Peoples Transformation\n",
    "def cases_transformation(df_project, processed_case_type_df, df_project_vitals, df_casesummary):\n",
    "    #Read Raw Data\n",
    "    result = builder.build_casemaster(df_project, processed_case_type_df, df_project_vitals, df_casesummary)\n",
    "    #return result\n",
    "    #print(result)\n",
    "    upload_result(result)\n",
    "    return result\n",
    "    \n",
    "result = cases_transformation(df_project, processed_case_type_df, df_project_vitals, df_casesummary)"
   ]
  },
  {
   "cell_type": "code",
   "execution_count": null,
   "id": "d661cb65",
   "metadata": {},
   "outputs": [],
   "source": [
    "%stop_session"
   ]
  },
  {
   "cell_type": "code",
   "execution_count": null,
   "id": "9b05b5c2",
   "metadata": {},
   "outputs": [],
   "source": [
    "df_casesummary.select(\"caseType\").distinct().show(10)"
   ]
  },
  {
   "cell_type": "code",
   "execution_count": null,
   "id": "2410d7a1",
   "metadata": {},
   "outputs": [],
   "source": [
    "casetype_df = casetype_result[\"CMS_CaseTypes\"]\n"
   ]
  },
  {
   "cell_type": "code",
   "execution_count": null,
   "id": "2e7888ff",
   "metadata": {},
   "outputs": [],
   "source": [
    "casetype_df.show()"
   ]
  },
  {
   "cell_type": "code",
   "execution_count": null,
   "id": "edc3129e",
   "metadata": {},
   "outputs": [],
   "source": [
    "people_df = people_master_result[\"CMS_People\"]"
   ]
  },
  {
   "cell_type": "code",
   "execution_count": null,
   "id": "244086e7",
   "metadata": {},
   "outputs": [],
   "source": [
    "people_df"
   ]
  },
  {
   "cell_type": "code",
   "execution_count": null,
   "id": "0b9aba5e",
   "metadata": {},
   "outputs": [],
   "source": [
    "people_df.show()"
   ]
  },
  {
   "cell_type": "code",
   "execution_count": null,
   "id": "ff002c06",
   "metadata": {},
   "outputs": [],
   "source": [
    "\n",
    "# Find count for empty, None, Null, Nan with string literals.\n",
    "from pyspark.sql.functions import col,isnan,when,count\n",
    "df2 = people_df.select([count(when(col(c).contains('None') | \\\n",
    "                            col(c).contains('NULL') | \\\n",
    "                            (col(c) == '' ) | \\\n",
    "                            col(c).isNull() , c \n",
    "                           )).alias(c)\n",
    "                    for c in people_df.columns])\n",
    "df2.show()\n"
   ]
  },
  {
   "cell_type": "code",
   "execution_count": null,
   "id": "e6ae9a02",
   "metadata": {},
   "outputs": [],
   "source": [
    "%stop_session"
   ]
  },
  {
   "cell_type": "code",
   "execution_count": null,
   "id": "f74b62bc",
   "metadata": {},
   "outputs": [],
   "source": [
    "case_df = result[\"CMS_Cases\"]"
   ]
  },
  {
   "cell_type": "code",
   "execution_count": null,
   "id": "e50e8767",
   "metadata": {},
   "outputs": [],
   "source": [
    "case_figure_df.select(\"Case_Figure_ID\", \"Case_ID\").show()"
   ]
  },
  {
   "cell_type": "code",
   "execution_count": null,
   "id": "0aa95be8",
   "metadata": {},
   "outputs": [],
   "source": [
    "from pyspark.sql.functions import col,isnan,when,count\n",
    "df2 = case_df.select([count(when(col(c).contains('None') | \\\n",
    "                            col(c).contains('NULL') | \\\n",
    "                            (col(c) == '' ) | \\\n",
    "                            col(c).isNull() , c \n",
    "                           )).alias(c)\n",
    "                    for c in case_df.columns])\n",
    "df2.show()\n"
   ]
  },
  {
   "cell_type": "code",
   "execution_count": null,
   "id": "bee93861",
   "metadata": {},
   "outputs": [],
   "source": []
  }
 ],
 "metadata": {
  "kernelspec": {
   "display_name": "Glue PySpark",
   "language": "python",
   "name": "glue_pyspark"
  },
  "language_info": {
   "codemirror_mode": {
    "name": "python",
    "version": 3
   },
   "file_extension": ".py",
   "mimetype": "text/x-python",
   "name": "Python_Glue_Session",
   "pygments_lexer": "python3"
  }
 },
 "nbformat": 4,
 "nbformat_minor": 5
}
