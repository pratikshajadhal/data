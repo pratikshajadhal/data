{
 "cells": [
  {
   "cell_type": "code",
   "execution_count": 2,
   "id": "8315afbb",
   "metadata": {},
   "outputs": [
    {
     "name": "stdout",
     "output_type": "stream",
     "text": [
      "Welcome to the Glue Interactive Sessions Kernel\n",
      "For more information on available magic commands, please type %help in any new cell.\n",
      "\n",
      "Please view our Getting Started page to access the most up-to-date information on the Interactive Sessions kernel: https://docs.aws.amazon.com/glue/latest/dg/interactive-sessions.html\n",
      "Current iam_role is None\n",
      "iam_role has been set to arn:aws:iam::481237842548:role/CF-dev-TruveDevops-Glue-Role.\n"
     ]
    }
   ],
   "source": [
    "%iam_role arn:aws:iam::481237842548:role/CF-dev-TruveDevops-Glue-Role"
   ]
  },
  {
   "cell_type": "code",
   "execution_count": 4,
   "id": "86f8f0a6",
   "metadata": {},
   "outputs": [
    {
     "name": "stdout",
     "output_type": "stream",
     "text": [
      "Previous region: None\n",
      "Setting new region to: us-west-2\n",
      "Region is set to: us-west-2\n"
     ]
    }
   ],
   "source": [
    "%region us-west-2"
   ]
  },
  {
   "cell_type": "code",
   "execution_count": 0,
   "id": "c7525825",
   "metadata": {},
   "outputs": [
    {
     "name": "stdout",
     "output_type": "stream",
     "text": [
      "Additional python modules to be included:\n",
      "s3://dev-truve-devops-05-databricks-bucketetlrawdata-wu3m2thgf3o/sstm_transformation-0.1.0-py3-none-any.whl\n",
      "Previous number of workers: 5\n",
      "Setting new number of workers to: 2\n",
      "Authenticating with profile=default\n",
      "glue_role_arn defined by user: arn:aws:iam::481237842548:role/CF-dev-TruveDevops-Glue-Role\n",
      "Trying to create a Glue session for the kernel.\n",
      "Worker Type: G.1X\n",
      "Number of Workers: 2\n",
      "Session ID: c7ff10bc-1e92-4e3c-b291-349c9b5897bf\n",
      "Applying the following default arguments:\n",
      "--glue_kernel_version 0.31\n",
      "--enable-glue-datacatalog true\n",
      "--additional-python-modules s3://dev-truve-devops-05-databricks-bucketetlrawdata-wu3m2thgf3o/sstm_transformation-0.1.0-py3-none-any.whl\n",
      "Waiting for session c7ff10bc-1e92-4e3c-b291-349c9b5897bf to get into ready status...\n",
      "Session c7ff10bc-1e92-4e3c-b291-349c9b5897bf has been created\n",
      "\n",
      "\n"
     ]
    }
   ],
   "source": [
    "%additional_python_modules \"s3://dev-truve-devops-05-databricks-bucketetlrawdata-wu3m2thgf3o/sstm_transformation-0.1.0-py3-none-any.whl\"\n",
    "%number_of_workers 2\n",
    "\n",
    "import sys\n",
    "from awsglue.transforms import *\n",
    "from awsglue.utils import getResolvedOptions\n",
    "from pyspark.context import SparkContext\n",
    "from awsglue.context import GlueContext\n",
    "from awsglue.job import Job\n",
    "  \n",
    "sc = SparkContext.getOrCreate()\n",
    "glueContext = GlueContext(sc)\n",
    "spark = glueContext.spark_session\n",
    "job = Job(glueContext)"
   ]
  },
  {
   "cell_type": "code",
   "execution_count": 1,
   "id": "4f82a92a",
   "metadata": {},
   "outputs": [
    {
     "name": "stdout",
     "output_type": "stream",
     "text": [
      "\n"
     ]
    }
   ],
   "source": [
    "#download configuration file\n",
    "import boto3\n",
    "session = boto3.Session()\n",
    "\n",
    "s3 = session.resource('s3')\n",
    "s3.Bucket('dev-truve-devops-05-databricks-bucketetlrawdata-wu3m2thgf3o').download_file('confs/filevine/sstm.yaml', 'sstm.yaml')"
   ]
  },
  {
   "cell_type": "code",
   "execution_count": 2,
   "id": "d8ae1f81",
   "metadata": {},
   "outputs": [
    {
     "name": "stdout",
     "output_type": "stream",
     "text": [
      "\n"
     ]
    }
   ],
   "source": [
    "with open(\"sstm.yaml\", \"r\") as f:\n",
    "    sstm_config = f.read()\n",
    "    "
   ]
  },
  {
   "cell_type": "code",
   "execution_count": 3,
   "id": "826bfe0f",
   "metadata": {},
   "outputs": [
    {
     "name": "stdout",
     "output_type": "stream",
     "text": [
      "\n"
     ]
    }
   ],
   "source": [
    "def readFromFile(ext, path) :\n",
    "    fileContent = spark.read.format(ext).option(\"header\", \"true\").option(\"mergeSchema\", \"true\").load(path)\n",
    "    return fileContent\n"
   ]
  },
  {
   "cell_type": "code",
   "execution_count": 4,
   "id": "088295e0",
   "metadata": {},
   "outputs": [
    {
     "name": "stdout",
     "output_type": "stream",
     "text": [
      "\n"
     ]
    }
   ],
   "source": [
    "def writeToFile(df_join , path, mode) :\n",
    "    df_join.write.parquet(path,mode=mode)"
   ]
  },
  {
   "cell_type": "code",
   "execution_count": 5,
   "id": "fe962eda",
   "metadata": {},
   "outputs": [
    {
     "name": "stdout",
     "output_type": "stream",
     "text": [
      "\n"
     ]
    }
   ],
   "source": [
    "spark.conf.set(\"spark.sql.parquet.enableVectorizedReader\",\"false\")\n",
    "spark.conf.set(\"spark.sql.sources.partitionColumnTypeInference.enabled\", \"false\")\n"
   ]
  },
  {
   "cell_type": "code",
   "execution_count": 6,
   "id": "2c402ec4",
   "metadata": {},
   "outputs": [
    {
     "name": "stdout",
     "output_type": "stream",
     "text": [
      "\n"
     ]
    }
   ],
   "source": [
    "from sstm_transformation.tsm_builder import TSMBuilder"
   ]
  },
  {
   "cell_type": "code",
   "execution_count": 7,
   "id": "61fde2b8",
   "metadata": {},
   "outputs": [
    {
     "name": "stdout",
     "output_type": "stream",
     "text": [
      "\n"
     ]
    }
   ],
   "source": [
    "#Read All dfs \n",
    "df_project =readFromFile(\"parquet\", \"s3://dev-truve-devops-05-databricks-bucketetlrawdata-wu3m2thgf3o/filevine/6586/18764/*/project.parquet\")\n",
    "df_intake =readFromFile(\"parquet\", \"s3://dev-truve-devops-05-databricks-bucketetlrawdata-wu3m2thgf3o/filevine/6586/18764/*/form/intake.parquet\")\n",
    "df_contact =readFromFile(\"parquet\", \"s3://dev-truve-devops-05-databricks-bucketetlrawdata-wu3m2thgf3o/filevine/6586/contact/\")\n",
    "df_projecttype = readFromFile(\"parquet\", \"s3://dev-truve-devops-05-databricks-bucketetlrawdata-wu3m2thgf3o/filevine/6586/projecttype/\")\n",
    "df_meds = readFromFile(\"parquet\", \"s3://dev-truve-devops-05-databricks-bucketetlrawdata-wu3m2thgf3o/filevine/6586/18764/*/collections/meds.parquet\")\n",
    "df_casesummary =readFromFile(\"parquet\", \"s3://dev-truve-devops-05-databricks-bucketetlrawdata-wu3m2thgf3o/filevine/6586/18764/*/form/casesummary.parquet\")\n"
   ]
  },
  {
   "cell_type": "code",
   "execution_count": 8,
   "id": "3987403f",
   "metadata": {},
   "outputs": [
    {
     "name": "stdout",
     "output_type": "stream",
     "text": [
      "\n"
     ]
    }
   ],
   "source": [
    "builder = TSMBuilder(\"sstm.yaml\", spark=spark)\n"
   ]
  },
  {
   "cell_type": "code",
   "execution_count": 9,
   "id": "9ce20a1d",
   "metadata": {},
   "outputs": [
    {
     "name": "stdout",
     "output_type": "stream",
     "text": [
      "\n"
     ]
    }
   ],
   "source": [
    "#Upload data on S3 \n",
    "def upload_result(result):\n",
    "    for key, df in result.items():\n",
    "        print(f\"Writing {key}\")\n",
    "        writeToFile(df,\"s3://dev-truve-devops-05-databr-bucketetlprocesseddata-h2m2xopoctot/{}/\".format(key.lower()), \"overwrite\")\n"
   ]
  },
  {
   "cell_type": "code",
   "execution_count": 10,
   "id": "65ab263f",
   "metadata": {},
   "outputs": [
    {
     "name": "stdout",
     "output_type": "stream",
     "text": [
      "{'PeopleTypes': DataFrame[People_Type: string, Truve_Org_ID: int, Client_Org_ID: int, Custom1: string, Custom2: string, Custom3: string, People_Sub_Type: string, People_Type_Id: bigint]}\n",
      "Writing PeopleTypes\n"
     ]
    }
   ],
   "source": [
    "#PeopleType Transformation\n",
    "def people_type_transformation(df_contact):\n",
    "    #Read Raw Data\n",
    "    result = builder.build_peopletypes(contact_df=df_contact)\n",
    "    print(result)\n",
    "    upload_result(result)\n",
    "    \n",
    "people_type_transformation(df_contact)"
   ]
  },
  {
   "cell_type": "code",
   "execution_count": 11,
   "id": "2b7d1c88",
   "metadata": {},
   "outputs": [
    {
     "name": "stdout",
     "output_type": "stream",
     "text": [
      "root\n",
      " |-- People_ID: string (nullable = true)\n",
      " |-- People_Type: string (nullable = true)\n",
      "\n",
      "root\n",
      " |-- People_Type: string (nullable = true)\n",
      " |-- Truve_Org_ID: integer (nullable = true)\n",
      " |-- Client_Org_ID: integer (nullable = true)\n",
      " |-- Custom1: string (nullable = true)\n",
      " |-- Custom2: string (nullable = true)\n",
      " |-- Custom3: string (nullable = true)\n",
      " |-- People_Sub_Type: string (nullable = true)\n",
      " |-- People_Type_Id: long (nullable = true)\n",
      "\n",
      "{'Peoples': DataFrame[Truve_Org_ID: int, Client_Org_ID: int, People_ID: string, First_Name: string, Middle_Name: string, Last_Name: string, Date_of_Birth: string, Gender: string, Custom1: string, Custom2: string, Custom3: string], 'Peoples_PeopleType': DataFrame[People_ID: string, People_Type_ID: bigint]}\n",
      "Writing Peoples\n",
      "Writing Peoples_PeopleType\n"
     ]
    }
   ],
   "source": [
    "#Peoples Transformation\n",
    "def people_master_transformation(df_contact):\n",
    "    #Read Raw Data\n",
    "    result = builder.build_peoplemaster(contact_df=df_contact)\n",
    "    print(result)\n",
    "    upload_result(result)\n",
    "    \n",
    "people_master_transformation(df_contact)"
   ]
  },
  {
   "cell_type": "code",
   "execution_count": 12,
   "id": "414e4ca9",
   "metadata": {},
   "outputs": [
    {
     "name": "stdout",
     "output_type": "stream",
     "text": [
      "root\n",
      " |-- Truve_Org_ID: integer (nullable = false)\n",
      " |-- Client_Org_ID: integer (nullable = false)\n",
      " |-- Practice_Type_ID: long (nullable = true)\n",
      " |-- Practice_Type_Name: string (nullable = true)\n",
      " |-- Custom1: string (nullable = true)\n",
      " |-- Custom2: string (nullable = true)\n",
      " |-- Custom3: string (nullable = true)\n",
      "\n",
      "{'PracticeTypes': DataFrame[Truve_Org_ID: int, Client_Org_ID: int, Practice_Type_ID: bigint, Practice_Type_Name: string, Custom1: string, Custom2: string, Custom3: string]}\n",
      "Writing PracticeTypes\n"
     ]
    }
   ],
   "source": [
    "#Peoples Transformation\n",
    "def projecttype_transformation(df_projecttype):\n",
    "    #Read Raw Data\n",
    "    result = builder.build_practicetypes(df_projecttype)\n",
    "    print(result)\n",
    "    upload_result(result)\n",
    "    \n",
    "projecttype_transformation(df_projecttype)"
   ]
  },
  {
   "cell_type": "code",
   "execution_count": 13,
   "id": "0398e31c",
   "metadata": {},
   "outputs": [
    {
     "name": "stdout",
     "output_type": "stream",
     "text": [
      "+------------+-------------+--------+--------------------+----------------+-----------+--------------+------------------+-------+-------+-------+\n",
      "|Truve_Org_ID|Client_Org_ID|Phase_ID|          Phase_Name|Practice_Type_ID|Phase_Order|Phase_Category|Phase_Sub_Category|Custom1|Custom2|Custom3|\n",
      "+------------+-------------+--------+--------------------+----------------+-----------+--------------+------------------+-------+-------+-------+\n",
      "|        6586|         6586|   91388|            New Lead|           18764|       null|          null|              null|   null|   null|   null|\n",
      "|        6586|         6586|  103016|              Intake|           18764|       null|          null|              null|   null|   null|   null|\n",
      "|        6586|         6586|   91389|         File Set-Up|           18764|       null|          null|              null|   null|   null|   null|\n",
      "|        6586|         6586|   91390|           Treatment|           18764|       null|          null|              null|   null|   null|   null|\n",
      "|        6586|         6586|  103017|   Bills and Records|           18764|       null|          null|              null|   null|   null|   null|\n",
      "|        6586|         6586|  103018|    Ready For Demand|           18764|       null|          null|              null|   null|   null|   null|\n",
      "|        6586|         6586|  176616|      Demand Pending|           18764|       null|          null|              null|   null|   null|   null|\n",
      "|        6586|         6586|   91392|         Demand Sent|           18764|       null|          null|              null|   null|   null|   null|\n",
      "|        6586|         6586|  177675|First Offer Received|           18764|       null|          null|              null|   null|   null|   null|\n",
      "|        6586|         6586|  144438|UM Only (Liabilit...|           18764|       null|          null|              null|   null|   null|   null|\n",
      "|        6586|         6586|  103019|Negotiations/Reduct.|           18764|       null|          null|              null|   null|   null|   null|\n",
      "|        6586|         6586|  130597|     Settled/Pending|           18764|       null|          null|              null|   null|   null|   null|\n",
      "|        6586|         6586|   91395|        Disbursement|           18764|       null|          null|              null|   null|   null|   null|\n",
      "|        6586|         6586|  142845|  Pending Lit Review|           18764|       null|          null|              null|   null|   null|   null|\n",
      "|        6586|         6586|  163604|   Lit- Pending Suit|           18764|       null|          null|              null|   null|   null|   null|\n",
      "|        6586|         6586|  180485|Lit- Suit Dismiss...|           18764|       null|          null|              null|   null|   null|   null|\n",
      "|        6586|         6586|  163605|        Lit- Service|           18764|       null|          null|              null|   null|   null|   null|\n",
      "|        6586|         6586|  163606|Lit- Answer/Disco...|           18764|       null|          null|              null|   null|   null|   null|\n",
      "|        6586|         6586|  163607|      Lit- Pre-Trial|           18764|       null|          null|              null|   null|   null|   null|\n",
      "|        6586|         6586|  163608|          Lit- Trial|           18764|       null|          null|              null|   null|   null|   null|\n",
      "|        6586|         6586|  180476|Lit- Settled/Pending|           18764|       null|          null|              null|   null|   null|   null|\n",
      "|        6586|         6586|  180477|   Lit- Disbursement|           18764|       null|          null|              null|   null|   null|   null|\n",
      "|        6586|         6586|  130598|       Case Referred|           18764|       null|          null|              null|   null|   null|   null|\n",
      "|        6586|         6586|   91396|    Archived- Closed|           18764|       null|          null|              null|   null|   null|   null|\n",
      "|        6586|         6586|  168717|  Archived- Withdrew|           18764|       null|          null|              null|   null|   null|   null|\n",
      "|        6586|         6586|  168716|Archived- Terminated|           18764|       null|          null|              null|   null|   null|   null|\n",
      "|        6586|         6586|   91394|          Litigation|           18764|       null|          null|              null|   null|   null|   null|\n",
      "|        6586|         6586|  175225|              Active|           29908|       null|          null|              null|   null|   null|   null|\n",
      "|        6586|         6586|  175226|    Archived- Closed|           29908|       null|          null|              null|   null|   null|   null|\n",
      "|        6586|         6586|  175752|  Archived- Withdrew|           29908|       null|          null|              null|   null|   null|   null|\n",
      "|        6586|         6586|  175753|Archived- Terminated|           29908|       null|          null|              null|   null|   null|   null|\n",
      "|        6586|         6586|  181291|              Active|           30531|       null|          null|              null|   null|   null|   null|\n",
      "|        6586|         6586|  181292|            Archived|           30531|       null|          null|              null|   null|   null|   null|\n",
      "|        6586|         6586|  172766|              Active|           29578|       null|          null|              null|   null|   null|   null|\n",
      "|        6586|         6586|  172767|    Archived- Closed|           29578|       null|          null|              null|   null|   null|   null|\n",
      "|        6586|         6586|  175754|  Archived- Withdrew|           29578|       null|          null|              null|   null|   null|   null|\n",
      "|        6586|         6586|  175755|Archived- Terminated|           29578|       null|          null|              null|   null|   null|   null|\n",
      "|        6586|         6586|  141433|              Intake|           25962|       null|          null|              null|   null|   null|   null|\n",
      "|        6586|         6586|  141435|         File Set-Up|           25962|       null|          null|              null|   null|   null|   null|\n",
      "|        6586|         6586|  141436|           Treatment|           25962|       null|          null|              null|   null|   null|   null|\n",
      "|        6586|         6586|  180743|        Motion Filed|           25962|       null|          null|              null|   null|   null|   null|\n",
      "|        6586|         6586|  141440|         Demand Sent|           25962|       null|          null|              null|   null|   null|   null|\n",
      "|        6586|         6586|  180744|           Mediation|           25962|       null|          null|              null|   null|   null|   null|\n",
      "|        6586|         6586|  162434|        Negotiations|           25962|       null|          null|              null|   null|   null|   null|\n",
      "|        6586|         6586|  162436|          Settlement|           25962|       null|          null|              null|   null|   null|   null|\n",
      "|        6586|         6586|  180745| Settlement Approval|           25962|       null|          null|              null|   null|   null|   null|\n",
      "|        6586|         6586|  180551|        Disbursement|           25962|       null|          null|              null|   null|   null|   null|\n",
      "|        6586|         6586|  180746|     Lit/Hearing Set|           25962|       null|          null|              null|   null|   null|   null|\n",
      "|        6586|         6586|  180747|Lit/Deposition Sc...|           25962|       null|          null|              null|   null|   null|   null|\n",
      "|        6586|         6586|  180748|Lit/Written Disco...|           25962|       null|          null|              null|   null|   null|   null|\n",
      "|        6586|         6586|  180749| Lit/Pre Trial Order|           25962|       null|          null|              null|   null|   null|   null|\n",
      "|        6586|         6586|  180750|Lit/Post Hearing ...|           25962|       null|          null|              null|   null|   null|   null|\n",
      "|        6586|         6586|  180751|  Order/Award Issued|           25962|       null|          null|              null|   null|   null|   null|\n",
      "|        6586|         6586|  180625|   Attorney Fee Lien|           25962|       null|          null|              null|   null|   null|   null|\n",
      "|        6586|         6586|  175001|Archived- Terminated|           25962|       null|          null|              null|   null|   null|   null|\n",
      "|        6586|         6586|  175002|  Archived- Withdrew|           25962|       null|          null|              null|   null|   null|   null|\n",
      "|        6586|         6586|  141441|    Archived- Closed|           25962|       null|          null|              null|   null|   null|   null|\n",
      "|        6586|         6586|  170086|       Disengagement|           25962|       null|          null|              null|   null|   null|   null|\n",
      "+------------+-------------+--------+--------------------+----------------+-----------+--------------+------------------+-------+-------+-------+\n",
      "\n",
      "{'Phases': DataFrame[Truve_Org_ID: int, Client_Org_ID: int, Phase_ID: bigint, Phase_Name: string, Practice_Type_ID: bigint, Phase_Order: string, Phase_Category: string, Phase_Sub_Category: string, Custom1: string, Custom2: string, Custom3: string]}\n",
      "Writing Phases\n"
     ]
    }
   ],
   "source": [
    "#Peoples Transformation\n",
    "df_projecttype = readFromFile(\"parquet\", \"s3://dev-truve-devops-05-databricks-bucketetlrawdata-wu3m2thgf3o/filevine/6586/projecttype/\")\n",
    "\n",
    "def phases_transformation(df_projecttype):\n",
    "    #Read Raw Data\n",
    "    \n",
    "    result = builder.build_phasemaster(df_projecttype)\n",
    "    print(result)\n",
    "    upload_result(result)\n",
    "    \n",
    "phases_transformation(df_projecttype)"
   ]
  },
  {
   "cell_type": "code",
   "execution_count": 14,
   "id": "39abe18a",
   "metadata": {},
   "outputs": [
    {
     "name": "stdout",
     "output_type": "stream",
     "text": [
      "+------------+-------------+--------------+--------+--------------+-------------------+-----------+-------------+--------+-------+-------+-------+\n",
      "|Truve_Org_ID|Client_Org_ID|Parent_Case_ID| Case_ID|Case_Figure_ID|        Figure_Type|Figure_Date|Figure_Status|   Value|Custom1|Custom2|Custom3|\n",
      "+------------+-------------+--------------+--------+--------------+-------------------+-----------+-------------+--------+-------+-------+-------+\n",
      "|        6586|         6586|       9675645| 9675645|          null|      Case Expenses|       null|         null|    20.0|   null|   null|   null|\n",
      "|        6586|         6586|       9675645| 9675645|          null|      Case Expenses|       null|         null|   72.88|   null|   null|   null|\n",
      "|        6586|         6586|       9675645| 9675645|          null|      Case Expenses|       null|         null|   72.88|   null|   null|   null|\n",
      "|        6586|         6586|       9675645| 9675645|          null|      Case Expenses|       null|         null|    35.0|   null|   null|   null|\n",
      "|        6586|         6586|       9675645| 9675645|          null|      Case Expenses|       null|         null|   37.88|   null|   null|   null|\n",
      "|        6586|         6586|       9675645| 9675645|          null|       Medical Bill| 2022-06-23|         null|    null|   null|   null|   null|\n",
      "|        6586|         6586|       9675645| 9675645|          null|       Medical Bill|       null|         null|  2867.0|   null|   null|   null|\n",
      "|        6586|         6586|       9675645| 9675645|          null|       Medical Bill|       null|         null|     0.0|   null|   null|   null|\n",
      "|        6586|         6586|       9675645| 9675645|          null|      Case Expenses|       null|         null|    35.0|   null|   null|   null|\n",
      "|        6586|         6586|       9675645| 9675645|          null|      Case Expenses|       null|         null|   68.52|   null|   null|   null|\n",
      "|        6586|         6586|       9675645| 9675645|          null|      Case Expenses|       null|         null|    35.0|   null|   null|   null|\n",
      "|        6586|         6586|       9675645| 9675645|          null|      Case Expenses|       null|         null|  118.96|   null|   null|   null|\n",
      "|        6586|         6586|       9675645| 9675645|          null|      Case Expenses|       null|         null|    35.0|   null|   null|   null|\n",
      "|        6586|         6586|       9675645| 9675645|          null|      Case Expenses|       null|         null|   30.79|   null|   null|   null|\n",
      "|        6586|         6586|       9675645| 9675645|          null|      Case Expenses|       null|         null|    35.0|   null|   null|   null|\n",
      "|        6586|         6586|       9675645| 9675645|          null|       Medical Bill|       null|         null|     0.0|   null|   null|   null|\n",
      "|        6586|         6586|       9675645| 9675645|          null|       Medical Bill|       null|         null|  5736.0|   null|   null|   null|\n",
      "|        6586|         6586|       9675645| 9675645|          null|      Case Expenses|       null|         null|     7.0|   null|   null|   null|\n",
      "|        6586|         6586|       9675645| 9675645|          null|Pre-Settlement Loan|       null|         null|     0.0|   null|   null|   null|\n",
      "|        6586|         6586|       9675645| 9675645|          null|Pre-Settlement Loan|       null|         null|    null|   null|   null|   null|\n",
      "|        6586|         6586|       9675645| 9675645|          null|       Medical Bill|       null|         null|  1900.0|   null|   null|   null|\n",
      "|        6586|         6586|       9675645| 9675645|          null|       Medical Bill| 2022-06-23|         null|  1000.0|   null|   null|   null|\n",
      "|        6586|         6586|       9675645| 9675645|          null|       Medical Bill|       null|         null|  1045.0|   null|   null|   null|\n",
      "|        6586|         6586|       9675645| 9675645|          null|       Medical Bill|       null|         null|    30.0|   null|   null|   null|\n",
      "|        6586|         6586|       9675645| 9675645|          null|       Medical Bill|       null|         null|     0.0|   null|   null|   null|\n",
      "|        6586|         6586|       9675645| 9675645|          null|Pre-Settlement Loan|       null|         null|     0.0|   null|   null|   null|\n",
      "|        6586|         6586|       9675645| 9675645|          null|       Medical Bill| 2022-08-01|         null|  9616.0|   null|   null|   null|\n",
      "|        6586|         6586|       9675645| 9675645|          null|       Medical Bill|       null|         null| 60817.0|   null|   null|   null|\n",
      "|        6586|         6586|       9675645| 9675645|          null|       Medical Bill| 2021-09-20|         null|  2370.0|   null|   null|   null|\n",
      "|        6586|         6586|       9675645| 9675645|          null|      Case Expenses|       null|         null|    11.0|   null|   null|   null|\n",
      "|        6586|         6586|       9675645| 9675645|          null|       Medical Bill| 2022-07-08|         null|  2220.0|   null|   null|   null|\n",
      "|        6586|         6586|       9675645| 9675645|          null|       Medical Bill| 2022-04-25|         null|  3121.0|   null|   null|   null|\n",
      "|        6586|         6586|       9675645| 9675645|          null|      Case Expenses|       null|         null|   595.0|   null|   null|   null|\n",
      "|        6586|         6586|       9675645| 9675645|          null|    Attorney's Fees|       null|         null|    null|   null|   null|   null|\n",
      "|        6586|         6586|       9728075| 9728075|          null|      Case Expenses|       null|         null|    35.0|   null|   null|   null|\n",
      "|        6586|         6586|       9728075| 9728075|          null|      Case Expenses|       null|         null|   37.88|   null|   null|   null|\n",
      "|        6586|         6586|       9728075| 9728075|          null|      Case Expenses|       null|         null|    70.0|   null|   null|   null|\n",
      "|        6586|         6586|       9728075| 9728075|          null|      Case Expenses|       null|         null|    35.0|   null|   null|   null|\n",
      "|        6586|         6586|       9728075| 9728075|          null|       Medical Bill|       null|         null|    null|   null|   null|   null|\n",
      "|        6586|         6586|       9728075| 9728075|          null|       Medical Bill|       null|         null|    null|   null|   null|   null|\n",
      "|        6586|         6586|       9728075| 9728075|          null|      Case Expenses|       null|         null|    35.0|   null|   null|   null|\n",
      "|        6586|         6586|       9728075| 9728075|          null|      Case Expenses|       null|         null|   32.73|   null|   null|   null|\n",
      "|        6586|         6586|       9728075| 9728075|          null|      Case Expenses|       null|         null|    35.0|   null|   null|   null|\n",
      "|        6586|         6586|       9728075| 9728075|          null|       Medical Bill|       null|         null|  6885.0|   null|   null|   null|\n",
      "|        6586|         6586|       9728075| 9728075|          null|       Medical Bill|       null|         null|    null|   null|   null|   null|\n",
      "|        6586|         6586|       9728075| 9728075|          null|      Case Expenses|       null|         null|    25.0|   null|   null|   null|\n",
      "|        6586|         6586|       9728075| 9728075|          null|      Case Expenses|       null|         null|    35.0|   null|   null|   null|\n",
      "|        6586|         6586|       9728075| 9728075|          null|      Case Expenses|       null|         null|    35.0|   null|   null|   null|\n",
      "|        6586|         6586|       9728075| 9728075|          null|      Case Expenses|       null|         null|    25.0|   null|   null|   null|\n",
      "|        6586|         6586|       9728075| 9728075|          null|       Medical Bill|       null|         null|    null|   null|   null|   null|\n",
      "|        6586|         6586|       9728075| 9728075|          null|       Medical Bill|       null|         null|54762.91|   null|   null|   null|\n",
      "|        6586|         6586|       9728075| 9728075|          null|       Medical Bill| 2022-01-05|         null|  1425.0|   null|   null|   null|\n",
      "|        6586|         6586|       9728075| 9728075|          null|       Medical Bill|       null|         null|  256.49|   null|   null|   null|\n",
      "|        6586|         6586|       9728075| 9728075|          null|      Case Expenses|       null|         null|   595.0|   null|   null|   null|\n",
      "|        6586|         6586|       9728075| 9728075|          null|    Attorney's Fees|       null|         null|    null|   null|   null|   null|\n",
      "|        6586|         6586|      10465077|10465077|          null|      Case Expenses|       null|         null|   25.88|   null|   null|   null|\n",
      "|        6586|         6586|      10465077|10465077|          null|      Case Expenses|       null|         null|    70.0|   null|   null|   null|\n",
      "|        6586|         6586|      10465077|10465077|          null|      Case Expenses|       null|         null|   48.25|   null|   null|   null|\n",
      "|        6586|         6586|      10465077|10465077|          null|       Medical Bill| 2022-05-10|         null|  7800.0|   null|   null|   null|\n",
      "|        6586|         6586|      10465077|10465077|          null|       Medical Bill| 2022-06-20|         null|  2115.0|   null|   null|   null|\n",
      "|        6586|         6586|      10465077|10465077|          null|       Medical Bill|       null|         null|     0.0|   null|   null|   null|\n",
      "|        6586|         6586|      10465077|10465077|          null|      Case Expenses|       null|         null|    35.0|   null|   null|   null|\n",
      "|        6586|         6586|      10465077|10465077|          null|      Case Expenses|       null|         null|   39.52|   null|   null|   null|\n",
      "|        6586|         6586|      10465077|10465077|          null|      Case Expenses|       null|         null|    35.0|   null|   null|   null|\n",
      "|        6586|         6586|      10465077|10465077|          null|      Case Expenses|       null|         null|   27.88|   null|   null|   null|\n",
      "|        6586|         6586|      10465077|10465077|          null|       Medical Bill| 2022-04-08|         null|  723.56|   null|   null|   null|\n",
      "|        6586|         6586|      10465077|10465077|          null|       Medical Bill|       null|         null|     0.0|   null|   null|   null|\n",
      "|        6586|         6586|      10465077|10465077|          null|       Medical Bill|       null|         null|     0.0|   null|   null|   null|\n",
      "|        6586|         6586|      10465077|10465077|          null|       Medical Bill| 2022-04-12|         null| 3374.56|   null|   null|   null|\n",
      "|        6586|         6586|      10465077|10465077|          null|       Medical Bill| 2022-06-16|         null|  8050.0|   null|   null|   null|\n",
      "|        6586|         6586|      10465077|10465077|          null|      Case Expenses|       null|         null|   595.0|   null|   null|   null|\n",
      "|        6586|         6586|      10465077|10465077|          null|    Attorney's Fees|       null|         null|    null|   null|   null|   null|\n",
      "|        6586|         6586|       8865186| 8865186|          null|      Case Expenses|       null|         null|   108.0|   null|   null|   null|\n",
      "|        6586|         6586|       8865186| 8865186|          null|      Case Expenses|       null|         null|    98.0|   null|   null|   null|\n",
      "|        6586|         6586|       8865186| 8865186|          null|      Case Expenses|       null|         null|   238.7|   null|   null|   null|\n",
      "|        6586|         6586|       8865186| 8865186|          null|      Case Expenses|       null|         null|  230.21|   null|   null|   null|\n",
      "|        6586|         6586|       8865186| 8865186|          null|       Medical Bill|       null|         null|  3524.0|   null|   null|   null|\n",
      "|        6586|         6586|       8865186| 8865186|          null|         Lost Wages|       null|         null|     0.0|   null|   null|   null|\n",
      "|        6586|         6586|       8865186| 8865186|          null|       Medical Bill|       null|         null|  3880.0|   null|   null|   null|\n",
      "|        6586|         6586|       8865186| 8865186|          null|       Medical Bill|       null|         null|    null|   null|   null|   null|\n",
      "|        6586|         6586|       8865186| 8865186|          null|       Medical Bill|       null|         null|   653.0|   null|   null|   null|\n",
      "|        6586|         6586|       8865186| 8865186|          null|       Medical Bill|       null|         null|    99.0|   null|   null|   null|\n",
      "|        6586|         6586|       8865186| 8865186|          null|   Subrogation Bill|       null|         null|    null|   null|   null|   null|\n",
      "|        6586|         6586|       8865186| 8865186|          null|       Medical Bill|       null|         null|  3278.0|   null|   null|   null|\n",
      "|        6586|         6586|       8865186| 8865186|          null|       Medical Bill| 2021-08-02|         null|  3360.0|   null|   null|   null|\n",
      "|        6586|         6586|       8865186| 8865186|          null|      Case Expenses|       null|         null|    null|   null|   null|   null|\n",
      "|        6586|         6586|       8865186| 8865186|          null|    Attorney's Fees|       null|         null|    null|   null|   null|   null|\n",
      "|        6586|         6586|      10478238|10478238|          null|         Lost Wages|       null|         null|    null|   null|   null|   null|\n",
      "|        6586|         6586|      10478238|10478238|          null|      Case Expenses|       null|         null|    14.0|   null|   null|   null|\n",
      "|        6586|         6586|      10478238|10478238|          null|      Case Expenses|       null|         null|    7.38|   null|   null|   null|\n",
      "|        6586|         6586|      10478238|10478238|          null|       Medical Bill|       null|         null|18331.31|   null|   null|   null|\n",
      "|        6586|         6586|      10478238|10478238|          null|      Case Expenses|       null|         null|    35.0|   null|   null|   null|\n",
      "|        6586|         6586|      10478238|10478238|          null|      Case Expenses|       null|         null|    35.0|   null|   null|   null|\n",
      "|        6586|         6586|      10478238|10478238|          null|      Case Expenses|       null|         null|   28.85|   null|   null|   null|\n",
      "|        6586|         6586|      10478238|10478238|          null|      Case Expenses|       null|         null|    35.0|   null|   null|   null|\n",
      "|        6586|         6586|      10478238|10478238|          null|      Case Expenses|       null|         null|   83.54|   null|   null|   null|\n",
      "|        6586|         6586|      10478238|10478238|          null|      Case Expenses|       null|         null|    35.0|   null|   null|   null|\n",
      "|        6586|         6586|      10478238|10478238|          null|       Medical Bill|       null|         null|  1750.0|   null|   null|   null|\n",
      "|        6586|         6586|      10478238|10478238|          null|      Case Expenses|       null|         null|    7.38|   null|   null|   null|\n",
      "|        6586|         6586|      10478238|10478238|          null|       Medical Bill|       null|         null|    null|   null|   null|   null|\n",
      "+------------+-------------+--------------+--------+--------------+-------------------+-----------+-------------+--------+-------+-------+-------+\n",
      "only showing top 100 rows\n",
      "\n",
      "{'CaseFigures': DataFrame[Truve_Org_ID: int, Client_Org_ID: int, Parent_Case_ID: int, Case_ID: int, Case_Figure_ID: string, Figure_Type: string, Figure_Date: date, Figure_Status: string, Value: string, Custom1: string, Custom2: string, Custom3: string]}\n",
      "Writing CaseFigures\n"
     ]
    }
   ],
   "source": [
    "#Peoples Transformation\n",
    "def value_transformation(df_meds):\n",
    "    #Read Raw Data\n",
    "    result = builder.build_casefigures(df_meds)\n",
    "    print(result)\n",
    "    upload_result(result)\n",
    "    \n",
    "value_transformation(df_meds)"
   ]
  },
  {
   "cell_type": "code",
   "execution_count": 15,
   "id": "3cca86ca",
   "metadata": {},
   "outputs": [
    {
     "name": "stdout",
     "output_type": "stream",
     "text": [
      "root\n",
      " |-- Truve_Org_ID: integer (nullable = false)\n",
      " |-- Client_Org_ID: integer (nullable = false)\n",
      " |-- Case_ID: integer (nullable = true)\n",
      " |-- Practice_Type_ID: string (nullable = true)\n",
      " |-- Is_Archived: string (nullable = true)\n",
      " |-- Incident_Date: string (nullable = true)\n",
      "\n",
      "{'Cases': DataFrame[Truve_Org_ID: int, Client_Org_ID: int, Case_ID: int, Practice_Type_ID: string, Is_Archived: string, Incident_Date: string]}\n",
      "Writing Cases\n"
     ]
    }
   ],
   "source": [
    "#Peoples Transformation\n",
    "def cases_transformation(df_project):\n",
    "    #Read Raw Data\n",
    "    result = builder.build_casemaster(df_project)\n",
    "    print(result)\n",
    "    upload_result(result)\n",
    "    \n",
    "cases_transformation(df_project)"
   ]
  },
  {
   "cell_type": "code",
   "execution_count": 16,
   "id": "1da98d96",
   "metadata": {},
   "outputs": [
    {
     "name": "stdout",
     "output_type": "stream",
     "text": [
      "+------------+-------------+--------------+--------+---------+---------------------------+-------------+--------------+----------------+----------------+------------+------------+-------------------+-----------------+-----------+-------+-------+-------+\n",
      "|Truve_Org_ID|Client_Org_ID|Parent_Case_ID| Case_ID|Intake_ID|Person_Performing_Intake_ID|Intake_Source|Date_of_Intake|Date_of_Incident|DUI_or_HitandRun|Referral_Fee|Referral_Fee|If_Case_Referred_In|If_Qualified_Case|If_VIP_Lead|Custom1|Custom2|Custom3|\n",
      "+------------+-------------+--------------+--------+---------+---------------------------+-------------+--------------+----------------+----------------+------------+------------+-------------------+-----------------+-----------+-------+-------+-------+\n",
      "|        6586|         6586|       9252629| 9252629|  9252629|                   30625608|         null|    2021-04-28|      2021-04-22|            None|        null|        null|               null|             null|       null|   null|   null|   null|\n",
      "|        6586|         6586|       9204300| 9204300|  9204300|                   30280883|         null|    2021-04-21|      2021-04-17|            None|        null|        null|               null|             null|       null|   null|   null|   null|\n",
      "|        6586|         6586|       9234752| 9234752|  9234752|                   30280883|         null|    2021-04-26|      2021-04-24|            None|        null|        null|               null|             null|       null|   null|   null|   null|\n",
      "|        6586|         6586|       9291082| 9291082|  9291082|                   30625608|         null|    2021-05-04|      2021-04-26|            None|        null|        null|               null|             null|       null|   null|   null|   null|\n",
      "|        6586|         6586|       9150598| 9150598|  9150598|                   30280883|         null|    2021-04-15|      2021-04-14|            None|        null|        null|               null|             null|       null|   null|   null|   null|\n",
      "|        6586|         6586|      10005619|10005619| 10005619|                   31788126|         null|    2021-11-05|      2021-02-24|     Hit and Run|        null|        null|               null|             null|       null|   null|   null|   null|\n",
      "|        6586|         6586|       8917878| 8917878|  8917878|                   23907330|         null|    2021-03-24|      2021-03-24|            None|        null|        null|               null|             null|       null|   null|   null|   null|\n",
      "|        6586|         6586|      10082437|10082437| 10082437|                   31788126|         null|    2021-12-01|      2021-11-01|            None|        null|        null|               null|             null|       null|   null|   null|   null|\n",
      "|        6586|         6586|       9146364| 9146364|  9146364|                   30280883|         null|    2021-04-14|      2021-04-11|            None|        null|        null|               null|             null|       null|   null|   null|   null|\n",
      "|        6586|         6586|       8907225| 8907225|  8907225|                   29453591|         null|    2021-03-22|      2021-03-02|            None|        null|        null|               null|             null|       null|   null|   null|   null|\n",
      "|        6586|         6586|       8734475| 8734475|  8734475|                   23907329|         null|    2021-02-22|      2021-02-19|            None|        null|        null|               null|             null|       null|   null|   null|   null|\n",
      "|        6586|         6586|      10171521|10171521| 10171521|                   31788126|         null|    2021-12-30|      2021-12-12|            None|        null|        null|               null|             null|       null|   null|   null|   null|\n",
      "|        6586|         6586|       9256722| 9256722|  9256722|                   30625608|         null|    2021-04-29|      2021-04-28|            null|        null|        null|               null|             null|       null|   null|   null|   null|\n",
      "|        6586|         6586|       9908694| 9908694|  9908694|                   31788126|         null|    2021-10-06|      2021-06-03|            None|        null|        null|               null|             null|       null|   null|   null|   null|\n",
      "|        6586|         6586|       8751952| 8751952|  8751952|                   23907329|         null|    2021-02-24|      2021-02-19|            None|        null|        null|               null|             null|       null|   null|   null|   null|\n",
      "|        6586|         6586|       7532487| 7532487|  7532487|                   25602708|         null|    2020-03-16|      2020-02-24|            null|        null|        null|               null|             null|       null|   null|   null|   null|\n",
      "|        6586|         6586|       8503814| 8503814|  8503814|                   23907330|         null|    2021-01-26|      2020-10-19|            None|        null|        null|               null|             null|       null|   null|   null|   null|\n",
      "|        6586|         6586|      10033809|10033809| 10033809|                   29453591|         null|    2021-11-11|      2021-10-12|            None|        null|        null|               null|             null|       null|   null|   null|   null|\n",
      "|        6586|         6586|       9466399| 9466399|  9466399|                   30625608|         null|    2021-06-04|      2021-03-29|             DUI|        null|        null|               null|             null|       null|   null|   null|   null|\n",
      "|        6586|         6586|       9304754| 9304754|  9304754|                   30280883|         null|    2021-05-06|      2021-04-29|            None|        null|        null|               null|             null|       null|   null|   null|   null|\n",
      "|        6586|         6586|       9162587| 9162587|  9162587|                   30280883|         null|    2021-04-16|      2021-03-27|            None|        null|        null|               null|             null|       null|   null|   null|   null|\n",
      "|        6586|         6586|      10206873|10206873| 10206873|                   31788126|         null|    2022-01-18|      2021-04-09|            None|        null|        null|               null|             null|       null|   null|   null|   null|\n",
      "|        6586|         6586|       8834610| 8834610|  8834610|                   23907329|         null|    2021-03-05|      2021-03-04|            None|        null|        null|               null|             null|       null|   null|   null|   null|\n",
      "|        6586|         6586|       9470606| 9470606|  9470606|                   30625608|         null|    2021-06-08|      2021-06-03|            None|        null|        null|               null|             null|       null|   null|   null|   null|\n",
      "|        6586|         6586|       9232581| 9232581|  9232581|                   25959023|         null|    2021-04-25|      2021-04-24|            None|        null|        null|               null|             null|       null|   null|   null|   null|\n",
      "|        6586|         6586|       9819825| 9819825|  9819825|                   31788126|         null|    2021-09-17|      2021-08-19|            None|        null|        null|               null|             null|       null|   null|   null|   null|\n",
      "|        6586|         6586|       9969786| 9969786|  9969786|                   31788126|         null|    2021-10-25|      2021-01-01|     Hit and Run|        null|        null|               null|             null|       null|   null|   null|   null|\n",
      "|        6586|         6586|       9819837| 9819837|  9819837|                   31788126|         null|    2021-09-17|      2021-08-19|            None|        null|        null|               null|             null|       null|   null|   null|   null|\n",
      "|        6586|         6586|       9854136| 9854136|  9854136|                   31788126|         null|    2021-09-21|      2019-12-13|            None|        null|        null|               null|             null|       null|   null|   null|   null|\n",
      "|        6586|         6586|      10129451|10129451| 10129451|                   31764835|         null|    2021-12-08|      2020-07-15|            null|        null|        null|               null|             null|       null|   null|   null|   null|\n",
      "|        6586|         6586|       9852971| 9852971|  9852971|                   31788126|         null|    2021-09-21|      2019-12-13|            None|        null|        null|               null|             null|       null|   null|   null|   null|\n",
      "|        6586|         6586|       9664499| 9664499|  9664499|                   31788126|         null|    2021-07-21|      2021-07-18|            None|        null|        null|               null|             null|       null|   null|   null|   null|\n",
      "|        6586|         6586|       9819835| 9819835|  9819835|                   31788126|         null|    2021-09-17|      2021-08-19|            None|        null|        null|               null|             null|       null|   null|   null|   null|\n",
      "|        6586|         6586|       9590800| 9590800|  9590800|                   31788126|         null|    2021-07-14|      2021-06-23|            None|        null|        null|               null|             null|       null|   null|   null|   null|\n",
      "|        6586|         6586|       8142851| 8142851|  8142851|                   25959023|         null|    2020-11-24|      2020-08-09|            None|        null|        null|               null|             null|       null|   null|   null|   null|\n",
      "|        6586|         6586|       9466400| 9466400|  9466400|                   30625608|         null|    2021-06-04|      2021-03-29|             DUI|        null|        null|               null|             null|       null|   null|   null|   null|\n",
      "|        6586|         6586|       8862376| 8862376|  8862376|                   23907329|         null|    2021-03-11|      2020-10-19|            None|        null|        null|               null|             null|       null|   null|   null|   null|\n",
      "|        6586|         6586|       9969780| 9969780|  9969780|                   31788126|         null|    2021-10-25|      2021-01-01|     Hit and Run|        null|        null|               null|             null|       null|   null|   null|   null|\n",
      "|        6586|         6586|       8865186| 8865186|  8865186|                   23907329|         null|    2021-03-11|      2021-03-06|            None|        null|        null|               null|             null|       null|   null|   null|   null|\n",
      "|        6586|         6586|       9447353| 9447353|  9447353|                   30625608|         null|    2021-05-27|      2021-05-23|            None|        null|        null|               null|             null|       null|   null|   null|   null|\n",
      "|        6586|         6586|       8877424| 8877424|  8877424|                   23907329|         null|    2021-03-12|      2021-01-12|            None|        null|        null|               null|             null|       null|   null|   null|   null|\n",
      "|        6586|         6586|       8756979| 8756979|  8756979|                   25959023|         null|    2021-02-25|      2020-06-28|            None|        null|        null|               null|             null|       null|   null|   null|   null|\n",
      "|        6586|         6586|       9319806| 9319806|  9319806|                   30280883|         null|    2021-05-11|      2021-05-07|            None|        null|        null|               null|             null|       null|   null|   null|   null|\n",
      "|        6586|         6586|       7533298| 7533298|  7533298|                   23907324|         null|    2020-07-13|      2020-07-12|            None|        null|        null|               null|             null|       null|   null|   null|   null|\n",
      "|        6586|         6586|       9889167| 9889167|  9889167|                   31788126|         null|    2021-09-29|      2021-04-01|            None|        null|        null|               null|             null|       null|   null|   null|   null|\n",
      "|        6586|         6586|       9709847| 9709847|  9709847|                   31788126|         null|    2021-08-04|      2021-06-12|            None|        null|        null|               null|             null|       null|   null|   null|   null|\n",
      "|        6586|         6586|       9441228| 9441228|  9441228|                   30625608|         null|    2021-05-26|      2021-05-01|            None|        null|        null|               null|             null|       null|   null|   null|   null|\n",
      "|        6586|         6586|       9151470| 9151470|  9151470|                   23907330|         null|    2021-04-15|      2021-04-15|            None|        null|        null|               null|             null|       null|   null|   null|   null|\n",
      "|        6586|         6586|       9864004| 9864004|  9864004|                   31788126|         null|    2021-09-24|      2021-09-20|            None|        null|        null|               null|             null|       null|   null|   null|   null|\n",
      "|        6586|         6586|       9746778| 9746778|  9746778|                   31788126|         null|    2021-08-18|      2021-08-15|            None|        null|        null|               null|             null|       null|   null|   null|   null|\n",
      "|        6586|         6586|      10197320|10197320| 10197320|                   31788126|         null|    2022-01-12|      2022-01-10|            None|        null|        null|               null|             null|       null|   null|   null|   null|\n",
      "|        6586|         6586|       8990151| 8990151|  8990151|                   29453591|         null|    2021-04-02|      2021-04-02|            None|        null|        null|               null|             null|       null|   null|   null|   null|\n",
      "|        6586|         6586|       9746708| 9746708|  9746708|                   31788126|         null|    2021-08-18|      2021-08-15|            None|        null|        null|               null|             null|       null|   null|   null|   null|\n",
      "|        6586|         6586|      10142312|10142312| 10142312|                   31788126|         null|    2021-12-14|      2021-12-03|            None|        null|        null|               null|             null|       null|   null|   null|   null|\n",
      "|        6586|         6586|       8115333| 8115333|  8115333|                   25959023|         null|    2020-11-16|      2020-11-11|            None|        null|        null|               null|             null|       null|   null|   null|   null|\n",
      "|        6586|         6586|       9718873| 9718873|  9718873|                   29453591|         null|    2021-08-07|      2021-04-21|            None|        null|        null|               null|             null|       null|   null|   null|   null|\n",
      "|        6586|         6586|       9766312| 9766312|  9766312|                   31788126|         null|    2021-08-26|      2020-09-01|            None|        null|        null|               null|             null|       null|   null|   null|   null|\n",
      "|        6586|         6586|       9306605| 9306605|  9306605|                   23907324|         null|    2021-05-06|      2021-05-02|            None|        null|        null|               null|             null|       null|   null|   null|   null|\n",
      "|        6586|         6586|       9767696| 9767696|  9767696|                   31788126|         null|    2021-08-27|      2021-08-10|            None|        null|        null|               null|             null|       null|   null|   null|   null|\n",
      "|        6586|         6586|      10131718|10131718| 10131718|                   31788126|         null|    2021-12-09|      2021-10-19|     Hit and Run|        null|        null|               null|             null|       null|   null|   null|   null|\n",
      "|        6586|         6586|       8639235| 8639235|  8639235|                   23907330|         null|    2021-02-09|      2021-02-07|            None|        null|        null|               null|             null|       null|   null|   null|   null|\n",
      "|        6586|         6586|       9848486| 9848486|  9848486|                   31788126|         null|    2021-09-20|      2021-07-23|            None|        null|        null|               null|             null|       null|   null|   null|   null|\n",
      "|        6586|         6586|       9450626| 9450626|  9450626|                   30280883|         null|    2021-05-28|      2021-05-28|            None|        null|        null|               null|             null|       null|   null|   null|   null|\n",
      "|        6586|         6586|       9662547| 9662547|  9662547|                   31788126|         null|    2021-07-21|      2021-02-08|            None|        null|        null|               null|             null|       null|   null|   null|   null|\n",
      "|        6586|         6586|       9848703| 9848703|  9848703|                   31788126|         null|    2021-09-20|      2021-07-23|            None|        null|        null|               null|             null|       null|   null|   null|   null|\n",
      "|        6586|         6586|       8639188| 8639188|  8639188|                   23907330|         null|    2021-02-09|      2021-02-07|            None|        null|        null|               null|             null|       null|   null|   null|   null|\n",
      "|        6586|         6586|       9317010| 9317010|  9317010|                   30625608|         null|    2021-05-11|      2021-05-07|            None|        null|        null|               null|             null|       null|   null|   null|   null|\n",
      "|        6586|         6586|      10143298|10143298| 10143298|                   33005217|         null|    2021-12-15|      2021-12-09|            None|        null|        null|               null|             null|       null|   null|   null|   null|\n",
      "|        6586|         6586|       9255971| 9255971|  9255971|                   30625608|         null|    2021-04-29|      2021-04-28|            None|        null|        null|               null|             null|       null|   null|   null|   null|\n",
      "|        6586|         6586|      10006050|10006050| 10006050|                   31788126|         null|    2021-11-05|      2021-02-24|            None|        null|        null|               null|             null|       null|   null|   null|   null|\n",
      "|        6586|         6586|       9445518| 9445518|  9445518|                   30625608|         null|    2021-05-27|      2021-05-01|            None|        null|        null|               null|             null|       null|   null|   null|   null|\n",
      "|        6586|         6586|      10201700|10201700| 10201700|                   31788126|         null|    2022-01-14|      2021-06-10|            None|        null|        null|               null|             null|       null|   null|   null|   null|\n",
      "|        6586|         6586|       9729893| 9729893|  9729893|                   25959023|         null|    2021-08-11|      2021-07-25|            None|        null|        null|               null|             null|       null|   null|   null|   null|\n",
      "|        6586|         6586|       9530198| 9530198|  9530198|                   30625608|         null|    2021-06-22|      2021-06-16|     Hit and Run|        null|        null|               null|             null|       null|   null|   null|   null|\n",
      "|        6586|         6586|      10104740|10104740| 10104740|                   31788126|         null|    2021-12-02|      2021-04-17|            None|        null|        null|               null|             null|       null|   null|   null|   null|\n",
      "|        6586|         6586|       8895771| 8895771|  8895771|                   23907329|         null|    2021-03-18|      2021-03-17|            None|        null|        null|               null|             null|       null|   null|   null|   null|\n",
      "|        6586|         6586|       9709849| 9709849|  9709849|                   31788126|         null|    2021-08-04|      2021-06-12|            None|        null|        null|               null|             null|       null|   null|   null|   null|\n",
      "|        6586|         6586|       7857494| 7857494|  7857494|                   23907329|         null|    2020-10-12|      2020-10-03|            None|        null|        null|               null|             null|       null|   null|   null|   null|\n",
      "|        6586|         6586|       9990797| 9990797|  9990797|                   31788126|         null|    2021-11-01|      2021-10-20|            None|        null|        null|               null|             null|       null|   null|   null|   null|\n",
      "|        6586|         6586|       9746783| 9746783|  9746783|                   31788126|         null|    2021-08-18|      2021-08-15|            None|        null|        null|               null|             null|       null|   null|   null|   null|\n",
      "|        6586|         6586|       9892286| 9892286|  9892286|                   31788126|         null|    2021-09-30|      2021-07-16|     Hit and Run|        null|        null|               null|             null|       null|   null|   null|   null|\n",
      "|        6586|         6586|       9746781| 9746781|  9746781|                   31788126|         null|    2021-08-18|      2021-08-15|            None|        null|        null|               null|             null|       null|   null|   null|   null|\n",
      "|        6586|         6586|       8909580| 8909580|  8909580|                   29453591|         null|    2021-03-22|      2021-03-02|            None|        null|        null|               null|             null|       null|   null|   null|   null|\n",
      "|        6586|         6586|      10203989|10203989| 10203989|                   31788126|         null|    2022-01-14|      2020-09-18|     Hit and Run|        null|        null|               null|             null|       null|   null|   null|   null|\n",
      "|        6586|         6586|       8909587| 8909587|  8909587|                   29453591|         null|    2021-03-22|      2021-03-02|            None|        null|        null|               null|             null|       null|   null|   null|   null|\n",
      "|        6586|         6586|       9509266| 9509266|  9509266|                   30625608|         null|    2021-06-15|      2021-06-11|            None|        null|        null|               null|             null|       null|   null|   null|   null|\n",
      "|        6586|         6586|      10146521|10146521| 10146521|                   31788126|         null|    2021-12-16|      2021-10-18|            None|        null|        null|               null|             null|       null|   null|   null|   null|\n",
      "|        6586|         6586|      10262366|10262366| 10262366|                   33711955|         null|    2022-02-10|      2021-12-11|            None|        null|        null|               null|             null|       null|   null|   null|   null|\n",
      "|        6586|         6586|      10190389|10190389| 10190389|                   29453591|         null|    2022-01-10|      2022-01-06|            None|        null|        null|               null|             null|       null|   null|   null|   null|\n",
      "|        6586|         6586|       9300049| 9300049|  9300049|                   30280883|         null|    2021-05-04|      2021-05-01|            None|        null|        null|               null|             null|       null|   null|   null|   null|\n",
      "|        6586|         6586|       8467318| 8467318|  8467318|                   25959023|         null|    2021-01-19|      2020-09-12|            None|        null|        null|               null|             null|       null|   null|   null|   null|\n",
      "|        6586|         6586|       8909579| 8909579|  8909579|                   29453591|         null|    2021-03-22|      2021-03-02|            None|        null|        null|               null|             null|       null|   null|   null|   null|\n",
      "|        6586|         6586|       8893939| 8893939|  8893939|                   29453591|         null|    2021-03-17|      2020-10-19|            None|        null|        null|               null|             null|       null|   null|   null|   null|\n",
      "|        6586|         6586|       9924725| 9924725|  9924725|                   31788126|         null|    2021-10-12|      2020-11-13|            None|        null|        null|               null|             null|       null|   null|   null|   null|\n",
      "|        6586|         6586|       9745027| 9745027|  9745027|                   31788126|         null|    2021-08-18|      2021-08-12|            None|        null|        null|               null|             null|       null|   null|   null|   null|\n",
      "|        6586|         6586|       9163873| 9163873|  9163873|                   30280883|         null|    2021-04-16|      2021-03-27|            None|        null|        null|               null|             null|       null|   null|   null|   null|\n",
      "|        6586|         6586|       9896924| 9896924|  9896924|                   31788126|         null|    2021-10-01|      2021-09-18|            None|        null|        null|               null|             null|       null|   null|   null|   null|\n",
      "|        6586|         6586|       8722348| 8722348|  8722348|                   23907329|         null|    2021-02-20|      2021-02-19|            None|        null|        null|               null|             null|       null|   null|   null|   null|\n",
      "|        6586|         6586|       9447341| 9447341|  9447341|                   30625608|         null|    2021-05-27|      2021-05-23|            None|        null|        null|               null|             null|       null|   null|   null|   null|\n",
      "|        6586|         6586|       8909571| 8909571|  8909571|                   29453591|         null|    2021-03-22|      2021-03-02|            None|        null|        null|               null|             null|       null|   null|   null|   null|\n",
      "+------------+-------------+--------------+--------+---------+---------------------------+-------------+--------------+----------------+----------------+------------+------------+-------------------+-----------------+-----------+-------+-------+-------+\n",
      "only showing top 100 rows\n",
      "\n",
      "Writing IntakeDetails\n"
     ]
    }
   ],
   "source": [
    "#Peoples Transformation\n",
    "def intake_transformation(df_intake):\n",
    "    #Read Raw Data\n",
    "    result = builder.build_intakesummary(df_intake)\n",
    "    return result \n",
    "\n",
    "result = intake_transformation(df_intake)\n",
    "result[\"IntakeDetails\"] = result[\"IntakeDetails\"].drop(\"referral_fee\")\n",
    "upload_result(result)\n"
   ]
  },
  {
   "cell_type": "code",
   "execution_count": 17,
   "id": "0293276f",
   "metadata": {},
   "outputs": [
    {
     "name": "stdout",
     "output_type": "stream",
     "text": [
      "+------------+-------------+--------------+--------+------------+----------------+----------------+---------+-------------------+-----------+--------------------------+-----------------------+--------------+------------+------------+------------+--------------+---------------------+----------------+-----------------------+-------------------------+---------------------------+----------------------+------------------------+-----------------------+-----------+--------------------+-------------+-------+-------+-------+-------+-------+\n",
      "|Truve_Org_ID|Client_Org_ID|Parent_Case_ID| Case_ID|Case_Type_ID|Case_Create_Date|Date_of_Incident|Case_Name|Plaintiff_Full_Name|Attorney_ID|Prelitigation_Paralegal_ID|Litigation_Paralegal_ID|CaseManager_ID|Cocounsel_ID|Case_Team_ID|Insurance_ID|Case_Status_ID|Case_Marketing_Source|Case_Source_Name|Attorney_Fee_Percentage|Projected_Settlement_Date|Projected_Settlement_Amount|Actual_Settlement_Date|Actual_Settlement_Amount|If_Case_Settled_Presuit|If_VIP_Case|If_Case_Referred_Out|Case_Phase_ID|Custom1|Custom2|Custom3|Custom4|Custom5|\n",
      "+------------+-------------+--------------+--------+------------+----------------+----------------+---------+-------------------+-----------+--------------------------+-----------------------+--------------+------------+------------+------------+--------------+---------------------+----------------+-----------------------+-------------------------+---------------------------+----------------------+------------------------+-----------------------+-----------+--------------------+-------------+-------+-------+-------+-------+-------+\n",
      "|        6586|         6586|       7532487| 7532487|        null|            null|      2020-02-24|     null|               null|   23952638|                  35230478|               35230478|      35230478|        null|        null|        null|          null|                 null|            null|                   null|               2022-08-31|                   300000.0|            2022-08-04|                300000.0|                  false|       true|                null|         null|   null|   null|   null|   null|   null|\n",
      "|        6586|         6586|       9252629| 9252629|        null|            null|      2021-04-22|     null|               null|   34679431|                  34679431|               34679431|      34676029|        null|        null|        null|          null|                 null|            null|                   null|               2022-09-29|                    25000.0|            2021-12-17|                 25000.0|                   null|      false|                null|         null|   null|   null|   null|   null|   null|\n",
      "|        6586|         6586|       7666642| 7666642|        null|            null|      2020-08-24|     null|               null|   26397954|                  33053480|               33053480|      33053480|        null|        null|        null|          null|                 null|            null|                   null|               2022-12-30|                    50000.0|                  null|                    null|                  false|      false|                null|         null|   null|   null|   null|   null|   null|\n",
      "|        6586|         6586|       9306605| 9306605|        null|            null|      2021-05-02|     null|               null|   32695985|                  27906302|               27906302|      34676029|        null|        null|        null|          null|                 null|            null|                18800.0|               2021-12-23|                    50000.0|            2021-12-17|                 47000.0|                   null|       true|                null|         null|   null|   null|   null|   null|   null|\n",
      "|        6586|         6586|       9561096| 9561096|        null|            null|      2021-07-01|     null|               null|   34679431|                  35228340|               35228340|      34676029|        null|        null|        null|          null|                 null|            null|                   null|               2022-09-15|                    25000.0|                  null|                    null|                   null|      false|                null|         null|   null|   null|   null|   null|   null|\n",
      "|        6586|         6586|       8917878| 8917878|        null|            null|      2021-03-24|     null|               null|   23952638|                  35230478|               35230478|      35230478|        null|        null|        null|          null|                 null|            null|              1012500.0|               2022-06-30|                  1000000.0|            2022-05-11|               2250000.0|                  false|       true|                null|         null|   null|   null|   null|   null|   null|\n",
      "|        6586|         6586|       9204300| 9204300|        null|            null|      2021-04-17|     null|               null|   23952638|                  35230478|               35230478|      35230478|        null|        null|        null|          null|                 null|            null|                   null|               2023-03-15|                   100000.0|                  null|                    null|                  false|      false|                null|         null|   null|   null|   null|   null|   null|\n",
      "|        6586|         6586|       8756979| 8756979|        null|            null|      2020-06-28|     null|               null|   24499015|                  23938585|               23938585|      34676029|        null|        null|        null|          null|                 null|            null|                   null|                     null|                       null|                  null|                    null|                   null|      false|                null|         null|   null|   null|   null|   null|   null|\n",
      "|        6586|         6586|       7970709| 7970709|        null|            null|      2020-10-18|     null|               null|   23952638|                  35230478|               35230478|      35230478|        null|        null|        null|          null|                 null|            null|                   null|               2022-11-14|                   150000.0|                  null|                    null|                  false|       true|                null|         null|   null|   null|   null|   null|   null|\n",
      "|        6586|         6586|       9729893| 9729893|        null|            null|      2021-07-25|     null|               null|   34679431|                  32040787|               32040787|      34676029|        null|        null|        null|          null|                 null|            null|                   null|               2022-11-15|                   99999.99|                  null|                    null|                   null|       true|                null|         null|   null|   null|   null|   null|   null|\n",
      "|        6586|         6586|       9653744| 9653744|        null|            null|      2021-07-15|     null|               null|   23952638|                  35230478|               35230478|      35230478|        null|        null|        null|          null|                 null|            null|                   null|               2023-05-05|                   120000.0|                  null|                    null|                  false|       true|                null|         null|   null|   null|   null|   null|   null|\n",
      "|        6586|         6586|       7532875| 7532875|        null|            null|      2020-05-12|     null|               null|   34679431|                  34679431|               34679431|      34676029|        null|        null|        null|          null|                 null|            null|                   null|               2022-06-24|                  3000000.0|            2022-02-25|               3000000.0|                  false|       true|                null|         null|   null|   null|   null|   null|   null|\n",
      "|        6586|         6586|       8822429| 8822429|        null|            null|      2021-02-26|     null|               null|   24499015|                  23938585|               23938585|          null|        null|        null|        null|          null|                 null|            null|                 3900.0|               2021-10-26|                    50000.0|                  null|                 13000.0|                   null|      false|                null|         null|   null|   null|   null|   null|   null|\n",
      "|        6586|         6586|      10032844|10032844|        null|            null|      2021-11-06|     null|               null|   32695985|                  23907325|               23907325|      34676029|        null|        null|        null|          null|                 null|            null|                   null|                     null|                       null|                  null|                    null|                   null|       null|                null|         null|   null|   null|   null|   null|   null|\n",
      "|        6586|         6586|       9232581| 9232581|        null|            null|      2021-04-24|     null|               null|   23952638|                  35230478|               35230478|      35230478|        null|        null|        null|          null|                 null|            null|                   null|               2022-12-23|                    50000.0|                  null|                    null|                  false|       true|                null|         null|   null|   null|   null|   null|   null|\n",
      "|        6586|         6586|      10253956|10253956|        null|            null|      2020-10-02|     null|               null|   23952638|                  35230478|               35230478|      35230478|        null|        null|        null|          null|                 null|            null|                   null|               2023-04-14|                   250000.0|                  null|                    null|                  false|       true|                null|         null|   null|   null|   null|   null|   null|\n",
      "|        6586|         6586|       8734475| 8734475|        null|            null|      2021-02-19|     null|               null|   35174952|                  35174952|               35174952|      34676029|        null|        null|        null|          null|                 null|            null|                   null|               2022-10-31|                    25000.0|                  null|                    null|                   null|      false|                null|         null|   null|   null|   null|   null|   null|\n",
      "|        6586|         6586|       8751952| 8751952|        null|            null|      2021-02-19|     null|               null|   35174952|                  32040787|               32040787|      34676029|        null|        null|        null|          null|                 null|            null|                   null|               2022-06-08|                    13000.0|                  null|                    null|                   null|      false|                null|         null|   null|   null|   null|   null|   null|\n",
      "|        6586|         6586|      10033809|10033809|        null|            null|      2021-10-12|     null|               null|   34679431|                  30627149|               30627149|      34676029|        null|        null|        null|          null|                 null|            null|                   null|               2022-10-31|                    15000.0|                  null|                    null|                   null|      false|                null|         null|   null|   null|   null|   null|   null|\n",
      "|        6586|         6586|       8112501| 8112501|        null|            null|      2020-02-12|     null|               null|   23952638|                  35230478|               35230478|      35230478|        null|        null|        null|          null|                 null|            null|                   null|               2022-03-12|                  1000000.0|                  null|                    null|                  false|      false|                null|         null|   null|   null|   null|   null|   null|\n",
      "|        6586|         6586|       9300049| 9300049|        null|            null|      2021-05-01|     null|               null|   32695985|                  34679431|               34679431|      34676029|        null|        null|        null|          null|                 null|            null|                40000.0|               2021-11-23|                   100000.0|                  null|                    null|                   null|      false|                null|         null|   null|   null|   null|   null|   null|\n",
      "|        6586|         6586|      10065463|10065463|        null|            null|      2021-11-12|     null|               null|   34679431|                  30627149|               30627149|      34676029|        null|        null|        null|          null|                 null|            null|                 8750.0|               2022-08-31|                    25000.0|                  null|                    null|                   null|      false|                null|         null|   null|   null|   null|   null|   null|\n",
      "|        6586|         6586|       9234752| 9234752|        null|            null|      2021-04-24|     null|               null|   24499015|                  23938585|               23938585|          null|        null|        null|        null|          null|                 null|            null|                   null|               2022-05-02|                   100000.0|            2022-05-02|                250000.0|                  false|       true|                null|         null|   null|   null|   null|   null|   null|\n",
      "|        6586|         6586|       7532454| 7532454|        null|            null|      2020-02-28|     null|               null|   32695985|                  23938585|               23938585|          null|        null|        null|        null|          null|                 null|            null|                21000.0|               2022-02-28|                    25000.0|                  null|                    null|                   null|       true|                null|         null|   null|   null|   null|   null|   null|\n",
      "|        6586|         6586|       7533161| 7533161|        null|            null|      2019-08-12|     null|               null|   23952638|                  35230478|               35230478|      35230478|        null|        null|        null|          null|                 null|            null|                   null|               2022-10-17|                   400000.0|                  null|                    null|                  false|       true|                null|         null|   null|   null|   null|   null|   null|\n",
      "|        6586|         6586|       7532490| 7532490|        null|            null|      2020-03-10|     null|               null|   23952638|                  35230478|               35230478|      35230478|        null|        null|        null|          null|                 null|            null|                   null|               2023-01-27|                   125000.0|                  null|                    null|                  false|       true|                null|         null|   null|   null|   null|   null|   null|\n",
      "|        6586|         6586|       9445518| 9445518|        null|            null|      2021-05-01|     null|               null|   24499015|                  23938585|               23938585|          null|        null|        null|        null|          null|                 null|            null|                10400.0|               2021-12-15|                    26000.0|            2022-02-21|                 26000.0|                   null|      false|                null|         null|   null|   null|   null|   null|   null|\n",
      "|        6586|         6586|       7532464| 7532464|        null|            null|      2020-03-06|     null|               null|   23952638|                  24035791|               24035791|      34676029|        null|        null|        null|          null|                 null|            null|                   null|               2020-12-25|                   150000.0|                  null|                    null|                  false|       true|                null|         null|   null|   null|   null|   null|   null|\n",
      "|        6586|         6586|       7532489| 7532489|        null|            null|      2020-03-10|     null|               null|   23952638|                  35230478|               35230478|      35230478|        null|        null|        null|          null|                 null|            null|                   null|               2022-12-30|                   150000.0|                  null|                    null|                  false|       true|                null|         null|   null|   null|   null|   null|   null|\n",
      "|        6586|         6586|       9718873| 9718873|        null|            null|      2021-04-21|     null|               null|   32695985|                  27906302|               27906302|      34676029|        null|        null|        null|          null|                 null|            null|                   null|               2022-11-12|                    15000.0|                  null|                    null|                   null|      false|                null|         null|   null|   null|   null|   null|   null|\n",
      "|        6586|         6586|       9447353| 9447353|        null|            null|      2021-05-23|     null|               null|   24499015|                  32619591|               32619591|      34676029|        null|        null|        null|          null|                 null|            null|                 3750.0|               2022-01-02|                     8000.0|            2021-12-14|                 12500.0|                   null|      false|                null|         null|   null|   null|   null|   null|   null|\n",
      "|        6586|         6586|       8115333| 8115333|        null|            null|      2020-11-11|     null|               null|   26397954|                  33053480|               33053480|      33053480|        null|        null|        null|          null|                 null|            null|                   null|               2024-01-04|                    60000.0|                  null|                    null|                  false|      false|                null|         null|   null|   null|   null|   null|   null|\n",
      "|        6586|         6586|       9852971| 9852971|        null|            null|      2019-12-13|     null|               null|   23952638|                  35230478|               35230478|      35230478|        null|        null|        null|          null|                 null|            null|                   null|               2022-11-15|                   250000.0|                  null|                    null|                  false|       true|                null|         null|   null|   null|   null|   null|   null|\n",
      "|        6586|         6586|       9450626| 9450626|        null|            null|      2021-05-28|     null|               null|   34679431|                  35228340|               35228340|      34676029|        null|        null|        null|          null|                 null|            null|                   null|               2022-09-21|                   130000.0|                  null|                    null|                   null|       true|                null|         null|   null|   null|   null|   null|   null|\n",
      "|        6586|         6586|       8142851| 8142851|        null|            null|      2020-08-09|     null|               null|   26397954|                  33053480|               33053480|      33053480|        null|        null|        null|          null|                 null|            null|                   null|               2023-06-20|                    50000.0|                  null|                    null|                  false|      false|                null|         null|   null|   null|   null|   null|   null|\n",
      "|        6586|         6586|       9313384| 9313384|        null|            null|      2021-05-07|     null|               null|   34679431|                  23907325|               23907325|      34676029|        null|        null|        null|          null|                 null|            null|                   null|               2022-08-07|                   100000.0|                  null|                    null|                   null|       true|                null|         null|   null|   null|   null|   null|   null|\n",
      "|        6586|         6586|      10127459|10127459|        null|            null|      2021-11-30|     null|               null|   32695985|                  31935462|               31935462|      34676029|        null|        null|        null|          null|                 null|            null|                   null|               2022-10-31|                     6000.0|                  null|                    null|                   null|      false|                null|         null|   null|   null|   null|   null|   null|\n",
      "|        6586|         6586|       8990151| 8990151|        null|            null|      2021-04-02|     null|               null|   26397954|                  33053480|               33053480|      33053480|        null|        null|        null|          null|                 null|            null|                   null|               2022-06-30|                    25000.0|            2022-03-24|                 35000.0|                   null|      false|                null|         null|   null|   null|   null|   null|   null|\n",
      "|        6586|         6586|       7533298| 7533298|        null|            null|      2020-07-12|     null|               null|   32695985|                  25501318|               25501318|      34676029|        null|        null|        null|          null|                 null|            null|                   null|                     null|                    25000.0|                  null|                    null|                   null|      false|                null|         null|   null|   null|   null|   null|   null|\n",
      "|        6586|         6586|       9875664| 9875664|        null|            null|      2021-08-20|     null|               null|   32695985|                  31935462|               31935462|          null|        null|        null|        null|          null|                 null|            null|                   null|               2022-09-30|                        0.0|                  null|                    null|                   null|      false|                null|         null|   null|   null|   null|   null|   null|\n",
      "|        6586|         6586|       8901324| 8901324|        null|            null|      2020-06-30|     null|               null|   23952638|                  35230478|               35230478|      35230478|        null|        null|        null|          null|                 null|            null|                   null|               2022-12-23|                    85000.0|                  null|                    null|                  false|       true|                null|         null|   null|   null|   null|   null|   null|\n",
      "|        6586|         6586|       9470606| 9470606|        null|            null|      2021-06-03|     null|               null|   34676029|                  34296407|               34296407|      34676029|    35092962|        null|        null|          null|                 null|            null|                   null|               2022-08-31|                    15000.0|                  null|                    null|                   null|      false|                null|         null|   null|   null|   null|   null|   null|\n",
      "|        6586|         6586|       8862376| 8862376|        null|            null|      2020-10-19|     null|               null|   32695985|                  25501318|               25501318|          null|        null|        null|        null|          null|                 null|            null|                10000.0|               2021-10-29|                   250000.0|            2021-12-07|                 25000.0|                   null|      false|                null|         null|   null|   null|   null|   null|   null|\n",
      "|        6586|         6586|       9391374| 9391374|        null|            null|      2020-04-10|     null|               null|   26397954|                  33053480|               33053480|      33053480|        null|        null|        null|          null|                 null|            null|                   null|               2024-03-20|                   100000.0|                  null|                    null|                  false|      false|                null|         null|   null|   null|   null|   null|   null|\n",
      "|        6586|         6586|       8834610| 8834610|        null|            null|      2021-03-04|     null|               null|   24499015|                  23938585|               23938585|      34676029|        null|        null|        null|          null|                 null|            null|                   null|               2021-06-04|                    80000.0|                  null|                    null|                   null|      false|                null|         null|   null|   null|   null|   null|   null|\n",
      "|        6586|         6586|       7532900| 7532900|        null|            null|      2020-05-26|     null|               null|   23952638|                  35230478|               35230478|      35230478|        null|        null|        null|          null|                 null|            null|                   null|               2023-01-18|                   200000.0|                  null|                    null|                  false|       true|                null|         null|   null|   null|   null|   null|   null|\n",
      "|        6586|         6586|       7532295| 7532295|        null|            null|      2019-11-28|     null|               null|   26397954|                  33053480|               33053480|      33053480|        null|        null|        null|          null|                 null|            null|                   null|               2023-05-06|                    50000.0|                  null|                    null|                   null|       true|                null|         null|   null|   null|   null|   null|   null|\n",
      "|        6586|         6586|       9430178| 9430178|        null|            null|      2021-05-09|     null|               null|   26397954|                  33053480|               33053480|      33053480|        null|        null|        null|          null|                 null|            null|                   null|               2023-06-30|                    65000.0|                  null|                    null|                  false|      false|                null|         null|   null|   null|   null|   null|   null|\n",
      "|        6586|         6586|       7532590| 7532590|        null|            null|      2018-07-05|     null|               null|   23952638|                  35230478|               35230478|      35230478|        null|        null|        null|          null|                 null|            null|               44431.63|               2022-06-21|                   250000.0|            2022-05-09|                110000.0|                  false|       true|                null|         null|   null|   null|   null|   null|   null|\n",
      "|        6586|         6586|       7533302| 7533302|        null|            null|      2020-07-12|     null|               null|   32695985|                  25501318|               25501318|      34676029|        null|        null|        null|          null|                 null|            null|                   null|                     null|                     1000.0|                  null|                    null|                   null|       null|                null|         null|   null|   null|   null|   null|   null|\n",
      "|        6586|         6586|       8759360| 8759360|        null|            null|      2021-02-23|     null|               null|   34679431|                  35228340|               35228340|      34676029|        null|        null|        null|          null|                 null|            null|                   null|               2022-09-29|                   105000.0|                  null|                    null|                   null|      false|                null|         null|   null|   null|   null|   null|   null|\n",
      "|        6586|         6586|       9664499| 9664499|        null|            null|      2021-07-18|     null|               null|   34679431|                  25501318|               25501318|      34676029|        null|        null|        null|          null|                 null|            null|                   null|               2022-10-28|                   150000.0|                  null|                    null|                   null|       true|                null|         null|   null|   null|   null|   null|   null|\n",
      "|        6586|         6586|       9441228| 9441228|        null|            null|      2021-05-01|     null|               null|   34679431|                  34679431|               34679431|      34676029|        null|        null|        null|          null|                 null|            null|                 9900.0|               2022-09-23|                    26000.0|            2022-02-21|                 26000.0|                   null|      false|                null|         null|   null|   null|   null|   null|   null|\n",
      "|        6586|         6586|       7532465| 7532465|        null|            null|      2020-03-06|     null|               null|   23952638|                  24035791|               24035791|      34676029|        null|        null|        null|          null|                 null|            null|                   null|                     null|                       null|                  null|                    null|                  false|       true|                null|         null|   null|   null|   null|   null|   null|\n",
      "|        6586|         6586|       8181310| 8181310|        null|            null|      2020-12-02|     null|               null|   26397954|                  33053480|               33053480|      33053480|        null|        null|        null|          null|                 null|            null|                   null|               2023-06-02|                    50000.0|                  null|                    null|                  false|      false|                null|         null|   null|   null|   null|   null|   null|\n",
      "|        6586|         6586|       9576044| 9576044|        null|            null|      2021-04-18|     null|               null|   26397954|                  33053480|               33053480|      33053480|        null|        null|        null|          null|                 null|            null|                   null|               2023-06-23|                   250000.0|                  null|                    null|                  false|       true|                null|         null|   null|   null|   null|   null|   null|\n",
      "|        6586|         6586|       9570006| 9570006|        null|            null|      2021-06-03|     null|               null|   26397954|                  33053480|               33053480|      33053480|        null|        null|        null|          null|                 null|            null|                   null|               2023-09-30|                    40000.0|                  null|                    null|                  false|       true|                null|         null|   null|   null|   null|   null|   null|\n",
      "|        6586|         6586|       7533300| 7533300|        null|            null|      2020-07-12|     null|               null|   32695985|                  25501318|               25501318|      34676029|        null|        null|        null|          null|                 null|            null|                   null|                     null|                    15000.0|                  null|                    null|                   null|       null|                null|         null|   null|   null|   null|   null|   null|\n",
      "|        6586|         6586|       9746708| 9746708|        null|            null|      2021-08-15|     null|               null|   26397954|                  33053480|               33053480|      33053480|        null|        null|        null|          null|                 null|            null|                   null|               2022-09-30|                    17500.0|            2022-08-03|                 17500.0|                   null|      false|                null|         null|   null|   null|   null|   null|   null|\n",
      "|        6586|         6586|       9314954| 9314954|        null|            null|      2021-05-08|     null|               null|   23952638|                  35230478|               35230478|      35230478|        null|        null|        null|          null|                 null|            null|                   null|               2023-03-09|                    30000.0|                  null|                    null|                  false|      false|                null|         null|   null|   null|   null|   null|   null|\n",
      "|        6586|         6586|       9740543| 9740543|        null|            null|      2021-08-12|     null|               null|   32695985|                  31935462|               31935462|      34676029|        null|        null|        null|          null|                 null|            null|                   null|               2022-12-27|                    25000.0|                  null|                    null|                   null|      false|                null|         null|   null|   null|   null|   null|   null|\n",
      "|        6586|         6586|      10054834|10054834|        null|            null|      2021-10-31|     null|               null|   34679431|                  30627149|               30627149|      34676029|        null|        null|        null|          null|                 null|            null|                10000.0|               2022-07-31|                    25000.0|            2022-06-16|                 25000.0|                   true|      false|                null|         null|   null|   null|   null|   null|   null|\n",
      "|        6586|         6586|      10262368|10262368|        null|            null|      2021-12-11|     null|               null|   32695985|                  30280883|               30280883|      34676029|        null|        null|        null|          null|                 null|            null|                   null|               2022-07-13|                    10000.0|                  null|                    null|                   null|       null|                null|         null|   null|   null|   null|   null|   null|\n",
      "|        6586|         6586|       9662547| 9662547|        null|            null|      2021-02-08|     null|               null|   34679431|                  34296407|               34296407|      34676029|        null|        null|        null|          null|                 null|            null|                   null|               2022-09-08|                    20000.0|                  null|                    null|                   null|      false|                null|         null|   null|   null|   null|   null|   null|\n",
      "|        6586|         6586|       9477373| 9477373|        null|            null|      2021-06-08|     null|               null|   34676029|                  34296407|               34296407|      34676029|    33533345|        null|        null|          null|                 null|            null|                   null|               2021-01-08|                    10000.0|                  null|                    null|                   null|      false|                null|         null|   null|   null|   null|   null|   null|\n",
      "|        6586|         6586|       8865186| 8865186|        null|            null|      2021-03-06|     null|               null|   26397954|                  33053480|               33053480|      33053480|        null|        null|        null|          null|                 null|            null|                   null|               2022-11-10|                    25000.0|                  null|                    null|                   null|      false|                null|         null|   null|   null|   null|   null|   null|\n",
      "|        6586|         6586|       9896924| 9896924|        null|            null|      2021-09-18|     null|               null|   26397954|                  33053480|               33053480|      33053480|        null|        null|        null|          null|                 null|            null|                   null|               2023-06-15|                    15000.0|                  null|                    null|                   null|      false|                null|         null|   null|   null|   null|   null|   null|\n",
      "|        6586|         6586|      10105127|10105127|        null|            null|      2021-11-26|     null|               null|   32695985|                  33567750|               33567750|      34676029|        null|        null|        null|          null|                 null|            null|                   null|               2022-11-26|                     1000.0|                  null|                    null|                   null|       null|                null|         null|   null|   null|   null|   null|   null|\n",
      "|        6586|         6586|       9746778| 9746778|        null|            null|      2021-08-15|     null|               null|   26397954|                  33053480|               33053480|      33053480|        null|        null|        null|          null|                 null|            null|                   null|               2022-09-30|                    17500.0|            2022-08-03|                 17500.0|                   null|      false|                null|         null|   null|   null|   null|   null|   null|\n",
      "|        6586|         6586|       7857494| 7857494|        null|            null|      2020-10-03|     null|               null|   34679431|                  25501318|               25501318|      34676029|        null|        null|        null|          null|                 null|            null|                   null|               2022-10-28|                   100000.0|                  null|                    null|                   null|       true|                null|         null|   null|   null|   null|   null|   null|\n",
      "|        6586|         6586|       9653743| 9653743|        null|            null|      2021-07-12|     null|               null|   35125016|                  35125016|               35125016|      34676029|        null|        null|        null|          null|                 null|            null|                10000.0|               2022-07-29|                    25000.0|                  null|                    null|                   null|      false|                null|         null|   null|   null|   null|   null|   null|\n",
      "|        6586|         6586|       9881564| 9881564|        null|            null|      2021-05-05|     null|               null|   34679431|                  30627149|               30627149|      34676029|        null|        null|        null|          null|                 null|            null|                   null|               2022-11-30|                   175000.0|                  null|                    null|                   null|       true|                null|         null|   null|   null|   null|   null|   null|\n",
      "|        6586|         6586|       9854136| 9854136|        null|            null|      2019-12-13|     null|               null|   23952638|                  35230478|               35230478|      35230478|        null|        null|        null|          null|                 null|            null|                   null|                     null|                       null|                  null|                    null|                   null|       true|                null|         null|   null|   null|   null|   null|   null|\n",
      "|        6586|         6586|       7532312| 7532312|        null|            null|      2019-12-01|     null|               null|   23952638|                  35230478|               35230478|      35230478|        null|        null|        null|          null|                 null|            null|                   null|               2022-11-01|                   125000.0|                  null|                    null|                  false|      false|                null|         null|   null|   null|   null|   null|   null|\n",
      "|        6586|         6586|       9665522| 9665522|        null|            null|      2021-07-20|     null|               null|   32695985|                  23938585|               23938585|      32661307|        null|        null|        null|          null|                 null|            null|                10000.0|               2021-12-27|                    90000.0|                  null|                    null|                   null|      false|                null|         null|   null|   null|   null|   null|   null|\n",
      "|        6586|         6586|       7550223| 7550223|        null|            null|      2020-07-31|     null|               null|   23952638|                  35230478|               35230478|      35230478|        null|        null|        null|          null|                 null|            null|                   null|               2023-02-24|                   500000.0|                  null|                    null|                  false|       true|                null|         null|   null|   null|   null|   null|   null|\n",
      "|        6586|         6586|       8877424| 8877424|        null|            null|      2021-01-12|     null|               null|   24499015|                  32040787|               32040787|          null|        null|        null|        null|          null|                 null|            null|                   null|               2021-01-12|                   250000.0|                  null|                    null|                   null|       true|                null|         null|   null|   null|   null|   null|   null|\n",
      "|        6586|         6586|       9195606| 9195606|        null|            null|      2021-04-15|     null|               null|   32695985|                  33989335|               33989335|      34676029|        null|        null|        null|          null|                 null|            null|                   null|               2021-12-15|                    10000.0|                  null|                    null|                   null|      false|                null|         null|   null|   null|   null|   null|   null|\n",
      "|        6586|         6586|      10262366|10262366|        null|            null|      2021-12-11|     null|               null|   32695985|                  30280883|               30280883|      34676029|        null|        null|        null|          null|                 null|            null|                   null|               2022-07-13|                    10000.0|                  null|                    null|                   null|      false|                null|         null|   null|   null|   null|   null|   null|\n",
      "|        6586|         6586|       9146364| 9146364|        null|            null|      2021-04-11|     null|               null|   32695985|                  31935462|               31935462|      34676029|        null|        null|        null|          null|                 null|            null|                   null|               2022-11-30|                    15000.0|                  null|                    null|                   null|       null|                null|         null|   null|   null|   null|   null|   null|\n",
      "|        6586|         6586|       9750624| 9750624|        null|            null|      2021-08-18|     null|               null|   34679431|                  25501318|               25501318|      34676029|        null|        null|        null|          null|                 null|            null|                   null|               2022-06-30|                    10000.0|                  null|                    null|                   null|      false|                null|         null|   null|   null|   null|   null|   null|\n",
      "|        6586|         6586|       9151470| 9151470|        null|            null|      2021-04-15|     null|               null|   32695985|                  27906302|               27906302|      34676029|        null|        null|        null|          null|                 null|            null|                   null|               2023-06-30|                    10000.0|                  null|                    null|                   null|      false|                null|         null|   null|   null|   null|   null|   null|\n",
      "|        6586|         6586|       9742382| 9742382|        null|            null|      2021-08-12|     null|               null|   32695985|                  31935462|               31935462|      34676029|        null|        null|        null|          null|                 null|            null|                   null|               2022-12-07|                     5000.0|                  null|                    null|                   null|      false|                null|         null|   null|   null|   null|   null|   null|\n",
      "|        6586|         6586|      10066408|10066408|        null|            null|      2021-09-05|     null|               null|   34679431|                  34679431|               34679431|      34676029|        null|        null|        null|          null|                 null|            null|                 8333.0|               2022-07-01|                    25000.0|                  null|                    null|                   null|      false|                null|         null|   null|   null|   null|   null|   null|\n",
      "|        6586|         6586|       7532430| 7532430|        null|            null|      2020-02-14|     null|               null|   26397954|                  33053480|               33053480|      33053480|        null|        null|        null|          null|                 null|            null|                   null|               2023-12-15|                   325000.0|                  null|                    null|                  false|       true|                null|         null|   null|   null|   null|   null|   null|\n",
      "|        6586|         6586|       8893939| 8893939|        null|            null|      2020-10-19|     null|               null|   24499015|                  25501318|               25501318|          null|        null|        null|        null|          null|                 null|            null|                 3600.0|               2021-11-30|                    10000.0|                  null|                    null|                   null|      false|                null|         null|   null|   null|   null|   null|   null|\n",
      "|        6586|         6586|       9801364| 9801364|        null|            null|      2021-02-24|     null|               null|   23952638|                  35230478|               35230478|      35230478|        null|        null|        null|          null|                 null|            null|                   null|               2023-01-11|                   250000.0|                  null|                    null|                  false|       true|                null|         null|   null|   null|   null|   null|   null|\n",
      "|        6586|         6586|       9150598| 9150598|        null|            null|      2021-04-14|     null|               null|   34679431|                  25501318|               25501318|      34676029|        null|        null|        null|          null|                 null|            null|                10000.0|               2022-06-30|                    35000.0|                  null|                    null|                   null|      false|                null|         null|   null|   null|   null|   null|   null|\n",
      "|        6586|         6586|       8275275| 8275275|        null|            null|      2020-12-23|     null|               null|   26397954|                  33053480|               33053480|      33053480|        null|        null|        null|          null|                 null|            null|                   null|               2022-09-30|                    25000.0|                  null|                    null|                  false|      false|                null|         null|   null|   null|   null|   null|   null|\n",
      "|        6586|         6586|       9741717| 9741717|        null|            null|      2021-08-12|     null|               null|   32695985|                  31935462|               31935462|      34676029|        null|        null|        null|          null|                 null|            null|                   null|               2022-11-04|                    15000.0|                  null|                    null|                   null|      false|                null|         null|   null|   null|   null|   null|   null|\n",
      "|        6586|         6586|      10146094|10146094|        null|            null|      2021-12-14|     null|               null|   34679431|                  30627149|               30627149|      34676029|        null|        null|        null|          null|                 null|            null|                   null|               2022-08-31|                    20000.0|                  null|                    null|                   null|      false|                null|         null|   null|   null|   null|   null|   null|\n",
      "|        6586|         6586|       8916246| 8916246|        null|            null|      2021-03-17|     null|               null|   23952638|                  35230478|               35230478|      35230478|        null|        null|        null|          null|                 null|            null|                   null|               2023-12-15|                  1000000.0|                  null|                    null|                  false|       true|                null|         null|   null|   null|   null|   null|   null|\n",
      "|        6586|         6586|      10082437|10082437|        null|            null|      2021-11-01|     null|               null|   35125016|                  35125016|               35125016|      34676029|        null|        null|        null|          null|                 null|            null|                   null|               2022-09-30|                    25000.0|                  null|                    null|                   null|      false|                null|         null|   null|   null|   null|   null|   null|\n",
      "|        6586|         6586|       9709847| 9709847|        null|            null|      2021-06-12|     null|               null|   34679431|                  32040787|               32040787|      34676029|        null|        null|        null|          null|                 null|            null|                   null|               2022-07-31|                    55000.0|                  null|                    null|                   null|       null|                null|         null|   null|   null|   null|   null|   null|\n",
      "|        6586|         6586|       9101807| 9101807|        null|            null|      2021-03-31|     null|               null|   35125016|                  31935462|               31935462|      34676029|        null|        null|        null|          null|                 null|            null|                   null|               2022-10-12|                    25000.0|                  null|                    null|                   null|      false|                null|         null|   null|   null|   null|   null|   null|\n",
      "|        6586|         6586|       9704606| 9704606|        null|            null|      2019-09-13|     null|               null|   26397954|                  33053480|               33053480|      33053480|        null|        null|        null|          null|                 null|            null|                 7650.0|               2022-10-30|                    12500.0|            2022-03-11|                 17000.0|                  false|      false|                null|         null|   null|   null|   null|   null|   null|\n",
      "|        6586|         6586|       7533314| 7533314|        null|            null|      2020-07-18|     null|               null|   26397954|                  33053480|               33053480|      33053480|        null|        null|        null|          null|                 null|            null|                   null|               2022-10-01|                    35000.0|            2022-02-23|                 25000.0|                  false|      false|                null|         null|   null|   null|   null|   null|   null|\n",
      "|        6586|         6586|       9770627| 9770627|        null|            null|      2021-08-26|     null|               null|   35174952|                  35174952|               35174952|      34676029|        null|        null|        null|          null|                 null|            null|                   null|               2022-08-31|                    30000.0|                  null|                    null|                   null|       null|                null|         null|   null|   null|   null|   null|   null|\n",
      "|        6586|         6586|      10161478|10161478|        null|            null|      2020-06-01|     null|               null|   23952638|                  35230478|               35230478|      35230478|        null|        null|        null|          null|                 null|            null|                   null|                     null|                       null|                  null|                    null|                  false|       null|                null|         null|   null|   null|   null|   null|   null|\n",
      "|        6586|         6586|       9884415| 9884415|        null|            null|      2021-09-16|     null|               null|   34679431|                  31931223|               31931223|      34676029|        null|        null|        null|          null|                 null|            null|                   null|               2022-12-16|                    25000.0|                  null|                    null|                   null|      false|                null|         null|   null|   null|   null|   null|   null|\n",
      "+------------+-------------+--------------+--------+------------+----------------+----------------+---------+-------------------+-----------+--------------------------+-----------------------+--------------+------------+------------+------------+--------------+---------------------+----------------+-----------------------+-------------------------+---------------------------+----------------------+------------------------+-----------------------+-----------+--------------------+-------------+-------+-------+-------+-------+-------+\n",
      "only showing top 100 rows\n",
      "\n",
      "{'CaseDetails': DataFrame[Truve_Org_ID: int, Client_Org_ID: int, Parent_Case_ID: int, Case_ID: int, Case_Type_ID: string, Case_Create_Date: string, Date_of_Incident: date, Case_Name: string, Plaintiff_Full_Name: string, Attorney_ID: string, Prelitigation_Paralegal_ID: string, Litigation_Paralegal_ID: string, CaseManager_ID: string, Cocounsel_ID: string, Case_Team_ID: string, Insurance_ID: string, Case_Status_ID: string, Case_Marketing_Source: string, Case_Source_Name: string, Attorney_Fee_Percentage: string, Projected_Settlement_Date: date, Projected_Settlement_Amount: string, Actual_Settlement_Date: date, Actual_Settlement_Amount: string, If_Case_Settled_Presuit: boolean, If_VIP_Case: boolean, If_Case_Referred_Out: string, Case_Phase_ID: string, Custom1: string, Custom2: string, Custom3: string, Custom4: string, Custom5: string]}\n",
      "Writing CaseDetails\n"
     ]
    }
   ],
   "source": [
    "#Peoples Transformation\n",
    "def casesummary_transformation(df_casesummary):\n",
    "    #Read Raw Data\n",
    "    result = builder.build_casesummary(df_casesummary)\n",
    "    print(result)\n",
    "    upload_result(result)\n",
    "    \n",
    "casesummary_transformation(df_casesummary)"
   ]
  },
  {
   "cell_type": "code",
   "execution_count": null,
   "id": "1dffd73a",
   "metadata": {},
   "outputs": [],
   "source": [
    "builder._get_table_config(\"Phases\")\n",
    "sstm_config"
   ]
  },
  {
   "cell_type": "code",
   "execution_count": null,
   "id": "e015b833",
   "metadata": {},
   "outputs": [],
   "source": [
    "def people_master_transformation():\n",
    "    #Read Raw Data\n",
    "    contact_dyf = glueContext.create_dynamic_frame_from_options(\\\n",
    "    connection_type = \"s3\", \\\n",
    "    connection_options = {\n",
    "        \"paths\": [\"s3://dev-truve-devops-05-databricks-bucketetlrawdata-wu3m2thgf3o/filevine/6586/contact/historical_contacts.parquet\"]}, \\\n",
    "    format = \"parquet\",\n",
    "    )\n",
    "    contact_sp_df = contact_dyf.toDF()\n",
    "    print(contact_sp_df.count())\n",
    "    sstm_peoplemaster_df = builder.build_peoplemaster(contact_df=contact_sp_df)\n",
    "    trans_obj = DynamicFrame.fromDF(sstm_peoplemaster_df, glueContext, \"sstm_peoplemaster\")\n",
    "    print(trans_obj)\n",
    "    #sstm_peoplemaster_df.write.mode(\"overwrite\").format(\"parquet\").save(\"s3://dev-truve-devops-05-databr-bucketetlprocesseddata-h2m2xopoctot/peoplemaster/\")\n",
    "    #print(\"PeopleTypes Processed successfully\")"
   ]
  },
  {
   "cell_type": "code",
   "execution_count": null,
   "id": "58b6a7da",
   "metadata": {},
   "outputs": [],
   "source": [
    "#people_type_transformation()\n",
    "people_master_transformation()"
   ]
  },
  {
   "cell_type": "code",
   "execution_count": null,
   "id": "9242600f",
   "metadata": {},
   "outputs": [],
   "source": [
    "df_forms =readFromFile(\"parquet\", \"s3://dev-truve-devops-05-databricks-bucketetlrawdata-wu3m2thgf3o/filevine/6586/18764/*/form/casesummary.parquet\")\n"
   ]
  },
  {
   "cell_type": "code",
   "execution_count": null,
   "id": "80d99540",
   "metadata": {},
   "outputs": [],
   "source": []
  },
  {
   "cell_type": "code",
   "execution_count": null,
   "id": "518d9b86",
   "metadata": {},
   "outputs": [],
   "source": [
    "df_forms.count()"
   ]
  },
  {
   "cell_type": "code",
   "execution_count": null,
   "id": "397dc58c",
   "metadata": {},
   "outputs": [],
   "source": [
    "df_forms.printSchema()"
   ]
  },
  {
   "cell_type": "code",
   "execution_count": null,
   "id": "d3dfcde4",
   "metadata": {},
   "outputs": [],
   "source": [
    "df_forms.show()"
   ]
  },
  {
   "cell_type": "code",
   "execution_count": null,
   "id": "12b12b8a",
   "metadata": {},
   "outputs": [],
   "source": [
    "from awsglue.dynamicframe import DynamicFrame\n",
    "\n",
    "dyf_casesummary = DynamicFrame.fromDF(df_forms, glueContext, \"nested\")\n"
   ]
  },
  {
   "cell_type": "code",
   "execution_count": null,
   "id": "51af2d6e",
   "metadata": {},
   "outputs": [],
   "source": [
    "glueContext.write_dynamic_frame.from_options(frame = dyf_casesummary,\n",
    "                                         connection_type = \"s3\",\n",
    "                                         connection_options = {\"path\": \"s3://dev-truve-devops-05-databricks-bucketetlrawdata-wu3m2thgf3o/temp/casesummary/\"},\n",
    "                                         format = \"parquet\")"
   ]
  },
  {
   "cell_type": "code",
   "execution_count": null,
   "id": "4a922154",
   "metadata": {},
   "outputs": [],
   "source": [
    "writeToFile(df_forms,\"s3://dev-truve-devops-05-databricks-bucketetlrawdata-wu3m2thgf3o/temp/casesummary/\", \"overwrite\")\n"
   ]
  },
  {
   "cell_type": "code",
   "execution_count": 8,
   "id": "d30e2e35",
   "metadata": {},
   "outputs": [
    {
     "name": "stdout",
     "output_type": "stream",
     "text": [
      "Stopping session: c7ff10bc-1e92-4e3c-b291-349c9b5897bf\n",
      "Stopped session.\n"
     ]
    }
   ],
   "source": [
    "%stop_session"
   ]
  },
  {
   "cell_type": "code",
   "execution_count": null,
   "id": "db45956f",
   "metadata": {},
   "outputs": [],
   "source": [
    "df_forms =readFromFile(\"parquet\", \"s3://dev-truve-devops-05-databricks-bucketetlrawdata-wu3m2thgf3o/filevine/6586/18764/*/collection/meds.parquet\")\n"
   ]
  },
  {
   "cell_type": "code",
   "execution_count": null,
   "id": "9093400a",
   "metadata": {},
   "outputs": [],
   "source": [
    "df_forms.count()"
   ]
  },
  {
   "cell_type": "code",
   "execution_count": null,
   "id": "9b8add48",
   "metadata": {},
   "outputs": [],
   "source": [
    "df_forms.printSchema()"
   ]
  },
  {
   "cell_type": "code",
   "execution_count": null,
   "id": "1ec00517",
   "metadata": {},
   "outputs": [],
   "source": [
    "df_forms.show(n=10)"
   ]
  },
  {
   "cell_type": "code",
   "execution_count": null,
   "id": "d46a850b",
   "metadata": {},
   "outputs": [],
   "source": [
    "writeToFile(df_forms,\"s3://dev-truve-devops-05-databricks-bucketetlrawdata-wu3m2thgf3o/temp/meds/\", \"overwrite\")\n"
   ]
  },
  {
   "cell_type": "code",
   "execution_count": null,
   "id": "2d3a5ca1",
   "metadata": {},
   "outputs": [],
   "source": [
    "df_intake =readFromFile(\"parquet\", \"s3://dev-truve-devops-05-databricks-bucketetlrawdata-wu3m2thgf3o/filevine/6586/18764/*/form/intake.parquet\")\n"
   ]
  },
  {
   "cell_type": "code",
   "execution_count": null,
   "id": "02226ae5",
   "metadata": {},
   "outputs": [],
   "source": [
    "df_intake.count()"
   ]
  },
  {
   "cell_type": "code",
   "execution_count": null,
   "id": "ccf94c56",
   "metadata": {},
   "outputs": [],
   "source": [
    "df_intake.show(n=10)"
   ]
  },
  {
   "cell_type": "code",
   "execution_count": null,
   "id": "8fae13dd",
   "metadata": {},
   "outputs": [],
   "source": [
    "df_intake.printSchema()"
   ]
  },
  {
   "cell_type": "code",
   "execution_count": null,
   "id": "f35057c9",
   "metadata": {},
   "outputs": [],
   "source": [
    "writeToFile(df_intake,\"s3://dev-truve-devops-05-databricks-bucketetlrawdata-wu3m2thgf3o/temp/intake/\", \"overwrite\")\n"
   ]
  },
  {
   "cell_type": "code",
   "execution_count": null,
   "id": "3136df27",
   "metadata": {},
   "outputs": [],
   "source": [
    "df_casesummary =readFromFile(\"parquet\", \"s3://dev-truve-devops-05-databricks-bucketetlrawdata-wu3m2thgf3o/filevine/6586/18764/*/form/casesummary.parquet\")\n"
   ]
  },
  {
   "cell_type": "code",
   "execution_count": null,
   "id": "6165cdad",
   "metadata": {},
   "outputs": [],
   "source": [
    "df_casesummary.count()"
   ]
  },
  {
   "cell_type": "code",
   "execution_count": null,
   "id": "bdbf6828",
   "metadata": {},
   "outputs": [],
   "source": [
    "df_casesummary.show()"
   ]
  },
  {
   "cell_type": "code",
   "execution_count": null,
   "id": "b6fbf6e4",
   "metadata": {},
   "outputs": [],
   "source": []
  },
  {
   "cell_type": "code",
   "execution_count": null,
   "id": "a61c325e",
   "metadata": {},
   "outputs": [],
   "source": [
    "def write_parquet_files(df, name):\n",
    "    df_rept = df.repartition(1)\n",
    "    writeToFile(df_rept,\"s3://dev-truve-devops-05-databricks-bucketetlrawdata-wu3m2thgf3o/temp/{}/\".format(name), \"overwrite\")\n"
   ]
  },
  {
   "cell_type": "code",
   "execution_count": null,
   "id": "4419939e",
   "metadata": {},
   "outputs": [],
   "source": [
    "df_intake =readFromFile(\"parquet\", \"s3://dev-truve-devops-05-databricks-bucketetlrawdata-wu3m2thgf3o/filevine/6586/18764/*/form/intake.parquet\")\n"
   ]
  },
  {
   "cell_type": "code",
   "execution_count": null,
   "id": "029b3c2e",
   "metadata": {},
   "outputs": [],
   "source": [
    "write_parquet_files(df_intake, \"intake\")"
   ]
  },
  {
   "cell_type": "code",
   "execution_count": null,
   "id": "3116afe9",
   "metadata": {},
   "outputs": [],
   "source": [
    "df_intake.count()"
   ]
  },
  {
   "cell_type": "code",
   "execution_count": null,
   "id": "df3b7fbe",
   "metadata": {},
   "outputs": [],
   "source": [
    "df_project =readFromFile(\"parquet\", \"s3://dev-truve-devops-05-databricks-bucketetlrawdata-wu3m2thgf3o/filevine/6586/18764/*/project.parquet\")\n",
    "write_parquet_files(df_project, \"project\")"
   ]
  },
  {
   "cell_type": "code",
   "execution_count": null,
   "id": "2eba9e26",
   "metadata": {},
   "outputs": [],
   "source": [
    "df_meds =readFromFile(\"parquet\", \"s3://dev-truve-devops-05-databricks-bucketetlrawdata-wu3m2thgf3o/filevine/6586/18764/*/collections/meds.parquet\")\n",
    "write_parquet_files(df_meds, \"meds\")"
   ]
  },
  {
   "cell_type": "code",
   "execution_count": null,
   "id": "e377e15e",
   "metadata": {},
   "outputs": [],
   "source": []
  }
 ],
 "metadata": {
  "kernelspec": {
   "display_name": "Glue PySpark",
   "language": "python",
   "name": "glue_pyspark"
  },
  "language_info": {
   "codemirror_mode": {
    "name": "python",
    "version": 3
   },
   "file_extension": ".py",
   "mimetype": "text/x-python",
   "name": "Python_Glue_Session",
   "pygments_lexer": "python3"
  }
 },
 "nbformat": 4,
 "nbformat_minor": 5
}
