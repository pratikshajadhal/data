{
 "cells": [
  {
   "cell_type": "code",
   "execution_count": 2,
   "id": "8315afbb",
   "metadata": {},
   "outputs": [
    {
     "name": "stdout",
     "output_type": "stream",
     "text": [
      "Welcome to the Glue Interactive Sessions Kernel\n",
      "For more information on available magic commands, please type %help in any new cell.\n",
      "\n",
      "Please view our Getting Started page to access the most up-to-date information on the Interactive Sessions kernel: https://docs.aws.amazon.com/glue/latest/dg/interactive-sessions.html\n",
      "It looks like there is a newer version of the kernel available. The latest version is 0.32 and you have 0.31 installed.\n",
      "Please run `pip install --upgrade aws-glue-sessions` to upgrade your kernel\n",
      "Current iam_role is None\n",
      "iam_role has been set to arn:aws:iam::481237842548:role/CF-dev-TruveDevops-Glue-Role.\n"
     ]
    }
   ],
   "source": [
    "%iam_role arn:aws:iam::481237842548:role/CF-dev-TruveDevops-Glue-Role"
   ]
  },
  {
   "cell_type": "code",
   "execution_count": 4,
   "id": "86f8f0a6",
   "metadata": {},
   "outputs": [
    {
     "name": "stdout",
     "output_type": "stream",
     "text": [
      "Previous region: None\n",
      "Setting new region to: us-west-2\n",
      "Region is set to: us-west-2\n"
     ]
    }
   ],
   "source": [
    "%region us-west-2"
   ]
  },
  {
   "cell_type": "code",
   "execution_count": 0,
   "id": "c7525825",
   "metadata": {},
   "outputs": [
    {
     "name": "stdout",
     "output_type": "stream",
     "text": [
      "Additional python modules to be included:\n",
      "s3://dev-truve-devops-05-databricks-bucketetlrawdata-wu3m2thgf3o/sstm_transformation-0.1.0-py3-none-any.whl\n",
      "Previous number of workers: 5\n",
      "Setting new number of workers to: 2\n",
      "Connections to be included:\n",
      "dev-glue-redshift-connection\n",
      "Authenticating with profile=default\n",
      "glue_role_arn defined by user: arn:aws:iam::481237842548:role/CF-dev-TruveDevops-Glue-Role\n",
      "Trying to create a Glue session for the kernel.\n",
      "Worker Type: G.1X\n",
      "Number of Workers: 2\n",
      "Session ID: bd5c0e92-0664-4c2e-b047-4dde3f62b06e\n",
      "Applying the following default arguments:\n",
      "--glue_kernel_version 0.31\n",
      "--enable-glue-datacatalog true\n",
      "--additional-python-modules s3://dev-truve-devops-05-databricks-bucketetlrawdata-wu3m2thgf3o/sstm_transformation-0.1.0-py3-none-any.whl\n",
      "Waiting for session bd5c0e92-0664-4c2e-b047-4dde3f62b06e to get into ready status...\n",
      "Session bd5c0e92-0664-4c2e-b047-4dde3f62b06e has been created\n",
      "\n",
      "\n"
     ]
    }
   ],
   "source": [
    "%additional_python_modules \"s3://dev-truve-devops-05-databricks-bucketetlrawdata-wu3m2thgf3o/sstm_transformation-0.1.0-py3-none-any.whl\"\n",
    "%number_of_workers 2\n",
    "%connections dev-glue-redshift-connection\n",
    "#%idle_timeout 30\n",
    "\n",
    "import sys\n",
    "from awsglue.transforms import *\n",
    "from awsglue.utils import getResolvedOptions\n",
    "from pyspark.context import SparkContext\n",
    "from awsglue.context import GlueContext\n",
    "from awsglue.job import Job\n",
    "  \n",
    "sc = SparkContext.getOrCreate()\n",
    "glueContext = GlueContext(sc)\n",
    "spark = glueContext.spark_session\n",
    "job = Job(glueContext)"
   ]
  },
  {
   "cell_type": "code",
   "execution_count": 1,
   "id": "4f82a92a",
   "metadata": {},
   "outputs": [
    {
     "name": "stdout",
     "output_type": "stream",
     "text": [
      "\n"
     ]
    }
   ],
   "source": [
    "#download configuration file\n",
    "import boto3\n",
    "session = boto3.Session()\n",
    "\n",
    "s3 = session.resource('s3')\n",
    "s3.Bucket('dev-truve-devops-05-databricks-bucketetlrawdata-wu3m2thgf3o').download_file('confs/filevine/sstm.yaml', 'sstm.yaml')"
   ]
  },
  {
   "cell_type": "code",
   "execution_count": 2,
   "id": "d8ae1f81",
   "metadata": {},
   "outputs": [
    {
     "name": "stdout",
     "output_type": "stream",
     "text": [
      "\n"
     ]
    }
   ],
   "source": [
    "with open(\"sstm.yaml\", \"r\") as f:\n",
    "    sstm_config = f.read()\n",
    "    "
   ]
  },
  {
   "cell_type": "code",
   "execution_count": 3,
   "id": "826bfe0f",
   "metadata": {},
   "outputs": [
    {
     "name": "stdout",
     "output_type": "stream",
     "text": [
      "\n"
     ]
    }
   ],
   "source": [
    "def readFromFile(ext, path) :\n",
    "    fileContent = spark.read.format(ext).option(\"header\", \"true\").option(\"mergeSchema\", \"true\").load(path)\n",
    "    return fileContent\n"
   ]
  },
  {
   "cell_type": "code",
   "execution_count": 4,
   "id": "088295e0",
   "metadata": {},
   "outputs": [
    {
     "name": "stdout",
     "output_type": "stream",
     "text": [
      "\n"
     ]
    }
   ],
   "source": [
    "def writeToFile(df_join , path, mode) :\n",
    "    df_join.write.parquet(path,mode=mode)"
   ]
  },
  {
   "cell_type": "code",
   "execution_count": 5,
   "id": "fe962eda",
   "metadata": {},
   "outputs": [
    {
     "name": "stdout",
     "output_type": "stream",
     "text": [
      "\n"
     ]
    }
   ],
   "source": [
    "spark.conf.set(\"spark.sql.parquet.enableVectorizedReader\",\"false\")\n",
    "spark.conf.set(\"spark.sql.sources.partitionColumnTypeInference.enabled\", \"false\")\n"
   ]
  },
  {
   "cell_type": "code",
   "execution_count": 7,
   "id": "2c402ec4",
   "metadata": {},
   "outputs": [
    {
     "name": "stdout",
     "output_type": "stream",
     "text": [
      "\n"
     ]
    }
   ],
   "source": [
    "from sstm_transformation.instagram_builder import InstagramBuilder"
   ]
  },
  {
   "cell_type": "code",
   "execution_count": 9,
   "id": "61fde2b8",
   "metadata": {},
   "outputs": [
    {
     "name": "stdout",
     "output_type": "stream",
     "text": [
      "\n"
     ]
    }
   ],
   "source": [
    "#Read All dfs \n",
    "\n",
    "df_age =readFromFile(\"parquet\", \"s3://dev-truve-devops-05-databricks-bucketetlrawdata-wu3m2thgf3o/instagram/*/age.parquet\")\n",
    "df_city =readFromFile(\"parquet\", \"s3://dev-truve-devops-05-databricks-bucketetlrawdata-wu3m2thgf3o/instagram/*/city.parquet\")\n",
    "df_country =readFromFile(\"parquet\", \"s3://dev-truve-devops-05-databricks-bucketetlrawdata-wu3m2thgf3o/instagram/*/country.parquet\")\n",
    "df_date =readFromFile(\"parquet\", \"s3://dev-truve-devops-05-databricks-bucketetlrawdata-wu3m2thgf3o/instagram/*/date.parquet\")\n",
    "df_gender =readFromFile(\"parquet\", \"s3://dev-truve-devops-05-databricks-bucketetlrawdata-wu3m2thgf3o/instagram/*/gender.parquet\")\n",
    "df_hashtag =readFromFile(\"parquet\", \"s3://dev-truve-devops-05-databricks-bucketetlrawdata-wu3m2thgf3o/instagram/*/hashtag.parquet\")\n",
    "df_hour =readFromFile(\"parquet\", \"s3://dev-truve-devops-05-databricks-bucketetlrawdata-wu3m2thgf3o/instagram/*/hour.parquet\")\n",
    "df_locale =readFromFile(\"parquet\", \"s3://dev-truve-devops-05-databricks-bucketetlrawdata-wu3m2thgf3o/instagram/*/locale.parquet\")\n",
    "df_mediaType =readFromFile(\"parquet\", \"s3://dev-truve-devops-05-databricks-bucketetlrawdata-wu3m2thgf3o/instagram/*/mediaType.parquet\")\n",
    "df_post =readFromFile(\"parquet\", \"s3://dev-truve-devops-05-databricks-bucketetlrawdata-wu3m2thgf3o/instagram/*/post.parquet\")\n"
   ]
  },
  {
   "cell_type": "code",
   "execution_count": 10,
   "id": "3987403f",
   "metadata": {},
   "outputs": [
    {
     "name": "stdout",
     "output_type": "stream",
     "text": [
      "\n"
     ]
    }
   ],
   "source": [
    "\n",
    "builder = InstagramBuilder(\"sstm.yaml\", spark=spark)\n"
   ]
  },
  {
   "cell_type": "code",
   "execution_count": 11,
   "id": "9ce20a1d",
   "metadata": {},
   "outputs": [
    {
     "name": "stdout",
     "output_type": "stream",
     "text": [
      "\n"
     ]
    }
   ],
   "source": [
    "#Upload data on S3 \n",
    "from awsglue.dynamicframe import DynamicFrame\n",
    "def upload_result(result):\n",
    "    temp_bucket = \"s3://dev-truve-devops-05-databricks-bucketetlrawdata-wu3m2thgf3o/temp\"\n",
    "    for key, df in result.items():\n",
    "        print(f\"Writing {key}\")\n",
    "        writeToFile(df,\"s3://dev-truve-devops-05-databr-bucketetlprocesseddata-h2m2xopoctot/{}/\".format(key.lower()), \"overwrite\")\n",
    "        dyf = DynamicFrame.fromDF(dataframe=df, glue_ctx=glueContext, name=key)\n",
    "        table_name = key.lower()\n",
    "        dyf.show(10)\n",
    "        #break\n",
    "        redshift_connection_options = {\"url\": \"jdbc:redshift://dev-redshift-cluster.cxorr0thbkvd.us-west-2.redshift.amazonaws.com:5439/truve\", \n",
    "                        \"user\": \"truveadmin\", \n",
    "                        \"password\": \"YuXpRNej45S1E7mT\",\n",
    "                        \"preactions\" : \"delete from tsm.{}\".format(table_name),\n",
    "                        \"dbtable\": \"tsm.{}\".format(table_name), \n",
    "                        \"redshiftTmpDir\": temp_bucket} \n",
    "        datasink4 = glueContext.write_dynamic_frame.from_options(frame=dyf,\n",
    "                                                        connection_type=\"redshift\",\n",
    "                                                        connection_options=redshift_connection_options)\n",
    "        #break\n",
    "    "
   ]
  },
  {
   "cell_type": "code",
   "execution_count": 13,
   "id": "65ab263f",
   "metadata": {},
   "outputs": [
    {
     "name": "stdout",
     "output_type": "stream",
     "text": [
      "Writing IG_Ages\n"
     ]
    }
   ],
   "source": [
    "#Age Transformation\n",
    "def age_transformation(input_df):\n",
    "    #Read Raw Data\n",
    "    result = builder.build_age(df=input_df)\n",
    "    #print(result)\n",
    "    upload_result(result)\n",
    "    \n",
    "age_transformation(df_age)"
   ]
  },
  {
   "cell_type": "code",
   "execution_count": 14,
   "id": "5ee145e6",
   "metadata": {},
   "outputs": [
    {
     "name": "stdout",
     "output_type": "stream",
     "text": [
      "Writing IG_Cities\n"
     ]
    }
   ],
   "source": [
    "#Age Transformation\n",
    "def cities_transformation(input_df):\n",
    "    #Read Raw Data\n",
    "    result = builder.build_cities(df=input_df)\n",
    "    #print(result)\n",
    "    upload_result(result)\n",
    "    \n",
    "cities_transformation(df_city)"
   ]
  },
  {
   "cell_type": "code",
   "execution_count": 15,
   "id": "96cb150b",
   "metadata": {},
   "outputs": [
    {
     "name": "stdout",
     "output_type": "stream",
     "text": [
      "Writing IG_Countries\n"
     ]
    }
   ],
   "source": [
    "#Age Transformation\n",
    "def country_transformation(input_df):\n",
    "    #Read Raw Data\n",
    "    result = builder.build_countries(df=input_df)\n",
    "    #print(result)\n",
    "    upload_result(result)\n",
    "    \n",
    "country_transformation(df_country)"
   ]
  },
  {
   "cell_type": "code",
   "execution_count": 16,
   "id": "83b5641c",
   "metadata": {},
   "outputs": [
    {
     "name": "stdout",
     "output_type": "stream",
     "text": [
      "Writing IG_Dates\n"
     ]
    }
   ],
   "source": [
    "#Age Transformation\n",
    "def date_transformation(input_df):\n",
    "    #Read Raw Data\n",
    "    result = builder.build_dates(df=input_df)\n",
    "    #print(result)\n",
    "    upload_result(result)\n",
    "    \n",
    "date_transformation(df_date)"
   ]
  },
  {
   "cell_type": "code",
   "execution_count": 21,
   "id": "56eb5fd4",
   "metadata": {},
   "outputs": [
    {
     "name": "stdout",
     "output_type": "stream",
     "text": [
      "Writing IG_Gender\n"
     ]
    }
   ],
   "source": [
    "#Age Transformation\n",
    "def gender_transformation(input_df):\n",
    "    #Read Raw Data\n",
    "    result = builder.build_gender(df=input_df)\n",
    "    #print(result)\n",
    "    upload_result(result)\n",
    "    \n",
    "gender_transformation(df_gender)"
   ]
  },
  {
   "cell_type": "code",
   "execution_count": 20,
   "id": "036aaab0",
   "metadata": {},
   "outputs": [
    {
     "name": "stdout",
     "output_type": "stream",
     "text": [
      "Writing IG_Posts\n",
      "{\"post_id\": \"1318234281440137606\", \"date\": 2022-07-08 13:58:58.0, \"caption\": \"wasim akram\n",
      "\n",
      "#wasimakram\", \"permalink\": \"https://www.instagram.com/p/CfwPpd9NxBl/\", \"username\": \"ezain801\", \"media_url\": \"https://scontent.cdninstagram.com/v/t51.29350-15/292661686_739765284013624_5543534873404267636_n.jpg?_nc_cat=109&ccb=1-7&_nc_sid=8ae9d6&_nc_ohc=5ISD2rl8dI4AX9ROHnO&_nc_ht=scontent.cdninstagram.com&edm=AM6HXa8EAAAA&oh=00_AT_adUb9nrnSWz004ETa-SbRw9deyu7qMmyWr0uOJmbX8A&oe=62CCDC33\", \"media_type\": \"IMAGE\", \"comments\": 0, \"likes\": 2, \"org_id\": 13}\n",
      "{\"post_id\": \"1317958106675745274\", \"date\": 2022-07-08 13:58:24.0, \"caption\": \"federer\n",
      "\n",
      "#federer #nft\", \"permalink\": \"https://www.instagram.com/p/CfwPlVYtT01/\", \"username\": \"ezain801\", \"media_url\": \"https://scontent.cdninstagram.com/v/t51.29350-15/292612179_755757882440080_8844275205674289291_n.jpg?_nc_cat=103&ccb=1-7&_nc_sid=8ae9d6&_nc_ohc=IG1m1y9fUwsAX_VDdWz&_nc_ht=scontent.cdninstagram.com&edm=AM6HXa8EAAAA&oh=00_AT_GznssoZqkGcESBzzDUQO0CXmz6pvnwBsZaXZUMIeJeQ&oe=62CD672F\", \"media_type\": \"IMAGE\", \"comments\": 2, \"likes\": 1, \"org_id\": 13}\n",
      "{\"post_id\": \"1317975833177613171\", \"date\": 2022-07-08 13:57:26.0, \"caption\": \"rafaa\n",
      "\n",
      "#rafa\", \"permalink\": \"https://www.instagram.com/p/CfwPeN6N2Rk/\", \"username\": \"ezain801\", \"media_url\": \"https://scontent.cdninstagram.com/v/t51.29350-15/292202606_601783397920602_3741832646073384433_n.jpg?_nc_cat=100&ccb=1-7&_nc_sid=8ae9d6&_nc_ohc=3PGm3lBFLzUAX-E7_Bw&_nc_oc=AQlWw16IPk22CsWcEEtkEz3nfm2qLNq1M1ka96JM793KzHpr_3Zr5KFkeiN8KDHjr70&_nc_ht=scontent.cdninstagram.com&edm=AM6HXa8EAAAA&oh=00_AT9Q-js1_Ilq9Y5Z2DT-IKBEc60mPpAaG0fIlMX6dm5alQ&oe=62CDD9D9\", \"media_type\": \"IMAGE\", \"comments\": 0, \"likes\": 1, \"org_id\": 13}\n"
     ]
    }
   ],
   "source": [
    "#Age Transformation\n",
    "def post_transformation(input_df):\n",
    "    #Read Raw Data\n",
    "    result = builder.build_posts(df=input_df)\n",
    "    #print(result)\n",
    "    upload_result(result)\n",
    "    \n",
    "post_transformation(df_post)"
   ]
  },
  {
   "cell_type": "code",
   "execution_count": 22,
   "id": "d5d53d86",
   "metadata": {},
   "outputs": [
    {
     "name": "stdout",
     "output_type": "stream",
     "text": [
      "Writing IG_Hashtags\n",
      "{\"date\": \"2022-07-19\", \"hashtag\": \"#wasimakram\", \"posts\": 1, \"media_count\": null, \"org_id\": 13}\n",
      "{\"date\": \"2022-07-19\", \"hashtag\": \"#federer\", \"posts\": 1, \"media_count\": null, \"org_id\": 13}\n",
      "{\"date\": \"2022-07-19\", \"hashtag\": \"#nft\", \"posts\": 1, \"media_count\": null, \"org_id\": 13}\n",
      "{\"date\": \"2022-07-19\", \"hashtag\": \"#rafa\", \"posts\": 1, \"media_count\": null, \"org_id\": 13}\n",
      "{\"date\": \"2022-07-08\", \"hashtag\": \"rafa\", \"posts\": 34, \"media_count\": null, \"org_id\": 13}\n",
      "{\"date\": \"2022-07-08\", \"hashtag\": \"federer\", \"posts\": 33, \"media_count\": null, \"org_id\": 13}\n"
     ]
    }
   ],
   "source": [
    "#Age Transformation\n",
    "def hashtag_transformation(input_df):\n",
    "    #Read Raw Data\n",
    "    result = builder.build_hashtags(df=input_df)\n",
    "    #print(result)\n",
    "    upload_result(result)\n",
    "    \n",
    "hashtag_transformation(df_hashtag)"
   ]
  },
  {
   "cell_type": "code",
   "execution_count": 23,
   "id": "5b78f762",
   "metadata": {},
   "outputs": [
    {
     "name": "stdout",
     "output_type": "stream",
     "text": [
      "Writing IG_Hours\n",
      "{\"date\": \"2022-07-08\", \"hour\": \"18\", \"posts\": 3, \"org_id\": 13}\n",
      "{\"date\": \"2022-07-08\", \"hour\": \"1\", \"posts\": 22, \"org_id\": 13}\n",
      "{\"date\": \"2022-07-08\", \"hour\": \"2\", \"posts\": 22, \"org_id\": 13}\n",
      "{\"date\": \"2022-07-08\", \"hour\": \"3\", \"posts\": 22, \"org_id\": 13}\n",
      "{\"date\": \"2022-07-08\", \"hour\": \"4\", \"posts\": 22, \"org_id\": 13}\n",
      "{\"date\": \"2022-07-08\", \"hour\": \"5\", \"posts\": 22, \"org_id\": 13}\n",
      "{\"date\": \"2022-07-08\", \"hour\": \"6\", \"posts\": 42, \"org_id\": 13}\n",
      "{\"date\": \"2022-07-08\", \"hour\": \"7\", \"posts\": 23, \"org_id\": 13}\n",
      "{\"date\": \"2022-07-08\", \"hour\": \"8\", \"posts\": 51, \"org_id\": 13}\n"
     ]
    }
   ],
   "source": [
    "#Age Transformation\n",
    "def hour_transformation(input_df):\n",
    "    #Read Raw Data\n",
    "    result = builder.build_hours(df=input_df)\n",
    "    #print(result)\n",
    "    upload_result(result)\n",
    "    \n",
    "hour_transformation(df_hour)"
   ]
  },
  {
   "cell_type": "code",
   "execution_count": 24,
   "id": "7f132b61",
   "metadata": {},
   "outputs": [
    {
     "name": "stdout",
     "output_type": "stream",
     "text": [
      "Writing IG_Locales\n"
     ]
    }
   ],
   "source": [
    "#Age Transformation\n",
    "def locale_transformation(input_df):\n",
    "    #Read Raw Data\n",
    "    result = builder.build_locals(df=input_df)\n",
    "    #print(result)\n",
    "    upload_result(result)\n",
    "    \n",
    "locale_transformation(df_locale)"
   ]
  },
  {
   "cell_type": "code",
   "execution_count": 25,
   "id": "384a1d3e",
   "metadata": {},
   "outputs": [
    {
     "name": "stdout",
     "output_type": "stream",
     "text": [
      "Writing IG_MediaTypes\n",
      "{\"date\": \"2022-07-08\", \"media_type\": \"IMAGE\", \"posts\": 3, \"org_id\": 13}\n"
     ]
    }
   ],
   "source": [
    "#Age Transformation\n",
    "def mediatype_transformation(input_df):\n",
    "    #Read Raw Data\n",
    "    result = builder.build_mediatypes(df=input_df)\n",
    "    #print(result)\n",
    "    upload_result(result)\n",
    "    \n",
    "mediatype_transformation(df_mediaType)"
   ]
  },
  {
   "cell_type": "code",
   "execution_count": 9,
   "id": "0ddddbaa",
   "metadata": {},
   "outputs": [
    {
     "name": "stdout",
     "output_type": "stream",
     "text": [
      "Stopping session: bd5c0e92-0664-4c2e-b047-4dde3f62b06e\n",
      "Stopped session.\n"
     ]
    }
   ],
   "source": [
    "%stop_session"
   ]
  },
  {
   "cell_type": "code",
   "execution_count": null,
   "id": "f73b58a3",
   "metadata": {},
   "outputs": [],
   "source": []
  }
 ],
 "metadata": {
  "kernelspec": {
   "display_name": "Glue PySpark",
   "language": "python",
   "name": "glue_pyspark"
  },
  "language_info": {
   "codemirror_mode": {
    "name": "python",
    "version": 3
   },
   "file_extension": ".py",
   "mimetype": "text/x-python",
   "name": "Python_Glue_Session",
   "pygments_lexer": "python3"
  }
 },
 "nbformat": 4,
 "nbformat_minor": 5
}
