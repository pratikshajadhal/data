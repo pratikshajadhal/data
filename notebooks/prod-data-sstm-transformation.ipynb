{
 "cells": [
  {
   "cell_type": "code",
   "execution_count": 2,
   "id": "8315afbb",
   "metadata": {},
   "outputs": [
    {
     "name": "stdout",
     "output_type": "stream",
     "text": [
      "Welcome to the Glue Interactive Sessions Kernel\n",
      "For more information on available magic commands, please type %help in any new cell.\n",
      "\n",
      "Please view our Getting Started page to access the most up-to-date information on the Interactive Sessions kernel: https://docs.aws.amazon.com/glue/latest/dg/interactive-sessions.html\n",
      "It looks like there is a newer version of the kernel available. The latest version is 0.35 and you have 0.31 installed.\n",
      "Please run `pip install --upgrade aws-glue-sessions` to upgrade your kernel\n",
      "Current iam_role is None\n",
      "iam_role has been set to arn:aws:iam::481237842548:role/CF-dev-TruveDevops-Glue-Role.\n"
     ]
    }
   ],
   "source": [
    "%iam_role arn:aws:iam::481237842548:role/CF-dev-TruveDevops-Glue-Role"
   ]
  },
  {
   "cell_type": "code",
   "execution_count": 4,
   "id": "86f8f0a6",
   "metadata": {},
   "outputs": [
    {
     "name": "stdout",
     "output_type": "stream",
     "text": [
      "Previous region: None\n",
      "Setting new region to: us-west-2\n",
      "Region is set to: us-west-2\n"
     ]
    }
   ],
   "source": [
    "%region us-west-2"
   ]
  },
  {
   "cell_type": "code",
   "execution_count": 0,
   "id": "c7525825",
   "metadata": {},
   "outputs": [
    {
     "name": "stdout",
     "output_type": "stream",
     "text": [
      "Additional python modules to be included:\n",
      "s3://dev-truve-devops-05-databricks-bucketetlrawdata-wu3m2thgf3o/sstm_transformation-0.1.0-py3-none-any.whl\n",
      "Previous number of workers: 5\n",
      "Setting new number of workers to: 2\n",
      "Connections to be included:\n",
      "dev-glue-redshift-connection\n",
      "Current idle_timeout is None minutes.\n",
      "idle_timeout has been set to 60 minutes.\n",
      "Authenticating with profile=default\n",
      "glue_role_arn defined by user: arn:aws:iam::481237842548:role/CF-dev-TruveDevops-Glue-Role\n",
      "Trying to create a Glue session for the kernel.\n",
      "Worker Type: G.1X\n",
      "Number of Workers: 2\n",
      "Session ID: 7ba7e67f-8ff6-44af-816d-9a20be7e3161\n",
      "Applying the following default arguments:\n",
      "--glue_kernel_version 0.31\n",
      "--enable-glue-datacatalog true\n",
      "--additional-python-modules s3://dev-truve-devops-05-databricks-bucketetlrawdata-wu3m2thgf3o/sstm_transformation-0.1.0-py3-none-any.whl\n",
      "Waiting for session 7ba7e67f-8ff6-44af-816d-9a20be7e3161 to get into ready status...\n",
      "Session 7ba7e67f-8ff6-44af-816d-9a20be7e3161 has been created\n",
      "\n",
      "\n"
     ]
    }
   ],
   "source": [
    "%additional_python_modules \"s3://dev-truve-devops-05-databricks-bucketetlrawdata-wu3m2thgf3o/sstm_transformation-0.1.0-py3-none-any.whl\"\n",
    "%number_of_workers 2\n",
    "%connections dev-glue-redshift-connection\n",
    "%idle_timeout 60\n",
    "\n",
    "import sys\n",
    "from awsglue.transforms import *\n",
    "from awsglue.utils import getResolvedOptions\n",
    "from pyspark.context import SparkContext\n",
    "from awsglue.context import GlueContext\n",
    "from awsglue.job import Job\n",
    "  \n",
    "sc = SparkContext.getOrCreate()\n",
    "glueContext = GlueContext(sc)\n",
    "spark = glueContext.spark_session\n",
    "job = Job(glueContext)"
   ]
  },
  {
   "cell_type": "code",
   "execution_count": 1,
   "id": "4f82a92a",
   "metadata": {},
   "outputs": [
    {
     "name": "stdout",
     "output_type": "stream",
     "text": [
      "\n"
     ]
    }
   ],
   "source": [
    "#download configuration file\n",
    "import boto3\n",
    "session = boto3.Session()\n",
    "\n",
    "s3 = session.resource('s3')\n",
    "s3.Bucket('dev-truve-devops-05-databricks-bucketetlrawdata-wu3m2thgf3o').download_file('confs/filevine/sstm.yaml', 'sstm.yaml')"
   ]
  },
  {
   "cell_type": "code",
   "execution_count": 2,
   "id": "d8ae1f81",
   "metadata": {},
   "outputs": [
    {
     "name": "stdout",
     "output_type": "stream",
     "text": [
      "\n"
     ]
    }
   ],
   "source": [
    "with open(\"sstm.yaml\", \"r\") as f:\n",
    "    sstm_config = f.read()\n",
    "    "
   ]
  },
  {
   "cell_type": "code",
   "execution_count": 3,
   "id": "826bfe0f",
   "metadata": {},
   "outputs": [
    {
     "name": "stdout",
     "output_type": "stream",
     "text": [
      "\n"
     ]
    }
   ],
   "source": [
    "def readFromFile(ext, path) :\n",
    "    fileContent = spark.read.format(ext).option(\"header\", \"true\").option(\"mergeSchema\", \"true\").load(path)\n",
    "    return fileContent\n"
   ]
  },
  {
   "cell_type": "code",
   "execution_count": 4,
   "id": "088295e0",
   "metadata": {},
   "outputs": [
    {
     "name": "stdout",
     "output_type": "stream",
     "text": [
      "\n"
     ]
    }
   ],
   "source": [
    "def writeToFile(df_join , path, mode) :\n",
    "    df_join.write.parquet(path,mode=mode)"
   ]
  },
  {
   "cell_type": "code",
   "execution_count": 5,
   "id": "fe962eda",
   "metadata": {},
   "outputs": [
    {
     "name": "stdout",
     "output_type": "stream",
     "text": [
      "\n"
     ]
    }
   ],
   "source": [
    "spark.conf.set(\"spark.sql.parquet.enableVectorizedReader\",\"false\")\n",
    "spark.conf.set(\"spark.sql.sources.partitionColumnTypeInference.enabled\", \"false\")\n"
   ]
  },
  {
   "cell_type": "code",
   "execution_count": 6,
   "id": "2c402ec4",
   "metadata": {},
   "outputs": [
    {
     "name": "stdout",
     "output_type": "stream",
     "text": [
      "\n"
     ]
    }
   ],
   "source": [
    "from sstm_transformation.tsm_builder import TSMBuilder\n",
    "from pyspark.sql.functions import input_file_name\n",
    "import pyspark.sql.functions as F\n",
    "\n"
   ]
  },
  {
   "cell_type": "code",
   "execution_count": 7,
   "id": "61fde2b8",
   "metadata": {},
   "outputs": [
    {
     "name": "stdout",
     "output_type": "stream",
     "text": [
      "\n"
     ]
    }
   ],
   "source": [
    "#Read All dfs \n",
    "\n",
    "df_project =readFromFile(\"parquet\", \"s3://dev-truve-devops-05-databricks-bucketetlrawdata-wu3m2thgf3o/filevine/6586/18764/*/project.parquet\")\n",
    "#df_intake =readFromFile(\"parquet\", \"s3://dev-truve-devops-05-databricks-bucketetlrawdata-wu3m2thgf3o/filevine/6586/18764/*/form/intake.parquet\")\n",
    "#df_contact =readFromFile(\"parquet\", \"s3://dev-truve-devops-05-databricks-bucketetlrawdata-wu3m2thgf3o/filevine/6586/contact/\")\n",
    "#df_projecttype = readFromFile(\"parquet\", \"s3://dev-truve-devops-05-databricks-bucketetlrawdata-wu3m2thgf3o/filevine/6586/projecttype/\")\n",
    "#df_meds = readFromFile(\"parquet\", \"s3://dev-truve-devops-05-databricks-bucketetlrawdata-wu3m2thgf3o/filevine/6586/18764/*/collections/meds.parquet\")\n",
    "df_casesummary =readFromFile(\"parquet\", \"s3://dev-truve-devops-05-databricks-bucketetlrawdata-wu3m2thgf3o/filevine/6586/18764/*/form/casesummary.parquet\")\n",
    "#df_project_vitals =readFromFile(\"parquet\", \"s3://dev-truve-devops-05-databricks-bucketetlrawdata-wu3m2thgf3o/filevine/6586/18764/*/project_vitals.parquet\")\n"
   ]
  },
  {
   "cell_type": "code",
   "execution_count": null,
   "id": "7b4712b1",
   "metadata": {},
   "outputs": [],
   "source": []
  },
  {
   "cell_type": "code",
   "execution_count": null,
   "id": "42943584",
   "metadata": {},
   "outputs": [],
   "source": [
    "df_project_vitals = df_project_vitals.withColumn(\"input_file\", input_file_name())\n"
   ]
  },
  {
   "cell_type": "code",
   "execution_count": null,
   "id": "890003de",
   "metadata": {},
   "outputs": [],
   "source": [
    "df_project_vitals = df_project_vitals.withColumn('projectId', F.element_at(F.split(F.col('input_file'), '/'), -2))\n"
   ]
  },
  {
   "cell_type": "code",
   "execution_count": 8,
   "id": "3987403f",
   "metadata": {},
   "outputs": [
    {
     "name": "stdout",
     "output_type": "stream",
     "text": [
      "\n"
     ]
    }
   ],
   "source": [
    "builder = TSMBuilder(\"sstm.yaml\", spark=spark)\n"
   ]
  },
  {
   "cell_type": "code",
   "execution_count": null,
   "id": "d0d26e39",
   "metadata": {},
   "outputs": [],
   "source": [
    "df_project_vitals.show()\n",
    "#s3://dev-truve-devops-05-databricks-bucketetlrawdata-wu3m2thgf3o/filevine/6586/18764/10387917/project_vitals.parquet"
   ]
  },
  {
   "cell_type": "code",
   "execution_count": 9,
   "id": "9ce20a1d",
   "metadata": {},
   "outputs": [
    {
     "name": "stdout",
     "output_type": "stream",
     "text": [
      "\n"
     ]
    }
   ],
   "source": [
    "#Upload data on S3 \n",
    "from awsglue.dynamicframe import DynamicFrame\n",
    "def upload_result(result):\n",
    "    temp_bucket = \"s3://dev-truve-devops-05-databricks-bucketetlrawdata-wu3m2thgf3o/temp\"\n",
    "    for key, df in result.items():\n",
    "        print(f\"Writing {key}\")\n",
    "        writeToFile(df,\"s3://dev-truve-devops-05-databr-bucketetlprocesseddata-h2m2xopoctot/{}/\".format(key.lower()), \"overwrite\")\n",
    "        dyf = DynamicFrame.fromDF(dataframe=df, glue_ctx=glueContext, name=key)\n",
    "        table_name = key.lower()\n",
    "        dyf.show(10)\n",
    "        \n",
    "        datasink = glueContext.write_dynamic_frame.from_jdbc_conf(\n",
    "                        frame=dyf,\n",
    "                        catalog_connection=\"dev-glue-redshift-connection\",\n",
    "                        connection_options={\n",
    "                            \"preactions\" : \"delete from tsm.{}\".format(table_name),\n",
    "                            \"dbtable\": \"tsm.{}\".format(table_name), \n",
    "                            \"database\": \"truve\",\n",
    "                        },\n",
    "                        redshift_tmp_dir=temp_bucket,\n",
    "                        transformation_ctx=\"datasink\",\n",
    "                    )\n",
    "        '''\n",
    "        #break\n",
    "        redshift_connection_options = {\"url\": \"jdbc:redshift://dev-redshift-cluster.cxorr0thbkvd.us-west-2.redshift.amazonaws.com:5439/truve\", \n",
    "                        \"user\": \"truveadmin\", \n",
    "                        \"password\": \"XXXXXXX\",\n",
    "                        \"preactions\" : \"delete from tsm.{}\".format(table_name),\n",
    "                        \"dbtable\": \"tsm.{}\".format(table_name), \n",
    "                        \"redshiftTmpDir\": temp_bucket} \n",
    "        datasink4 = glueContext.write_dynamic_frame.from_options(frame=dyf,\n",
    "                                                        connection_type=\"redshift\",\n",
    "                                                        connection_options=redshift_connection_options)\n",
    "        '''\n",
    "        #break\n",
    "    "
   ]
  },
  {
   "cell_type": "code",
   "execution_count": null,
   "id": "65ab263f",
   "metadata": {},
   "outputs": [],
   "source": [
    "#PeopleType Transformation\n",
    "def people_type_transformation(df_contact):\n",
    "    #Read Raw Data\n",
    "    result = builder.build_peopletypes(contact_df=df_contact)\n",
    "    #print(result)\n",
    "    upload_result(result)\n",
    "    \n",
    "people_type_transformation(df_contact)"
   ]
  },
  {
   "cell_type": "code",
   "execution_count": null,
   "id": "2b7d1c88",
   "metadata": {},
   "outputs": [],
   "source": [
    "#Peoples Transformation\n",
    "def people_master_transformation(df_contact):\n",
    "    #Read Raw Data\n",
    "    result = builder.build_peoplemaster(contact_df=df_contact)\n",
    "    print(result)\n",
    "    upload_result(result)\n",
    "    \n",
    "people_master_transformation(df_contact)"
   ]
  },
  {
   "cell_type": "code",
   "execution_count": null,
   "id": "414e4ca9",
   "metadata": {},
   "outputs": [],
   "source": [
    "#Peoples Transformation\n",
    "def projecttype_transformation(df_projecttype):\n",
    "    #Read Raw Data\n",
    "    result = builder.build_practicetypes(df_projecttype)\n",
    "    print(result)\n",
    "    upload_result(result)\n",
    "    \n",
    "projecttype_transformation(df_projecttype)"
   ]
  },
  {
   "cell_type": "code",
   "execution_count": null,
   "id": "0398e31c",
   "metadata": {},
   "outputs": [],
   "source": [
    "#Peoples Transformation\n",
    "df_projecttype = readFromFile(\"parquet\", \"s3://dev-truve-devops-05-databricks-bucketetlrawdata-wu3m2thgf3o/filevine/6586/projecttype/\")\n",
    "\n",
    "def phases_transformation(df_projecttype):\n",
    "    #Read Raw Data\n",
    "    \n",
    "    result = builder.build_phasemaster(df_projecttype)\n",
    "    print(result)\n",
    "    upload_result(result)\n",
    "    \n",
    "phases_transformation(df_projecttype)"
   ]
  },
  {
   "cell_type": "code",
   "execution_count": null,
   "id": "39abe18a",
   "metadata": {},
   "outputs": [],
   "source": [
    "#Peoples Transformation\n",
    "def value_transformation(df_meds):\n",
    "    #Read Raw Data\n",
    "    result = builder.build_casefigures(df_meds)\n",
    "    print(result)\n",
    "    upload_result(result)\n",
    "    \n",
    "value_transformation(df_meds)"
   ]
  },
  {
   "cell_type": "code",
   "execution_count": 10,
   "id": "3cca86ca",
   "metadata": {},
   "outputs": [
    {
     "name": "stdout",
     "output_type": "stream",
     "text": [
      "+--------------------+\n",
      "|    Practice_Type_ID|\n",
      "+--------------------+\n",
      "|{'native': 18764,...|\n",
      "|{'native': 18764,...|\n",
      "|{'native': 18764,...|\n",
      "|{'native': 18764,...|\n",
      "|{'native': 18764,...|\n",
      "|{'native': 18764,...|\n",
      "|{'native': 18764,...|\n",
      "|{'native': 25962,...|\n",
      "|{'native': 18764,...|\n",
      "|{'native': 18764,...|\n",
      "|{'native': 18764,...|\n",
      "|{'native': 18764,...|\n",
      "|{'native': 18764,...|\n",
      "|{'native': 18764,...|\n",
      "|{'native': 25962,...|\n",
      "|{'native': 18764,...|\n",
      "|{'native': 18764,...|\n",
      "|{'native': 18764,...|\n",
      "|{'native': 18764,...|\n",
      "|{'native': 25962,...|\n",
      "+--------------------+\n",
      "only showing top 20 rows\n",
      "\n",
      "root\n",
      " |-- Truve_Org_ID: string (nullable = false)\n",
      " |-- Client_Org_ID: string (nullable = false)\n",
      " |-- Case_ID: integer (nullable = true)\n",
      " |-- Practice_Type_ID: integer (nullable = true)\n",
      " |-- Is_Archived: boolean (nullable = true)\n",
      " |-- Incident_Date: date (nullable = true)\n",
      "\n",
      "+------------+-------------+--------+----------------+-----------+-------------+\n",
      "|Truve_Org_ID|Client_Org_ID| Case_ID|Practice_Type_ID|Is_Archived|Incident_Date|\n",
      "+------------+-------------+--------+----------------+-----------+-------------+\n",
      "|        6586|         6586| 8114124|           18764|      false|   2019-09-27|\n",
      "|        6586|         6586| 8288460|           18764|      false|   2020-12-25|\n",
      "|        6586|         6586| 7532496|           18764|      false|   2020-03-10|\n",
      "|        6586|         6586| 8288790|           18764|      false|   2020-12-23|\n",
      "|        6586|         6586| 7532449|           18764|       true|   2020-02-20|\n",
      "|        6586|         6586|10053888|           18764|      false|   2021-10-28|\n",
      "|        6586|         6586| 8816015|           18764|       true|   2021-02-27|\n",
      "|        6586|         6586|10213103|           25962|      false|   2022-01-10|\n",
      "|        6586|         6586| 8901324|           18764|      false|   2020-06-30|\n",
      "|        6586|         6586|10231096|           18764|      false|   2022-01-26|\n",
      "+------------+-------------+--------+----------------+-----------+-------------+\n",
      "only showing top 10 rows\n"
     ]
    }
   ],
   "source": [
    "#Peoples Transformation\n",
    "def cases_transformation(df_project):\n",
    "    #Read Raw Data\n",
    "    result = builder.build_casemaster(df_project)\n",
    "    return result\n",
    "    #print(result)\n",
    "    #upload_result(result)\n",
    "    \n",
    "result = cases_transformation(df_project)"
   ]
  },
  {
   "cell_type": "code",
   "execution_count": null,
   "id": "1da98d96",
   "metadata": {},
   "outputs": [],
   "source": [
    "#Peoples Transformation\n",
    "def intake_transformation(df_intake):\n",
    "    #Read Raw Data\n",
    "    result = builder.build_intakesummary(df_intake)\n",
    "    return result \n",
    "\n",
    "result = intake_transformation(df_intake)\n",
    "#result[\"IntakeDetails\"] = result[\"IntakeDetails\"].drop(\"referral_fee\")\n",
    "upload_result(result)\n"
   ]
  },
  {
   "cell_type": "code",
   "execution_count": null,
   "id": "0293276f",
   "metadata": {},
   "outputs": [],
   "source": [
    "#Peoples Transformation\n",
    "def casesummary_transformation(df_casesummary, df_project_vitals, df_project):\n",
    "    #Read Raw Data\n",
    "    result = builder.build_casesummary(df_casesummary, df_project_vitals, df_project)\n",
    "    print(result)\n",
    "    upload_result(result)\n",
    "    \n",
    "casesummary_transformation(df_casesummary, df_project_vitals, df_project)"
   ]
  },
  {
   "cell_type": "code",
   "execution_count": 11,
   "id": "a1145e45",
   "metadata": {},
   "outputs": [
    {
     "name": "stdout",
     "output_type": "stream",
     "text": [
      "root\n",
      " |-- Truve_Org_ID: integer (nullable = true)\n",
      " |-- Client_Org_ID: string (nullable = false)\n",
      " |-- Case_ID: integer (nullable = true)\n",
      " |-- Practice_Type_ID: integer (nullable = true)\n",
      " |-- Is_Archived: boolean (nullable = true)\n",
      " |-- Incident_Date: date (nullable = true)\n"
     ]
    }
   ],
   "source": [
    "processed_project_df = result[\"CMS_Cases\"]\n",
    "processed_project_df.printSchema()"
   ]
  },
  {
   "cell_type": "code",
   "execution_count": 12,
   "id": "f2d5f8d6",
   "metadata": {},
   "outputs": [
    {
     "name": "stdout",
     "output_type": "stream",
     "text": [
      "[StructField(caseType,StringType,true), StructField(Practice_Type_ID,IntegerType,true), StructField(Truve_Org_ID,StringType,false), StructField(Client_Org_ID,StringType,false), StructField(Case_Type_ID,IntegerType,true), StructField(Case_Type_Name,StringType,true)]\n",
      "Writing CMS_CaseTypes\n",
      "{\"Truve_Org_ID\": 6586, \"Client_Org_ID\": \"6586\", \"Practice_Type_ID\": 18764, \"Case_Type_ID\": 1, \"Case_Type_Name\": \"County/Municipal Liability - Ante Litem\", \"Case_Type_Category\": null, \"Case_Type_Sub_Category\": null, \"Custom1\": null, \"Custom2\": null, \"Custom3\": null}\n",
      "{\"Truve_Org_ID\": 6586, \"Client_Org_ID\": \"6586\", \"Practice_Type_ID\": 18764, \"Case_Type_ID\": 2, \"Case_Type_Name\": \"Diminished Value (PD)\", \"Case_Type_Category\": null, \"Case_Type_Sub_Category\": null, \"Custom1\": null, \"Custom2\": null, \"Custom3\": null}\n",
      "{\"Truve_Org_ID\": 6586, \"Client_Org_ID\": \"6586\", \"Practice_Type_ID\": 18764, \"Case_Type_ID\": 3, \"Case_Type_Name\": \"Dog Bite\", \"Case_Type_Category\": null, \"Case_Type_Sub_Category\": null, \"Custom1\": null, \"Custom2\": null, \"Custom3\": null}\n",
      "{\"Truve_Org_ID\": 6586, \"Client_Org_ID\": \"6586\", \"Practice_Type_ID\": 18764, \"Case_Type_ID\": 4, \"Case_Type_Name\": \"Dram Shop Action\", \"Case_Type_Category\": null, \"Case_Type_Sub_Category\": null, \"Custom1\": null, \"Custom2\": null, \"Custom3\": null}\n",
      "{\"Truve_Org_ID\": 6586, \"Client_Org_ID\": \"6586\", \"Practice_Type_ID\": 18764, \"Case_Type_ID\": 5, \"Case_Type_Name\": \"Dual (MVC + WC)\", \"Case_Type_Category\": null, \"Case_Type_Sub_Category\": null, \"Custom1\": null, \"Custom2\": null, \"Custom3\": null}\n",
      "{\"Truve_Org_ID\": 6586, \"Client_Org_ID\": \"6586\", \"Practice_Type_ID\": 18764, \"Case_Type_ID\": 6, \"Case_Type_Name\": \"MVC with Government Vehicle - Ante Litem\", \"Case_Type_Category\": null, \"Case_Type_Sub_Category\": null, \"Custom1\": null, \"Custom2\": null, \"Custom3\": null}\n",
      "{\"Truve_Org_ID\": 6586, \"Client_Org_ID\": \"6586\", \"Practice_Type_ID\": 18764, \"Case_Type_ID\": 7, \"Case_Type_Name\": \"Medical Malpractice\", \"Case_Type_Category\": null, \"Case_Type_Sub_Category\": null, \"Custom1\": null, \"Custom2\": null, \"Custom3\": null}\n",
      "{\"Truve_Org_ID\": 6586, \"Client_Org_ID\": \"6586\", \"Practice_Type_ID\": 18764, \"Case_Type_ID\": 8, \"Case_Type_Name\": \"Motor Vehicle Collision - MVC\", \"Case_Type_Category\": null, \"Case_Type_Sub_Category\": null, \"Custom1\": null, \"Custom2\": null, \"Custom3\": null}\n",
      "{\"Truve_Org_ID\": 6586, \"Client_Org_ID\": \"6586\", \"Practice_Type_ID\": 18764, \"Case_Type_ID\": 9, \"Case_Type_Name\": \"Negligent Security\", \"Case_Type_Category\": null, \"Case_Type_Sub_Category\": null, \"Custom1\": null, \"Custom2\": null, \"Custom3\": null}\n",
      "{\"Truve_Org_ID\": 6586, \"Client_Org_ID\": \"6586\", \"Practice_Type_ID\": 18764, \"Case_Type_ID\": 10, \"Case_Type_Name\": \"Nursing Home Negligence\", \"Case_Type_Category\": null, \"Case_Type_Sub_Category\": null, \"Custom1\": null, \"Custom2\": null, \"Custom3\": null}\n",
      "{\"Truve_Org_ID\": 6586, \"Client_Org_ID\": \"6586\", \"Practice_Type_ID\": 18764, \"Case_Type_ID\": 11, \"Case_Type_Name\": \"Other\", \"Case_Type_Category\": null, \"Case_Type_Sub_Category\": null, \"Custom1\": null, \"Custom2\": null, \"Custom3\": null}\n",
      "{\"Truve_Org_ID\": 6586, \"Client_Org_ID\": \"6586\", \"Practice_Type_ID\": 18764, \"Case_Type_ID\": 12, \"Case_Type_Name\": \"Premises Liability (Slip, Trip & Fall)\", \"Case_Type_Category\": null, \"Case_Type_Sub_Category\": null, \"Custom1\": null, \"Custom2\": null, \"Custom3\": null}\n",
      "{\"Truve_Org_ID\": 6586, \"Client_Org_ID\": \"6586\", \"Practice_Type_ID\": 18764, \"Case_Type_ID\": 13, \"Case_Type_Name\": \"Product Liability\", \"Case_Type_Category\": null, \"Case_Type_Sub_Category\": null, \"Custom1\": null, \"Custom2\": null, \"Custom3\": null}\n",
      "{\"Truve_Org_ID\": 6586, \"Client_Org_ID\": \"6586\", \"Practice_Type_ID\": 18764, \"Case_Type_ID\": 14, \"Case_Type_Name\": \"Property Damage (PD)\", \"Case_Type_Category\": null, \"Case_Type_Sub_Category\": null, \"Custom1\": null, \"Custom2\": null, \"Custom3\": null}\n",
      "{\"Truve_Org_ID\": 6586, \"Client_Org_ID\": \"6586\", \"Practice_Type_ID\": 18764, \"Case_Type_ID\": 15, \"Case_Type_Name\": \"Trucking Collision - MVC\", \"Case_Type_Category\": null, \"Case_Type_Sub_Category\": null, \"Custom1\": null, \"Custom2\": null, \"Custom3\": null}\n",
      "{\"Truve_Org_ID\": 6586, \"Client_Org_ID\": \"6586\", \"Practice_Type_ID\": 18764, \"Case_Type_ID\": 16, \"Case_Type_Name\": \"Workers Comp (WC)\", \"Case_Type_Category\": null, \"Case_Type_Sub_Category\": null, \"Custom1\": null, \"Custom2\": null, \"Custom3\": null}\n",
      "{\"Truve_Org_ID\": 6586, \"Client_Org_ID\": \"6586\", \"Practice_Type_ID\": 18764, \"Case_Type_ID\": 17, \"Case_Type_Name\": \"Wrongful Death\", \"Case_Type_Category\": null, \"Case_Type_Sub_Category\": null, \"Custom1\": null, \"Custom2\": null, \"Custom3\": null}\n"
     ]
    }
   ],
   "source": [
    "#Peoples Transformation\n",
    "def casetype_transformation(df_casesummary, processed_project_df):\n",
    "    #Read Raw Data\n",
    "    result = builder.build_casetypes(df_casesummary, processed_project_df)\n",
    "    #print(result)\n",
    "    #return result\n",
    "    upload_result(result)\n",
    "    \n",
    "casetype_result = casetype_transformation(df_casesummary, processed_project_df)"
   ]
  },
  {
   "cell_type": "code",
   "execution_count": 10,
   "id": "d661cb65",
   "metadata": {},
   "outputs": [
    {
     "name": "stdout",
     "output_type": "stream",
     "text": [
      "Stopping session: 7ba7e67f-8ff6-44af-816d-9a20be7e3161\n",
      "Stopped session.\n"
     ]
    }
   ],
   "source": [
    "%stop_session"
   ]
  },
  {
   "cell_type": "code",
   "execution_count": null,
   "id": "9b05b5c2",
   "metadata": {},
   "outputs": [],
   "source": [
    "df_casesummary.select(\"caseType\").distinct().show(10)"
   ]
  },
  {
   "cell_type": "code",
   "execution_count": null,
   "id": "2410d7a1",
   "metadata": {},
   "outputs": [],
   "source": [
    "casetype_df = casetype_result[\"CMS_CaseTypes\"]\n"
   ]
  },
  {
   "cell_type": "code",
   "execution_count": null,
   "id": "2e7888ff",
   "metadata": {},
   "outputs": [],
   "source": [
    "casetype_df.show()"
   ]
  },
  {
   "cell_type": "code",
   "execution_count": null,
   "id": "edc3129e",
   "metadata": {},
   "outputs": [],
   "source": []
  }
 ],
 "metadata": {
  "kernelspec": {
   "display_name": "Glue PySpark",
   "language": "python",
   "name": "glue_pyspark"
  },
  "language_info": {
   "codemirror_mode": {
    "name": "python",
    "version": 3
   },
   "file_extension": ".py",
   "mimetype": "text/x-python",
   "name": "Python_Glue_Session",
   "pygments_lexer": "python3"
  }
 },
 "nbformat": 4,
 "nbformat_minor": 5
}
