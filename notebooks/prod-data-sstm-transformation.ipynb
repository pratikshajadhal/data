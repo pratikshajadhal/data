{
 "cells": [
  {
   "cell_type": "code",
   "execution_count": 2,
   "id": "8315afbb",
   "metadata": {},
   "outputs": [
    {
     "name": "stdout",
     "output_type": "stream",
     "text": [
      "Welcome to the Glue Interactive Sessions Kernel\n",
      "For more information on available magic commands, please type %help in any new cell.\n",
      "\n",
      "Please view our Getting Started page to access the most up-to-date information on the Interactive Sessions kernel: https://docs.aws.amazon.com/glue/latest/dg/interactive-sessions.html\n",
      "It looks like there is a newer version of the kernel available. The latest version is 0.36 and you have 0.31 installed.\n",
      "Please run `pip install --upgrade aws-glue-sessions` to upgrade your kernel\n",
      "Current iam_role is None\n",
      "iam_role has been set to arn:aws:iam::481237842548:role/CF-dev-TruveDevops-Glue-Role.\n"
     ]
    }
   ],
   "source": [
    "%iam_role arn:aws:iam::481237842548:role/CF-dev-TruveDevops-Glue-Role"
   ]
  },
  {
   "cell_type": "code",
   "execution_count": 4,
   "id": "86f8f0a6",
   "metadata": {},
   "outputs": [
    {
     "name": "stdout",
     "output_type": "stream",
     "text": [
      "Previous region: None\n",
      "Setting new region to: us-west-2\n",
      "Region is set to: us-west-2\n"
     ]
    }
   ],
   "source": [
    "%region us-west-2"
   ]
  },
  {
   "cell_type": "code",
   "execution_count": 0,
   "id": "c7525825",
   "metadata": {},
   "outputs": [
    {
     "name": "stdout",
     "output_type": "stream",
     "text": [
      "Additional python modules to be included:\n",
      "s3://dev-truve-devops-05-databricks-bucketetlrawdata-wu3m2thgf3o/fv_builder/sstm_transformation-0.1.0-py3-none-any.whl\n",
      "Previous number of workers: 5\n",
      "Setting new number of workers to: 4\n",
      "Connections to be included:\n",
      "dev-glue-redshift-connection\n",
      "Current idle_timeout is None minutes.\n",
      "idle_timeout has been set to 60 minutes.\n",
      "Authenticating with profile=default\n",
      "glue_role_arn defined by user: arn:aws:iam::481237842548:role/CF-dev-TruveDevops-Glue-Role\n",
      "Trying to create a Glue session for the kernel.\n",
      "Worker Type: G.1X\n",
      "Number of Workers: 4\n",
      "Session ID: cd307991-d616-4976-8593-2a5eab6a904b\n",
      "Applying the following default arguments:\n",
      "--glue_kernel_version 0.31\n",
      "--enable-glue-datacatalog true\n",
      "--additional-python-modules s3://dev-truve-devops-05-databricks-bucketetlrawdata-wu3m2thgf3o/fv_builder/sstm_transformation-0.1.0-py3-none-any.whl\n",
      "Waiting for session cd307991-d616-4976-8593-2a5eab6a904b to get into ready status...\n",
      "Session cd307991-d616-4976-8593-2a5eab6a904b has been created\n",
      "\n",
      "\n"
     ]
    }
   ],
   "source": [
    "%additional_python_modules \"s3://dev-truve-devops-05-databricks-bucketetlrawdata-wu3m2thgf3o/fv_builder/sstm_transformation-0.1.0-py3-none-any.whl\"\n",
    "%number_of_workers 4\n",
    "%connections dev-glue-redshift-connection\n",
    "%idle_timeout 60\n",
    "\n",
    "import sys\n",
    "from awsglue.transforms import *\n",
    "from awsglue.utils import getResolvedOptions\n",
    "from pyspark.context import SparkContext\n",
    "from awsglue.context import GlueContext\n",
    "from awsglue.job import Job\n",
    "  \n",
    "sc = SparkContext.getOrCreate()\n",
    "glueContext = GlueContext(sc)\n",
    "spark = glueContext.spark_session\n",
    "job = Job(glueContext)"
   ]
  },
  {
   "cell_type": "code",
   "execution_count": 1,
   "id": "4f82a92a",
   "metadata": {},
   "outputs": [
    {
     "name": "stdout",
     "output_type": "stream",
     "text": [
      "\n"
     ]
    }
   ],
   "source": [
    "#download configuration file\n",
    "import boto3\n",
    "session = boto3.Session()\n",
    "\n",
    "s3 = session.resource('s3')\n",
    "s3.Bucket('dev-truve-devops-05-databricks-bucketetlrawdata-wu3m2thgf3o').download_file('confs/filevine/sstm.yaml', 'sstm.yaml')"
   ]
  },
  {
   "cell_type": "code",
   "execution_count": 2,
   "id": "d8ae1f81",
   "metadata": {},
   "outputs": [
    {
     "name": "stdout",
     "output_type": "stream",
     "text": [
      "\n"
     ]
    }
   ],
   "source": [
    "with open(\"sstm.yaml\", \"r\") as f:\n",
    "    sstm_config = f.read()\n",
    "    "
   ]
  },
  {
   "cell_type": "code",
   "execution_count": 3,
   "id": "826bfe0f",
   "metadata": {},
   "outputs": [
    {
     "name": "stdout",
     "output_type": "stream",
     "text": [
      "\n"
     ]
    }
   ],
   "source": [
    "def readFromFile(ext, path) :\n",
    "    fileContent = spark.read.format(ext).option(\"header\", \"true\").option(\"mergeSchema\", \"true\").load(path)\n",
    "    return fileContent\n"
   ]
  },
  {
   "cell_type": "code",
   "execution_count": 4,
   "id": "088295e0",
   "metadata": {},
   "outputs": [
    {
     "name": "stdout",
     "output_type": "stream",
     "text": [
      "\n"
     ]
    }
   ],
   "source": [
    "def writeToFile(df_join , path, mode) :\n",
    "    df_join.write.parquet(path,mode=mode)"
   ]
  },
  {
   "cell_type": "code",
   "execution_count": 5,
   "id": "fe962eda",
   "metadata": {},
   "outputs": [
    {
     "name": "stdout",
     "output_type": "stream",
     "text": [
      "\n"
     ]
    }
   ],
   "source": [
    "spark.conf.set(\"spark.sql.parquet.enableVectorizedReader\",\"false\")\n",
    "spark.conf.set(\"spark.sql.sources.partitionColumnTypeInference.enabled\", \"false\")\n"
   ]
  },
  {
   "cell_type": "code",
   "execution_count": 6,
   "id": "2c402ec4",
   "metadata": {},
   "outputs": [
    {
     "name": "stdout",
     "output_type": "stream",
     "text": [
      "\n"
     ]
    }
   ],
   "source": [
    "from sstm_transformation.tsm_builder import TSMBuilder\n",
    "from pyspark.sql.functions import input_file_name\n",
    "import pyspark.sql.functions as F\n",
    "\n"
   ]
  },
  {
   "cell_type": "code",
   "execution_count": null,
   "id": "133208b9",
   "metadata": {},
   "outputs": [],
   "source": [
    "df_projectphaes = readFromFile(\"parquet\", \"s3://dev-truve-devops-05-databricks-bucketetlrawdata-wu3m2thgf3o/filevine/6586/18764/*/phases/*.parquet\")"
   ]
  },
  {
   "cell_type": "code",
   "execution_count": null,
   "id": "67e7dd89",
   "metadata": {},
   "outputs": [],
   "source": [
    "df_projectphaes.select(\"phase\").distinct().collect()"
   ]
  },
  {
   "cell_type": "code",
   "execution_count": null,
   "id": "39423ef6",
   "metadata": {},
   "outputs": [],
   "source": [
    "base_path = \"s3://dev-truve-devops-05-databricks-bucketetlrawdata-wu3m2thgf3o/temp/fv_raw_data\"\n",
    "\n",
    "writeToFile(df_projectphaes, f\"{base_path}/projectphases/\", \"overwrite\")\n"
   ]
  },
  {
   "cell_type": "code",
   "execution_count": null,
   "id": "738c06df",
   "metadata": {},
   "outputs": [],
   "source": [
    "df_projectphaes.show()"
   ]
  },
  {
   "cell_type": "code",
   "execution_count": 7,
   "id": "61fde2b8",
   "metadata": {},
   "outputs": [
    {
     "name": "stdout",
     "output_type": "stream",
     "text": [
      "\n"
     ]
    }
   ],
   "source": [
    "#Read All dfs \n",
    "#df_projectphaes = readFromFile(\"parquet\", \"s3://dev-truve-devops-05-databricks-bucketetlrawdata-wu3m2thgf3o/filevine/6586/18764/*/phases/*.parquet\")\n",
    "df_project =readFromFile(\"parquet\", \"s3://dev-truve-devops-05-databricks-bucketetlrawdata-wu3m2thgf3o/filevine/6586/18764/*/project.parquet\")\n",
    "df_intake =readFromFile(\"parquet\", \"s3://dev-truve-devops-05-databricks-bucketetlrawdata-wu3m2thgf3o/filevine/6586/18764/*/form/intake.parquet\")\n",
    "df_contact =readFromFile(\"parquet\", \"s3://dev-truve-devops-05-databricks-bucketetlrawdata-wu3m2thgf3o/filevine/6586/contact/historical_contacts.parquet\")\n",
    "df_projecttype = readFromFile(\"parquet\", \"s3://dev-truve-devops-05-databricks-bucketetlrawdata-wu3m2thgf3o/filevine/6586/projecttype/\")\n",
    "#df_meds = readFromFile(\"parquet\", \"s3://dev-truve-devops-05-databricks-bucketetlrawdata-wu3m2thgf3o/filevine/6586/18764/*/collections/meds.parquet\")\n",
    "df_casesummary =readFromFile(\"parquet\", \"s3://dev-truve-devops-05-databricks-bucketetlrawdata-wu3m2thgf3o/filevine/6586/18764/*/form/casesummary.parquet\")\n",
    "df_project_vitals = readFromFile(\"parquet\", \"s3://dev-truve-devops-05-databricks-bucketetlrawdata-wu3m2thgf3o/filevine/6586/18764/*/project_vitals.parquet\")\n",
    "#df_projectphaes = readFromFile(\"parquet\", \"s3://dev-truve-devops-05-databricks-bucketetlrawdata-wu3m2thgf3o/filevine/6586/18764/*/phases/*.parquet\")"
   ]
  },
  {
   "cell_type": "code",
   "execution_count": null,
   "id": "72c3a392",
   "metadata": {},
   "outputs": [],
   "source": [
    "#df_project_vitals = readFromFile(\"parquet\", \"s3://dev-truve-devops-05-databricks-bucketetlrawdata-wu3m2thgf3o/filevine/6586/18764/*/project_vitals.parquet\")\n"
   ]
  },
  {
   "cell_type": "code",
   "execution_count": 8,
   "id": "73b10412",
   "metadata": {},
   "outputs": [
    {
     "name": "stdout",
     "output_type": "stream",
     "text": [
      "+---------+\n",
      "|projectId|\n",
      "+---------+\n",
      "|7866965  |\n",
      "|7866965  |\n",
      "|7866965  |\n",
      "|7866965  |\n",
      "|7866965  |\n",
      "|7866965  |\n",
      "|7866965  |\n",
      "|7866965  |\n",
      "|7866965  |\n",
      "|7866965  |\n",
      "|7866965  |\n",
      "|7866965  |\n",
      "|9465452  |\n",
      "|9465452  |\n",
      "|9465452  |\n",
      "|9465452  |\n",
      "|9465452  |\n",
      "|9465452  |\n",
      "|9465452  |\n",
      "|9465452  |\n",
      "+---------+\n",
      "only showing top 20 rows\n"
     ]
    }
   ],
   "source": [
    "df_project_vitals = df_project_vitals.withColumn(\"input_file\", input_file_name())\n",
    "df_project_vitals = df_project_vitals.withColumn('projectId', F.element_at(F.split(F.col('input_file'), '/'), -2))\n",
    "df_project_vitals.select(\"projectId\").show(truncate=False)"
   ]
  },
  {
   "cell_type": "code",
   "execution_count": 9,
   "id": "14fc65cd",
   "metadata": {},
   "outputs": [
    {
     "name": "stdout",
     "output_type": "stream",
     "text": [
      "\n"
     ]
    }
   ],
   "source": [
    "base_path = \"s3://dev-truve-devops-05-databricks-bucketetlrawdata-wu3m2thgf3o/temp/fv_raw_data\"\n",
    "writeToFile(df_project, f\"{base_path}/project/\", \"overwrite\")\n",
    "writeToFile(df_intake, f\"{base_path}/intkae/\", \"overwrite\")\n",
    "writeToFile(df_contact, f\"{base_path}/contact/\", \"overwrite\")\n",
    "writeToFile(df_projecttype, f\"{base_path}/projecttype/\", \"overwrite\")\n",
    "writeToFile(df_casesummary, f\"{base_path}/casesummary/\", \"overwrite\")\n",
    "#writeToFile(df_meds, f\"{base_path}/meds/\", \"overwrite\")\n",
    "writeToFile(df_project_vitals, f\"{base_path}/projectvitals/\", \"overwrite\")\n",
    "#writeToFile(df_projectphaes, f\"{base_path}/projectphases/\", \"overwrite\")\n"
   ]
  },
  {
   "cell_type": "code",
   "execution_count": null,
   "id": "24608761",
   "metadata": {},
   "outputs": [],
   "source": [
    "df_casesummary.select([F.count(F.when(F.isnan(c) | F.col(c).isNull(), c)).alias(c) for c in [\"caseType\"]]).show()\n"
   ]
  },
  {
   "cell_type": "code",
   "execution_count": null,
   "id": "56b67d4d",
   "metadata": {},
   "outputs": [],
   "source": [
    "#writeToFile(df_project_vitals, f\"{base_path}/projectvitals/\", \"overwrite\")\n"
   ]
  },
  {
   "cell_type": "code",
   "execution_count": 10,
   "id": "40f55e31",
   "metadata": {},
   "outputs": [
    {
     "name": "stdout",
     "output_type": "stream",
     "text": [
      "\n"
     ]
    }
   ],
   "source": [
    "base_path = \"s3://dev-truve-devops-05-databricks-bucketetlrawdata-wu3m2thgf3o/temp/fv_raw_data\"\n",
    "\n",
    "df_project =readFromFile(\"parquet\", f\"{base_path}/project/\")\n",
    "df_intake =readFromFile(\"parquet\", f\"{base_path}/intkae/\")\n",
    "df_contact =readFromFile(\"parquet\", f\"{base_path}/contact/\")\n",
    "df_projecttype = readFromFile(\"parquet\", f\"{base_path}/projecttype/\")\n",
    "#df_meds = readFromFile(\"parquet\", f\"{base_path}/meds/\")\n",
    "df_casesummary =readFromFile(\"parquet\", f\"{base_path}/casesummary/\")\n",
    "df_project_vitals =readFromFile(\"parquet\", f\"{base_path}/projectvitals/\")\n",
    "df_projectphases = readFromFile(\"parquet\", f\"{base_path}/projectphases\")"
   ]
  },
  {
   "cell_type": "code",
   "execution_count": null,
   "id": "c9f17614",
   "metadata": {},
   "outputs": [],
   "source": [
    "df_project.count()\n",
    "#df_project.filter(df_project.projectId=9763509).show()"
   ]
  },
  {
   "cell_type": "code",
   "execution_count": null,
   "id": "42943584",
   "metadata": {},
   "outputs": [],
   "source": [
    "#df_project_vitals = df_project_vitals.withColumn(\"input_file\", input_file_name())\n"
   ]
  },
  {
   "cell_type": "code",
   "execution_count": null,
   "id": "384aabef",
   "metadata": {},
   "outputs": [],
   "source": [
    "df_project_vitals.select('projectId').show()"
   ]
  },
  {
   "cell_type": "code",
   "execution_count": null,
   "id": "7ea7d81d",
   "metadata": {},
   "outputs": [],
   "source": [
    "df_meds_modified = df_meds.filter(df_meds.id.isNotNull())"
   ]
  },
  {
   "cell_type": "code",
   "execution_count": null,
   "id": "53913502",
   "metadata": {},
   "outputs": [],
   "source": [
    "df_meds_modified.count()"
   ]
  },
  {
   "cell_type": "code",
   "execution_count": null,
   "id": "890003de",
   "metadata": {},
   "outputs": [],
   "source": [
    "#df_project_vitals = df_project_vitals.withColumn('projectId', F.element_at(F.split(F.col('input_file'), '/'), -3))\n"
   ]
  },
  {
   "cell_type": "code",
   "execution_count": 11,
   "id": "3987403f",
   "metadata": {},
   "outputs": [
    {
     "name": "stdout",
     "output_type": "stream",
     "text": [
      "\n"
     ]
    }
   ],
   "source": [
    "builder = TSMBuilder(\"sstm.yaml\", spark=spark)\n"
   ]
  },
  {
   "cell_type": "code",
   "execution_count": null,
   "id": "d0d26e39",
   "metadata": {},
   "outputs": [],
   "source": [
    "df_project_vitals.select(\"projectId\").show()\n",
    "#s3://dev-truve-devops-05-databricks-bucketetlrawdata-wu3m2thgf3o/filevine/6586/18764/10387917/project_vitals.parquet"
   ]
  },
  {
   "cell_type": "code",
   "execution_count": 12,
   "id": "9ce20a1d",
   "metadata": {},
   "outputs": [
    {
     "name": "stdout",
     "output_type": "stream",
     "text": [
      "\n"
     ]
    }
   ],
   "source": [
    "#Upload data on S3 \n",
    "from awsglue.dynamicframe import DynamicFrame\n",
    "def upload_result(result):\n",
    "    temp_bucket = \"s3://dev-truve-devops-05-databricks-bucketetlrawdata-wu3m2thgf3o/temp\"\n",
    "    for key, df in result.items():\n",
    "        print(f\"Writing {key}\")\n",
    "        writeToFile(df,\"s3://dev-truve-devops-05-databr-bucketetlprocesseddata-h2m2xopoctot/{}/\".format(key.lower()), \"overwrite\")\n",
    "        dyf = DynamicFrame.fromDF(dataframe=df, glue_ctx=glueContext, name=key)\n",
    "        table_name = key.lower()\n",
    "        dyf.show(10)\n",
    "        \n",
    "        datasink = glueContext.write_dynamic_frame.from_jdbc_conf(\n",
    "                        frame=dyf,\n",
    "                        catalog_connection=\"dev-glue-redshift-connection\",\n",
    "                        connection_options={\n",
    "                            \"preactions\" : \"delete from tsm.{}\".format(table_name),\n",
    "                            \"dbtable\": \"tsm.{}\".format(table_name), \n",
    "                            \"database\": \"truve\",\n",
    "                        },\n",
    "                        redshift_tmp_dir=temp_bucket,\n",
    "                        transformation_ctx=\"datasink\",\n",
    "                    )\n",
    "        '''\n",
    "        #break\n",
    "        redshift_connection_options = {\"url\": \"jdbc:redshift://dev-redshift-cluster.cxorr0thbkvd.us-west-2.redshift.amazonaws.com:5439/truve\", \n",
    "                        \"user\": \"truveadmin\", \n",
    "                        \"password\": \"XXXXXXX\",\n",
    "                        \"preactions\" : \"delete from tsm.{}\".format(table_name),\n",
    "                        \"dbtable\": \"tsm.{}\".format(table_name), \n",
    "                        \"redshiftTmpDir\": temp_bucket} \n",
    "        datasink4 = glueContext.write_dynamic_frame.from_options(frame=dyf,\n",
    "                                                        connection_type=\"redshift\",\n",
    "                                                        connection_options=redshift_connection_options)\n",
    "        '''\n",
    "        #break\n",
    "    "
   ]
  },
  {
   "cell_type": "code",
   "execution_count": 13,
   "id": "65ab263f",
   "metadata": {},
   "outputs": [
    {
     "name": "stdout",
     "output_type": "stream",
     "text": [
      "Writing CMS_PeopleType\n",
      "{\"People_Type\": \"\", \"Truve_Org_ID\": 6586, \"Client_Org_ID\": \"6586\", \"Custom1\": null, \"Custom2\": null, \"Custom3\": null, \"People_Sub_Type\": null, \"People_Type_ID\": 1}\n",
      "{\"People_Type\": \"Adjuster\", \"Truve_Org_ID\": 6586, \"Client_Org_ID\": \"6586\", \"Custom1\": null, \"Custom2\": null, \"Custom3\": null, \"People_Sub_Type\": null, \"People_Type_ID\": 2}\n",
      "{\"People_Type\": \"Attorney\", \"Truve_Org_ID\": 6586, \"Client_Org_ID\": \"6586\", \"Custom1\": null, \"Custom2\": null, \"Custom3\": null, \"People_Sub_Type\": null, \"People_Type_ID\": 3}\n",
      "{\"People_Type\": \"Client\", \"Truve_Org_ID\": 6586, \"Client_Org_ID\": \"6586\", \"Custom1\": null, \"Custom2\": null, \"Custom3\": null, \"People_Sub_Type\": null, \"People_Type_ID\": 4}\n",
      "{\"People_Type\": \"Court\", \"Truve_Org_ID\": 6586, \"Client_Org_ID\": \"6586\", \"Custom1\": null, \"Custom2\": null, \"Custom3\": null, \"People_Sub_Type\": null, \"People_Type_ID\": 5}\n",
      "{\"People_Type\": \"Defendant\", \"Truve_Org_ID\": 6586, \"Client_Org_ID\": \"6586\", \"Custom1\": null, \"Custom2\": null, \"Custom3\": null, \"People_Sub_Type\": null, \"People_Type_ID\": 6}\n",
      "{\"People_Type\": \"Expert\", \"Truve_Org_ID\": 6586, \"Client_Org_ID\": \"6586\", \"Custom1\": null, \"Custom2\": null, \"Custom3\": null, \"People_Sub_Type\": null, \"People_Type_ID\": 7}\n",
      "{\"People_Type\": \"Firm\", \"Truve_Org_ID\": 6586, \"Client_Org_ID\": \"6586\", \"Custom1\": null, \"Custom2\": null, \"Custom3\": null, \"People_Sub_Type\": null, \"People_Type_ID\": 8}\n",
      "{\"People_Type\": \"InsuranceCompany\", \"Truve_Org_ID\": 6586, \"Client_Org_ID\": \"6586\", \"Custom1\": null, \"Custom2\": null, \"Custom3\": null, \"People_Sub_Type\": null, \"People_Type_ID\": 9}\n",
      "{\"People_Type\": \"InvolvedParty\", \"Truve_Org_ID\": 6586, \"Client_Org_ID\": \"6586\", \"Custom1\": null, \"Custom2\": null, \"Custom3\": null, \"People_Sub_Type\": null, \"People_Type_ID\": 10}\n",
      "{\"People_Type\": \"Judge\", \"Truve_Org_ID\": 6586, \"Client_Org_ID\": \"6586\", \"Custom1\": null, \"Custom2\": null, \"Custom3\": null, \"People_Sub_Type\": null, \"People_Type_ID\": 11}\n",
      "{\"People_Type\": \"MedicalProvider\", \"Truve_Org_ID\": 6586, \"Client_Org_ID\": \"6586\", \"Custom1\": null, \"Custom2\": null, \"Custom3\": null, \"People_Sub_Type\": null, \"People_Type_ID\": 12}\n",
      "{\"People_Type\": \"Plaintiff\", \"Truve_Org_ID\": 6586, \"Client_Org_ID\": \"6586\", \"Custom1\": null, \"Custom2\": null, \"Custom3\": null, \"People_Sub_Type\": null, \"People_Type_ID\": 13}\n"
     ]
    }
   ],
   "source": [
    "#PeopleType Transformation\n",
    "def people_type_transformation(df_contact):\n",
    "    #Read Raw Data\n",
    "    result = builder.build_peopletypes(contact_df=df_contact)\n",
    "    #print(result)\n",
    "    upload_result(result)\n",
    "    \n",
    "people_type_transformation(df_contact)"
   ]
  },
  {
   "cell_type": "code",
   "execution_count": 14,
   "id": "2b7d1c88",
   "metadata": {},
   "outputs": [
    {
     "name": "stdout",
     "output_type": "stream",
     "text": [
      "[TSMTableField(name='Truve_Org_ID', data_type='int', transform=TSMFieldTransform(source='internal', type='key', source_entity_type=None, source_entity_name=None, source_field=None)), TSMTableField(name='Client_Org_ID', data_type='string', transform=TSMFieldTransform(source='etl', type='org_id', source_entity_type=None, source_entity_name=None, source_field=None)), TSMTableField(name='People_ID', data_type='int', transform=TSMFieldTransform(source='etl', type='data', source_entity_type='core', source_entity_name='contact', source_field='personId')), TSMTableField(name='First_Name', data_type='string', transform=TSMFieldTransform(source='etl', type='data', source_entity_type='core', source_entity_name='contact', source_field='firstName')), TSMTableField(name='Middle_Name', data_type='string', transform=None), TSMTableField(name='Last_Name', data_type='string', transform=TSMFieldTransform(source='etl', type='data', source_entity_type='core', source_entity_name='contact', source_field='lastName')), TSMTableField(name='Date_of_Birth', data_type='date', transform=None), TSMTableField(name='Gender', data_type='string', transform=None), TSMTableField(name='Custom1', data_type='string', transform=None), TSMTableField(name='Custom2', data_type='string', transform=None), TSMTableField(name='Custom3', data_type='string', transform=None)]\n",
      "root\n",
      " |-- People_ID: string (nullable = true)\n",
      " |-- People_Type: string (nullable = true)\n",
      "\n",
      "root\n",
      " |-- People_Type: string (nullable = true)\n",
      " |-- Truve_Org_ID: integer (nullable = true)\n",
      " |-- Client_Org_ID: string (nullable = true)\n",
      " |-- Custom1: string (nullable = true)\n",
      " |-- Custom2: string (nullable = true)\n",
      " |-- Custom3: string (nullable = true)\n",
      " |-- People_Sub_Type: string (nullable = true)\n",
      " |-- People_Type_ID: integer (nullable = true)\n",
      "\n",
      "Writing CMS_People\n",
      "{\"Truve_Org_ID\": 6586, \"Client_Org_ID\": \"6586\", \"People_ID\": 17882226, \"First_Name\": \"Example\", \"Middle_Name\": null, \"Last_Name\": \"Insurer\", \"Date_of_Birth\": null, \"Gender\": null, \"Custom1\": null, \"Custom2\": null, \"Custom3\": null}\n",
      "{\"Truve_Org_ID\": 6586, \"Client_Org_ID\": \"6586\", \"People_ID\": 17882229, \"First_Name\": \"Example\", \"Middle_Name\": null, \"Last_Name\": \"Adjuster\", \"Date_of_Birth\": null, \"Gender\": null, \"Custom1\": null, \"Custom2\": null, \"Custom3\": null}\n",
      "{\"Truve_Org_ID\": 6586, \"Client_Org_ID\": \"6586\", \"People_ID\": 17919794, \"First_Name\": \"4047104684\", \"Middle_Name\": null, \"Last_Name\": \"\", \"Date_of_Birth\": null, \"Gender\": null, \"Custom1\": null, \"Custom2\": null, \"Custom3\": null}\n",
      "{\"Truve_Org_ID\": 6586, \"Client_Org_ID\": \"6586\", \"People_ID\": 21445999, \"First_Name\": \"7062968423\", \"Middle_Name\": null, \"Last_Name\": \"\", \"Date_of_Birth\": null, \"Gender\": null, \"Custom1\": null, \"Custom2\": null, \"Custom3\": null}\n",
      "{\"Truve_Org_ID\": 6586, \"Client_Org_ID\": \"6586\", \"People_ID\": 21723841, \"First_Name\": \"North Carolina Farm Bureau\", \"Middle_Name\": null, \"Last_Name\": \"\", \"Date_of_Birth\": null, \"Gender\": null, \"Custom1\": null, \"Custom2\": null, \"Custom3\": null}\n",
      "{\"Truve_Org_ID\": 6586, \"Client_Org_ID\": \"6586\", \"People_ID\": 21806926, \"First_Name\": \"Example\", \"Middle_Name\": null, \"Last_Name\": \"Joe\", \"Date_of_Birth\": null, \"Gender\": null, \"Custom1\": null, \"Custom2\": null, \"Custom3\": null}\n",
      "{\"Truve_Org_ID\": 6586, \"Client_Org_ID\": \"6586\", \"People_ID\": 22623433, \"First_Name\": \"New\", \"Middle_Name\": null, \"Last_Name\": \"Provider\", \"Date_of_Birth\": null, \"Gender\": null, \"Custom1\": null, \"Custom2\": null, \"Custom3\": null}\n",
      "{\"Truve_Org_ID\": 6586, \"Client_Org_ID\": \"6586\", \"People_ID\": 23902920, \"First_Name\": \"Dionna\", \"Middle_Name\": null, \"Last_Name\": \"King\", \"Date_of_Birth\": null, \"Gender\": null, \"Custom1\": null, \"Custom2\": null, \"Custom3\": null}\n",
      "{\"Truve_Org_ID\": 6586, \"Client_Org_ID\": \"6586\", \"People_ID\": 23902921, \"First_Name\": \"Melissa\", \"Middle_Name\": null, \"Last_Name\": \"Hinton\", \"Date_of_Birth\": null, \"Gender\": null, \"Custom1\": null, \"Custom2\": null, \"Custom3\": null}\n",
      "{\"Truve_Org_ID\": 6586, \"Client_Org_ID\": \"6586\", \"People_ID\": 23902922, \"First_Name\": \"Ace American Insurance\", \"Middle_Name\": null, \"Last_Name\": \"\", \"Date_of_Birth\": null, \"Gender\": null, \"Custom1\": null, \"Custom2\": null, \"Custom3\": null}\n",
      "{\"Truve_Org_ID\": 6586, \"Client_Org_ID\": \"6586\", \"People_ID\": 23902923, \"First_Name\": \"Ignacio\", \"Middle_Name\": null, \"Last_Name\": \"Ruiz\", \"Date_of_Birth\": null, \"Gender\": null, \"Custom1\": null, \"Custom2\": null, \"Custom3\": null}\n",
      "{\"Truve_Org_ID\": 6586, \"Client_Org_ID\": \"6586\", \"People_ID\": 23902924, \"First_Name\": \"Jose\", \"Middle_Name\": null, \"Last_Name\": \"Solorio\", \"Date_of_Birth\": null, \"Gender\": null, \"Custom1\": null, \"Custom2\": null, \"Custom3\": null}\n",
      "{\"Truve_Org_ID\": 6586, \"Client_Org_ID\": \"6586\", \"People_ID\": 23902925, \"First_Name\": \"Michael\", \"Middle_Name\": null, \"Last_Name\": \"Rumph\", \"Date_of_Birth\": null, \"Gender\": null, \"Custom1\": null, \"Custom2\": null, \"Custom3\": null}\n",
      "{\"Truve_Org_ID\": 6586, \"Client_Org_ID\": \"6586\", \"People_ID\": 23902926, \"First_Name\": \"Lillie\", \"Middle_Name\": null, \"Last_Name\": \"Sapp\", \"Date_of_Birth\": null, \"Gender\": null, \"Custom1\": null, \"Custom2\": null, \"Custom3\": null}\n",
      "{\"Truve_Org_ID\": 6586, \"Client_Org_ID\": \"6586\", \"People_ID\": 23902927, \"First_Name\": \"Carrie\", \"Middle_Name\": null, \"Last_Name\": \"McPherson\", \"Date_of_Birth\": null, \"Gender\": null, \"Custom1\": null, \"Custom2\": null, \"Custom3\": null}\n",
      "{\"Truve_Org_ID\": 6586, \"Client_Org_ID\": \"6586\", \"People_ID\": 23902928, \"First_Name\": \"Allied Chiropractic\", \"Middle_Name\": null, \"Last_Name\": \"\", \"Date_of_Birth\": null, \"Gender\": null, \"Custom1\": null, \"Custom2\": null, \"Custom3\": null}\n",
      "{\"Truve_Org_ID\": 6586, \"Client_Org_ID\": \"6586\", \"People_ID\": 23902929, \"First_Name\": \"Houston MRI & Diagnostic Imaging\", \"Middle_Name\": null, \"Last_Name\": \"\", \"Date_of_Birth\": null, \"Gender\": null, \"Custom1\": null, \"Custom2\": null, \"Custom3\": null}\n",
      "{\"Truve_Org_ID\": 6586, \"Client_Org_ID\": \"6586\", \"People_ID\": 23902930, \"First_Name\": \"Advanced Orthopaedics & Sports Medicine\", \"Middle_Name\": null, \"Last_Name\": \"\", \"Date_of_Birth\": null, \"Gender\": null, \"Custom1\": null, \"Custom2\": null, \"Custom3\": null}\n",
      "{\"Truve_Org_ID\": 6586, \"Client_Org_ID\": \"6586\", \"People_ID\": 23902931, \"First_Name\": \"Janelle\", \"Middle_Name\": null, \"Last_Name\": \"Sultenfuss\", \"Date_of_Birth\": null, \"Gender\": null, \"Custom1\": null, \"Custom2\": null, \"Custom3\": null}\n",
      "{\"Truve_Org_ID\": 6586, \"Client_Org_ID\": \"6586\", \"People_ID\": 23902932, \"First_Name\": \"Richard\", \"Middle_Name\": null, \"Last_Name\": \"Bafaty\", \"Date_of_Birth\": null, \"Gender\": null, \"Custom1\": null, \"Custom2\": null, \"Custom3\": null}\n",
      "\n",
      "Writing CMS_PeopleRoleAssignments\n",
      "{\"People_ID\": 17882226, \"People_Type_ID\": 1, \"Truve_Org_ID\": 6586, \"Client_Org_ID\": \"6586\", \"Team_ID\": 1}\n",
      "{\"People_ID\": 17882229, \"People_Type_ID\": 1, \"Truve_Org_ID\": 6586, \"Client_Org_ID\": \"6586\", \"Team_ID\": 1}\n",
      "{\"People_ID\": 17919794, \"People_Type_ID\": 1, \"Truve_Org_ID\": 6586, \"Client_Org_ID\": \"6586\", \"Team_ID\": 1}\n",
      "{\"People_ID\": 21445999, \"People_Type_ID\": 1, \"Truve_Org_ID\": 6586, \"Client_Org_ID\": \"6586\", \"Team_ID\": 1}\n",
      "{\"People_ID\": 21723841, \"People_Type_ID\": 9, \"Truve_Org_ID\": 6586, \"Client_Org_ID\": \"6586\", \"Team_ID\": 1}\n",
      "{\"People_ID\": 21806926, \"People_Type_ID\": 4, \"Truve_Org_ID\": 6586, \"Client_Org_ID\": \"6586\", \"Team_ID\": 1}\n",
      "{\"People_ID\": 22623433, \"People_Type_ID\": 1, \"Truve_Org_ID\": 6586, \"Client_Org_ID\": \"6586\", \"Team_ID\": 1}\n",
      "{\"People_ID\": 23902920, \"People_Type_ID\": 2, \"Truve_Org_ID\": 6586, \"Client_Org_ID\": \"6586\", \"Team_ID\": 1}\n",
      "{\"People_ID\": 23902921, \"People_Type_ID\": 4, \"Truve_Org_ID\": 6586, \"Client_Org_ID\": \"6586\", \"Team_ID\": 1}\n",
      "{\"People_ID\": 23902922, \"People_Type_ID\": 9, \"Truve_Org_ID\": 6586, \"Client_Org_ID\": \"6586\", \"Team_ID\": 1}\n",
      "{\"People_ID\": 23902923, \"People_Type_ID\": 4, \"Truve_Org_ID\": 6586, \"Client_Org_ID\": \"6586\", \"Team_ID\": 1}\n",
      "{\"People_ID\": 23902924, \"People_Type_ID\": 4, \"Truve_Org_ID\": 6586, \"Client_Org_ID\": \"6586\", \"Team_ID\": 1}\n",
      "{\"People_ID\": 23902925, \"People_Type_ID\": 4, \"Truve_Org_ID\": 6586, \"Client_Org_ID\": \"6586\", \"Team_ID\": 1}\n",
      "{\"People_ID\": 23902926, \"People_Type_ID\": 4, \"Truve_Org_ID\": 6586, \"Client_Org_ID\": \"6586\", \"Team_ID\": 1}\n",
      "{\"People_ID\": 23902927, \"People_Type_ID\": 4, \"Truve_Org_ID\": 6586, \"Client_Org_ID\": \"6586\", \"Team_ID\": 1}\n",
      "{\"People_ID\": 23902928, \"People_Type_ID\": 12, \"Truve_Org_ID\": 6586, \"Client_Org_ID\": \"6586\", \"Team_ID\": 1}\n",
      "{\"People_ID\": 23902929, \"People_Type_ID\": 12, \"Truve_Org_ID\": 6586, \"Client_Org_ID\": \"6586\", \"Team_ID\": 1}\n",
      "{\"People_ID\": 23902930, \"People_Type_ID\": 12, \"Truve_Org_ID\": 6586, \"Client_Org_ID\": \"6586\", \"Team_ID\": 1}\n",
      "{\"People_ID\": 23902931, \"People_Type_ID\": 1, \"Truve_Org_ID\": 6586, \"Client_Org_ID\": \"6586\", \"Team_ID\": 1}\n",
      "{\"People_ID\": 23902932, \"People_Type_ID\": 1, \"Truve_Org_ID\": 6586, \"Client_Org_ID\": \"6586\", \"Team_ID\": 1}\n"
     ]
    }
   ],
   "source": [
    "#Peoples Transformation\n",
    "def people_master_transformation(df_contact):\n",
    "    #Read Raw Data\n",
    "    result = builder.build_peoplemaster(contact_df=df_contact)\n",
    "    #print(result)\n",
    "    #return result\n",
    "    upload_result(result)\n",
    "    \n",
    "people_master_result = people_master_transformation(df_contact)"
   ]
  },
  {
   "cell_type": "code",
   "execution_count": 15,
   "id": "414e4ca9",
   "metadata": {},
   "outputs": [
    {
     "name": "stdout",
     "output_type": "stream",
     "text": [
      "root\n",
      " |-- Truve_Org_ID: string (nullable = false)\n",
      " |-- Client_Org_ID: string (nullable = false)\n",
      " |-- Practice_Type_ID: integer (nullable = true)\n",
      " |-- Practice_Type_Name: string (nullable = true)\n",
      " |-- Custom1: string (nullable = true)\n",
      " |-- Custom2: string (nullable = true)\n",
      " |-- Custom3: string (nullable = true)\n",
      "\n",
      "{'CMS_PracticeTypes': DataFrame[Truve_Org_ID: int, Client_Org_ID: string, Practice_Type_ID: int, Practice_Type_Name: string, Custom1: string, Custom2: string, Custom3: string]}\n",
      "Writing CMS_PracticeTypes\n",
      "{\"Truve_Org_ID\": 6586, \"Client_Org_ID\": \"6586\", \"Practice_Type_ID\": 18764, \"Practice_Type_Name\": \"ALI AWAD LAW TEMPLATE\", \"Custom1\": null, \"Custom2\": null, \"Custom3\": null}\n",
      "{\"Truve_Org_ID\": 6586, \"Client_Org_ID\": \"6586\", \"Practice_Type_ID\": 29908, \"Practice_Type_Name\": \"Baby Formula / NEC cases\", \"Custom1\": null, \"Custom2\": null, \"Custom3\": null}\n",
      "{\"Truve_Org_ID\": 6586, \"Client_Org_ID\": \"6586\", \"Practice_Type_ID\": 30531, \"Practice_Type_Name\": \"CEO Lawyer Summit\", \"Custom1\": null, \"Custom2\": null, \"Custom3\": null}\n",
      "{\"Truve_Org_ID\": 6586, \"Client_Org_ID\": \"6586\", \"Practice_Type_ID\": 29578, \"Practice_Type_Name\": \"CPAP Recall\", \"Custom1\": null, \"Custom2\": null, \"Custom3\": null}\n",
      "{\"Truve_Org_ID\": 6586, \"Client_Org_ID\": \"6586\", \"Practice_Type_ID\": 25962, \"Practice_Type_Name\": \"Workers Comp (Master)\", \"Custom1\": null, \"Custom2\": null, \"Custom3\": null}\n"
     ]
    }
   ],
   "source": [
    "#Peoples Transformation\n",
    "def projecttype_transformation(df_projecttype):\n",
    "    #Read Raw Data\n",
    "    result = builder.build_practicetypes(df_projecttype)\n",
    "    print(result)\n",
    "    upload_result(result)\n",
    "    \n",
    "projecttype_transformation(df_projecttype)"
   ]
  },
  {
   "cell_type": "code",
   "execution_count": 16,
   "id": "0398e31c",
   "metadata": {},
   "outputs": [
    {
     "name": "stdout",
     "output_type": "stream",
     "text": [
      "+------------+-------------+----------------+--------+--------------------+-----------+--------------+------------------+-------+-------+-------+\n",
      "|Truve_Org_ID|Client_Org_ID|Practice_Type_ID|Phase_ID|          Phase_Name|Phase_Order|Phase_Category|Phase_Sub_Category|Custom1|Custom2|Custom3|\n",
      "+------------+-------------+----------------+--------+--------------------+-----------+--------------+------------------+-------+-------+-------+\n",
      "|        6586|         6586|           18764|   91388|            New Lead|       null|          null|              null|   null|   null|   null|\n",
      "|        6586|         6586|           18764|  103016|              Intake|       null|          null|              null|   null|   null|   null|\n",
      "|        6586|         6586|           18764|   91389|         File Set-Up|       null|          null|              null|   null|   null|   null|\n",
      "|        6586|         6586|           18764|   91390|           Treatment|       null|          null|              null|   null|   null|   null|\n",
      "|        6586|         6586|           18764|  103017|   Bills and Records|       null|          null|              null|   null|   null|   null|\n",
      "|        6586|         6586|           18764|  103018|    Ready For Demand|       null|          null|              null|   null|   null|   null|\n",
      "|        6586|         6586|           18764|  176616|      Demand Pending|       null|          null|              null|   null|   null|   null|\n",
      "|        6586|         6586|           18764|   91392|         Demand Sent|       null|          null|              null|   null|   null|   null|\n",
      "|        6586|         6586|           18764|  177675|First Offer Received|       null|          null|              null|   null|   null|   null|\n",
      "|        6586|         6586|           18764|  144438|UM Only (Liabilit...|       null|          null|              null|   null|   null|   null|\n",
      "|        6586|         6586|           18764|  103019|Negotiations/Reduct.|       null|          null|              null|   null|   null|   null|\n",
      "|        6586|         6586|           18764|  130597|     Settled/Pending|       null|          null|              null|   null|   null|   null|\n",
      "|        6586|         6586|           18764|   91395|        Disbursement|       null|          null|              null|   null|   null|   null|\n",
      "|        6586|         6586|           18764|  142845|  Pending Lit Review|       null|          null|              null|   null|   null|   null|\n",
      "|        6586|         6586|           18764|  163604|   Lit- Pending Suit|       null|          null|              null|   null|   null|   null|\n",
      "|        6586|         6586|           18764|  180485|Lit- Suit Dismiss...|       null|          null|              null|   null|   null|   null|\n",
      "|        6586|         6586|           18764|  163605|        Lit- Service|       null|          null|              null|   null|   null|   null|\n",
      "|        6586|         6586|           18764|  163606|Lit- Answer/Disco...|       null|          null|              null|   null|   null|   null|\n",
      "|        6586|         6586|           18764|  163607|      Lit- Pre-Trial|       null|          null|              null|   null|   null|   null|\n",
      "|        6586|         6586|           18764|  163608|          Lit- Trial|       null|          null|              null|   null|   null|   null|\n",
      "|        6586|         6586|           18764|  180476|Lit- Settled/Pending|       null|          null|              null|   null|   null|   null|\n",
      "|        6586|         6586|           18764|  180477|   Lit- Disbursement|       null|          null|              null|   null|   null|   null|\n",
      "|        6586|         6586|           18764|  130598|       Case Referred|       null|          null|              null|   null|   null|   null|\n",
      "|        6586|         6586|           18764|   91396|    Archived- Closed|       null|          null|              null|   null|   null|   null|\n",
      "|        6586|         6586|           18764|  168717|  Archived- Withdrew|       null|          null|              null|   null|   null|   null|\n",
      "|        6586|         6586|           18764|  168716|Archived- Terminated|       null|          null|              null|   null|   null|   null|\n",
      "|        6586|         6586|           18764|   91394|          Litigation|       null|          null|              null|   null|   null|   null|\n",
      "|        6586|         6586|           29908|  175225|              Active|       null|          null|              null|   null|   null|   null|\n",
      "|        6586|         6586|           29908|  175226|    Archived- Closed|       null|          null|              null|   null|   null|   null|\n",
      "|        6586|         6586|           29908|  175752|  Archived- Withdrew|       null|          null|              null|   null|   null|   null|\n",
      "|        6586|         6586|           29908|  175753|Archived- Terminated|       null|          null|              null|   null|   null|   null|\n",
      "|        6586|         6586|           30531|  181291|              Active|       null|          null|              null|   null|   null|   null|\n",
      "|        6586|         6586|           30531|  181292|            Archived|       null|          null|              null|   null|   null|   null|\n",
      "|        6586|         6586|           29578|  172766|              Active|       null|          null|              null|   null|   null|   null|\n",
      "|        6586|         6586|           29578|  172767|    Archived- Closed|       null|          null|              null|   null|   null|   null|\n",
      "|        6586|         6586|           29578|  175754|  Archived- Withdrew|       null|          null|              null|   null|   null|   null|\n",
      "|        6586|         6586|           29578|  175755|Archived- Terminated|       null|          null|              null|   null|   null|   null|\n",
      "|        6586|         6586|           25962|  141433|              Intake|       null|          null|              null|   null|   null|   null|\n",
      "|        6586|         6586|           25962|  141435|         File Set-Up|       null|          null|              null|   null|   null|   null|\n",
      "|        6586|         6586|           25962|  141436|           Treatment|       null|          null|              null|   null|   null|   null|\n",
      "|        6586|         6586|           25962|  180743|        Motion Filed|       null|          null|              null|   null|   null|   null|\n",
      "|        6586|         6586|           25962|  141440|         Demand Sent|       null|          null|              null|   null|   null|   null|\n",
      "|        6586|         6586|           25962|  180744|           Mediation|       null|          null|              null|   null|   null|   null|\n",
      "|        6586|         6586|           25962|  162434|        Negotiations|       null|          null|              null|   null|   null|   null|\n",
      "|        6586|         6586|           25962|  162436|          Settlement|       null|          null|              null|   null|   null|   null|\n",
      "|        6586|         6586|           25962|  180745| Settlement Approval|       null|          null|              null|   null|   null|   null|\n",
      "|        6586|         6586|           25962|  180551|        Disbursement|       null|          null|              null|   null|   null|   null|\n",
      "|        6586|         6586|           25962|  180746|     Lit/Hearing Set|       null|          null|              null|   null|   null|   null|\n",
      "|        6586|         6586|           25962|  180747|Lit/Deposition Sc...|       null|          null|              null|   null|   null|   null|\n",
      "|        6586|         6586|           25962|  180748|Lit/Written Disco...|       null|          null|              null|   null|   null|   null|\n",
      "|        6586|         6586|           25962|  180749| Lit/Pre Trial Order|       null|          null|              null|   null|   null|   null|\n",
      "|        6586|         6586|           25962|  180750|Lit/Post Hearing ...|       null|          null|              null|   null|   null|   null|\n",
      "|        6586|         6586|           25962|  180751|  Order/Award Issued|       null|          null|              null|   null|   null|   null|\n",
      "|        6586|         6586|           25962|  180625|   Attorney Fee Lien|       null|          null|              null|   null|   null|   null|\n",
      "|        6586|         6586|           25962|  175001|Archived- Terminated|       null|          null|              null|   null|   null|   null|\n",
      "|        6586|         6586|           25962|  175002|  Archived- Withdrew|       null|          null|              null|   null|   null|   null|\n",
      "|        6586|         6586|           25962|  141441|    Archived- Closed|       null|          null|              null|   null|   null|   null|\n",
      "|        6586|         6586|           25962|  170086|       Disengagement|       null|          null|              null|   null|   null|   null|\n",
      "+------------+-------------+----------------+--------+--------------------+-----------+--------------+------------------+-------+-------+-------+\n",
      "\n",
      "+------------+-------------+----------------+--------+--------------------+-----------+--------------+------------------+-------+-------+-------+\n",
      "|Truve_Org_ID|Client_Org_ID|Practice_Type_ID|Phase_ID|          Phase_Name|Phase_Order|Phase_Category|Phase_Sub_Category|Custom1|Custom2|Custom3|\n",
      "+------------+-------------+----------------+--------+--------------------+-----------+--------------+------------------+-------+-------+-------+\n",
      "|        6586|         6586|           18764|   91388|            New Lead|       null|          null|              null|   null|   null|   null|\n",
      "|        6586|         6586|           18764|  103016|              Intake|       null|          null|              null|   null|   null|   null|\n",
      "|        6586|         6586|           18764|   91389|         File Set-Up|       null|          null|              null|   null|   null|   null|\n",
      "|        6586|         6586|           18764|   91390|           Treatment|       null|          null|              null|   null|   null|   null|\n",
      "|        6586|         6586|           18764|  103017|   Bills and Records|       null|          null|              null|   null|   null|   null|\n",
      "|        6586|         6586|           18764|  103018|    Ready For Demand|       null|          null|              null|   null|   null|   null|\n",
      "|        6586|         6586|           18764|  176616|      Demand Pending|       null|          null|              null|   null|   null|   null|\n",
      "|        6586|         6586|           18764|   91392|         Demand Sent|       null|          null|              null|   null|   null|   null|\n",
      "|        6586|         6586|           18764|  177675|First Offer Received|       null|          null|              null|   null|   null|   null|\n",
      "|        6586|         6586|           18764|  144438|UM Only (Liabilit...|       null|          null|              null|   null|   null|   null|\n",
      "|        6586|         6586|           18764|  103019|Negotiations/Reduct.|       null|          null|              null|   null|   null|   null|\n",
      "|        6586|         6586|           18764|  130597|     Settled/Pending|       null|          null|              null|   null|   null|   null|\n",
      "|        6586|         6586|           18764|   91395|        Disbursement|       null|          null|              null|   null|   null|   null|\n",
      "|        6586|         6586|           18764|  142845|  Pending Lit Review|       null|          null|              null|   null|   null|   null|\n",
      "|        6586|         6586|           18764|  163604|   Lit- Pending Suit|       null|          null|              null|   null|   null|   null|\n",
      "|        6586|         6586|           18764|  180485|Lit- Suit Dismiss...|       null|          null|              null|   null|   null|   null|\n",
      "|        6586|         6586|           18764|  163605|        Lit- Service|       null|          null|              null|   null|   null|   null|\n",
      "|        6586|         6586|           18764|  163606|Lit- Answer/Disco...|       null|          null|              null|   null|   null|   null|\n",
      "|        6586|         6586|           18764|  163607|      Lit- Pre-Trial|       null|          null|              null|   null|   null|   null|\n",
      "|        6586|         6586|           18764|  163608|          Lit- Trial|       null|          null|              null|   null|   null|   null|\n",
      "+------------+-------------+----------------+--------+--------------------+-----------+--------------+------------------+-------+-------+-------+\n",
      "only showing top 20 rows\n",
      "\n",
      "{'CMS_Phases': DataFrame[Truve_Org_ID: int, Client_Org_ID: string, Practice_Type_ID: int, Phase_ID: int, Phase_Name: string, Phase_Order: string, Phase_Category: string, Phase_Sub_Category: string, Custom1: string, Custom2: string, Custom3: string]}\n",
      "Writing CMS_Phases\n",
      "{\"Truve_Org_ID\": 6586, \"Client_Org_ID\": \"6586\", \"Practice_Type_ID\": 18764, \"Phase_ID\": 91388, \"Phase_Name\": \"New Lead\", \"Phase_Order\": null, \"Phase_Category\": null, \"Phase_Sub_Category\": null, \"Custom1\": null, \"Custom2\": null, \"Custom3\": null}\n",
      "{\"Truve_Org_ID\": 6586, \"Client_Org_ID\": \"6586\", \"Practice_Type_ID\": 18764, \"Phase_ID\": 103016, \"Phase_Name\": \"Intake\", \"Phase_Order\": null, \"Phase_Category\": null, \"Phase_Sub_Category\": null, \"Custom1\": null, \"Custom2\": null, \"Custom3\": null}\n",
      "{\"Truve_Org_ID\": 6586, \"Client_Org_ID\": \"6586\", \"Practice_Type_ID\": 18764, \"Phase_ID\": 91389, \"Phase_Name\": \"File Set-Up\", \"Phase_Order\": null, \"Phase_Category\": null, \"Phase_Sub_Category\": null, \"Custom1\": null, \"Custom2\": null, \"Custom3\": null}\n",
      "{\"Truve_Org_ID\": 6586, \"Client_Org_ID\": \"6586\", \"Practice_Type_ID\": 18764, \"Phase_ID\": 91390, \"Phase_Name\": \"Treatment\", \"Phase_Order\": null, \"Phase_Category\": null, \"Phase_Sub_Category\": null, \"Custom1\": null, \"Custom2\": null, \"Custom3\": null}\n",
      "{\"Truve_Org_ID\": 6586, \"Client_Org_ID\": \"6586\", \"Practice_Type_ID\": 18764, \"Phase_ID\": 103017, \"Phase_Name\": \"Bills and Records\", \"Phase_Order\": null, \"Phase_Category\": null, \"Phase_Sub_Category\": null, \"Custom1\": null, \"Custom2\": null, \"Custom3\": null}\n",
      "{\"Truve_Org_ID\": 6586, \"Client_Org_ID\": \"6586\", \"Practice_Type_ID\": 18764, \"Phase_ID\": 103018, \"Phase_Name\": \"Ready For Demand\", \"Phase_Order\": null, \"Phase_Category\": null, \"Phase_Sub_Category\": null, \"Custom1\": null, \"Custom2\": null, \"Custom3\": null}\n",
      "{\"Truve_Org_ID\": 6586, \"Client_Org_ID\": \"6586\", \"Practice_Type_ID\": 18764, \"Phase_ID\": 176616, \"Phase_Name\": \"Demand Pending\", \"Phase_Order\": null, \"Phase_Category\": null, \"Phase_Sub_Category\": null, \"Custom1\": null, \"Custom2\": null, \"Custom3\": null}\n",
      "{\"Truve_Org_ID\": 6586, \"Client_Org_ID\": \"6586\", \"Practice_Type_ID\": 18764, \"Phase_ID\": 91392, \"Phase_Name\": \"Demand Sent\", \"Phase_Order\": null, \"Phase_Category\": null, \"Phase_Sub_Category\": null, \"Custom1\": null, \"Custom2\": null, \"Custom3\": null}\n",
      "{\"Truve_Org_ID\": 6586, \"Client_Org_ID\": \"6586\", \"Practice_Type_ID\": 18764, \"Phase_ID\": 177675, \"Phase_Name\": \"First Offer Received\", \"Phase_Order\": null, \"Phase_Category\": null, \"Phase_Sub_Category\": null, \"Custom1\": null, \"Custom2\": null, \"Custom3\": null}\n",
      "{\"Truve_Org_ID\": 6586, \"Client_Org_ID\": \"6586\", \"Practice_Type_ID\": 18764, \"Phase_ID\": 144438, \"Phase_Name\": \"UM Only (Liability Tendered)\", \"Phase_Order\": null, \"Phase_Category\": null, \"Phase_Sub_Category\": null, \"Custom1\": null, \"Custom2\": null, \"Custom3\": null}\n",
      "{\"Truve_Org_ID\": 6586, \"Client_Org_ID\": \"6586\", \"Practice_Type_ID\": 18764, \"Phase_ID\": 103019, \"Phase_Name\": \"Negotiations/Reduct.\", \"Phase_Order\": null, \"Phase_Category\": null, \"Phase_Sub_Category\": null, \"Custom1\": null, \"Custom2\": null, \"Custom3\": null}\n",
      "{\"Truve_Org_ID\": 6586, \"Client_Org_ID\": \"6586\", \"Practice_Type_ID\": 18764, \"Phase_ID\": 130597, \"Phase_Name\": \"Settled/Pending\", \"Phase_Order\": null, \"Phase_Category\": null, \"Phase_Sub_Category\": null, \"Custom1\": null, \"Custom2\": null, \"Custom3\": null}\n",
      "{\"Truve_Org_ID\": 6586, \"Client_Org_ID\": \"6586\", \"Practice_Type_ID\": 18764, \"Phase_ID\": 91395, \"Phase_Name\": \"Disbursement\", \"Phase_Order\": null, \"Phase_Category\": null, \"Phase_Sub_Category\": null, \"Custom1\": null, \"Custom2\": null, \"Custom3\": null}\n",
      "{\"Truve_Org_ID\": 6586, \"Client_Org_ID\": \"6586\", \"Practice_Type_ID\": 18764, \"Phase_ID\": 142845, \"Phase_Name\": \"Pending Lit Review\", \"Phase_Order\": null, \"Phase_Category\": null, \"Phase_Sub_Category\": null, \"Custom1\": null, \"Custom2\": null, \"Custom3\": null}\n",
      "{\"Truve_Org_ID\": 6586, \"Client_Org_ID\": \"6586\", \"Practice_Type_ID\": 18764, \"Phase_ID\": 163604, \"Phase_Name\": \"Lit- Pending Suit\", \"Phase_Order\": null, \"Phase_Category\": null, \"Phase_Sub_Category\": null, \"Custom1\": null, \"Custom2\": null, \"Custom3\": null}\n",
      "{\"Truve_Org_ID\": 6586, \"Client_Org_ID\": \"6586\", \"Practice_Type_ID\": 18764, \"Phase_ID\": 180485, \"Phase_Name\": \"Lit- Suit Dismissed/Re-File\", \"Phase_Order\": null, \"Phase_Category\": null, \"Phase_Sub_Category\": null, \"Custom1\": null, \"Custom2\": null, \"Custom3\": null}\n",
      "{\"Truve_Org_ID\": 6586, \"Client_Org_ID\": \"6586\", \"Practice_Type_ID\": 18764, \"Phase_ID\": 163605, \"Phase_Name\": \"Lit- Service\", \"Phase_Order\": null, \"Phase_Category\": null, \"Phase_Sub_Category\": null, \"Custom1\": null, \"Custom2\": null, \"Custom3\": null}\n",
      "{\"Truve_Org_ID\": 6586, \"Client_Org_ID\": \"6586\", \"Practice_Type_ID\": 18764, \"Phase_ID\": 163606, \"Phase_Name\": \"Lit- Answer/Discovery\", \"Phase_Order\": null, \"Phase_Category\": null, \"Phase_Sub_Category\": null, \"Custom1\": null, \"Custom2\": null, \"Custom3\": null}\n",
      "{\"Truve_Org_ID\": 6586, \"Client_Org_ID\": \"6586\", \"Practice_Type_ID\": 18764, \"Phase_ID\": 163607, \"Phase_Name\": \"Lit- Pre-Trial\", \"Phase_Order\": null, \"Phase_Category\": null, \"Phase_Sub_Category\": null, \"Custom1\": null, \"Custom2\": null, \"Custom3\": null}\n",
      "{\"Truve_Org_ID\": 6586, \"Client_Org_ID\": \"6586\", \"Practice_Type_ID\": 18764, \"Phase_ID\": 163608, \"Phase_Name\": \"Lit- Trial\", \"Phase_Order\": null, \"Phase_Category\": null, \"Phase_Sub_Category\": null, \"Custom1\": null, \"Custom2\": null, \"Custom3\": null}\n"
     ]
    }
   ],
   "source": [
    "#Peoples Transformation\n",
    "#df_projecttype = readFromFile(\"parquet\", \"s3://dev-truve-devops-05-databricks-bucketetlrawdata-wu3m2thgf3o/filevine/6586/projecttype/\")\n",
    "\n",
    "def phases_transformation(df_projecttype):\n",
    "    #Read Raw Data\n",
    "    \n",
    "    result = builder.build_phasemaster(df_projecttype)\n",
    "    print(result)\n",
    "    upload_result(result)\n",
    "    return result\n",
    "    \n",
    "phase_result = phases_transformation(df_projecttype)"
   ]
  },
  {
   "cell_type": "code",
   "execution_count": null,
   "id": "39abe18a",
   "metadata": {},
   "outputs": [],
   "source": [
    "#Peoples Transformation\n",
    "def value_transformation(df_meds):\n",
    "    #Read Raw Data\n",
    "    result = builder.build_casefigures(df_meds)\n",
    "    #print(result)\n",
    "    upload_result(result)\n",
    "    return result\n",
    "    \n",
    "result = value_transformation(df_meds_modified)"
   ]
  },
  {
   "cell_type": "code",
   "execution_count": null,
   "id": "3cca86ca",
   "metadata": {},
   "outputs": [],
   "source": [
    "#Peoples Transformation\n",
    "'''\n",
    "def cases_transformation(df_project):\n",
    "    #Read Raw Data\n",
    "    result = builder.build_casemaster(df_project)\n",
    "    return result\n",
    "    #print(result)\n",
    "    #upload_result(result)\n",
    "    \n",
    "result = cases_transformation(df_project)\n",
    "'''"
   ]
  },
  {
   "cell_type": "code",
   "execution_count": 20,
   "id": "1da98d96",
   "metadata": {},
   "outputs": [
    {
     "name": "stdout",
     "output_type": "stream",
     "text": [
      "+------------+-------------+--------------+--------+---------+---------------------------+--------------------+--------------+----------------+--------------+----------------+-----------------------+-------------------+-----------------+-----------+-------+-------+-------+\n",
      "|Truve_Org_ID|Client_Org_ID|Parent_Case_ID| Case_ID|Intake_ID|Person_Performing_Intake_ID|       Intake_Source|Date_of_Intake|Date_of_Incident|Date_of_Signup|DUI_or_HitandRun|Referral_Fee_Percentage|If_Case_Referred_In|If_Qualified_Case|If_VIP_Lead|Custom1|Custom2|Custom3|\n",
      "+------------+-------------+--------------+--------+---------+---------------------------+--------------------+--------------+----------------+--------------+----------------+-----------------------+-------------------+-----------------+-----------+-------+-------+-------+\n",
      "|        6586|         6586|       9252629| 9252629|  9252629|                   30625608|               Other|    2021-04-28|      2021-04-22|    2021-04-27|            None|                   null|                  1|                1|          1|   null|   null|   null|\n",
      "|        6586|         6586|       9234752| 9234752|  9234752|                   30280883|Friend/Family of ...|    2021-04-26|      2021-04-24|    2021-04-26|            None|                   null|                  1|                1|          1|   null|   null|   null|\n",
      "|        6586|         6586|       9291082| 9291082|  9291082|                   30625608|              Google|    2021-05-04|      2021-04-26|    2021-05-03|            None|                   null|                  1|                1|          1|   null|   null|   null|\n",
      "|        6586|         6586|       9150598| 9150598|  9150598|                   30280883|           Instagram|    2021-04-15|      2021-04-14|    2021-04-14|            None|                   null|                  1|                1|          1|   null|   null|   null|\n",
      "|        6586|         6586|      10005619|10005619| 10005619|                   31788126|Walker/ Los Defen...|    2021-11-05|      2021-02-24|    2021-11-05|     Hit and Run|                   null|                  1|                1|          1|   null|   null|   null|\n",
      "|        6586|         6586|       8917878| 8917878|  8917878|                   23907330|              Google|    2021-03-24|      2021-03-24|    2021-03-24|            None|                   null|                  1|                1|          1|   null|   null|   null|\n",
      "|        6586|         6586|      10082437|10082437| 10082437|                   31788126|   Attorney Referral|    2021-12-01|      2021-11-01|    2021-12-01|            None|                   null|                  1|                1|          1|   null|   null|   null|\n",
      "|        6586|         6586|       9146364| 9146364|  9146364|                   30280883|            Facebook|    2021-04-14|      2021-04-11|    2021-04-14|            None|                   null|                  1|                1|       null|   null|   null|   null|\n",
      "|        6586|         6586|       8907225| 8907225|  8907225|                   29453591|            Facebook|    2021-03-22|      2021-03-02|    2021-03-22|            None|                   null|                  1|                1|          1|   null|   null|   null|\n",
      "|        6586|         6586|       8734475| 8734475|  8734475|                   23907329|     Doctor Referral|    2021-02-22|      2021-02-19|          null|            None|                   null|                  1|                1|          1|   null|   null|   null|\n",
      "|        6586|         6586|      10171521|10171521| 10171521|                   31788126|               Other|    2021-12-30|      2021-12-12|          null|            None|                   null|                  1|                1|          1|   null|   null|   null|\n",
      "|        6586|         6586|       9256722| 9256722|  9256722|                   30625608|Friend/Family of ...|    2021-04-29|      2021-04-28|    2021-04-29|            null|                   null|                  1|                1|          1|   null|   null|   null|\n",
      "|        6586|         6586|       9908694| 9908694|  9908694|                   31788126|Friend/Family of ...|    2021-10-06|      2021-06-03|    2021-10-06|            None|                   null|                  1|                1|          1|   null|   null|   null|\n",
      "|        6586|         6586|       8751952| 8751952|  8751952|                   23907329|     Doctor Referral|    2021-02-24|      2021-02-19|          null|            None|                   null|                  1|                1|          1|   null|   null|   null|\n",
      "|        6586|         6586|       7532487| 7532487|  7532487|                   25602708|            Facebook|    2020-03-16|      2020-02-24|          null|            null|                   null|                  1|                1|          1|   null|   null|   null|\n",
      "|        6586|         6586|      10033809|10033809| 10033809|                   29453591|   Attorney Referral|    2021-11-11|      2021-10-12|          null|            None|                   null|                  1|                1|          1|   null|   null|   null|\n",
      "|        6586|         6586|       9466399| 9466399|  9466399|                   30625608|           Instagram|    2021-06-04|      2021-03-29|    2021-06-03|             DUI|                   null|               null|                1|          1|   null|   null|   null|\n",
      "|        6586|         6586|       9304754| 9304754|  9304754|                   30280883|     Doctor Referral|    2021-05-06|      2021-04-29|    2021-05-05|            None|                   null|                  1|                1|          1|   null|   null|   null|\n",
      "|        6586|         6586|       9162587| 9162587|  9162587|                   30280883|              Google|    2021-04-16|      2021-03-27|    2021-04-16|            None|                   null|                  1|                1|          1|   null|   null|   null|\n",
      "|        6586|         6586|      10206873|10206873| 10206873|                   31788126|From An Existing ...|    2022-01-18|      2021-04-09|    2022-01-17|            None|                   null|                  1|                1|          1|   null|   null|   null|\n",
      "|        6586|         6586|       8834610| 8834610|  8834610|                   23907329|            Facebook|    2021-03-05|      2021-03-04|    2021-03-05|            None|                   null|                  1|                1|          1|   null|   null|   null|\n",
      "|        6586|         6586|       9470606| 9470606|  9470606|                   30625608|            Facebook|    2021-06-08|      2021-06-03|    2021-06-07|            None|                   null|                  1|                1|          1|   null|   null|   null|\n",
      "|        6586|         6586|       9823768| 9823768|  9823768|                   31788126|     Doctor Referral|    2021-09-20|      2021-08-06|    2021-09-19|            None|                   null|                  1|                1|          1|   null|   null|   null|\n",
      "|        6586|         6586|       9232581| 9232581|  9232581|                   25959023|               Other|    2021-04-25|      2021-04-24|    2021-04-25|            None|                   null|                  1|                1|          1|   null|   null|   null|\n",
      "|        6586|         6586|       9819825| 9819825|  9819825|                   31788126|Walker/ Los Defen...|    2021-09-17|      2021-08-19|    2021-09-16|            None|                   null|                  1|                1|          1|   null|   null|   null|\n",
      "|        6586|         6586|       9969786| 9969786|  9969786|                   31788126|            Facebook|    2021-10-25|      2021-01-01|    2021-10-24|     Hit and Run|                   null|                  1|                1|          1|   null|   null|   null|\n",
      "|        6586|         6586|       9819837| 9819837|  9819837|                   31788126|Walker/ Los Defen...|    2021-09-17|      2021-08-19|    2021-09-16|            None|                   null|                  1|                1|       null|   null|   null|   null|\n",
      "|        6586|         6586|       9854136| 9854136|  9854136|                   31788126|From A Former Cli...|    2021-09-21|      2019-12-13|    2021-09-21|            None|                   null|                  1|                1|          1|   null|   null|   null|\n",
      "|        6586|         6586|      10129451|10129451| 10129451|                   31764835|              Google|    2021-12-08|      2020-07-15|          null|            null|                   null|                  1|                1|          1|   null|   null|   null|\n",
      "|        6586|         6586|       9339895| 9339895|  9339895|                   30625608|Friend/Family of ...|    2021-05-13|      2021-05-12|    2021-05-13|            None|                   null|                  1|                1|       null|   null|   null|   null|\n",
      "|        6586|         6586|       9852971| 9852971|  9852971|                   31788126|From A Former Cli...|    2021-09-21|      2019-12-13|    2021-09-21|            None|                   null|               null|                1|          1|   null|   null|   null|\n",
      "|        6586|         6586|       9664499| 9664499|  9664499|                   31788126|Friend/Family of ...|    2021-07-21|      2021-07-18|    2021-07-21|            None|                   null|                  1|                1|          1|   null|   null|   null|\n",
      "|        6586|         6586|       9819835| 9819835|  9819835|                   31788126|Walker/ Los Defen...|    2021-09-17|      2021-08-19|    2021-09-16|            None|                   null|                  1|                1|       null|   null|   null|   null|\n",
      "|        6586|         6586|       9590800| 9590800|  9590800|                   31788126|            Facebook|    2021-07-14|      2021-06-23|    2021-07-14|            None|                   null|                  1|                1|       null|   null|   null|   null|\n",
      "|        6586|         6586|       8142851| 8142851|  8142851|                   25959023|              Google|    2020-11-24|      2020-08-09|    2020-11-24|            None|                   null|                  1|                1|          1|   null|   null|   null|\n",
      "|        6586|         6586|       9466400| 9466400|  9466400|                   30625608|           Instagram|    2021-06-04|      2021-03-29|    2021-06-03|             DUI|                   null|               null|                1|          1|   null|   null|   null|\n",
      "|        6586|         6586|       8862376| 8862376|  8862376|                   23907329|           Instagram|    2021-03-11|      2020-10-19|          null|            None|                   null|               null|                1|          1|   null|   null|   null|\n",
      "|        6586|         6586|       9969780| 9969780|  9969780|                   31788126|            Facebook|    2021-10-25|      2021-01-01|    2021-10-24|     Hit and Run|                   null|                  1|                1|          1|   null|   null|   null|\n",
      "|        6586|         6586|       8865186| 8865186|  8865186|                   23907329|     Doctor Referral|    2021-03-11|      2021-03-06|    2021-03-11|            None|                   null|                  1|                1|          1|   null|   null|   null|\n",
      "|        6586|         6586|       9447353| 9447353|  9447353|                   30625608|           Instagram|    2021-05-27|      2021-05-23|    2021-05-27|            None|                   null|                  1|                1|          1|   null|   null|   null|\n",
      "|        6586|         6586|       8877424| 8877424|  8877424|                   23907329|            Facebook|    2021-03-12|      2021-01-12|          null|            None|                   null|                  1|                1|          1|   null|   null|   null|\n",
      "|        6586|         6586|       8756979| 8756979|  8756979|                   25959023|              Google|    2021-02-25|      2020-06-28|    2021-02-25|            None|                   null|                  1|                1|          1|   null|   null|   null|\n",
      "|        6586|         6586|       9319806| 9319806|  9319806|                   30280883|               Other|    2021-05-11|      2021-05-07|    2021-05-11|            None|                   null|                  1|                1|          1|   null|   null|   null|\n",
      "|        6586|         6586|       7533298| 7533298|  7533298|                   23907324|               Other|    2020-07-13|      2020-07-12|          null|            None|                   null|               null|                1|          1|   null|   null|   null|\n",
      "|        6586|         6586|       9889167| 9889167|  9889167|                   31788126|               Other|    2021-09-29|      2021-04-01|    2021-09-29|            None|                   null|                  1|                1|       null|   null|   null|   null|\n",
      "|        6586|         6586|       9709847| 9709847|  9709847|                   31788126|Friend/Family of ...|    2021-08-04|      2021-06-12|    2021-08-04|            None|                   null|                  1|                1|       null|   null|   null|   null|\n",
      "|        6586|         6586|       9441228| 9441228|  9441228|                   30625608|Friend/Family of ...|    2021-05-26|      2021-05-01|    2021-05-26|            None|                   null|                  1|                1|          1|   null|   null|   null|\n",
      "|        6586|         6586|       9151470| 9151470|  9151470|                   23907330|           Instagram|    2021-04-15|      2021-04-15|    2021-04-15|            None|                   null|                  1|                1|          1|   null|   null|   null|\n",
      "|        6586|         6586|       9864004| 9864004|  9864004|                   31788126|Friend/Family of ...|    2021-09-24|      2021-09-20|    2021-09-24|            None|                   null|                  1|                1|       null|   null|   null|   null|\n",
      "|        6586|         6586|       9746778| 9746778|  9746778|                   31788126|From A Former Cli...|    2021-08-18|      2021-08-15|    2021-08-18|            None|                   null|                  1|                1|          1|   null|   null|   null|\n",
      "|        6586|         6586|      10197320|10197320| 10197320|                   31788126|Friend/Family of ...|    2022-01-12|      2022-01-10|    2022-01-12|            None|                   null|                  1|                1|          1|   null|   null|   null|\n",
      "|        6586|         6586|       8990151| 8990151|  8990151|                   29453591|            Facebook|    2021-04-02|      2021-04-02|    2021-04-02|            None|                   null|                  1|                1|          1|   null|   null|   null|\n",
      "|        6586|         6586|       9746708| 9746708|  9746708|                   31788126|From A Former Cli...|    2021-08-18|      2021-08-15|    2021-08-18|            None|                   null|                  1|                1|          1|   null|   null|   null|\n",
      "|        6586|         6586|       8115333| 8115333|  8115333|                   25959023|Friend/Family of ...|    2020-11-16|      2020-11-11|    2020-11-16|            None|                   null|                  1|                1|          1|   null|   null|   null|\n",
      "|        6586|         6586|       9718873| 9718873|  9718873|                   29453591|            Facebook|    2021-08-07|      2021-04-21|          null|            None|                   null|                  1|                1|          1|   null|   null|   null|\n",
      "|        6586|         6586|       9766312| 9766312|  9766312|                   31788126|   Attorney Referral|    2021-08-26|      2020-09-01|    2021-08-26|            None|                   null|                  1|                1|          1|   null|   null|   null|\n",
      "|        6586|         6586|       9306605| 9306605|  9306605|                   23907324|From An Existing ...|    2021-05-06|      2021-05-02|          null|            None|                   null|                  1|                1|          1|   null|   null|   null|\n",
      "|        6586|         6586|       9767696| 9767696|  9767696|                   31788126|            Facebook|    2021-08-27|      2021-08-10|    2021-08-26|            None|                   null|                  1|                1|          1|   null|   null|   null|\n",
      "|        6586|         6586|      10131718|10131718| 10131718|                   31788126|Walker/ Los Defen...|    2021-12-09|      2021-10-19|    2021-12-09|     Hit and Run|                   null|                  1|                1|          1|   null|   null|   null|\n",
      "|        6586|         6586|       8639235| 8639235|  8639235|                   23907330|  Is A Former Client|    2021-02-09|      2021-02-07|    2021-02-09|            None|                   null|                  1|                1|          1|   null|   null|   null|\n",
      "|        6586|         6586|       9848486| 9848486|  9848486|                   31788126|     Instagram - Ads|    2021-09-20|      2021-07-23|    2021-09-20|            None|                   null|                  1|                1|       null|   null|   null|   null|\n",
      "|        6586|         6586|       9450626| 9450626|  9450626|                   30280883|            Facebook|    2021-05-28|      2021-05-28|    2021-05-28|            None|                   null|                  1|                1|          1|   null|   null|   null|\n",
      "|        6586|         6586|       9662547| 9662547|  9662547|                   31788126|              Google|    2021-07-21|      2021-02-08|    2021-07-21|            None|                   null|               null|                1|          1|   null|   null|   null|\n",
      "|        6586|         6586|       9848703| 9848703|  9848703|                   31788126|     Instagram - Ads|    2021-09-20|      2021-07-23|    2021-09-20|            None|                   null|                  1|                1|       null|   null|   null|   null|\n",
      "|        6586|         6586|       8639188| 8639188|  8639188|                   23907330|  Is A Former Client|    2021-02-09|      2021-02-07|    2021-02-09|            None|                   null|                  1|                1|          1|   null|   null|   null|\n",
      "|        6586|         6586|      10065463|10065463| 10065463|                   29453591|Walker/ Los Defen...|    2021-11-26|      2021-11-12|    2021-11-26|            None|                   null|                  1|                1|          1|   null|   null|   null|\n",
      "|        6586|         6586|       9317010| 9317010|  9317010|                   30625608|               Other|    2021-05-11|      2021-05-07|    2021-05-10|            None|                   null|                  1|                1|          1|   null|   null|   null|\n",
      "|        6586|         6586|      10143298|10143298| 10143298|                   33005217|     Doctor Referral|    2021-12-15|      2021-12-09|    2021-12-15|            None|                   null|                  1|                1|          1|   null|   null|   null|\n",
      "|        6586|         6586|       9255971| 9255971|  9255971|                   30625608|Friend/Family of ...|    2021-04-29|      2021-04-28|    2021-04-28|            None|                   null|                  1|                1|          1|   null|   null|   null|\n",
      "|        6586|         6586|      10006050|10006050| 10006050|                   31788126|Walker/ Los Defen...|    2021-11-05|      2021-02-24|    2021-11-05|            None|                   null|                  1|                1|          1|   null|   null|   null|\n",
      "|        6586|         6586|       9445518| 9445518|  9445518|                   30625608|Friend/Family of ...|    2021-05-27|      2021-05-01|    2021-05-26|            None|                   null|                  1|                1|          1|   null|   null|   null|\n",
      "|        6586|         6586|      10201700|10201700| 10201700|                   31788126|              Google|    2022-01-14|      2021-06-10|    2022-01-13|            None|                   null|                  1|                1|          1|   null|   null|   null|\n",
      "|        6586|         6586|       8684251| 8684251|  8684251|                   23907330|            Facebook|    2021-02-16|      2021-02-12|    2021-02-16|     Hit and Run|                   null|                  1|                1|          1|   null|   null|   null|\n",
      "|        6586|         6586|       9729893| 9729893|  9729893|                   25959023|Friend/Family of ...|    2021-08-11|      2021-07-25|    2021-08-11|            None|                   null|                  1|                1|          1|   null|   null|   null|\n",
      "|        6586|         6586|       9530198| 9530198|  9530198|                   30625608|Friend/Family of ...|    2021-06-22|      2021-06-16|    2021-06-22|     Hit and Run|                   null|               null|                1|       null|   null|   null|   null|\n",
      "|        6586|         6586|      10104740|10104740| 10104740|                   31788126|            Facebook|    2021-12-02|      2021-04-17|    2021-12-02|            None|                   null|                  1|                1|          1|   null|   null|   null|\n",
      "|        6586|         6586|       8895771| 8895771|  8895771|                   23907329|Friend/Family of ...|    2021-03-18|      2021-03-17|          null|            None|                   null|                  1|                1|          1|   null|   null|   null|\n",
      "|        6586|         6586|       9709849| 9709849|  9709849|                   31788126|Friend/Family of ...|    2021-08-04|      2021-06-12|    2021-08-04|            None|                   null|                  1|                1|       null|   null|   null|   null|\n",
      "|        6586|         6586|       7857494| 7857494|  7857494|                   23907329|Friend/Family of ...|    2020-10-12|      2020-10-03|    2020-10-08|            None|                   null|                  1|                1|          1|   null|   null|   null|\n",
      "|        6586|         6586|       9990797| 9990797|  9990797|                   31788126|   Attorney Referral|    2021-11-01|      2021-10-20|    2021-11-01|            None|                   null|                  1|                1|          1|   null|   null|   null|\n",
      "|        6586|         6586|       9746783| 9746783|  9746783|                   31788126|From A Former Cli...|    2021-08-18|      2021-08-15|    2021-08-18|            None|                   null|                  1|                1|          1|   null|   null|   null|\n",
      "|        6586|         6586|       9892286| 9892286|  9892286|                   31788126|              Google|    2021-09-30|      2021-07-16|    2021-09-30|     Hit and Run|                   null|                  1|                1|       null|   null|   null|   null|\n",
      "|        6586|         6586|       9746781| 9746781|  9746781|                   31788126|From A Former Cli...|    2021-08-18|      2021-08-15|    2021-08-18|            None|                   null|                  1|                1|          1|   null|   null|   null|\n",
      "|        6586|         6586|       8909580| 8909580|  8909580|                   29453591|            Facebook|    2021-03-22|      2021-03-02|    2021-03-22|            None|                   null|                  1|                1|          1|   null|   null|   null|\n",
      "|        6586|         6586|      10203989|10203989| 10203989|                   31788126|   Attorney Referral|    2022-01-14|      2020-09-18|    2022-01-14|     Hit and Run|                   null|                  1|                1|          1|   null|   null|   null|\n",
      "|        6586|         6586|       8909587| 8909587|  8909587|                   29453591|            Facebook|    2021-03-22|      2021-03-02|          null|            None|                   null|                  1|                1|          1|   null|   null|   null|\n",
      "|        6586|         6586|       9509266| 9509266|  9509266|                   30625608|            Facebook|    2021-06-15|      2021-06-11|    2021-06-14|            None|                   null|                  1|                1|          1|   null|   null|   null|\n",
      "|        6586|         6586|      10873747|10873747| 10873747|                   31764835|Is An Existing Cl...|          null|      2022-05-20|          null|            None|                   null|               null|                1|       null|   null|   null|   null|\n",
      "|        6586|         6586|      10007102|10007102| 10007102|                   31788126|              Google|    2021-11-05|      2021-11-04|    2021-11-05|            None|                   null|                  1|                1|          1|   null|   null|   null|\n",
      "|        6586|         6586|      10146521|10146521| 10146521|                   31788126|              Google|    2021-12-16|      2021-10-18|    2021-12-16|            None|                   null|                  1|                1|          1|   null|   null|   null|\n",
      "|        6586|         6586|      10262366|10262366| 10262366|                   33711955|Walker/ Los Defen...|    2022-02-10|      2021-12-11|    2022-02-10|            None|                   null|               null|                1|          1|   null|   null|   null|\n",
      "|        6586|         6586|       9300049| 9300049|  9300049|                   30280883|            Facebook|    2021-05-04|      2021-05-01|    2021-05-04|            None|                   null|                  1|                1|          1|   null|   null|   null|\n",
      "|        6586|         6586|       8079617| 8079617|  8079617|                   25959023|Friend/Family of ...|    2020-11-08|      2020-11-07|    2020-11-07|            None|                   null|                  1|                1|          1|   null|   null|   null|\n",
      "|        6586|         6586|       8467318| 8467318|  8467318|                   25959023|   Attorney Referral|    2021-01-19|      2020-09-12|    2021-01-19|            None|                   null|                  1|                1|          1|   null|   null|   null|\n",
      "|        6586|         6586|       8909579| 8909579|  8909579|                   29453591|            Facebook|    2021-03-22|      2021-03-02|          null|            None|                   null|                  1|                1|          1|   null|   null|   null|\n",
      "|        6586|         6586|       8893939| 8893939|  8893939|                   29453591|           Instagram|    2021-03-17|      2020-10-19|          null|            None|                   null|               null|                1|          1|   null|   null|   null|\n",
      "|        6586|         6586|       9924725| 9924725|  9924725|                   31788126|              Google|    2021-10-12|      2020-11-13|    2021-10-12|            None|                   null|                  1|                1|          1|   null|   null|   null|\n",
      "|        6586|         6586|       9745027| 9745027|  9745027|                   31788126|              Google|    2021-08-18|      2021-08-12|    2021-08-18|            None|                   null|                  1|                1|       null|   null|   null|   null|\n",
      "|        6586|         6586|       8078654| 8078654|  8078654|                   25959023|           Instagram|    2020-11-07|      2020-11-05|    2020-11-06| DUI|Hit and Run|                   null|                  1|                1|          1|   null|   null|   null|\n",
      "|        6586|         6586|       9163873| 9163873|  9163873|                   30280883|              Google|    2021-04-16|      2021-03-27|    2021-04-16|            None|                   null|                  1|                1|          1|   null|   null|   null|\n",
      "+------------+-------------+--------------+--------+---------+---------------------------+--------------------+--------------+----------------+--------------+----------------+-----------------------+-------------------+-----------------+-----------+-------+-------+-------+\n",
      "only showing top 100 rows\n",
      "\n",
      "Writing CMS_IntakeDetails\n",
      "{\"Truve_Org_ID\": 6586, \"Client_Org_ID\": \"6586\", \"Parent_Case_ID\": 9252629, \"Case_ID\": 9252629, \"Intake_ID\": 9252629, \"Person_Performing_Intake_ID\": 30625608, \"Intake_Source\": \"Other\", \"Date_of_Intake\": 2021-04-28, \"Date_of_Incident\": 2021-04-22, \"Date_of_Signup\": 2021-04-27, \"DUI_or_HitandRun\": \"None\", \"Referral_Fee_Percentage\": null, \"If_Case_Referred_In\": \"1\", \"If_Qualified_Case\": \"1\", \"If_VIP_Lead\": \"1\", \"Custom1\": null, \"Custom2\": null, \"Custom3\": null}\n",
      "{\"Truve_Org_ID\": 6586, \"Client_Org_ID\": \"6586\", \"Parent_Case_ID\": 9234752, \"Case_ID\": 9234752, \"Intake_ID\": 9234752, \"Person_Performing_Intake_ID\": 30280883, \"Intake_Source\": \"Friend/Family of Ali - Referral\", \"Date_of_Intake\": 2021-04-26, \"Date_of_Incident\": 2021-04-24, \"Date_of_Signup\": 2021-04-26, \"DUI_or_HitandRun\": \"None\", \"Referral_Fee_Percentage\": null, \"If_Case_Referred_In\": \"1\", \"If_Qualified_Case\": \"1\", \"If_VIP_Lead\": \"1\", \"Custom1\": null, \"Custom2\": null, \"Custom3\": null}\n",
      "{\"Truve_Org_ID\": 6586, \"Client_Org_ID\": \"6586\", \"Parent_Case_ID\": 9291082, \"Case_ID\": 9291082, \"Intake_ID\": 9291082, \"Person_Performing_Intake_ID\": 30625608, \"Intake_Source\": \"Google\", \"Date_of_Intake\": 2021-05-04, \"Date_of_Incident\": 2021-04-26, \"Date_of_Signup\": 2021-05-03, \"DUI_or_HitandRun\": \"None\", \"Referral_Fee_Percentage\": null, \"If_Case_Referred_In\": \"1\", \"If_Qualified_Case\": \"1\", \"If_VIP_Lead\": \"1\", \"Custom1\": null, \"Custom2\": null, \"Custom3\": null}\n",
      "{\"Truve_Org_ID\": 6586, \"Client_Org_ID\": \"6586\", \"Parent_Case_ID\": 9150598, \"Case_ID\": 9150598, \"Intake_ID\": 9150598, \"Person_Performing_Intake_ID\": 30280883, \"Intake_Source\": \"Instagram\", \"Date_of_Intake\": 2021-04-15, \"Date_of_Incident\": 2021-04-14, \"Date_of_Signup\": 2021-04-14, \"DUI_or_HitandRun\": \"None\", \"Referral_Fee_Percentage\": null, \"If_Case_Referred_In\": \"1\", \"If_Qualified_Case\": \"1\", \"If_VIP_Lead\": \"1\", \"Custom1\": null, \"Custom2\": null, \"Custom3\": null}\n",
      "{\"Truve_Org_ID\": 6586, \"Client_Org_ID\": \"6586\", \"Parent_Case_ID\": 10005619, \"Case_ID\": 10005619, \"Intake_ID\": 10005619, \"Person_Performing_Intake_ID\": 31788126, \"Intake_Source\": \"Walker/ Los Defensores\", \"Date_of_Intake\": 2021-11-05, \"Date_of_Incident\": 2021-02-24, \"Date_of_Signup\": 2021-11-05, \"DUI_or_HitandRun\": \"Hit and Run\", \"Referral_Fee_Percentage\": null, \"If_Case_Referred_In\": \"1\", \"If_Qualified_Case\": \"1\", \"If_VIP_Lead\": \"1\", \"Custom1\": null, \"Custom2\": null, \"Custom3\": null}\n",
      "{\"Truve_Org_ID\": 6586, \"Client_Org_ID\": \"6586\", \"Parent_Case_ID\": 8917878, \"Case_ID\": 8917878, \"Intake_ID\": 8917878, \"Person_Performing_Intake_ID\": 23907330, \"Intake_Source\": \"Google\", \"Date_of_Intake\": 2021-03-24, \"Date_of_Incident\": 2021-03-24, \"Date_of_Signup\": 2021-03-24, \"DUI_or_HitandRun\": \"None\", \"Referral_Fee_Percentage\": null, \"If_Case_Referred_In\": \"1\", \"If_Qualified_Case\": \"1\", \"If_VIP_Lead\": \"1\", \"Custom1\": null, \"Custom2\": null, \"Custom3\": null}\n",
      "{\"Truve_Org_ID\": 6586, \"Client_Org_ID\": \"6586\", \"Parent_Case_ID\": 10082437, \"Case_ID\": 10082437, \"Intake_ID\": 10082437, \"Person_Performing_Intake_ID\": 31788126, \"Intake_Source\": \"Attorney Referral\", \"Date_of_Intake\": 2021-12-01, \"Date_of_Incident\": 2021-11-01, \"Date_of_Signup\": 2021-12-01, \"DUI_or_HitandRun\": \"None\", \"Referral_Fee_Percentage\": null, \"If_Case_Referred_In\": \"1\", \"If_Qualified_Case\": \"1\", \"If_VIP_Lead\": \"1\", \"Custom1\": null, \"Custom2\": null, \"Custom3\": null}\n",
      "{\"Truve_Org_ID\": 6586, \"Client_Org_ID\": \"6586\", \"Parent_Case_ID\": 9146364, \"Case_ID\": 9146364, \"Intake_ID\": 9146364, \"Person_Performing_Intake_ID\": 30280883, \"Intake_Source\": \"Facebook\", \"Date_of_Intake\": 2021-04-14, \"Date_of_Incident\": 2021-04-11, \"Date_of_Signup\": 2021-04-14, \"DUI_or_HitandRun\": \"None\", \"Referral_Fee_Percentage\": null, \"If_Case_Referred_In\": \"1\", \"If_Qualified_Case\": \"1\", \"If_VIP_Lead\": null, \"Custom1\": null, \"Custom2\": null, \"Custom3\": null}\n",
      "{\"Truve_Org_ID\": 6586, \"Client_Org_ID\": \"6586\", \"Parent_Case_ID\": 8907225, \"Case_ID\": 8907225, \"Intake_ID\": 8907225, \"Person_Performing_Intake_ID\": 29453591, \"Intake_Source\": \"Facebook\", \"Date_of_Intake\": 2021-03-22, \"Date_of_Incident\": 2021-03-02, \"Date_of_Signup\": 2021-03-22, \"DUI_or_HitandRun\": \"None\", \"Referral_Fee_Percentage\": null, \"If_Case_Referred_In\": \"1\", \"If_Qualified_Case\": \"1\", \"If_VIP_Lead\": \"1\", \"Custom1\": null, \"Custom2\": null, \"Custom3\": null}\n",
      "{\"Truve_Org_ID\": 6586, \"Client_Org_ID\": \"6586\", \"Parent_Case_ID\": 8734475, \"Case_ID\": 8734475, \"Intake_ID\": 8734475, \"Person_Performing_Intake_ID\": 23907329, \"Intake_Source\": \"Doctor Referral\", \"Date_of_Intake\": 2021-02-22, \"Date_of_Incident\": 2021-02-19, \"Date_of_Signup\": null, \"DUI_or_HitandRun\": \"None\", \"Referral_Fee_Percentage\": null, \"If_Case_Referred_In\": \"1\", \"If_Qualified_Case\": \"1\", \"If_VIP_Lead\": \"1\", \"Custom1\": null, \"Custom2\": null, \"Custom3\": null}\n",
      "{\"Truve_Org_ID\": 6586, \"Client_Org_ID\": \"6586\", \"Parent_Case_ID\": 10171521, \"Case_ID\": 10171521, \"Intake_ID\": 10171521, \"Person_Performing_Intake_ID\": 31788126, \"Intake_Source\": \"Other\", \"Date_of_Intake\": 2021-12-30, \"Date_of_Incident\": 2021-12-12, \"Date_of_Signup\": null, \"DUI_or_HitandRun\": \"None\", \"Referral_Fee_Percentage\": null, \"If_Case_Referred_In\": \"1\", \"If_Qualified_Case\": \"1\", \"If_VIP_Lead\": \"1\", \"Custom1\": null, \"Custom2\": null, \"Custom3\": null}\n",
      "{\"Truve_Org_ID\": 6586, \"Client_Org_ID\": \"6586\", \"Parent_Case_ID\": 9256722, \"Case_ID\": 9256722, \"Intake_ID\": 9256722, \"Person_Performing_Intake_ID\": 30625608, \"Intake_Source\": \"Friend/Family of Ali - Referral\", \"Date_of_Intake\": 2021-04-29, \"Date_of_Incident\": 2021-04-28, \"Date_of_Signup\": 2021-04-29, \"DUI_or_HitandRun\": null, \"Referral_Fee_Percentage\": null, \"If_Case_Referred_In\": \"1\", \"If_Qualified_Case\": \"1\", \"If_VIP_Lead\": \"1\", \"Custom1\": null, \"Custom2\": null, \"Custom3\": null}\n",
      "{\"Truve_Org_ID\": 6586, \"Client_Org_ID\": \"6586\", \"Parent_Case_ID\": 9908694, \"Case_ID\": 9908694, \"Intake_ID\": 9908694, \"Person_Performing_Intake_ID\": 31788126, \"Intake_Source\": \"Friend/Family of Ali - Referral\", \"Date_of_Intake\": 2021-10-06, \"Date_of_Incident\": 2021-06-03, \"Date_of_Signup\": 2021-10-06, \"DUI_or_HitandRun\": \"None\", \"Referral_Fee_Percentage\": null, \"If_Case_Referred_In\": \"1\", \"If_Qualified_Case\": \"1\", \"If_VIP_Lead\": \"1\", \"Custom1\": null, \"Custom2\": null, \"Custom3\": null}\n",
      "{\"Truve_Org_ID\": 6586, \"Client_Org_ID\": \"6586\", \"Parent_Case_ID\": 8751952, \"Case_ID\": 8751952, \"Intake_ID\": 8751952, \"Person_Performing_Intake_ID\": 23907329, \"Intake_Source\": \"Doctor Referral\", \"Date_of_Intake\": 2021-02-24, \"Date_of_Incident\": 2021-02-19, \"Date_of_Signup\": null, \"DUI_or_HitandRun\": \"None\", \"Referral_Fee_Percentage\": null, \"If_Case_Referred_In\": \"1\", \"If_Qualified_Case\": \"1\", \"If_VIP_Lead\": \"1\", \"Custom1\": null, \"Custom2\": null, \"Custom3\": null}\n",
      "{\"Truve_Org_ID\": 6586, \"Client_Org_ID\": \"6586\", \"Parent_Case_ID\": 7532487, \"Case_ID\": 7532487, \"Intake_ID\": 7532487, \"Person_Performing_Intake_ID\": 25602708, \"Intake_Source\": \"Facebook\", \"Date_of_Intake\": 2020-03-16, \"Date_of_Incident\": 2020-02-24, \"Date_of_Signup\": null, \"DUI_or_HitandRun\": null, \"Referral_Fee_Percentage\": null, \"If_Case_Referred_In\": \"1\", \"If_Qualified_Case\": \"1\", \"If_VIP_Lead\": \"1\", \"Custom1\": null, \"Custom2\": null, \"Custom3\": null}\n",
      "{\"Truve_Org_ID\": 6586, \"Client_Org_ID\": \"6586\", \"Parent_Case_ID\": 10033809, \"Case_ID\": 10033809, \"Intake_ID\": 10033809, \"Person_Performing_Intake_ID\": 29453591, \"Intake_Source\": \"Attorney Referral\", \"Date_of_Intake\": 2021-11-11, \"Date_of_Incident\": 2021-10-12, \"Date_of_Signup\": null, \"DUI_or_HitandRun\": \"None\", \"Referral_Fee_Percentage\": null, \"If_Case_Referred_In\": \"1\", \"If_Qualified_Case\": \"1\", \"If_VIP_Lead\": \"1\", \"Custom1\": null, \"Custom2\": null, \"Custom3\": null}\n",
      "{\"Truve_Org_ID\": 6586, \"Client_Org_ID\": \"6586\", \"Parent_Case_ID\": 9466399, \"Case_ID\": 9466399, \"Intake_ID\": 9466399, \"Person_Performing_Intake_ID\": 30625608, \"Intake_Source\": \"Instagram\", \"Date_of_Intake\": 2021-06-04, \"Date_of_Incident\": 2021-03-29, \"Date_of_Signup\": 2021-06-03, \"DUI_or_HitandRun\": \"DUI\", \"Referral_Fee_Percentage\": null, \"If_Case_Referred_In\": null, \"If_Qualified_Case\": \"1\", \"If_VIP_Lead\": \"1\", \"Custom1\": null, \"Custom2\": null, \"Custom3\": null}\n",
      "{\"Truve_Org_ID\": 6586, \"Client_Org_ID\": \"6586\", \"Parent_Case_ID\": 9304754, \"Case_ID\": 9304754, \"Intake_ID\": 9304754, \"Person_Performing_Intake_ID\": 30280883, \"Intake_Source\": \"Doctor Referral\", \"Date_of_Intake\": 2021-05-06, \"Date_of_Incident\": 2021-04-29, \"Date_of_Signup\": 2021-05-05, \"DUI_or_HitandRun\": \"None\", \"Referral_Fee_Percentage\": null, \"If_Case_Referred_In\": \"1\", \"If_Qualified_Case\": \"1\", \"If_VIP_Lead\": \"1\", \"Custom1\": null, \"Custom2\": null, \"Custom3\": null}\n",
      "{\"Truve_Org_ID\": 6586, \"Client_Org_ID\": \"6586\", \"Parent_Case_ID\": 9162587, \"Case_ID\": 9162587, \"Intake_ID\": 9162587, \"Person_Performing_Intake_ID\": 30280883, \"Intake_Source\": \"Google\", \"Date_of_Intake\": 2021-04-16, \"Date_of_Incident\": 2021-03-27, \"Date_of_Signup\": 2021-04-16, \"DUI_or_HitandRun\": \"None\", \"Referral_Fee_Percentage\": null, \"If_Case_Referred_In\": \"1\", \"If_Qualified_Case\": \"1\", \"If_VIP_Lead\": \"1\", \"Custom1\": null, \"Custom2\": null, \"Custom3\": null}\n",
      "{\"Truve_Org_ID\": 6586, \"Client_Org_ID\": \"6586\", \"Parent_Case_ID\": 10206873, \"Case_ID\": 10206873, \"Intake_ID\": 10206873, \"Person_Performing_Intake_ID\": 31788126, \"Intake_Source\": \"From An Existing Client - Referral\", \"Date_of_Intake\": 2022-01-18, \"Date_of_Incident\": 2021-04-09, \"Date_of_Signup\": 2022-01-17, \"DUI_or_HitandRun\": \"None\", \"Referral_Fee_Percentage\": null, \"If_Case_Referred_In\": \"1\", \"If_Qualified_Case\": \"1\", \"If_VIP_Lead\": \"1\", \"Custom1\": null, \"Custom2\": null, \"Custom3\": null}\n"
     ]
    }
   ],
   "source": [
    "#Peoples Transformation\n",
    "def intake_transformation(df_intake, df_casesummary):\n",
    "    #Read Raw Data\n",
    "    result = builder.build_intakesummary(df_intake, df_casesummary)\n",
    "    return result \n",
    "\n",
    "result = intake_transformation(df_intake, df_casesummary)\n",
    "#result[\"IntakeDetails\"] = result[\"IntakeDetails\"].drop(\"referral_fee\")\n",
    "upload_result(result)\n"
   ]
  },
  {
   "cell_type": "code",
   "execution_count": null,
   "id": "0293276f",
   "metadata": {},
   "outputs": [],
   "source": [
    "#Peoples Transformation\n",
    "def casesummary_transformation(df_casesummary, df_project_vitals, df_project):\n",
    "    #Read Raw Data\n",
    "    result = builder.build_casesummary(df_casesummary, df_project_vitals, df_project)\n",
    "    print(result)\n",
    "    upload_result(result)\n",
    "    \n",
    "casesummary_transformation(df_casesummary, df_project_vitals, df_project)"
   ]
  },
  {
   "cell_type": "code",
   "execution_count": null,
   "id": "a1145e45",
   "metadata": {},
   "outputs": [],
   "source": [
    "processed_project_df = result[\"CMS_Cases\"]\n",
    "processed_project_df.printSchema()"
   ]
  },
  {
   "cell_type": "code",
   "execution_count": 17,
   "id": "f2d5f8d6",
   "metadata": {},
   "outputs": [
    {
     "name": "stdout",
     "output_type": "stream",
     "text": [
      "[StructField(caseType,StringType,true), StructField(Practice_Type_ID,IntegerType,true), StructField(Truve_Org_ID,StringType,false), StructField(Client_Org_ID,StringType,false), StructField(Case_Type_ID,IntegerType,true), StructField(Case_Type_Name,StringType,true)]\n",
      "Writing CMS_CaseTypes\n",
      "{\"Truve_Org_ID\": 6586, \"Client_Org_ID\": \"6586\", \"Practice_Type_ID\": 18764, \"Case_Type_ID\": 1, \"Case_Type_Name\": \"County/Municipal Liability - Ante Litem\", \"Case_Type_Category\": null, \"Case_Type_Sub_Category\": null, \"Custom1\": null, \"Custom2\": null, \"Custom3\": null}\n",
      "{\"Truve_Org_ID\": 6586, \"Client_Org_ID\": \"6586\", \"Practice_Type_ID\": 18764, \"Case_Type_ID\": 2, \"Case_Type_Name\": \"Diminished Value (PD)\", \"Case_Type_Category\": null, \"Case_Type_Sub_Category\": null, \"Custom1\": null, \"Custom2\": null, \"Custom3\": null}\n",
      "{\"Truve_Org_ID\": 6586, \"Client_Org_ID\": \"6586\", \"Practice_Type_ID\": 18764, \"Case_Type_ID\": 3, \"Case_Type_Name\": \"Dog Bite\", \"Case_Type_Category\": null, \"Case_Type_Sub_Category\": null, \"Custom1\": null, \"Custom2\": null, \"Custom3\": null}\n",
      "{\"Truve_Org_ID\": 6586, \"Client_Org_ID\": \"6586\", \"Practice_Type_ID\": 18764, \"Case_Type_ID\": 4, \"Case_Type_Name\": \"Dual (MVC + WC)\", \"Case_Type_Category\": null, \"Case_Type_Sub_Category\": null, \"Custom1\": null, \"Custom2\": null, \"Custom3\": null}\n",
      "{\"Truve_Org_ID\": 6586, \"Client_Org_ID\": \"6586\", \"Practice_Type_ID\": 18764, \"Case_Type_ID\": 5, \"Case_Type_Name\": \"MVC with Government Vehicle - Ante Litem\", \"Case_Type_Category\": null, \"Case_Type_Sub_Category\": null, \"Custom1\": null, \"Custom2\": null, \"Custom3\": null}\n",
      "{\"Truve_Org_ID\": 6586, \"Client_Org_ID\": \"6586\", \"Practice_Type_ID\": 18764, \"Case_Type_ID\": 6, \"Case_Type_Name\": \"Medical Malpractice\", \"Case_Type_Category\": null, \"Case_Type_Sub_Category\": null, \"Custom1\": null, \"Custom2\": null, \"Custom3\": null}\n",
      "{\"Truve_Org_ID\": 6586, \"Client_Org_ID\": \"6586\", \"Practice_Type_ID\": 18764, \"Case_Type_ID\": 7, \"Case_Type_Name\": \"Motor Vehicle Collision - MVC\", \"Case_Type_Category\": null, \"Case_Type_Sub_Category\": null, \"Custom1\": null, \"Custom2\": null, \"Custom3\": null}\n",
      "{\"Truve_Org_ID\": 6586, \"Client_Org_ID\": \"6586\", \"Practice_Type_ID\": 18764, \"Case_Type_ID\": 8, \"Case_Type_Name\": \"Negligent Security\", \"Case_Type_Category\": null, \"Case_Type_Sub_Category\": null, \"Custom1\": null, \"Custom2\": null, \"Custom3\": null}\n",
      "{\"Truve_Org_ID\": 6586, \"Client_Org_ID\": \"6586\", \"Practice_Type_ID\": 18764, \"Case_Type_ID\": 9, \"Case_Type_Name\": \"Other\", \"Case_Type_Category\": null, \"Case_Type_Sub_Category\": null, \"Custom1\": null, \"Custom2\": null, \"Custom3\": null}\n",
      "{\"Truve_Org_ID\": 6586, \"Client_Org_ID\": \"6586\", \"Practice_Type_ID\": 18764, \"Case_Type_ID\": 10, \"Case_Type_Name\": \"Premises Liability (Slip, Trip & Fall)\", \"Case_Type_Category\": null, \"Case_Type_Sub_Category\": null, \"Custom1\": null, \"Custom2\": null, \"Custom3\": null}\n",
      "{\"Truve_Org_ID\": 6586, \"Client_Org_ID\": \"6586\", \"Practice_Type_ID\": 18764, \"Case_Type_ID\": 11, \"Case_Type_Name\": \"Product Liability\", \"Case_Type_Category\": null, \"Case_Type_Sub_Category\": null, \"Custom1\": null, \"Custom2\": null, \"Custom3\": null}\n",
      "{\"Truve_Org_ID\": 6586, \"Client_Org_ID\": \"6586\", \"Practice_Type_ID\": 18764, \"Case_Type_ID\": 12, \"Case_Type_Name\": \"Property Damage (PD)\", \"Case_Type_Category\": null, \"Case_Type_Sub_Category\": null, \"Custom1\": null, \"Custom2\": null, \"Custom3\": null}\n",
      "{\"Truve_Org_ID\": 6586, \"Client_Org_ID\": \"6586\", \"Practice_Type_ID\": 18764, \"Case_Type_ID\": 13, \"Case_Type_Name\": \"Trucking Collision - MVC\", \"Case_Type_Category\": null, \"Case_Type_Sub_Category\": null, \"Custom1\": null, \"Custom2\": null, \"Custom3\": null}\n",
      "{\"Truve_Org_ID\": 6586, \"Client_Org_ID\": \"6586\", \"Practice_Type_ID\": 18764, \"Case_Type_ID\": 14, \"Case_Type_Name\": \"Workers Comp (WC)\", \"Case_Type_Category\": null, \"Case_Type_Sub_Category\": null, \"Custom1\": null, \"Custom2\": null, \"Custom3\": null}\n",
      "{\"Truve_Org_ID\": 6586, \"Client_Org_ID\": \"6586\", \"Practice_Type_ID\": 18764, \"Case_Type_ID\": 15, \"Case_Type_Name\": \"Wrongful Death\", \"Case_Type_Category\": null, \"Case_Type_Sub_Category\": null, \"Custom1\": null, \"Custom2\": null, \"Custom3\": null}\n"
     ]
    }
   ],
   "source": [
    "#Peoples Transformation\n",
    "def casetype_transformation(df_casesummary, project_df):\n",
    "    #Read Raw Data\n",
    "    result = builder.build_casetypes(df_casesummary, project_df)\n",
    "    #print(result)\n",
    "    #return result\n",
    "    upload_result(result)\n",
    "    return result\n",
    "    \n",
    "casetype_result = casetype_transformation(df_casesummary, df_project)"
   ]
  },
  {
   "cell_type": "code",
   "execution_count": 18,
   "id": "21c01f16",
   "metadata": {},
   "outputs": [
    {
     "name": "stdout",
     "output_type": "stream",
     "text": [
      "+--------------------+\n",
      "|    Practice_Type_ID|\n",
      "+--------------------+\n",
      "|{'native': 18764,...|\n",
      "|{'native': 18764,...|\n",
      "|{'native': 18764,...|\n",
      "|{'native': 18764,...|\n",
      "|{'native': 18764,...|\n",
      "|{'native': 18764,...|\n",
      "|{'native': 18764,...|\n",
      "|{'native': 25962,...|\n",
      "|{'native': 18764,...|\n",
      "|{'native': 25962,...|\n",
      "|{'native': 18764,...|\n",
      "|{'native': 18764,...|\n",
      "|{'native': 25962,...|\n",
      "|{'native': 18764,...|\n",
      "|{'native': 18764,...|\n",
      "|{'native': 18764,...|\n",
      "|{'native': 18764,...|\n",
      "|{'native': 18764,...|\n",
      "|{'native': 18764,...|\n",
      "|{'native': 25962,...|\n",
      "+--------------------+\n",
      "only showing top 20 rows\n",
      "\n",
      "+--------------------+--------------------+-----------+--------------------+--------+-----+--------------------+---------+\n",
      "|           fieldName|        friendlyName|  fieldType|               value|position|links|          input_file|projectId|\n",
      "+--------------------+--------------------+-----------+--------------------+--------+-----+--------------------+---------+\n",
      "|paralegal223935Fu...|        Case Manager|    Default|     Ashley Balderas|       0|   {}|s3://dev-truve-de...| 10080585|\n",
      "|        incidentDate|       Incident Date|   DateOnly|2021-11-11T00:00:...|       1|   {}|s3://dev-truve-de...| 10080585|\n",
      "|statuteoflimitati...|                 SOL|   DateOnly|2023-11-11T00:00:...|       2|   {}|s3://dev-truve-de...| 10080585|\n",
      "|     clientBirthDate|Client Date of Birth|   DateOnly|1991-04-28T00:00:...|       3|   {}|s3://dev-truve-de...| 10080585|\n",
      "|       mridone223935|           MRI Done?|    Boolean|                null|       4|   {}|s3://dev-truve-de...| 10080585|\n",
      "|  accidenttype223938|       Accident Type|    Default|Motor Vehicle Col...|       5|   {}|s3://dev-truve-de...| 10080585|\n",
      "|          createDate|         Create Date|DateTimeUtc|2021-12-01T16:32:...|       6|   {}|s3://dev-truve-de...| 10080585|\n",
      "|countOfredflags18764|Count of Red Flag...|    Default|                   0|       7|   {}|s3://dev-truve-de...| 10080585|\n",
      "|       projectNumber|      Project Number|ProjectLink|            10080585|       8|   {}|s3://dev-truve-de...| 10080585|\n",
      "|        projectEmail|       Email Address|     MailTo|luisgerardomendez...|       9|   {}|s3://dev-truve-de...| 10080585|\n",
      "|       vipcase223935|           VIP Case?|    Boolean|                null|      10|   {}|s3://dev-truve-de...| 10080585|\n",
      "|primaryattorney22...|Supervising Attor...|    Default|    Ali J Awad, Esq.|      11|   {}|s3://dev-truve-de...| 10080585|\n",
      "|paralegal223935Fu...|        Case Manager|    Default|       Tiffany Perez|       0|   {}|s3://dev-truve-de...| 10480053|\n",
      "|        incidentDate|       Incident Date|   DateOnly|2022-04-14T00:00:...|       1|   {}|s3://dev-truve-de...| 10480053|\n",
      "|statuteoflimitati...|                 SOL|   DateOnly|2024-04-14T00:00:...|       2|   {}|s3://dev-truve-de...| 10480053|\n",
      "|     clientBirthDate|Client Date of Birth|   DateOnly|1999-12-11T00:00:...|       3|   {}|s3://dev-truve-de...| 10480053|\n",
      "|       mridone223935|           MRI Done?|    Boolean|                true|       4|   {}|s3://dev-truve-de...| 10480053|\n",
      "|  accidenttype223938|       Accident Type|    Default|Motor Vehicle Col...|       5|   {}|s3://dev-truve-de...| 10480053|\n",
      "|          createDate|         Create Date|DateTimeUtc|2022-04-18T17:36:...|       6|   {}|s3://dev-truve-de...| 10480053|\n",
      "|countOfredflags18764|Count of Red Flag...|    Default|                   1|       7|   {}|s3://dev-truve-de...| 10480053|\n",
      "+--------------------+--------------------+-----------+--------------------+--------+-----+--------------------+---------+\n",
      "only showing top 20 rows\n",
      "\n",
      "+------------+-------------+--------------+--------+--------------------+----------------+--------------+----------------+----------------+\n",
      "|Truve_Org_ID|Client_Org_ID|Parent_Case_ID| Case_ID|           Case_Name|Practice_Type_ID|Case_Status_ID|Date_of_Incident|Case_Create_Date|\n",
      "+------------+-------------+--------------+--------+--------------------+----------------+--------------+----------------+----------------+\n",
      "|        6586|         6586|       8832217| 8832217|Mr. Graham, Desmo...|           18764|          null|      2021-02-07|      2021-03-04|\n",
      "|        6586|         6586|       8299705| 8299705|Mr. Oladele, Akin...|           18764|          null|      2020-12-30|      2021-01-05|\n",
      "|        6586|         6586|       9596371| 9596371|Mr. Bell, John Fr...|           18764|          null|      2021-06-20|      2021-07-16|\n",
      "|        6586|         6586|      10849060|10849060|Mr. SAILORS, CHAD...|           18764|          null|      2022-08-01|      2022-08-19|\n",
      "|        6586|         6586|       8827602| 8827602|Mr. Stanley, Shad...|           18764|          null|      2021-02-25|      2021-03-03|\n",
      "|        6586|         6586|      10063826|10063826|Ms. Buchanan-Gran...|           18764|          null|      2000-05-30|      2021-11-24|\n",
      "|        6586|         6586|      10924537|10924537|Mr. Miles, Julian...|           18764|          null|            null|      2022-09-19|\n",
      "|        6586|         6586|       9850987| 9850987|Ayala, Danny v. C...|           25962|          null|      2021-09-14|            null|\n",
      "|        6586|         6586|      10725514|10725514|Ryan, Patrick v. ...|           25962|          null|      2022-06-15|            null|\n",
      "|        6586|         6586|      10701657|10701657|Smith II, Frederi...|           25962|          null|      2022-02-25|            null|\n",
      "+------------+-------------+--------------+--------+--------------------+----------------+--------------+----------------+----------------+\n",
      "only showing top 10 rows\n",
      "\n",
      "Writing CMS_Cases\n",
      "{\"Truve_Org_ID\": 6586, \"Client_Org_ID\": \"6586\", \"Parent_Case_ID\": 8827602, \"Case_ID\": 8827602, \"Case_Name\": \"Mr. Stanley, Shadow Ridge (Wrongful Death)\", \"Practice_Type_ID\": 18764, \"Case_Status_ID\": null, \"Date_of_Incident\": 2021-02-25, \"Case_Create_Date\": 2021-03-03}\n",
      "{\"Truve_Org_ID\": 6586, \"Client_Org_ID\": \"6586\", \"Parent_Case_ID\": 8299705, \"Case_ID\": 8299705, \"Case_Name\": \"Mr. Oladele, Akintunde (Deceased)\", \"Practice_Type_ID\": 18764, \"Case_Status_ID\": null, \"Date_of_Incident\": 2020-12-30, \"Case_Create_Date\": 2021-01-05}\n",
      "{\"Truve_Org_ID\": 6586, \"Client_Org_ID\": \"6586\", \"Parent_Case_ID\": 9596371, \"Case_ID\": 9596371, \"Case_Name\": \"Mr. Bell, John Frank Sr.\", \"Practice_Type_ID\": 18764, \"Case_Status_ID\": null, \"Date_of_Incident\": 2021-06-20, \"Case_Create_Date\": 2021-07-16}\n",
      "{\"Truve_Org_ID\": 6586, \"Client_Org_ID\": \"6586\", \"Parent_Case_ID\": 10849060, \"Case_ID\": 10849060, \"Case_Name\": \"Mr. SAILORS, CHAD (Deceased)\", \"Practice_Type_ID\": 18764, \"Case_Status_ID\": null, \"Date_of_Incident\": 2022-08-01, \"Case_Create_Date\": 2022-08-19}\n",
      "{\"Truve_Org_ID\": 6586, \"Client_Org_ID\": \"6586\", \"Parent_Case_ID\": 10063826, \"Case_ID\": 10063826, \"Case_Name\": \"Ms. Buchanan-Grant, Sarah (Wrongful Death)\", \"Practice_Type_ID\": 18764, \"Case_Status_ID\": null, \"Date_of_Incident\": 2000-05-30, \"Case_Create_Date\": 2021-11-24}\n",
      "{\"Truve_Org_ID\": 6586, \"Client_Org_ID\": \"6586\", \"Parent_Case_ID\": 8832217, \"Case_ID\": 8832217, \"Case_Name\": \"Mr. Graham, Desmond Irie (Deceased)\", \"Practice_Type_ID\": 18764, \"Case_Status_ID\": null, \"Date_of_Incident\": 2021-02-07, \"Case_Create_Date\": 2021-03-04}\n",
      "{\"Truve_Org_ID\": 6586, \"Client_Org_ID\": \"6586\", \"Parent_Case_ID\": 10924537, \"Case_ID\": 10924537, \"Case_Name\": \"Mr. Miles, Julian (Deceased)\", \"Practice_Type_ID\": 18764, \"Case_Status_ID\": null, \"Date_of_Incident\": null, \"Case_Create_Date\": 2022-09-19}\n",
      "{\"Truve_Org_ID\": 6586, \"Client_Org_ID\": \"6586\", \"Parent_Case_ID\": 10213103, \"Case_ID\": 10213103, \"Case_Name\": \"Bahena Almodobar, Samuel v. Unlimited Contract Services, Inc. SBWC No.: 2022-012671\", \"Practice_Type_ID\": 25962, \"Case_Status_ID\": null, \"Date_of_Incident\": 2022-01-10, \"Case_Create_Date\": null}\n",
      "{\"Truve_Org_ID\": 6586, \"Client_Org_ID\": \"6586\", \"Parent_Case_ID\": 10653637, \"Case_ID\": 10653637, \"Case_Name\": \"Marshall, Quantrez v. Marc Jones Construction, LLC d/b/a ADT Solar SBWC No: 2022-057903\", \"Practice_Type_ID\": 25962, \"Case_Status_ID\": null, \"Date_of_Incident\": 2022-06-03, \"Case_Create_Date\": null}\n",
      "{\"Truve_Org_ID\": 6586, \"Client_Org_ID\": \"6586\", \"Parent_Case_ID\": 9707554, \"Case_ID\": 9707554, \"Case_Name\": \"Villanueva-Hernandez, Arnulfo v. ASENCIO'S DRYWALL CONSTRUCTION LLC. SBWC No.: 2020-028544\", \"Practice_Type_ID\": 25962, \"Case_Status_ID\": null, \"Date_of_Incident\": 2020-03-06, \"Case_Create_Date\": null}\n",
      "{\"Truve_Org_ID\": 6586, \"Client_Org_ID\": \"6586\", \"Parent_Case_ID\": 9301480, \"Case_ID\": 9301480, \"Case_Name\": \"Bebani, Adam v. Luxottica U.S. Holding Corp SBWC No.: 2021-021855 -DOI-2-27-2021 (1st Case)\", \"Practice_Type_ID\": 25962, \"Case_Status_ID\": null, \"Date_of_Incident\": 2021-02-27, \"Case_Create_Date\": null}\n",
      "{\"Truve_Org_ID\": 6586, \"Client_Org_ID\": \"6586\", \"Parent_Case_ID\": 10048792, \"Case_ID\": 10048792, \"Case_Name\": \"Askar, Muhannad v. The Pep Boys - Manny Moe & Jack, LLC, SBWC No.:2021-090633\", \"Practice_Type_ID\": 25962, \"Case_Status_ID\": null, \"Date_of_Incident\": 2021-09-08, \"Case_Create_Date\": null}\n",
      "{\"Truve_Org_ID\": 6586, \"Client_Org_ID\": \"6586\", \"Parent_Case_ID\": 9875726, \"Case_ID\": 9875726, \"Case_Name\": \"Ruiz Rios, Regina v. Atlanta Paving & Concrete Construction Co. SBWC No.:2021-086139\", \"Practice_Type_ID\": 25962, \"Case_Status_ID\": null, \"Date_of_Incident\": 2021-08-30, \"Case_Create_Date\": null}\n",
      "{\"Truve_Org_ID\": 6586, \"Client_Org_ID\": \"6586\", \"Parent_Case_ID\": 10417820, \"Case_ID\": 10417820, \"Case_Name\": \"Labra, Ma Jovie (Wilson Labra - Deceased) v. Ansco & Associates, LLC SBWC No.: 2022-017423\", \"Practice_Type_ID\": 25962, \"Case_Status_ID\": null, \"Date_of_Incident\": 2022-02-13, \"Case_Create_Date\": null}\n",
      "{\"Truve_Org_ID\": 6586, \"Client_Org_ID\": \"6586\", \"Parent_Case_ID\": 9926719, \"Case_ID\": 9926719, \"Case_Name\": \"Cisneros, Mercedes v. THE INER GROUP \\\"THE SHIPPERS GROUP\\\" SBWC No.: 2021-104140\", \"Practice_Type_ID\": 25962, \"Case_Status_ID\": null, \"Date_of_Incident\": 2021-10-07, \"Case_Create_Date\": null}\n",
      "{\"Truve_Org_ID\": 6586, \"Client_Org_ID\": \"6586\", \"Parent_Case_ID\": 10206831, \"Case_ID\": 10206831, \"Case_Name\": \"Alexander, Stephen v. Carolina Lumber & Supply Co. SBWC No.: 2021-119580. (WC 11/18/2021)\", \"Practice_Type_ID\": 25962, \"Case_Status_ID\": null, \"Date_of_Incident\": 2021-11-18, \"Case_Create_Date\": null}\n",
      "{\"Truve_Org_ID\": 6586, \"Client_Org_ID\": \"6586\", \"Parent_Case_ID\": 10539884, \"Case_ID\": 10539884, \"Case_Name\": \"Worbington, Shantel vs. YMCA OF METROPOLITAN CHATTANOOGA, SBWC No.:2022-054658\", \"Practice_Type_ID\": 25962, \"Case_Status_ID\": null, \"Date_of_Incident\": 2022-04-22, \"Case_Create_Date\": null}\n",
      "{\"Truve_Org_ID\": 6586, \"Client_Org_ID\": \"6586\", \"Parent_Case_ID\": 10206849, \"Case_ID\": 10206849, \"Case_Name\": \"Alexander, Stephen v. Carolina Lumber & Supply Co. SBWC No.: 2021-109519-(WC 10/08/2021)\", \"Practice_Type_ID\": 25962, \"Case_Status_ID\": null, \"Date_of_Incident\": 2021-10-08, \"Case_Create_Date\": null}\n",
      "{\"Truve_Org_ID\": 6586, \"Client_Org_ID\": \"6586\", \"Parent_Case_ID\": 10732292, \"Case_ID\": 10732292, \"Case_Name\": \"Monreal, Rafael Eduardo v. Panola M&J Tires- Jose A Castenada LLC. SBWC No.2022-068142\", \"Practice_Type_ID\": 25962, \"Case_Status_ID\": null, \"Date_of_Incident\": 2022-06-16, \"Case_Create_Date\": null}\n",
      "{\"Truve_Org_ID\": 6586, \"Client_Org_ID\": \"6586\", \"Parent_Case_ID\": 10614131, \"Case_ID\": 10614131, \"Case_Name\": \"Bebani, Adam v. Luxottica US Holding Corp. SBWC# No.: 2022-064602 (2nd WC Case)\", \"Practice_Type_ID\": 25962, \"Case_Status_ID\": null, \"Date_of_Incident\": 2022-03-24, \"Case_Create_Date\": null}\n",
      "\n",
      "3371\n"
     ]
    }
   ],
   "source": [
    "processed_case_type_df = casetype_result[\"CMS_CaseTypes\"]\n",
    "\n",
    "#Peoples Transformation\n",
    "def cases_transformation(df_project, processed_case_type_df, df_project_vitals, df_casesummary):\n",
    "    #Read Raw Data\n",
    "    result = builder.build_casemaster(df_project, processed_case_type_df, df_project_vitals, df_casesummary)\n",
    "    #return result\n",
    "    #print(result)\n",
    "    upload_result(result)\n",
    "    return result\n",
    "    \n",
    "result = cases_transformation(df_project, processed_case_type_df, df_project_vitals, df_casesummary)\n",
    "processed_df = result[\"CMS_Cases\"]\n",
    "processed_df.count()"
   ]
  },
  {
   "cell_type": "code",
   "execution_count": 19,
   "id": "4349afa1",
   "metadata": {},
   "outputs": [
    {
     "name": "stdout",
     "output_type": "stream",
     "text": [
      "+----------------+\n",
      "|Practice_Type_ID|\n",
      "+----------------+\n",
      "|           18764|\n",
      "|           18764|\n",
      "|           18764|\n",
      "|           18764|\n",
      "|           18764|\n",
      "|           18764|\n",
      "|           18764|\n",
      "|           18764|\n",
      "|           18764|\n",
      "|           18764|\n",
      "|           18764|\n",
      "|           18764|\n",
      "|           18764|\n",
      "|           18764|\n",
      "|           18764|\n",
      "|           18764|\n",
      "|           18764|\n",
      "|           18764|\n",
      "|           18764|\n",
      "|           18764|\n",
      "+----------------+\n",
      "only showing top 20 rows\n",
      "\n",
      "+----------------+\n",
      "|Practice_Type_ID|\n",
      "+----------------+\n",
      "|           18764|\n",
      "|           18764|\n",
      "|           18764|\n",
      "|           18764|\n",
      "|           18764|\n",
      "|           18764|\n",
      "|           18764|\n",
      "|           18764|\n",
      "|           18764|\n",
      "|           18764|\n",
      "|           18764|\n",
      "|           18764|\n",
      "|           18764|\n",
      "|           18764|\n",
      "|           18764|\n",
      "|           18764|\n",
      "|           18764|\n",
      "|           18764|\n",
      "|           18764|\n",
      "|           18764|\n",
      "+----------------+\n",
      "only showing top 20 rows\n",
      "\n",
      "{'CMS_CaseDetails': DataFrame[Case_ID: int, Truve_Org_ID: int, Client_Org_ID: string, Parent_Case_ID: int, Practice_Type_ID: int, Plaintiff_Full_Name: string, Case_Marketing_Source: string, Case_Source_Name: string, Attorney_Fee_Percentage: decimal(10,4), Estimated_Settlement_Date: date, Estimated_Settlement_Amount: decimal(10,4), If_Case_Settled_Presuit: string, If_VIP_Case: string, If_Case_Referred_Out: boolean, Case_Type_ID: int, Attorney_ID: int, Prelitigation_Paralegal_ID: int, Litigation_Paralegal_ID: int, CaseManager_ID: int, Cocounsel_ID: int, Case_Team_ID: int, Insurance_ID: int, Case_Status_ID: int, Case_Phase_ID: int, Custom1: string, Custom2: string, Custom3: string, Custom4: string, Custom5: string, Case_Create_Date: string]}\n",
      "Writing CMS_CaseDetails\n",
      "{\"Case_ID\": 10128516, \"Truve_Org_ID\": 6586, \"Client_Org_ID\": \"6586\", \"Parent_Case_ID\": 10128516, \"Practice_Type_ID\": 18764, \"Plaintiff_Full_Name\": \"Carlos Santizo\", \"Case_Marketing_Source\": \"23904884\", \"Case_Source_Name\": null, \"Attorney_Fee_Percentage\": 40.0000, \"Estimated_Settlement_Date\": 2022-12-04, \"Estimated_Settlement_Amount\": 25000.0000, \"If_Case_Settled_Presuit\": null, \"If_VIP_Case\": \"false\", \"If_Case_Referred_Out\": false, \"Case_Type_ID\": 2, \"Attorney_ID\": 32695985, \"Prelitigation_Paralegal_ID\": 33567750, \"Litigation_Paralegal_ID\": 34676029, \"CaseManager_ID\": 33567750, \"Cocounsel_ID\": null, \"Case_Team_ID\": null, \"Insurance_ID\": null, \"Case_Status_ID\": null, \"Case_Phase_ID\": 103017, \"Custom1\": null, \"Custom2\": null, \"Custom3\": null, \"Custom4\": null, \"Custom5\": null, \"Case_Create_Date\": \"2021-12-08T20:31:31.1430000\"}\n",
      "{\"Case_ID\": 10714466, \"Truve_Org_ID\": 6586, \"Client_Org_ID\": \"6586\", \"Parent_Case_ID\": 10714466, \"Practice_Type_ID\": 18764, \"Plaintiff_Full_Name\": \"Jamila Mounir\", \"Case_Marketing_Source\": null, \"Case_Source_Name\": \"Zuhair - Friend\", \"Attorney_Fee_Percentage\": 33.3300, \"Estimated_Settlement_Date\": null, \"Estimated_Settlement_Amount\": null, \"If_Case_Settled_Presuit\": null, \"If_VIP_Case\": null, \"If_Case_Referred_Out\": false, \"Case_Type_ID\": 2, \"Attorney_ID\": 34679431, \"Prelitigation_Paralegal_ID\": 34679431, \"Litigation_Paralegal_ID\": 34676029, \"CaseManager_ID\": 31931223, \"Cocounsel_ID\": null, \"Case_Team_ID\": null, \"Insurance_ID\": null, \"Case_Status_ID\": null, \"Case_Phase_ID\": 103017, \"Custom1\": null, \"Custom2\": null, \"Custom3\": null, \"Custom4\": null, \"Custom5\": null, \"Case_Create_Date\": \"2022-06-28T19:09:25.9400000\"}\n",
      "{\"Case_ID\": 9886640, \"Truve_Org_ID\": 6586, \"Client_Org_ID\": \"6586\", \"Parent_Case_ID\": 9886640, \"Practice_Type_ID\": 18764, \"Plaintiff_Full_Name\": \"Manuela Villegas\", \"Case_Marketing_Source\": \"29732539\", \"Case_Source_Name\": null, \"Attorney_Fee_Percentage\": 40.0000, \"Estimated_Settlement_Date\": 2022-10-31, \"Estimated_Settlement_Amount\": 1200.0000, \"If_Case_Settled_Presuit\": null, \"If_VIP_Case\": \"false\", \"If_Case_Referred_Out\": false, \"Case_Type_ID\": 2, \"Attorney_ID\": 32695985, \"Prelitigation_Paralegal_ID\": 31935462, \"Litigation_Paralegal_ID\": 34676029, \"CaseManager_ID\": 27906302, \"Cocounsel_ID\": null, \"Case_Team_ID\": null, \"Insurance_ID\": null, \"Case_Status_ID\": null, \"Case_Phase_ID\": 91396, \"Custom1\": null, \"Custom2\": null, \"Custom3\": null, \"Custom4\": null, \"Custom5\": null, \"Case_Create_Date\": \"2021-09-29T13:52:37.3230000\"}\n",
      "{\"Case_ID\": 10261586, \"Truve_Org_ID\": 6586, \"Client_Org_ID\": \"6586\", \"Parent_Case_ID\": 10261586, \"Practice_Type_ID\": 18764, \"Plaintiff_Full_Name\": \"Farrakhan Rogers\", \"Case_Marketing_Source\": \"23903798\", \"Case_Source_Name\": null, \"Attorney_Fee_Percentage\": 35.0000, \"Estimated_Settlement_Date\": 2022-10-10, \"Estimated_Settlement_Amount\": 20000.0000, \"If_Case_Settled_Presuit\": null, \"If_VIP_Case\": \"false\", \"If_Case_Referred_Out\": false, \"Case_Type_ID\": 2, \"Attorney_ID\": 35125016, \"Prelitigation_Paralegal_ID\": 31935462, \"Litigation_Paralegal_ID\": 34676029, \"CaseManager_ID\": 31935462, \"Cocounsel_ID\": null, \"Case_Team_ID\": null, \"Insurance_ID\": null, \"Case_Status_ID\": null, \"Case_Phase_ID\": 91392, \"Custom1\": null, \"Custom2\": null, \"Custom3\": null, \"Custom4\": null, \"Custom5\": null, \"Case_Create_Date\": \"2022-02-10T01:23:02.0970000\"}\n",
      "{\"Case_ID\": 9342049, \"Truve_Org_ID\": 6586, \"Client_Org_ID\": \"6586\", \"Parent_Case_ID\": 9342049, \"Practice_Type_ID\": 18764, \"Plaintiff_Full_Name\": \"Kayla Raines\", \"Case_Marketing_Source\": \"23903798\", \"Case_Source_Name\": \"Fiance found us on Google\", \"Attorney_Fee_Percentage\": null, \"Estimated_Settlement_Date\": 2022-01-05, \"Estimated_Settlement_Amount\": 500.0000, \"If_Case_Settled_Presuit\": \"false\", \"If_VIP_Case\": null, \"If_Case_Referred_Out\": null, \"Case_Type_ID\": 2, \"Attorney_ID\": 24499015, \"Prelitigation_Paralegal_ID\": 27906302, \"Litigation_Paralegal_ID\": 34676029, \"CaseManager_ID\": 27906302, \"Cocounsel_ID\": null, \"Case_Team_ID\": null, \"Insurance_ID\": null, \"Case_Status_ID\": null, \"Case_Phase_ID\": 168717, \"Custom1\": null, \"Custom2\": null, \"Custom3\": null, \"Custom4\": null, \"Custom5\": null, \"Case_Create_Date\": \"2021-05-13T19:17:36.2530000\"}\n",
      "{\"Case_ID\": 10772293, \"Truve_Org_ID\": 6586, \"Client_Org_ID\": \"6586\", \"Parent_Case_ID\": 10772293, \"Practice_Type_ID\": 18764, \"Plaintiff_Full_Name\": \"Ameer Awad\", \"Case_Marketing_Source\": \"32695985\", \"Case_Source_Name\": \"Cousin\", \"Attorney_Fee_Percentage\": 33.3300, \"Estimated_Settlement_Date\": 2023-02-19, \"Estimated_Settlement_Amount\": 15000.0000, \"If_Case_Settled_Presuit\": null, \"If_VIP_Case\": \"false\", \"If_Case_Referred_Out\": false, \"Case_Type_ID\": 2, \"Attorney_ID\": 32695985, \"Prelitigation_Paralegal_ID\": 33567750, \"Litigation_Paralegal_ID\": 34676029, \"CaseManager_ID\": 33567750, \"Cocounsel_ID\": null, \"Case_Team_ID\": null, \"Insurance_ID\": null, \"Case_Status_ID\": null, \"Case_Phase_ID\": 103017, \"Custom1\": null, \"Custom2\": null, \"Custom3\": null, \"Custom4\": null, \"Custom5\": null, \"Case_Create_Date\": \"2022-07-21T22:26:40.7670000\"}\n",
      "{\"Case_ID\": 10035863, \"Truve_Org_ID\": 6586, \"Client_Org_ID\": \"6586\", \"Parent_Case_ID\": 10035863, \"Practice_Type_ID\": 18764, \"Plaintiff_Full_Name\": \"Melky Rodriguez\", \"Case_Marketing_Source\": \"24137704\", \"Case_Source_Name\": null, \"Attorney_Fee_Percentage\": 30.0000, \"Estimated_Settlement_Date\": 2022-10-14, \"Estimated_Settlement_Amount\": 3000.0000, \"If_Case_Settled_Presuit\": null, \"If_VIP_Case\": \"false\", \"If_Case_Referred_Out\": false, \"Case_Type_ID\": 2, \"Attorney_ID\": 34679431, \"Prelitigation_Paralegal_ID\": 30627149, \"Litigation_Paralegal_ID\": 34676029, \"CaseManager_ID\": 30627149, \"Cocounsel_ID\": null, \"Case_Team_ID\": null, \"Insurance_ID\": null, \"Case_Status_ID\": null, \"Case_Phase_ID\": 91392, \"Custom1\": null, \"Custom2\": null, \"Custom3\": null, \"Custom4\": null, \"Custom5\": null, \"Case_Create_Date\": \"2021-11-12T16:51:24.8700000\"}\n",
      "{\"Case_ID\": 10555490, \"Truve_Org_ID\": 6586, \"Client_Org_ID\": \"6586\", \"Parent_Case_ID\": 10555490, \"Practice_Type_ID\": 18764, \"Plaintiff_Full_Name\": \"Nadiya Wylie\", \"Case_Marketing_Source\": \"23903798\", \"Case_Source_Name\": null, \"Attorney_Fee_Percentage\": 35.0000, \"Estimated_Settlement_Date\": 2023-02-07, \"Estimated_Settlement_Amount\": 25000.0000, \"If_Case_Settled_Presuit\": null, \"If_VIP_Case\": \"false\", \"If_Case_Referred_Out\": null, \"Case_Type_ID\": 2, \"Attorney_ID\": 34679431, \"Prelitigation_Paralegal_ID\": 25501318, \"Litigation_Paralegal_ID\": 34676029, \"CaseManager_ID\": 30280883, \"Cocounsel_ID\": null, \"Case_Team_ID\": null, \"Insurance_ID\": null, \"Case_Status_ID\": null, \"Case_Phase_ID\": 91390, \"Custom1\": null, \"Custom2\": null, \"Custom3\": null, \"Custom4\": null, \"Custom5\": null, \"Case_Create_Date\": \"2022-05-16T18:33:15.3300000\"}\n",
      "{\"Case_ID\": 9992217, \"Truve_Org_ID\": 6586, \"Client_Org_ID\": \"6586\", \"Parent_Case_ID\": 9992217, \"Practice_Type_ID\": 18764, \"Plaintiff_Full_Name\": \"Belinda White\", \"Case_Marketing_Source\": \"31973012\", \"Case_Source_Name\": null, \"Attorney_Fee_Percentage\": 40.0000, \"Estimated_Settlement_Date\": null, \"Estimated_Settlement_Amount\": null, \"If_Case_Settled_Presuit\": null, \"If_VIP_Case\": \"false\", \"If_Case_Referred_Out\": null, \"Case_Type_ID\": 2, \"Attorney_ID\": 35174952, \"Prelitigation_Paralegal_ID\": 31931223, \"Litigation_Paralegal_ID\": 34676029, \"CaseManager_ID\": 35174952, \"Cocounsel_ID\": null, \"Case_Team_ID\": null, \"Insurance_ID\": null, \"Case_Status_ID\": null, \"Case_Phase_ID\": 103017, \"Custom1\": null, \"Custom2\": null, \"Custom3\": null, \"Custom4\": null, \"Custom5\": null, \"Case_Create_Date\": \"2021-11-01T22:43:11.1270000\"}\n",
      "{\"Case_ID\": 9654504, \"Truve_Org_ID\": 6586, \"Client_Org_ID\": \"6586\", \"Parent_Case_ID\": 9654504, \"Practice_Type_ID\": 18764, \"Plaintiff_Full_Name\": \"Brian Clay\", \"Case_Marketing_Source\": null, \"Case_Source_Name\": null, \"Attorney_Fee_Percentage\": 33.3300, \"Estimated_Settlement_Date\": 2022-12-16, \"Estimated_Settlement_Amount\": 2500.0000, \"If_Case_Settled_Presuit\": null, \"If_VIP_Case\": null, \"If_Case_Referred_Out\": null, \"Case_Type_ID\": 2, \"Attorney_ID\": 35174952, \"Prelitigation_Paralegal_ID\": 32040787, \"Litigation_Paralegal_ID\": 34676029, \"CaseManager_ID\": 35174952, \"Cocounsel_ID\": null, \"Case_Team_ID\": null, \"Insurance_ID\": null, \"Case_Status_ID\": null, \"Case_Phase_ID\": 176616, \"Custom1\": null, \"Custom2\": null, \"Custom3\": null, \"Custom4\": null, \"Custom5\": null, \"Case_Create_Date\": \"2021-07-19T13:05:17.2070000\"}\n",
      "{\"Case_ID\": 9940627, \"Truve_Org_ID\": 6586, \"Client_Org_ID\": \"6586\", \"Parent_Case_ID\": 9940627, \"Practice_Type_ID\": 18764, \"Plaintiff_Full_Name\": \"Roberto Carlos Galdamez-Guevara\", \"Case_Marketing_Source\": \"23969305\", \"Case_Source_Name\": null, \"Attorney_Fee_Percentage\": 40.0000, \"Estimated_Settlement_Date\": null, \"Estimated_Settlement_Amount\": null, \"If_Case_Settled_Presuit\": null, \"If_VIP_Case\": \"false\", \"If_Case_Referred_Out\": null, \"Case_Type_ID\": 2, \"Attorney_ID\": 32695985, \"Prelitigation_Paralegal_ID\": 32803045, \"Litigation_Paralegal_ID\": 34676029, \"CaseManager_ID\": 27306473, \"Cocounsel_ID\": null, \"Case_Team_ID\": null, \"Insurance_ID\": null, \"Case_Status_ID\": null, \"Case_Phase_ID\": 91396, \"Custom1\": null, \"Custom2\": null, \"Custom3\": null, \"Custom4\": null, \"Custom5\": null, \"Case_Create_Date\": \"2021-10-18T13:23:14.7870000\"}\n",
      "{\"Case_ID\": 10065473, \"Truve_Org_ID\": 6586, \"Client_Org_ID\": \"6586\", \"Parent_Case_ID\": 10065473, \"Practice_Type_ID\": 18764, \"Plaintiff_Full_Name\": \"William Cason\", \"Case_Marketing_Source\": \"31973012\", \"Case_Source_Name\": null, \"Attorney_Fee_Percentage\": 35.0000, \"Estimated_Settlement_Date\": 2022-02-01, \"Estimated_Settlement_Amount\": 0.0000, \"If_Case_Settled_Presuit\": null, \"If_VIP_Case\": \"false\", \"If_Case_Referred_Out\": false, \"Case_Type_ID\": 2, \"Attorney_ID\": 32695985, \"Prelitigation_Paralegal_ID\": 23938585, \"Litigation_Paralegal_ID\": 34676029, \"CaseManager_ID\": 30627149, \"Cocounsel_ID\": null, \"Case_Team_ID\": null, \"Insurance_ID\": null, \"Case_Status_ID\": null, \"Case_Phase_ID\": 168717, \"Custom1\": null, \"Custom2\": null, \"Custom3\": null, \"Custom4\": null, \"Custom5\": null, \"Case_Create_Date\": \"2021-11-26T15:35:49.0800000\"}\n",
      "{\"Case_ID\": 9157249, \"Truve_Org_ID\": 6586, \"Client_Org_ID\": \"6586\", \"Parent_Case_ID\": 9157249, \"Practice_Type_ID\": 18764, \"Plaintiff_Full_Name\": \"Harold Green Jr\", \"Case_Marketing_Source\": \"23903798\", \"Case_Source_Name\": \"Google Search\", \"Attorney_Fee_Percentage\": null, \"Estimated_Settlement_Date\": 2022-10-28, \"Estimated_Settlement_Amount\": 1000.0000, \"If_Case_Settled_Presuit\": null, \"If_VIP_Case\": \"false\", \"If_Case_Referred_Out\": null, \"Case_Type_ID\": 2, \"Attorney_ID\": 34679431, \"Prelitigation_Paralegal_ID\": 25501318, \"Litigation_Paralegal_ID\": 34676029, \"CaseManager_ID\": 25501318, \"Cocounsel_ID\": null, \"Case_Team_ID\": null, \"Insurance_ID\": null, \"Case_Status_ID\": null, \"Case_Phase_ID\": 168717, \"Custom1\": null, \"Custom2\": null, \"Custom3\": null, \"Custom4\": null, \"Custom5\": null, \"Case_Create_Date\": \"2021-04-15T20:04:54.2230000\"}\n",
      "{\"Case_ID\": 9273927, \"Truve_Org_ID\": 6586, \"Client_Org_ID\": \"6586\", \"Parent_Case_ID\": 9273927, \"Practice_Type_ID\": 18764, \"Plaintiff_Full_Name\": \"Hector Estrada\", \"Case_Marketing_Source\": \"23903798\", \"Case_Source_Name\": null, \"Attorney_Fee_Percentage\": null, \"Estimated_Settlement_Date\": 2023-03-31, \"Estimated_Settlement_Amount\": 10000.0000, \"If_Case_Settled_Presuit\": null, \"If_VIP_Case\": \"false\", \"If_Case_Referred_Out\": null, \"Case_Type_ID\": 2, \"Attorney_ID\": 26397954, \"Prelitigation_Paralegal_ID\": 33677262, \"Litigation_Paralegal_ID\": 33053480, \"CaseManager_ID\": 33053480, \"Cocounsel_ID\": null, \"Case_Team_ID\": null, \"Insurance_ID\": null, \"Case_Status_ID\": null, \"Case_Phase_ID\": 168717, \"Custom1\": null, \"Custom2\": null, \"Custom3\": null, \"Custom4\": null, \"Custom5\": null, \"Case_Create_Date\": \"2021-05-01T14:36:07.1670000\"}\n",
      "{\"Case_ID\": 10874504, \"Truve_Org_ID\": 6586, \"Client_Org_ID\": \"6586\", \"Parent_Case_ID\": 10874504, \"Practice_Type_ID\": 18764, \"Plaintiff_Full_Name\": \"Nizamuddin Kalya\", \"Case_Marketing_Source\": null, \"Case_Source_Name\": null, \"Attorney_Fee_Percentage\": 30.0000, \"Estimated_Settlement_Date\": null, \"Estimated_Settlement_Amount\": null, \"If_Case_Settled_Presuit\": null, \"If_VIP_Case\": null, \"If_Case_Referred_Out\": false, \"Case_Type_ID\": 2, \"Attorney_ID\": 34679431, \"Prelitigation_Paralegal_ID\": 34679431, \"Litigation_Paralegal_ID\": 34676029, \"CaseManager_ID\": 31931223, \"Cocounsel_ID\": null, \"Case_Team_ID\": null, \"Insurance_ID\": null, \"Case_Status_ID\": null, \"Case_Phase_ID\": 103016, \"Custom1\": null, \"Custom2\": null, \"Custom3\": null, \"Custom4\": null, \"Custom5\": null, \"Case_Create_Date\": \"2022-08-29T13:37:39.1570000\"}\n",
      "{\"Case_ID\": 9737343, \"Truve_Org_ID\": 6586, \"Client_Org_ID\": \"6586\", \"Parent_Case_ID\": 9737343, \"Practice_Type_ID\": 18764, \"Plaintiff_Full_Name\": \"Julieta Quintana\", \"Case_Marketing_Source\": \"31973012\", \"Case_Source_Name\": null, \"Attorney_Fee_Percentage\": null, \"Estimated_Settlement_Date\": 2021-12-31, \"Estimated_Settlement_Amount\": 10000.0000, \"If_Case_Settled_Presuit\": null, \"If_VIP_Case\": \"false\", \"If_Case_Referred_Out\": null, \"Case_Type_ID\": 2, \"Attorney_ID\": 32695985, \"Prelitigation_Paralegal_ID\": 25501318, \"Litigation_Paralegal_ID\": 34676029, \"CaseManager_ID\": 31935462, \"Cocounsel_ID\": null, \"Case_Team_ID\": null, \"Insurance_ID\": null, \"Case_Status_ID\": null, \"Case_Phase_ID\": 168717, \"Custom1\": null, \"Custom2\": null, \"Custom3\": null, \"Custom4\": null, \"Custom5\": null, \"Case_Create_Date\": \"2021-08-16T14:49:08.4270000\"}\n",
      "{\"Case_ID\": 10789254, \"Truve_Org_ID\": 6586, \"Client_Org_ID\": \"6586\", \"Parent_Case_ID\": 10789254, \"Practice_Type_ID\": 18764, \"Plaintiff_Full_Name\": \"Billy Perez\", \"Case_Marketing_Source\": \"31973012\", \"Case_Source_Name\": null, \"Attorney_Fee_Percentage\": 40.0000, \"Estimated_Settlement_Date\": 2023-04-28, \"Estimated_Settlement_Amount\": 3000.0000, \"If_Case_Settled_Presuit\": null, \"If_VIP_Case\": \"false\", \"If_Case_Referred_Out\": false, \"Case_Type_ID\": 2, \"Attorney_ID\": 35125016, \"Prelitigation_Paralegal_ID\": 33567750, \"Litigation_Paralegal_ID\": 34976343, \"CaseManager_ID\": 33567750, \"Cocounsel_ID\": null, \"Case_Team_ID\": null, \"Insurance_ID\": null, \"Case_Status_ID\": null, \"Case_Phase_ID\": 103017, \"Custom1\": null, \"Custom2\": null, \"Custom3\": null, \"Custom4\": null, \"Custom5\": null, \"Case_Create_Date\": \"2022-07-28T19:33:59.7970000\"}\n",
      "{\"Case_ID\": 10200677, \"Truve_Org_ID\": 6586, \"Client_Org_ID\": \"6586\", \"Parent_Case_ID\": 10200677, \"Practice_Type_ID\": 18764, \"Plaintiff_Full_Name\": \"Michelle Davis\", \"Case_Marketing_Source\": null, \"Case_Source_Name\": null, \"Attorney_Fee_Percentage\": 40.0000, \"Estimated_Settlement_Date\": null, \"Estimated_Settlement_Amount\": null, \"If_Case_Settled_Presuit\": null, \"If_VIP_Case\": \"true\", \"If_Case_Referred_Out\": null, \"Case_Type_ID\": 2, \"Attorney_ID\": 32695985, \"Prelitigation_Paralegal_ID\": 34679431, \"Litigation_Paralegal_ID\": 34676029, \"CaseManager_ID\": 34679431, \"Cocounsel_ID\": null, \"Case_Team_ID\": null, \"Insurance_ID\": null, \"Case_Status_ID\": null, \"Case_Phase_ID\": 91396, \"Custom1\": null, \"Custom2\": null, \"Custom3\": null, \"Custom4\": null, \"Custom5\": null, \"Case_Create_Date\": \"2022-01-13T21:27:24.2770000\"}\n",
      "{\"Case_ID\": 9983353, \"Truve_Org_ID\": 6586, \"Client_Org_ID\": \"6586\", \"Parent_Case_ID\": 9983353, \"Practice_Type_ID\": 18764, \"Plaintiff_Full_Name\": \"Jessica Cabrera\", \"Case_Marketing_Source\": \"29453591\", \"Case_Source_Name\": null, \"Attorney_Fee_Percentage\": 30.0000, \"Estimated_Settlement_Date\": 2023-02-24, \"Estimated_Settlement_Amount\": 5000.0000, \"If_Case_Settled_Presuit\": null, \"If_VIP_Case\": \"false\", \"If_Case_Referred_Out\": false, \"Case_Type_ID\": 2, \"Attorney_ID\": 34679431, \"Prelitigation_Paralegal_ID\": 25501318, \"Litigation_Paralegal_ID\": 34676029, \"CaseManager_ID\": 25501318, \"Cocounsel_ID\": null, \"Case_Team_ID\": null, \"Insurance_ID\": null, \"Case_Status_ID\": null, \"Case_Phase_ID\": 103017, \"Custom1\": null, \"Custom2\": null, \"Custom3\": null, \"Custom4\": null, \"Custom5\": null, \"Case_Create_Date\": \"2021-10-28T21:10:48.6900000\"}\n",
      "{\"Case_ID\": 10674244, \"Truve_Org_ID\": 6586, \"Client_Org_ID\": \"6586\", \"Parent_Case_ID\": 10674244, \"Practice_Type_ID\": 18764, \"Plaintiff_Full_Name\": \"Angel Mora Ortega\", \"Case_Marketing_Source\": \"23903798\", \"Case_Source_Name\": null, \"Attorney_Fee_Percentage\": 40.0000, \"Estimated_Settlement_Date\": 2023-01-03, \"Estimated_Settlement_Amount\": 25000.0000, \"If_Case_Settled_Presuit\": null, \"If_VIP_Case\": null, \"If_Case_Referred_Out\": null, \"Case_Type_ID\": 2, \"Attorney_ID\": 34679431, \"Prelitigation_Paralegal_ID\": 25501318, \"Litigation_Paralegal_ID\": 34676029, \"CaseManager_ID\": 30280883, \"Cocounsel_ID\": null, \"Case_Team_ID\": null, \"Insurance_ID\": null, \"Case_Status_ID\": null, \"Case_Phase_ID\": 91389, \"Custom1\": null, \"Custom2\": null, \"Custom3\": null, \"Custom4\": null, \"Custom5\": null, \"Case_Create_Date\": \"2022-06-15T19:08:22.4770000\"}\n"
     ]
    }
   ],
   "source": [
    "processed_case_types = casetype_result[\"CMS_CaseTypes\"]\n",
    "#Peoples Transformation\n",
    "def casesummary_transformation(df_casesummary, df_project_vitals, df_project, processed_case_types, df_intake):\n",
    "    #Read Raw Data\n",
    "    result = builder.build_casesummary(df_casesummary, df_project_vitals, df_project, processed_case_types, df_intake)\n",
    "    print(result)\n",
    "    upload_result(result)\n",
    "    \n",
    "casesummary_transformation(df_casesummary, df_project_vitals, df_project, processed_case_types, df_intake)"
   ]
  },
  {
   "cell_type": "code",
   "execution_count": null,
   "id": "8bb566a3",
   "metadata": {},
   "outputs": [],
   "source": [
    "#Peoples Transformation\n",
    "def phasechanges_transformation(projectphases_df, processed_project_df, phases_df):\n",
    "    #Read Raw Data\n",
    "    result = builder.build_phasechanges(projectphases_df, processed_project_df, phases_df)\n",
    "    print(result)\n",
    "    upload_result(result)\n",
    "    \n",
    "phasechanges_transformation(projectphases_df=df_projectphases, \n",
    "                        processed_project_df=result[\"CMS_Cases\"], \n",
    "                        phases_df=phase_result[\"CMS_Phases\"])"
   ]
  },
  {
   "cell_type": "code",
   "execution_count": null,
   "id": "a85fc2e8",
   "metadata": {},
   "outputs": [],
   "source": [
    "from pyspark.sql.types import *\n",
    "\n",
    "df_project_vitals_new = df_project_vitals.filter(df_project_vitals.fieldName == 'createDate') \\\n",
    "                        .withColumn(\"projectId\", df_project_vitals.projectId.cast(IntegerType())) \\\n",
    "                        .withColumnRenamed(\"projectId\",\"Case_ID\").select(\"Case_ID\", \"value\")\n",
    "        "
   ]
  },
  {
   "cell_type": "code",
   "execution_count": null,
   "id": "e2baf42f",
   "metadata": {},
   "outputs": [],
   "source": [
    "df_project_vitals_new.show()"
   ]
  },
  {
   "cell_type": "code",
   "execution_count": null,
   "id": "651820c5",
   "metadata": {},
   "outputs": [],
   "source": [
    "df_project_vitals.show()"
   ]
  },
  {
   "cell_type": "code",
   "execution_count": null,
   "id": "a504d6d0",
   "metadata": {},
   "outputs": [],
   "source": [
    "cms_cases_df = result[\"CMS_Cases\"]"
   ]
  },
  {
   "cell_type": "code",
   "execution_count": null,
   "id": "ab9a4d9c",
   "metadata": {},
   "outputs": [],
   "source": [
    "cms_cases_df.select(\"Case_Type_ID\").distinct().show()"
   ]
  },
  {
   "cell_type": "code",
   "execution_count": null,
   "id": "d661cb65",
   "metadata": {},
   "outputs": [],
   "source": [
    "%stop_session"
   ]
  },
  {
   "cell_type": "code",
   "execution_count": null,
   "id": "9b05b5c2",
   "metadata": {},
   "outputs": [],
   "source": [
    "df_casesummary.select(\"caseType\").distinct().show(10)"
   ]
  },
  {
   "cell_type": "code",
   "execution_count": null,
   "id": "2410d7a1",
   "metadata": {},
   "outputs": [],
   "source": [
    "casetype_df = casetype_result[\"CMS_CaseTypes\"]\n"
   ]
  },
  {
   "cell_type": "code",
   "execution_count": null,
   "id": "2e7888ff",
   "metadata": {},
   "outputs": [],
   "source": [
    "casetype_df.show()"
   ]
  },
  {
   "cell_type": "code",
   "execution_count": null,
   "id": "edc3129e",
   "metadata": {},
   "outputs": [],
   "source": [
    "people_df = people_master_result[\"CMS_People\"]"
   ]
  },
  {
   "cell_type": "code",
   "execution_count": null,
   "id": "244086e7",
   "metadata": {},
   "outputs": [],
   "source": [
    "people_df"
   ]
  },
  {
   "cell_type": "code",
   "execution_count": null,
   "id": "0b9aba5e",
   "metadata": {},
   "outputs": [],
   "source": [
    "people_df.show()"
   ]
  },
  {
   "cell_type": "code",
   "execution_count": null,
   "id": "ff002c06",
   "metadata": {},
   "outputs": [],
   "source": [
    "\n",
    "# Find count for empty, None, Null, Nan with string literals.\n",
    "from pyspark.sql.functions import col,isnan,when,count\n",
    "df2 = people_df.select([count(when(col(c).contains('None') | \\\n",
    "                            col(c).contains('NULL') | \\\n",
    "                            (col(c) == '' ) | \\\n",
    "                            col(c).isNull() , c \n",
    "                           )).alias(c)\n",
    "                    for c in people_df.columns])\n",
    "df2.show()\n"
   ]
  },
  {
   "cell_type": "code",
   "execution_count": null,
   "id": "e6ae9a02",
   "metadata": {},
   "outputs": [],
   "source": [
    "%stop_session"
   ]
  },
  {
   "cell_type": "code",
   "execution_count": null,
   "id": "f74b62bc",
   "metadata": {},
   "outputs": [],
   "source": [
    "case_df = result[\"CMS_Cases\"]"
   ]
  },
  {
   "cell_type": "code",
   "execution_count": null,
   "id": "e50e8767",
   "metadata": {},
   "outputs": [],
   "source": [
    "case_figure_df.select(\"Case_Figure_ID\", \"Case_ID\").show()"
   ]
  },
  {
   "cell_type": "code",
   "execution_count": null,
   "id": "0aa95be8",
   "metadata": {},
   "outputs": [],
   "source": [
    "from pyspark.sql.functions import col,isnan,when,count\n",
    "df2 = case_df.select([count(when(col(c).contains('None') | \\\n",
    "                            col(c).contains('NULL') | \\\n",
    "                            (col(c) == '' ) | \\\n",
    "                            col(c).isNull() , c \n",
    "                           )).alias(c)\n",
    "                    for c in case_df.columns])\n",
    "df2.show()\n"
   ]
  },
  {
   "cell_type": "code",
   "execution_count": null,
   "id": "bee93861",
   "metadata": {},
   "outputs": [],
   "source": []
  }
 ],
 "metadata": {
  "kernelspec": {
   "display_name": "Glue PySpark",
   "language": "python",
   "name": "glue_pyspark"
  },
  "language_info": {
   "codemirror_mode": {
    "name": "python",
    "version": 3
   },
   "file_extension": ".py",
   "mimetype": "text/x-python",
   "name": "Python_Glue_Session",
   "pygments_lexer": "python3"
  }
 },
 "nbformat": 4,
 "nbformat_minor": 5
}
