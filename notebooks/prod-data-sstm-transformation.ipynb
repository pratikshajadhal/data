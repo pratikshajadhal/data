{
 "cells": [
  {
   "cell_type": "code",
   "execution_count": 2,
   "id": "8315afbb",
   "metadata": {},
   "outputs": [
    {
     "name": "stdout",
     "output_type": "stream",
     "text": [
      "Welcome to the Glue Interactive Sessions Kernel\n",
      "For more information on available magic commands, please type %help in any new cell.\n",
      "\n",
      "Please view our Getting Started page to access the most up-to-date information on the Interactive Sessions kernel: https://docs.aws.amazon.com/glue/latest/dg/interactive-sessions.html\n",
      "It looks like there is a newer version of the kernel available. The latest version is 0.36 and you have 0.31 installed.\n",
      "Please run `pip install --upgrade aws-glue-sessions` to upgrade your kernel\n",
      "Current iam_role is None\n",
      "iam_role has been set to arn:aws:iam::481237842548:role/CF-dev-TruveDevops-Glue-Role.\n"
     ]
    }
   ],
   "source": [
    "%iam_role arn:aws:iam::481237842548:role/CF-dev-TruveDevops-Glue-Role"
   ]
  },
  {
   "cell_type": "code",
   "execution_count": 4,
   "id": "86f8f0a6",
   "metadata": {},
   "outputs": [
    {
     "name": "stdout",
     "output_type": "stream",
     "text": [
      "Previous region: None\n",
      "Setting new region to: us-west-2\n",
      "Region is set to: us-west-2\n"
     ]
    }
   ],
   "source": [
    "%region us-west-2"
   ]
  },
  {
   "cell_type": "code",
   "execution_count": 0,
   "id": "c7525825",
   "metadata": {},
   "outputs": [
    {
     "name": "stdout",
     "output_type": "stream",
     "text": [
      "Additional python modules to be included:\n",
      "s3://dev-truve-devops-05-databricks-bucketetlrawdata-wu3m2thgf3o/fv_builder/sstm_transformation-0.1.0-py3-none-any.whl\n",
      "Previous number of workers: 5\n",
      "Setting new number of workers to: 2\n",
      "Connections to be included:\n",
      "dev-glue-redshift-connection\n",
      "Current idle_timeout is None minutes.\n",
      "idle_timeout has been set to 60 minutes.\n",
      "Authenticating with profile=default\n",
      "glue_role_arn defined by user: arn:aws:iam::481237842548:role/CF-dev-TruveDevops-Glue-Role\n",
      "Trying to create a Glue session for the kernel.\n",
      "Worker Type: G.1X\n",
      "Number of Workers: 2\n",
      "Session ID: b76a7418-c2fc-4e1f-972e-96be6d9831db\n",
      "Applying the following default arguments:\n",
      "--glue_kernel_version 0.31\n",
      "--enable-glue-datacatalog true\n",
      "--additional-python-modules s3://dev-truve-devops-05-databricks-bucketetlrawdata-wu3m2thgf3o/fv_builder/sstm_transformation-0.1.0-py3-none-any.whl\n",
      "Waiting for session b76a7418-c2fc-4e1f-972e-96be6d9831db to get into ready status...\n",
      "Session b76a7418-c2fc-4e1f-972e-96be6d9831db has been created\n",
      "\n",
      "\n"
     ]
    }
   ],
   "source": [
    "%additional_python_modules \"s3://dev-truve-devops-05-databricks-bucketetlrawdata-wu3m2thgf3o/fv_builder/sstm_transformation-0.1.0-py3-none-any.whl\"\n",
    "%number_of_workers 2\n",
    "%connections dev-glue-redshift-connection\n",
    "%idle_timeout 60\n",
    "\n",
    "import sys\n",
    "from awsglue.transforms import *\n",
    "from awsglue.utils import getResolvedOptions\n",
    "from pyspark.context import SparkContext\n",
    "from awsglue.context import GlueContext\n",
    "from awsglue.job import Job\n",
    "  \n",
    "sc = SparkContext.getOrCreate()\n",
    "glueContext = GlueContext(sc)\n",
    "spark = glueContext.spark_session\n",
    "job = Job(glueContext)"
   ]
  },
  {
   "cell_type": "code",
   "execution_count": 18,
   "id": "4f82a92a",
   "metadata": {},
   "outputs": [
    {
     "name": "stdout",
     "output_type": "stream",
     "text": [
      "\n"
     ]
    }
   ],
   "source": [
    "#download configuration file\n",
    "import boto3\n",
    "session = boto3.Session()\n",
    "\n",
    "s3 = session.resource('s3')\n",
    "s3.Bucket('dev-truve-devops-05-databricks-bucketetlrawdata-wu3m2thgf3o').download_file('confs/filevine/sstm.yaml', 'sstm.yaml')"
   ]
  },
  {
   "cell_type": "code",
   "execution_count": 19,
   "id": "d8ae1f81",
   "metadata": {},
   "outputs": [
    {
     "name": "stdout",
     "output_type": "stream",
     "text": [
      "\n"
     ]
    }
   ],
   "source": [
    "with open(\"sstm.yaml\", \"r\") as f:\n",
    "    sstm_config = f.read()\n",
    "    "
   ]
  },
  {
   "cell_type": "code",
   "execution_count": 3,
   "id": "826bfe0f",
   "metadata": {},
   "outputs": [
    {
     "name": "stdout",
     "output_type": "stream",
     "text": [
      "\n"
     ]
    }
   ],
   "source": [
    "def readFromFile(ext, path) :\n",
    "    fileContent = spark.read.format(ext).option(\"header\", \"true\").option(\"mergeSchema\", \"true\").load(path)\n",
    "    return fileContent\n"
   ]
  },
  {
   "cell_type": "code",
   "execution_count": 4,
   "id": "088295e0",
   "metadata": {},
   "outputs": [
    {
     "name": "stdout",
     "output_type": "stream",
     "text": [
      "\n"
     ]
    }
   ],
   "source": [
    "def writeToFile(df_join , path, mode) :\n",
    "    df_join.write.parquet(path,mode=mode)"
   ]
  },
  {
   "cell_type": "code",
   "execution_count": 5,
   "id": "fe962eda",
   "metadata": {},
   "outputs": [
    {
     "name": "stdout",
     "output_type": "stream",
     "text": [
      "\n"
     ]
    }
   ],
   "source": [
    "spark.conf.set(\"spark.sql.parquet.enableVectorizedReader\",\"false\")\n",
    "spark.conf.set(\"spark.sql.sources.partitionColumnTypeInference.enabled\", \"false\")\n"
   ]
  },
  {
   "cell_type": "code",
   "execution_count": 6,
   "id": "2c402ec4",
   "metadata": {},
   "outputs": [
    {
     "name": "stdout",
     "output_type": "stream",
     "text": [
      "\n"
     ]
    }
   ],
   "source": [
    "from sstm_transformation.tsm_builder import TSMBuilder\n",
    "from pyspark.sql.functions import input_file_name\n",
    "import pyspark.sql.functions as F\n",
    "\n"
   ]
  },
  {
   "cell_type": "code",
   "execution_count": null,
   "id": "61fde2b8",
   "metadata": {},
   "outputs": [],
   "source": [
    "#Read All dfs \n",
    "\n",
    "df_project =readFromFile(\"parquet\", \"s3://dev-truve-devops-05-databricks-bucketetlrawdata-wu3m2thgf3o/filevine/6586/18764/*/project.parquet\")\n",
    "df_intake =readFromFile(\"parquet\", \"s3://dev-truve-devops-05-databricks-bucketetlrawdata-wu3m2thgf3o/filevine/6586/18764/*/form/intake.parquet\")\n",
    "df_contact =readFromFile(\"parquet\", \"s3://dev-truve-devops-05-databricks-bucketetlrawdata-wu3m2thgf3o/filevine/6586/contact/historical_contacts.parquet\")\n",
    "df_projecttype = readFromFile(\"parquet\", \"s3://dev-truve-devops-05-databricks-bucketetlrawdata-wu3m2thgf3o/filevine/6586/projecttype/\")\n",
    "df_meds = readFromFile(\"parquet\", \"s3://dev-truve-devops-05-databricks-bucketetlrawdata-wu3m2thgf3o/filevine/6586/18764/*/collections/meds.parquet\")\n",
    "df_casesummary =readFromFile(\"parquet\", \"s3://dev-truve-devops-05-databricks-bucketetlrawdata-wu3m2thgf3o/filevine/6586/18764/*/form/casesummary.parquet\")\n",
    "df_project_vitals =readFromFile(\"parquet\", \"s3://dev-truve-devops-05-databricks-bucketetlrawdata-wu3m2thgf3o/filevine/6586/18764/*/project_vitals.parquet\")\n"
   ]
  },
  {
   "cell_type": "code",
   "execution_count": 8,
   "id": "8021c9b1",
   "metadata": {},
   "outputs": [
    {
     "name": "stdout",
     "output_type": "stream",
     "text": [
      "\n"
     ]
    }
   ],
   "source": [
    "base_path = \"s3://dev-truve-devops-05-databricks-bucketetlrawdata-wu3m2thgf3o/temp/fv_raw_data\"\n",
    "\n",
    "df_project =readFromFile(\"parquet\", f\"{base_path}/project/\")\n",
    "df_intake =readFromFile(\"parquet\", f\"{base_path}/intkae/\")\n",
    "df_contact =readFromFile(\"parquet\", f\"{base_path}/contact/\")\n",
    "df_projecttype = readFromFile(\"parquet\", f\"{base_path}/projecttype/\")\n",
    "df_meds = readFromFile(\"parquet\", f\"{base_path}/meds/\")\n",
    "df_casesummary =readFromFile(\"parquet\", f\"{base_path}/casesummary/\")\n",
    "df_project_vitals =readFromFile(\"parquet\", f\"{base_path}/projectvitals/\")\n"
   ]
  },
  {
   "cell_type": "code",
   "execution_count": 9,
   "id": "14fc65cd",
   "metadata": {},
   "outputs": [
    {
     "name": "stdout",
     "output_type": "stream",
     "text": [
      "'\\nbase_path = \"s3://dev-truve-devops-05-databricks-bucketetlrawdata-wu3m2thgf3o/temp/fv_raw_data\"\\nwriteToFile(df_project, f\"{base_path}/project/\", \"overwrite\")\\nwriteToFile(df_intake, f\"{base_path}/intkae/\", \"overwrite\")\\nwriteToFile(df_contact, f\"{base_path}/contact/\", \"overwrite\")\\nwriteToFile(df_projecttype, f\"{base_path}/projecttype/\", \"overwrite\")\\nwriteToFile(df_casesummary, f\"{base_path}/casesummary/\", \"overwrite\")\\nwriteToFile(df_meds, f\"{base_path}/meds/\", \"overwrite\")\\nwriteToFile(df_project_vitals, f\"{base_path}/projectvitals/\", \"overwrite\")\\n'\n"
     ]
    }
   ],
   "source": [
    "'''\n",
    "base_path = \"s3://dev-truve-devops-05-databricks-bucketetlrawdata-wu3m2thgf3o/temp/fv_raw_data\"\n",
    "writeToFile(df_project, f\"{base_path}/project/\", \"overwrite\")\n",
    "writeToFile(df_intake, f\"{base_path}/intkae/\", \"overwrite\")\n",
    "writeToFile(df_contact, f\"{base_path}/contact/\", \"overwrite\")\n",
    "writeToFile(df_projecttype, f\"{base_path}/projecttype/\", \"overwrite\")\n",
    "writeToFile(df_casesummary, f\"{base_path}/casesummary/\", \"overwrite\")\n",
    "writeToFile(df_meds, f\"{base_path}/meds/\", \"overwrite\")\n",
    "writeToFile(df_project_vitals, f\"{base_path}/projectvitals/\", \"overwrite\")\n",
    "'''\n"
   ]
  },
  {
   "cell_type": "code",
   "execution_count": 10,
   "id": "7b4712b1",
   "metadata": {},
   "outputs": [
    {
     "name": "stdout",
     "output_type": "stream",
     "text": [
      "28635\n"
     ]
    }
   ],
   "source": [
    "df_meds.count()"
   ]
  },
  {
   "cell_type": "code",
   "execution_count": 11,
   "id": "42943584",
   "metadata": {},
   "outputs": [
    {
     "name": "stdout",
     "output_type": "stream",
     "text": [
      "\n"
     ]
    }
   ],
   "source": [
    "df_project_vitals = df_project_vitals.withColumn(\"input_file\", input_file_name())\n"
   ]
  },
  {
   "cell_type": "code",
   "execution_count": null,
   "id": "7ea7d81d",
   "metadata": {},
   "outputs": [],
   "source": [
    "df_meds_modified = df_meds.filter(df_meds.id.isNotNull())"
   ]
  },
  {
   "cell_type": "code",
   "execution_count": null,
   "id": "53913502",
   "metadata": {},
   "outputs": [],
   "source": [
    "df_meds_modified.count()"
   ]
  },
  {
   "cell_type": "code",
   "execution_count": 12,
   "id": "890003de",
   "metadata": {},
   "outputs": [
    {
     "name": "stdout",
     "output_type": "stream",
     "text": [
      "\n"
     ]
    }
   ],
   "source": [
    "df_project_vitals = df_project_vitals.withColumn('projectId', F.element_at(F.split(F.col('input_file'), '/'), -2))\n"
   ]
  },
  {
   "cell_type": "code",
   "execution_count": 20,
   "id": "3987403f",
   "metadata": {},
   "outputs": [
    {
     "name": "stdout",
     "output_type": "stream",
     "text": [
      "\n"
     ]
    }
   ],
   "source": [
    "builder = TSMBuilder(\"sstm.yaml\", spark=spark)\n"
   ]
  },
  {
   "cell_type": "code",
   "execution_count": 14,
   "id": "d0d26e39",
   "metadata": {},
   "outputs": [
    {
     "name": "stdout",
     "output_type": "stream",
     "text": [
      "+--------------------+--------------------+-----------+--------------------+--------+-----+--------------------+-------------+\n",
      "|           fieldName|        friendlyName|  fieldType|               value|position|links|          input_file|    projectId|\n",
      "+--------------------+--------------------+-----------+--------------------+--------+-----+--------------------+-------------+\n",
      "|paralegal223935Fu...|        Case Manager|    Default|     Ashley Balderas|       0|   {}|s3://dev-truve-de...|projectvitals|\n",
      "|        incidentDate|       Incident Date|   DateOnly|2021-12-11T00:00:...|       1|   {}|s3://dev-truve-de...|projectvitals|\n",
      "|statuteoflimitati...|                 SOL|   DateOnly|2023-12-11T00:00:...|       2|   {}|s3://dev-truve-de...|projectvitals|\n",
      "|     clientBirthDate|Client Date of Birth|   DateOnly|2012-10-24T00:00:...|       3|   {}|s3://dev-truve-de...|projectvitals|\n",
      "|       mridone223935|           MRI Done?|    Boolean|               false|       4|   {}|s3://dev-truve-de...|projectvitals|\n",
      "|  accidenttype223938|       Accident Type|    Default|Motor Vehicle Col...|       5|   {}|s3://dev-truve-de...|projectvitals|\n",
      "|          createDate|         Create Date|DateTimeUtc|2022-02-10T17:32:...|       6|   {}|s3://dev-truve-de...|projectvitals|\n",
      "|countOfredflags18764|Count of Red Flag...|    Default|                   0|       7|   {}|s3://dev-truve-de...|projectvitals|\n",
      "|       projectNumber|      Project Number|ProjectLink|            10262816|       8|   {}|s3://dev-truve-de...|projectvitals|\n",
      "|        projectEmail|       Email Address|     MailTo|victorisraellopez...|       9|   {}|s3://dev-truve-de...|projectvitals|\n",
      "|       vipcase223935|           VIP Case?|    Boolean|               false|      10|   {}|s3://dev-truve-de...|projectvitals|\n",
      "|primaryattorney22...|Supervising Attor...|    Default|    Ali J Awad, Esq.|      11|   {}|s3://dev-truve-de...|projectvitals|\n",
      "|paralegal223935Fu...|        Case Manager|    Default|       Bonnie Raines|       0|   {}|s3://dev-truve-de...|projectvitals|\n",
      "|        incidentDate|       Incident Date|   DateOnly|2022-06-30T00:00:...|       1|   {}|s3://dev-truve-de...|projectvitals|\n",
      "|statuteoflimitati...|                 SOL|   DateOnly|2024-06-30T00:00:...|       2|   {}|s3://dev-truve-de...|projectvitals|\n",
      "|     clientBirthDate|Client Date of Birth|   DateOnly|1959-01-01T00:00:...|       3|   {}|s3://dev-truve-de...|projectvitals|\n",
      "|       mridone223935|           MRI Done?|    Boolean|                null|       4|   {}|s3://dev-truve-de...|projectvitals|\n",
      "|  accidenttype223938|       Accident Type|    Default|Motor Vehicle Col...|       5|   {}|s3://dev-truve-de...|projectvitals|\n",
      "|          createDate|         Create Date|DateTimeUtc|2022-07-08T20:41:...|       6|   {}|s3://dev-truve-de...|projectvitals|\n",
      "|countOfredflags18764|Count of Red Flag...|    Default|                   0|       7|   {}|s3://dev-truve-de...|projectvitals|\n",
      "+--------------------+--------------------+-----------+--------------------+--------+-----+--------------------+-------------+\n",
      "only showing top 20 rows\n"
     ]
    }
   ],
   "source": [
    "df_project_vitals.show()\n",
    "#s3://dev-truve-devops-05-databricks-bucketetlrawdata-wu3m2thgf3o/filevine/6586/18764/10387917/project_vitals.parquet"
   ]
  },
  {
   "cell_type": "code",
   "execution_count": 15,
   "id": "9ce20a1d",
   "metadata": {},
   "outputs": [
    {
     "name": "stdout",
     "output_type": "stream",
     "text": [
      "\n"
     ]
    }
   ],
   "source": [
    "#Upload data on S3 \n",
    "from awsglue.dynamicframe import DynamicFrame\n",
    "def upload_result(result):\n",
    "    temp_bucket = \"s3://dev-truve-devops-05-databricks-bucketetlrawdata-wu3m2thgf3o/temp\"\n",
    "    for key, df in result.items():\n",
    "        print(f\"Writing {key}\")\n",
    "        writeToFile(df,\"s3://dev-truve-devops-05-databr-bucketetlprocesseddata-h2m2xopoctot/{}/\".format(key.lower()), \"overwrite\")\n",
    "        dyf = DynamicFrame.fromDF(dataframe=df, glue_ctx=glueContext, name=key)\n",
    "        table_name = key.lower()\n",
    "        dyf.show(10)\n",
    "        \n",
    "        datasink = glueContext.write_dynamic_frame.from_jdbc_conf(\n",
    "                        frame=dyf,\n",
    "                        catalog_connection=\"dev-glue-redshift-connection\",\n",
    "                        connection_options={\n",
    "                            \"preactions\" : \"delete from tsm.{}\".format(table_name),\n",
    "                            \"dbtable\": \"tsm.{}\".format(table_name), \n",
    "                            \"database\": \"truve\",\n",
    "                        },\n",
    "                        redshift_tmp_dir=temp_bucket,\n",
    "                        transformation_ctx=\"datasink\",\n",
    "                    )\n",
    "        '''\n",
    "        #break\n",
    "        redshift_connection_options = {\"url\": \"jdbc:redshift://dev-redshift-cluster.cxorr0thbkvd.us-west-2.redshift.amazonaws.com:5439/truve\", \n",
    "                        \"user\": \"truveadmin\", \n",
    "                        \"password\": \"XXXXXXX\",\n",
    "                        \"preactions\" : \"delete from tsm.{}\".format(table_name),\n",
    "                        \"dbtable\": \"tsm.{}\".format(table_name), \n",
    "                        \"redshiftTmpDir\": temp_bucket} \n",
    "        datasink4 = glueContext.write_dynamic_frame.from_options(frame=dyf,\n",
    "                                                        connection_type=\"redshift\",\n",
    "                                                        connection_options=redshift_connection_options)\n",
    "        '''\n",
    "        #break\n",
    "    "
   ]
  },
  {
   "cell_type": "code",
   "execution_count": null,
   "id": "65ab263f",
   "metadata": {},
   "outputs": [],
   "source": [
    "#PeopleType Transformation\n",
    "def people_type_transformation(df_contact):\n",
    "    #Read Raw Data\n",
    "    result = builder.build_peopletypes(contact_df=df_contact)\n",
    "    #print(result)\n",
    "    upload_result(result)\n",
    "    \n",
    "people_type_transformation(df_contact)"
   ]
  },
  {
   "cell_type": "code",
   "execution_count": null,
   "id": "2b7d1c88",
   "metadata": {},
   "outputs": [],
   "source": [
    "#Peoples Transformation\n",
    "def people_master_transformation(df_contact):\n",
    "    #Read Raw Data\n",
    "    result = builder.build_peoplemaster(contact_df=df_contact)\n",
    "    #print(result)\n",
    "    #return result\n",
    "    upload_result(result)\n",
    "    \n",
    "people_master_result = people_master_transformation(df_contact)"
   ]
  },
  {
   "cell_type": "code",
   "execution_count": null,
   "id": "414e4ca9",
   "metadata": {},
   "outputs": [],
   "source": [
    "#Peoples Transformation\n",
    "def projecttype_transformation(df_projecttype):\n",
    "    #Read Raw Data\n",
    "    result = builder.build_practicetypes(df_projecttype)\n",
    "    print(result)\n",
    "    upload_result(result)\n",
    "    \n",
    "projecttype_transformation(df_projecttype)"
   ]
  },
  {
   "cell_type": "code",
   "execution_count": null,
   "id": "0398e31c",
   "metadata": {},
   "outputs": [],
   "source": [
    "#Peoples Transformation\n",
    "df_projecttype = readFromFile(\"parquet\", \"s3://dev-truve-devops-05-databricks-bucketetlrawdata-wu3m2thgf3o/filevine/6586/projecttype/\")\n",
    "\n",
    "def phases_transformation(df_projecttype):\n",
    "    #Read Raw Data\n",
    "    \n",
    "    result = builder.build_phasemaster(df_projecttype)\n",
    "    print(result)\n",
    "    upload_result(result)\n",
    "    \n",
    "phases_transformation(df_projecttype)"
   ]
  },
  {
   "cell_type": "code",
   "execution_count": null,
   "id": "39abe18a",
   "metadata": {},
   "outputs": [],
   "source": [
    "#Peoples Transformation\n",
    "def value_transformation(df_meds):\n",
    "    #Read Raw Data\n",
    "    result = builder.build_casefigures(df_meds)\n",
    "    #print(result)\n",
    "    upload_result(result)\n",
    "    return result\n",
    "    \n",
    "result = value_transformation(df_meds_modified)"
   ]
  },
  {
   "cell_type": "code",
   "execution_count": null,
   "id": "3cca86ca",
   "metadata": {},
   "outputs": [],
   "source": [
    "#Peoples Transformation\n",
    "'''\n",
    "def cases_transformation(df_project):\n",
    "    #Read Raw Data\n",
    "    result = builder.build_casemaster(df_project)\n",
    "    return result\n",
    "    #print(result)\n",
    "    #upload_result(result)\n",
    "    \n",
    "result = cases_transformation(df_project)\n",
    "'''"
   ]
  },
  {
   "cell_type": "code",
   "execution_count": null,
   "id": "1da98d96",
   "metadata": {},
   "outputs": [],
   "source": [
    "#Peoples Transformation\n",
    "def intake_transformation(df_intake):\n",
    "    #Read Raw Data\n",
    "    result = builder.build_intakesummary(df_intake)\n",
    "    return result \n",
    "\n",
    "result = intake_transformation(df_intake)\n",
    "#result[\"IntakeDetails\"] = result[\"IntakeDetails\"].drop(\"referral_fee\")\n",
    "upload_result(result)\n"
   ]
  },
  {
   "cell_type": "code",
   "execution_count": null,
   "id": "0293276f",
   "metadata": {},
   "outputs": [],
   "source": [
    "#Peoples Transformation\n",
    "def casesummary_transformation(df_casesummary, df_project_vitals, df_project):\n",
    "    #Read Raw Data\n",
    "    result = builder.build_casesummary(df_casesummary, df_project_vitals, df_project)\n",
    "    print(result)\n",
    "    upload_result(result)\n",
    "    \n",
    "casesummary_transformation(df_casesummary, df_project_vitals, df_project)"
   ]
  },
  {
   "cell_type": "code",
   "execution_count": null,
   "id": "a1145e45",
   "metadata": {},
   "outputs": [],
   "source": [
    "processed_project_df = result[\"CMS_Cases\"]\n",
    "processed_project_df.printSchema()"
   ]
  },
  {
   "cell_type": "code",
   "execution_count": 16,
   "id": "f2d5f8d6",
   "metadata": {},
   "outputs": [
    {
     "name": "stdout",
     "output_type": "stream",
     "text": [
      "[StructField(caseType,StringType,true), StructField(Practice_Type_ID,IntegerType,true), StructField(Truve_Org_ID,StringType,false), StructField(Client_Org_ID,StringType,false), StructField(Case_Type_ID,IntegerType,true), StructField(Case_Type_Name,StringType,true)]\n",
      "Writing CMS_CaseTypes\n",
      "{\"Truve_Org_ID\": 6586, \"Client_Org_ID\": \"6586\", \"Practice_Type_ID\": 18764, \"Case_Type_ID\": 1, \"Case_Type_Name\": \"County/Municipal Liability - Ante Litem\", \"Case_Type_Category\": null, \"Case_Type_Sub_Category\": null, \"Custom1\": null, \"Custom2\": null, \"Custom3\": null}\n",
      "{\"Truve_Org_ID\": 6586, \"Client_Org_ID\": \"6586\", \"Practice_Type_ID\": 18764, \"Case_Type_ID\": 2, \"Case_Type_Name\": \"Diminished Value (PD)\", \"Case_Type_Category\": null, \"Case_Type_Sub_Category\": null, \"Custom1\": null, \"Custom2\": null, \"Custom3\": null}\n",
      "{\"Truve_Org_ID\": 6586, \"Client_Org_ID\": \"6586\", \"Practice_Type_ID\": 18764, \"Case_Type_ID\": 3, \"Case_Type_Name\": \"Dog Bite\", \"Case_Type_Category\": null, \"Case_Type_Sub_Category\": null, \"Custom1\": null, \"Custom2\": null, \"Custom3\": null}\n",
      "{\"Truve_Org_ID\": 6586, \"Client_Org_ID\": \"6586\", \"Practice_Type_ID\": 18764, \"Case_Type_ID\": 4, \"Case_Type_Name\": \"Dram Shop Action\", \"Case_Type_Category\": null, \"Case_Type_Sub_Category\": null, \"Custom1\": null, \"Custom2\": null, \"Custom3\": null}\n",
      "{\"Truve_Org_ID\": 6586, \"Client_Org_ID\": \"6586\", \"Practice_Type_ID\": 18764, \"Case_Type_ID\": 5, \"Case_Type_Name\": \"Dual (MVC + WC)\", \"Case_Type_Category\": null, \"Case_Type_Sub_Category\": null, \"Custom1\": null, \"Custom2\": null, \"Custom3\": null}\n",
      "{\"Truve_Org_ID\": 6586, \"Client_Org_ID\": \"6586\", \"Practice_Type_ID\": 18764, \"Case_Type_ID\": 6, \"Case_Type_Name\": \"MVC with Government Vehicle - Ante Litem\", \"Case_Type_Category\": null, \"Case_Type_Sub_Category\": null, \"Custom1\": null, \"Custom2\": null, \"Custom3\": null}\n",
      "{\"Truve_Org_ID\": 6586, \"Client_Org_ID\": \"6586\", \"Practice_Type_ID\": 18764, \"Case_Type_ID\": 7, \"Case_Type_Name\": \"Medical Malpractice\", \"Case_Type_Category\": null, \"Case_Type_Sub_Category\": null, \"Custom1\": null, \"Custom2\": null, \"Custom3\": null}\n",
      "{\"Truve_Org_ID\": 6586, \"Client_Org_ID\": \"6586\", \"Practice_Type_ID\": 18764, \"Case_Type_ID\": 8, \"Case_Type_Name\": \"Motor Vehicle Collision - MVC\", \"Case_Type_Category\": null, \"Case_Type_Sub_Category\": null, \"Custom1\": null, \"Custom2\": null, \"Custom3\": null}\n",
      "{\"Truve_Org_ID\": 6586, \"Client_Org_ID\": \"6586\", \"Practice_Type_ID\": 18764, \"Case_Type_ID\": 9, \"Case_Type_Name\": \"Negligent Security\", \"Case_Type_Category\": null, \"Case_Type_Sub_Category\": null, \"Custom1\": null, \"Custom2\": null, \"Custom3\": null}\n",
      "{\"Truve_Org_ID\": 6586, \"Client_Org_ID\": \"6586\", \"Practice_Type_ID\": 18764, \"Case_Type_ID\": 10, \"Case_Type_Name\": \"Nursing Home Negligence\", \"Case_Type_Category\": null, \"Case_Type_Sub_Category\": null, \"Custom1\": null, \"Custom2\": null, \"Custom3\": null}\n",
      "{\"Truve_Org_ID\": 6586, \"Client_Org_ID\": \"6586\", \"Practice_Type_ID\": 18764, \"Case_Type_ID\": 11, \"Case_Type_Name\": \"Other\", \"Case_Type_Category\": null, \"Case_Type_Sub_Category\": null, \"Custom1\": null, \"Custom2\": null, \"Custom3\": null}\n",
      "{\"Truve_Org_ID\": 6586, \"Client_Org_ID\": \"6586\", \"Practice_Type_ID\": 18764, \"Case_Type_ID\": 12, \"Case_Type_Name\": \"Premises Liability (Slip, Trip & Fall)\", \"Case_Type_Category\": null, \"Case_Type_Sub_Category\": null, \"Custom1\": null, \"Custom2\": null, \"Custom3\": null}\n",
      "{\"Truve_Org_ID\": 6586, \"Client_Org_ID\": \"6586\", \"Practice_Type_ID\": 18764, \"Case_Type_ID\": 13, \"Case_Type_Name\": \"Product Liability\", \"Case_Type_Category\": null, \"Case_Type_Sub_Category\": null, \"Custom1\": null, \"Custom2\": null, \"Custom3\": null}\n",
      "{\"Truve_Org_ID\": 6586, \"Client_Org_ID\": \"6586\", \"Practice_Type_ID\": 18764, \"Case_Type_ID\": 14, \"Case_Type_Name\": \"Property Damage (PD)\", \"Case_Type_Category\": null, \"Case_Type_Sub_Category\": null, \"Custom1\": null, \"Custom2\": null, \"Custom3\": null}\n",
      "{\"Truve_Org_ID\": 6586, \"Client_Org_ID\": \"6586\", \"Practice_Type_ID\": 18764, \"Case_Type_ID\": 15, \"Case_Type_Name\": \"Trucking Collision - MVC\", \"Case_Type_Category\": null, \"Case_Type_Sub_Category\": null, \"Custom1\": null, \"Custom2\": null, \"Custom3\": null}\n",
      "{\"Truve_Org_ID\": 6586, \"Client_Org_ID\": \"6586\", \"Practice_Type_ID\": 18764, \"Case_Type_ID\": 16, \"Case_Type_Name\": \"Workers Comp (WC)\", \"Case_Type_Category\": null, \"Case_Type_Sub_Category\": null, \"Custom1\": null, \"Custom2\": null, \"Custom3\": null}\n",
      "{\"Truve_Org_ID\": 6586, \"Client_Org_ID\": \"6586\", \"Practice_Type_ID\": 18764, \"Case_Type_ID\": 17, \"Case_Type_Name\": \"Wrongful Death\", \"Case_Type_Category\": null, \"Case_Type_Sub_Category\": null, \"Custom1\": null, \"Custom2\": null, \"Custom3\": null}\n"
     ]
    }
   ],
   "source": [
    "#Peoples Transformation\n",
    "def casetype_transformation(df_casesummary, project_df):\n",
    "    #Read Raw Data\n",
    "    result = builder.build_casetypes(df_casesummary, project_df)\n",
    "    #print(result)\n",
    "    #return result\n",
    "    upload_result(result)\n",
    "    return result\n",
    "    \n",
    "casetype_result = casetype_transformation(df_casesummary, df_project)"
   ]
  },
  {
   "cell_type": "code",
   "execution_count": null,
   "id": "21c01f16",
   "metadata": {},
   "outputs": [],
   "source": [
    "processed_case_type_df = casetype_result[\"CMS_CaseTypes\"]\n",
    "\n",
    "#Peoples Transformation\n",
    "def cases_transformation(df_project, processed_case_type_df, df_project_vitals, df_casesummary):\n",
    "    #Read Raw Data\n",
    "    result = builder.build_casemaster(df_project, processed_case_type_df, df_project_vitals, df_casesummary)\n",
    "    #return result\n",
    "    #print(result)\n",
    "    upload_result(result)\n",
    "    return result\n",
    "    \n",
    "result = cases_transformation(df_project, processed_case_type_df, df_project_vitals, df_casesummary)"
   ]
  },
  {
   "cell_type": "code",
   "execution_count": 21,
   "id": "4349afa1",
   "metadata": {},
   "outputs": [
    {
     "name": "stdout",
     "output_type": "stream",
     "text": [
      "+----------------+\n",
      "|Practice_Type_ID|\n",
      "+----------------+\n",
      "|           18764|\n",
      "|           18764|\n",
      "|           18764|\n",
      "|           18764|\n",
      "|           18764|\n",
      "|           18764|\n",
      "|           18764|\n",
      "|           18764|\n",
      "|           18764|\n",
      "|           18764|\n",
      "|           18764|\n",
      "|           18764|\n",
      "|           18764|\n",
      "|           18764|\n",
      "|           18764|\n",
      "|           18764|\n",
      "|           18764|\n",
      "|           18764|\n",
      "|           18764|\n",
      "|           18764|\n",
      "+----------------+\n",
      "only showing top 20 rows\n",
      "\n",
      "{'CMS_CaseDetails': DataFrame[Case_ID: int, Truve_Org_ID: int, Client_Org_ID: string, Parent_Case_ID: int, Practice_Type_ID: int, Plaintiff_Full_Name: string, Case_Marketing_Source: string, Case_Source_Name: string, Attorney_Fee_Percentage: decimal(10,4), Estimated_Settlement_Date: date, Estimated_Settlement_Amount: decimal(10,4), If_Case_Settled_Presuit: string, If_VIP_Case: string, If_Case_Referred_Out: string, Case_Type_ID: int, Attorney_ID: int, Prelitigation_Paralegal_ID: int, Litigation_Paralegal_ID: int, CaseManager_ID: int, Cocounsel_ID: int, Case_Team_ID: int, Insurance_ID: int, Case_Status_ID: int, Case_Phase_ID: int, Custom1: string, Custom2: string, Custom3: string, Custom4: string, Custom5: string, Case_Create_Date: string]}\n",
      "Writing CMS_CaseDetails\n",
      "{\"Case_ID\": 9940627, \"Truve_Org_ID\": 6586, \"Client_Org_ID\": \"6586\", \"Parent_Case_ID\": 9940627, \"Practice_Type_ID\": 18764, \"Plaintiff_Full_Name\": null, \"Case_Marketing_Source\": null, \"Case_Source_Name\": null, \"Attorney_Fee_Percentage\": 40.0000, \"Estimated_Settlement_Date\": null, \"Estimated_Settlement_Amount\": null, \"If_Case_Settled_Presuit\": null, \"If_VIP_Case\": \"false\", \"If_Case_Referred_Out\": null, \"Case_Type_ID\": 2, \"Attorney_ID\": 32695985, \"Prelitigation_Paralegal_ID\": 32803045, \"Litigation_Paralegal_ID\": 34676029, \"CaseManager_ID\": 27306473, \"Cocounsel_ID\": null, \"Case_Team_ID\": null, \"Insurance_ID\": null, \"Case_Status_ID\": null, \"Case_Phase_ID\": 91396, \"Custom1\": null, \"Custom2\": null, \"Custom3\": null, \"Custom4\": null, \"Custom5\": null, \"Case_Create_Date\": null}\n",
      "{\"Case_ID\": 9975525, \"Truve_Org_ID\": 6586, \"Client_Org_ID\": \"6586\", \"Parent_Case_ID\": 9975525, \"Practice_Type_ID\": 18764, \"Plaintiff_Full_Name\": null, \"Case_Marketing_Source\": null, \"Case_Source_Name\": null, \"Attorney_Fee_Percentage\": 35.0000, \"Estimated_Settlement_Date\": null, \"Estimated_Settlement_Amount\": null, \"If_Case_Settled_Presuit\": null, \"If_VIP_Case\": null, \"If_Case_Referred_Out\": null, \"Case_Type_ID\": 2, \"Attorney_ID\": 32695985, \"Prelitigation_Paralegal_ID\": 25501318, \"Litigation_Paralegal_ID\": 34676029, \"CaseManager_ID\": 30280883, \"Cocounsel_ID\": null, \"Case_Team_ID\": null, \"Insurance_ID\": null, \"Case_Status_ID\": null, \"Case_Phase_ID\": 168717, \"Custom1\": null, \"Custom2\": null, \"Custom3\": null, \"Custom4\": null, \"Custom5\": null, \"Case_Create_Date\": null}\n",
      "{\"Case_ID\": 10714466, \"Truve_Org_ID\": 6586, \"Client_Org_ID\": \"6586\", \"Parent_Case_ID\": 10714466, \"Practice_Type_ID\": 18764, \"Plaintiff_Full_Name\": null, \"Case_Marketing_Source\": null, \"Case_Source_Name\": null, \"Attorney_Fee_Percentage\": 33.3300, \"Estimated_Settlement_Date\": null, \"Estimated_Settlement_Amount\": null, \"If_Case_Settled_Presuit\": null, \"If_VIP_Case\": null, \"If_Case_Referred_Out\": null, \"Case_Type_ID\": 2, \"Attorney_ID\": 34679431, \"Prelitigation_Paralegal_ID\": 34679431, \"Litigation_Paralegal_ID\": 34676029, \"CaseManager_ID\": 23907325, \"Cocounsel_ID\": null, \"Case_Team_ID\": null, \"Insurance_ID\": null, \"Case_Status_ID\": null, \"Case_Phase_ID\": 103016, \"Custom1\": null, \"Custom2\": null, \"Custom3\": null, \"Custom4\": null, \"Custom5\": null, \"Case_Create_Date\": null}\n",
      "{\"Case_ID\": 9382040, \"Truve_Org_ID\": 6586, \"Client_Org_ID\": \"6586\", \"Parent_Case_ID\": 9382040, \"Practice_Type_ID\": 18764, \"Plaintiff_Full_Name\": null, \"Case_Marketing_Source\": null, \"Case_Source_Name\": null, \"Attorney_Fee_Percentage\": null, \"Estimated_Settlement_Date\": null, \"Estimated_Settlement_Amount\": 0.0000, \"If_Case_Settled_Presuit\": null, \"If_VIP_Case\": null, \"If_Case_Referred_Out\": null, \"Case_Type_ID\": 2, \"Attorney_ID\": 24499015, \"Prelitigation_Paralegal_ID\": 27906302, \"Litigation_Paralegal_ID\": 34676029, \"CaseManager_ID\": 27906302, \"Cocounsel_ID\": null, \"Case_Team_ID\": null, \"Insurance_ID\": null, \"Case_Status_ID\": null, \"Case_Phase_ID\": 168717, \"Custom1\": null, \"Custom2\": null, \"Custom3\": null, \"Custom4\": null, \"Custom5\": null, \"Case_Create_Date\": null}\n",
      "{\"Case_ID\": 10128516, \"Truve_Org_ID\": 6586, \"Client_Org_ID\": \"6586\", \"Parent_Case_ID\": 10128516, \"Practice_Type_ID\": 18764, \"Plaintiff_Full_Name\": null, \"Case_Marketing_Source\": null, \"Case_Source_Name\": null, \"Attorney_Fee_Percentage\": 40.0000, \"Estimated_Settlement_Date\": 2022-12-04, \"Estimated_Settlement_Amount\": 25000.0000, \"If_Case_Settled_Presuit\": null, \"If_VIP_Case\": \"false\", \"If_Case_Referred_Out\": null, \"Case_Type_ID\": 2, \"Attorney_ID\": 32695985, \"Prelitigation_Paralegal_ID\": 33567750, \"Litigation_Paralegal_ID\": 34676029, \"CaseManager_ID\": 33567750, \"Cocounsel_ID\": null, \"Case_Team_ID\": null, \"Insurance_ID\": null, \"Case_Status_ID\": null, \"Case_Phase_ID\": 103017, \"Custom1\": null, \"Custom2\": null, \"Custom3\": null, \"Custom4\": null, \"Custom5\": null, \"Case_Create_Date\": null}\n",
      "{\"Case_ID\": 10388125, \"Truve_Org_ID\": 6586, \"Client_Org_ID\": \"6586\", \"Parent_Case_ID\": 10388125, \"Practice_Type_ID\": 18764, \"Plaintiff_Full_Name\": null, \"Case_Marketing_Source\": null, \"Case_Source_Name\": null, \"Attorney_Fee_Percentage\": 35.0000, \"Estimated_Settlement_Date\": null, \"Estimated_Settlement_Amount\": null, \"If_Case_Settled_Presuit\": null, \"If_VIP_Case\": null, \"If_Case_Referred_Out\": null, \"Case_Type_ID\": 2, \"Attorney_ID\": 32695985, \"Prelitigation_Paralegal_ID\": 33677262, \"Litigation_Paralegal_ID\": 34676029, \"CaseManager_ID\": 33567750, \"Cocounsel_ID\": null, \"Case_Team_ID\": null, \"Insurance_ID\": null, \"Case_Status_ID\": null, \"Case_Phase_ID\": 168716, \"Custom1\": null, \"Custom2\": null, \"Custom3\": null, \"Custom4\": null, \"Custom5\": null, \"Case_Create_Date\": null}\n",
      "{\"Case_ID\": 10261586, \"Truve_Org_ID\": 6586, \"Client_Org_ID\": \"6586\", \"Parent_Case_ID\": 10261586, \"Practice_Type_ID\": 18764, \"Plaintiff_Full_Name\": null, \"Case_Marketing_Source\": null, \"Case_Source_Name\": null, \"Attorney_Fee_Percentage\": 35.0000, \"Estimated_Settlement_Date\": 2022-10-10, \"Estimated_Settlement_Amount\": 20000.0000, \"If_Case_Settled_Presuit\": null, \"If_VIP_Case\": \"false\", \"If_Case_Referred_Out\": null, \"Case_Type_ID\": 2, \"Attorney_ID\": 35125016, \"Prelitigation_Paralegal_ID\": 31935462, \"Litigation_Paralegal_ID\": 34676029, \"CaseManager_ID\": 31935462, \"Cocounsel_ID\": null, \"Case_Team_ID\": null, \"Insurance_ID\": null, \"Case_Status_ID\": null, \"Case_Phase_ID\": 103018, \"Custom1\": null, \"Custom2\": null, \"Custom3\": null, \"Custom4\": null, \"Custom5\": null, \"Case_Create_Date\": null}\n",
      "{\"Case_ID\": 10772293, \"Truve_Org_ID\": 6586, \"Client_Org_ID\": \"6586\", \"Parent_Case_ID\": 10772293, \"Practice_Type_ID\": 18764, \"Plaintiff_Full_Name\": null, \"Case_Marketing_Source\": null, \"Case_Source_Name\": null, \"Attorney_Fee_Percentage\": 33.3300, \"Estimated_Settlement_Date\": 2023-02-19, \"Estimated_Settlement_Amount\": 15000.0000, \"If_Case_Settled_Presuit\": null, \"If_VIP_Case\": \"false\", \"If_Case_Referred_Out\": null, \"Case_Type_ID\": 2, \"Attorney_ID\": 32695985, \"Prelitigation_Paralegal_ID\": 33567750, \"Litigation_Paralegal_ID\": 34676029, \"CaseManager_ID\": 33567750, \"Cocounsel_ID\": null, \"Case_Team_ID\": null, \"Insurance_ID\": null, \"Case_Status_ID\": null, \"Case_Phase_ID\": 103017, \"Custom1\": null, \"Custom2\": null, \"Custom3\": null, \"Custom4\": null, \"Custom5\": null, \"Case_Create_Date\": null}\n",
      "{\"Case_ID\": 10200677, \"Truve_Org_ID\": 6586, \"Client_Org_ID\": \"6586\", \"Parent_Case_ID\": 10200677, \"Practice_Type_ID\": 18764, \"Plaintiff_Full_Name\": null, \"Case_Marketing_Source\": null, \"Case_Source_Name\": null, \"Attorney_Fee_Percentage\": 40.0000, \"Estimated_Settlement_Date\": null, \"Estimated_Settlement_Amount\": null, \"If_Case_Settled_Presuit\": null, \"If_VIP_Case\": \"true\", \"If_Case_Referred_Out\": null, \"Case_Type_ID\": 2, \"Attorney_ID\": 32695985, \"Prelitigation_Paralegal_ID\": 34679431, \"Litigation_Paralegal_ID\": 34676029, \"CaseManager_ID\": 34679431, \"Cocounsel_ID\": null, \"Case_Team_ID\": null, \"Insurance_ID\": null, \"Case_Status_ID\": null, \"Case_Phase_ID\": 91396, \"Custom1\": null, \"Custom2\": null, \"Custom3\": null, \"Custom4\": null, \"Custom5\": null, \"Case_Create_Date\": null}\n",
      "{\"Case_ID\": 10277796, \"Truve_Org_ID\": 6586, \"Client_Org_ID\": \"6586\", \"Parent_Case_ID\": 10277796, \"Practice_Type_ID\": 18764, \"Plaintiff_Full_Name\": null, \"Case_Marketing_Source\": null, \"Case_Source_Name\": null, \"Attorney_Fee_Percentage\": 40.0000, \"Estimated_Settlement_Date\": null, \"Estimated_Settlement_Amount\": null, \"If_Case_Settled_Presuit\": null, \"If_VIP_Case\": null, \"If_Case_Referred_Out\": null, \"Case_Type_ID\": 2, \"Attorney_ID\": 32695985, \"Prelitigation_Paralegal_ID\": 25501318, \"Litigation_Paralegal_ID\": 34676029, \"CaseManager_ID\": 30280883, \"Cocounsel_ID\": null, \"Case_Team_ID\": null, \"Insurance_ID\": null, \"Case_Status_ID\": null, \"Case_Phase_ID\": 168717, \"Custom1\": null, \"Custom2\": null, \"Custom3\": null, \"Custom4\": null, \"Custom5\": null, \"Case_Create_Date\": null}\n",
      "{\"Case_ID\": 9886640, \"Truve_Org_ID\": 6586, \"Client_Org_ID\": \"6586\", \"Parent_Case_ID\": 9886640, \"Practice_Type_ID\": 18764, \"Plaintiff_Full_Name\": null, \"Case_Marketing_Source\": null, \"Case_Source_Name\": null, \"Attorney_Fee_Percentage\": 40.0000, \"Estimated_Settlement_Date\": 2022-10-31, \"Estimated_Settlement_Amount\": 1200.0000, \"If_Case_Settled_Presuit\": null, \"If_VIP_Case\": \"false\", \"If_Case_Referred_Out\": null, \"Case_Type_ID\": 2, \"Attorney_ID\": 32695985, \"Prelitigation_Paralegal_ID\": 31935462, \"Litigation_Paralegal_ID\": 34676029, \"CaseManager_ID\": 27906302, \"Cocounsel_ID\": null, \"Case_Team_ID\": null, \"Insurance_ID\": null, \"Case_Status_ID\": null, \"Case_Phase_ID\": 91395, \"Custom1\": null, \"Custom2\": null, \"Custom3\": null, \"Custom4\": null, \"Custom5\": null, \"Case_Create_Date\": null}\n",
      "{\"Case_ID\": 10674244, \"Truve_Org_ID\": 6586, \"Client_Org_ID\": \"6586\", \"Parent_Case_ID\": 10674244, \"Practice_Type_ID\": 18764, \"Plaintiff_Full_Name\": null, \"Case_Marketing_Source\": null, \"Case_Source_Name\": null, \"Attorney_Fee_Percentage\": 40.0000, \"Estimated_Settlement_Date\": 2023-01-03, \"Estimated_Settlement_Amount\": 25000.0000, \"If_Case_Settled_Presuit\": null, \"If_VIP_Case\": null, \"If_Case_Referred_Out\": null, \"Case_Type_ID\": 2, \"Attorney_ID\": 34679431, \"Prelitigation_Paralegal_ID\": 25501318, \"Litigation_Paralegal_ID\": 34676029, \"CaseManager_ID\": 30280883, \"Cocounsel_ID\": null, \"Case_Team_ID\": null, \"Insurance_ID\": null, \"Case_Status_ID\": null, \"Case_Phase_ID\": 91389, \"Custom1\": null, \"Custom2\": null, \"Custom3\": null, \"Custom4\": null, \"Custom5\": null, \"Case_Create_Date\": null}\n",
      "{\"Case_ID\": 9983353, \"Truve_Org_ID\": 6586, \"Client_Org_ID\": \"6586\", \"Parent_Case_ID\": 9983353, \"Practice_Type_ID\": 18764, \"Plaintiff_Full_Name\": null, \"Case_Marketing_Source\": null, \"Case_Source_Name\": null, \"Attorney_Fee_Percentage\": 30.0000, \"Estimated_Settlement_Date\": 2023-02-24, \"Estimated_Settlement_Amount\": 5000.0000, \"If_Case_Settled_Presuit\": null, \"If_VIP_Case\": \"false\", \"If_Case_Referred_Out\": null, \"Case_Type_ID\": 2, \"Attorney_ID\": 34679431, \"Prelitigation_Paralegal_ID\": 25501318, \"Litigation_Paralegal_ID\": 34676029, \"CaseManager_ID\": 25501318, \"Cocounsel_ID\": null, \"Case_Team_ID\": null, \"Insurance_ID\": null, \"Case_Status_ID\": null, \"Case_Phase_ID\": 103017, \"Custom1\": null, \"Custom2\": null, \"Custom3\": null, \"Custom4\": null, \"Custom5\": null, \"Case_Create_Date\": null}\n",
      "{\"Case_ID\": 10555490, \"Truve_Org_ID\": 6586, \"Client_Org_ID\": \"6586\", \"Parent_Case_ID\": 10555490, \"Practice_Type_ID\": 18764, \"Plaintiff_Full_Name\": null, \"Case_Marketing_Source\": null, \"Case_Source_Name\": null, \"Attorney_Fee_Percentage\": 35.0000, \"Estimated_Settlement_Date\": 2023-02-07, \"Estimated_Settlement_Amount\": 25000.0000, \"If_Case_Settled_Presuit\": null, \"If_VIP_Case\": \"false\", \"If_Case_Referred_Out\": null, \"Case_Type_ID\": 2, \"Attorney_ID\": 34679431, \"Prelitigation_Paralegal_ID\": 25501318, \"Litigation_Paralegal_ID\": 34676029, \"CaseManager_ID\": 30280883, \"Cocounsel_ID\": null, \"Case_Team_ID\": null, \"Insurance_ID\": null, \"Case_Status_ID\": null, \"Case_Phase_ID\": 91390, \"Custom1\": null, \"Custom2\": null, \"Custom3\": null, \"Custom4\": null, \"Custom5\": null, \"Case_Create_Date\": null}\n",
      "{\"Case_ID\": 10035863, \"Truve_Org_ID\": 6586, \"Client_Org_ID\": \"6586\", \"Parent_Case_ID\": 10035863, \"Practice_Type_ID\": 18764, \"Plaintiff_Full_Name\": null, \"Case_Marketing_Source\": null, \"Case_Source_Name\": null, \"Attorney_Fee_Percentage\": 30.0000, \"Estimated_Settlement_Date\": 2022-10-14, \"Estimated_Settlement_Amount\": 3000.0000, \"If_Case_Settled_Presuit\": null, \"If_VIP_Case\": \"false\", \"If_Case_Referred_Out\": null, \"Case_Type_ID\": 2, \"Attorney_ID\": 34679431, \"Prelitigation_Paralegal_ID\": 30627149, \"Litigation_Paralegal_ID\": 34676029, \"CaseManager_ID\": 30627149, \"Cocounsel_ID\": null, \"Case_Team_ID\": null, \"Insurance_ID\": null, \"Case_Status_ID\": null, \"Case_Phase_ID\": 91392, \"Custom1\": null, \"Custom2\": null, \"Custom3\": null, \"Custom4\": null, \"Custom5\": null, \"Case_Create_Date\": null}\n",
      "{\"Case_ID\": 10363753, \"Truve_Org_ID\": 6586, \"Client_Org_ID\": \"6586\", \"Parent_Case_ID\": 10363753, \"Practice_Type_ID\": 18764, \"Plaintiff_Full_Name\": null, \"Case_Marketing_Source\": null, \"Case_Source_Name\": null, \"Attorney_Fee_Percentage\": 40.0000, \"Estimated_Settlement_Date\": 2022-09-30, \"Estimated_Settlement_Amount\": 2000.0000, \"If_Case_Settled_Presuit\": null, \"If_VIP_Case\": \"false\", \"If_Case_Referred_Out\": null, \"Case_Type_ID\": 2, \"Attorney_ID\": 35125016, \"Prelitigation_Paralegal_ID\": 31935462, \"Litigation_Paralegal_ID\": 34676029, \"CaseManager_ID\": 31935462, \"Cocounsel_ID\": null, \"Case_Team_ID\": null, \"Insurance_ID\": null, \"Case_Status_ID\": null, \"Case_Phase_ID\": 103019, \"Custom1\": null, \"Custom2\": null, \"Custom3\": null, \"Custom4\": null, \"Custom5\": null, \"Case_Create_Date\": null}\n",
      "{\"Case_ID\": 9157249, \"Truve_Org_ID\": 6586, \"Client_Org_ID\": \"6586\", \"Parent_Case_ID\": 9157249, \"Practice_Type_ID\": 18764, \"Plaintiff_Full_Name\": null, \"Case_Marketing_Source\": null, \"Case_Source_Name\": null, \"Attorney_Fee_Percentage\": null, \"Estimated_Settlement_Date\": 2022-10-28, \"Estimated_Settlement_Amount\": 1000.0000, \"If_Case_Settled_Presuit\": null, \"If_VIP_Case\": \"false\", \"If_Case_Referred_Out\": null, \"Case_Type_ID\": 2, \"Attorney_ID\": 34679431, \"Prelitigation_Paralegal_ID\": 25501318, \"Litigation_Paralegal_ID\": 34676029, \"CaseManager_ID\": 25501318, \"Cocounsel_ID\": null, \"Case_Team_ID\": null, \"Insurance_ID\": null, \"Case_Status_ID\": null, \"Case_Phase_ID\": 168717, \"Custom1\": null, \"Custom2\": null, \"Custom3\": null, \"Custom4\": null, \"Custom5\": null, \"Case_Create_Date\": null}\n",
      "{\"Case_ID\": 10789254, \"Truve_Org_ID\": 6586, \"Client_Org_ID\": \"6586\", \"Parent_Case_ID\": 10789254, \"Practice_Type_ID\": 18764, \"Plaintiff_Full_Name\": null, \"Case_Marketing_Source\": null, \"Case_Source_Name\": null, \"Attorney_Fee_Percentage\": 40.0000, \"Estimated_Settlement_Date\": 2023-04-28, \"Estimated_Settlement_Amount\": 3000.0000, \"If_Case_Settled_Presuit\": null, \"If_VIP_Case\": \"false\", \"If_Case_Referred_Out\": null, \"Case_Type_ID\": 2, \"Attorney_ID\": 35125016, \"Prelitigation_Paralegal_ID\": 33567750, \"Litigation_Paralegal_ID\": 34976343, \"CaseManager_ID\": 33567750, \"Cocounsel_ID\": null, \"Case_Team_ID\": null, \"Insurance_ID\": null, \"Case_Status_ID\": null, \"Case_Phase_ID\": 103017, \"Custom1\": null, \"Custom2\": null, \"Custom3\": null, \"Custom4\": null, \"Custom5\": null, \"Case_Create_Date\": null}\n",
      "{\"Case_ID\": 10262048, \"Truve_Org_ID\": 6586, \"Client_Org_ID\": \"6586\", \"Parent_Case_ID\": 10262048, \"Practice_Type_ID\": 18764, \"Plaintiff_Full_Name\": null, \"Case_Marketing_Source\": null, \"Case_Source_Name\": null, \"Attorney_Fee_Percentage\": 33.3300, \"Estimated_Settlement_Date\": 2022-11-30, \"Estimated_Settlement_Amount\": 5000.0000, \"If_Case_Settled_Presuit\": null, \"If_VIP_Case\": \"false\", \"If_Case_Referred_Out\": null, \"Case_Type_ID\": 2, \"Attorney_ID\": 35125016, \"Prelitigation_Paralegal_ID\": 33567750, \"Litigation_Paralegal_ID\": 34676029, \"CaseManager_ID\": 33567750, \"Cocounsel_ID\": null, \"Case_Team_ID\": null, \"Insurance_ID\": null, \"Case_Status_ID\": null, \"Case_Phase_ID\": 91390, \"Custom1\": null, \"Custom2\": null, \"Custom3\": null, \"Custom4\": null, \"Custom5\": null, \"Case_Create_Date\": null}\n",
      "{\"Case_ID\": 9919687, \"Truve_Org_ID\": 6586, \"Client_Org_ID\": \"6586\", \"Parent_Case_ID\": 9919687, \"Practice_Type_ID\": 18764, \"Plaintiff_Full_Name\": null, \"Case_Marketing_Source\": null, \"Case_Source_Name\": null, \"Attorney_Fee_Percentage\": 40.0000, \"Estimated_Settlement_Date\": 2023-02-24, \"Estimated_Settlement_Amount\": 4500.0000, \"If_Case_Settled_Presuit\": null, \"If_VIP_Case\": null, \"If_Case_Referred_Out\": null, \"Case_Type_ID\": 2, \"Attorney_ID\": 26397954, \"Prelitigation_Paralegal_ID\": 30627149, \"Litigation_Paralegal_ID\": 33053480, \"CaseManager_ID\": 33053480, \"Cocounsel_ID\": null, \"Case_Team_ID\": null, \"Insurance_ID\": null, \"Case_Status_ID\": null, \"Case_Phase_ID\": 177675, \"Custom1\": null, \"Custom2\": null, \"Custom3\": null, \"Custom4\": null, \"Custom5\": null, \"Case_Create_Date\": null}\n"
     ]
    }
   ],
   "source": [
    "processed_case_types = casetype_result[\"CMS_CaseTypes\"]\n",
    "#Peoples Transformation\n",
    "def casesummary_transformation(df_casesummary, df_project_vitals, df_project, processed_case_types, df_intake):\n",
    "    #Read Raw Data\n",
    "    result = builder.build_casesummary(df_casesummary, df_project_vitals, df_project, processed_case_types, df_intake)\n",
    "    print(result)\n",
    "    upload_result(result)\n",
    "    \n",
    "casesummary_transformation(df_casesummary, df_project_vitals, df_project, processed_case_types, df_intake)"
   ]
  },
  {
   "cell_type": "code",
   "execution_count": null,
   "id": "a504d6d0",
   "metadata": {},
   "outputs": [],
   "source": [
    "cms_cases_df = result[\"CMS_Cases\"]"
   ]
  },
  {
   "cell_type": "code",
   "execution_count": null,
   "id": "ab9a4d9c",
   "metadata": {},
   "outputs": [],
   "source": [
    "cms_cases_df.select(\"Case_Type_ID\").distinct().show()"
   ]
  },
  {
   "cell_type": "code",
   "execution_count": null,
   "id": "d661cb65",
   "metadata": {},
   "outputs": [],
   "source": [
    "%stop_session"
   ]
  },
  {
   "cell_type": "code",
   "execution_count": null,
   "id": "9b05b5c2",
   "metadata": {},
   "outputs": [],
   "source": [
    "df_casesummary.select(\"caseType\").distinct().show(10)"
   ]
  },
  {
   "cell_type": "code",
   "execution_count": null,
   "id": "2410d7a1",
   "metadata": {},
   "outputs": [],
   "source": [
    "casetype_df = casetype_result[\"CMS_CaseTypes\"]\n"
   ]
  },
  {
   "cell_type": "code",
   "execution_count": null,
   "id": "2e7888ff",
   "metadata": {},
   "outputs": [],
   "source": [
    "casetype_df.show()"
   ]
  },
  {
   "cell_type": "code",
   "execution_count": null,
   "id": "edc3129e",
   "metadata": {},
   "outputs": [],
   "source": [
    "people_df = people_master_result[\"CMS_People\"]"
   ]
  },
  {
   "cell_type": "code",
   "execution_count": null,
   "id": "244086e7",
   "metadata": {},
   "outputs": [],
   "source": [
    "people_df"
   ]
  },
  {
   "cell_type": "code",
   "execution_count": null,
   "id": "0b9aba5e",
   "metadata": {},
   "outputs": [],
   "source": [
    "people_df.show()"
   ]
  },
  {
   "cell_type": "code",
   "execution_count": null,
   "id": "ff002c06",
   "metadata": {},
   "outputs": [],
   "source": [
    "\n",
    "# Find count for empty, None, Null, Nan with string literals.\n",
    "from pyspark.sql.functions import col,isnan,when,count\n",
    "df2 = people_df.select([count(when(col(c).contains('None') | \\\n",
    "                            col(c).contains('NULL') | \\\n",
    "                            (col(c) == '' ) | \\\n",
    "                            col(c).isNull() , c \n",
    "                           )).alias(c)\n",
    "                    for c in people_df.columns])\n",
    "df2.show()\n"
   ]
  },
  {
   "cell_type": "code",
   "execution_count": null,
   "id": "e6ae9a02",
   "metadata": {},
   "outputs": [],
   "source": [
    "%stop_session"
   ]
  },
  {
   "cell_type": "code",
   "execution_count": null,
   "id": "f74b62bc",
   "metadata": {},
   "outputs": [],
   "source": [
    "case_df = result[\"CMS_Cases\"]"
   ]
  },
  {
   "cell_type": "code",
   "execution_count": null,
   "id": "e50e8767",
   "metadata": {},
   "outputs": [],
   "source": [
    "case_figure_df.select(\"Case_Figure_ID\", \"Case_ID\").show()"
   ]
  },
  {
   "cell_type": "code",
   "execution_count": null,
   "id": "0aa95be8",
   "metadata": {},
   "outputs": [],
   "source": [
    "from pyspark.sql.functions import col,isnan,when,count\n",
    "df2 = case_df.select([count(when(col(c).contains('None') | \\\n",
    "                            col(c).contains('NULL') | \\\n",
    "                            (col(c) == '' ) | \\\n",
    "                            col(c).isNull() , c \n",
    "                           )).alias(c)\n",
    "                    for c in case_df.columns])\n",
    "df2.show()\n"
   ]
  },
  {
   "cell_type": "code",
   "execution_count": null,
   "id": "bee93861",
   "metadata": {},
   "outputs": [],
   "source": []
  }
 ],
 "metadata": {
  "kernelspec": {
   "display_name": "Glue PySpark",
   "language": "python",
   "name": "glue_pyspark"
  },
  "language_info": {
   "codemirror_mode": {
    "name": "python",
    "version": 3
   },
   "file_extension": ".py",
   "mimetype": "text/x-python",
   "name": "Python_Glue_Session",
   "pygments_lexer": "python3"
  }
 },
 "nbformat": 4,
 "nbformat_minor": 5
}
