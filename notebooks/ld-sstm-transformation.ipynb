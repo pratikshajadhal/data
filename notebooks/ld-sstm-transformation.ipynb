{
 "cells": [
  {
   "cell_type": "code",
   "execution_count": null,
   "id": "8315afbb",
   "metadata": {},
   "outputs": [],
   "source": [
    "%iam_role arn:aws:iam::481237842548:role/CF-dev-TruveDevops-Glue-Role"
   ]
  },
  {
   "cell_type": "code",
   "execution_count": null,
   "id": "86f8f0a6",
   "metadata": {},
   "outputs": [],
   "source": [
    "%region us-west-2"
   ]
  },
  {
   "cell_type": "code",
   "execution_count": null,
   "id": "c7525825",
   "metadata": {},
   "outputs": [],
   "source": [
    "%additional_python_modules \"s3://dev-truve-devops-05-databricks-bucketetlrawdata-wu3m2thgf3o/sstm_transformation-0.1.0-py3-none-any.whl\"\n",
    "%number_of_workers 2\n",
    "%connections dev-glue-redshift-connection\n",
    "%idle_timeout 30\n",
    "\n",
    "import sys\n",
    "from awsglue.transforms import *\n",
    "from awsglue.utils import getResolvedOptions\n",
    "from pyspark.context import SparkContext\n",
    "from awsglue.context import GlueContext\n",
    "from awsglue.job import Job\n",
    "  \n",
    "sc = SparkContext.getOrCreate()\n",
    "glueContext = GlueContext(sc)\n",
    "spark = glueContext.spark_session\n",
    "job = Job(glueContext)"
   ]
  },
  {
   "cell_type": "code",
   "execution_count": null,
   "id": "4f82a92a",
   "metadata": {},
   "outputs": [],
   "source": [
    "#download configuration file\n",
    "import boto3\n",
    "session = boto3.Session()\n",
    "\n",
    "s3 = session.resource('s3')\n",
    "s3.Bucket('dev-truve-devops-05-databricks-bucketetlrawdata-wu3m2thgf3o').download_file('confs/leaddocket/ld_sstm.yaml', 'ld_sstm.yaml')"
   ]
  },
  {
   "cell_type": "code",
   "execution_count": null,
   "id": "0a0ad09f",
   "metadata": {},
   "outputs": [],
   "source": [
    "#%stop_session"
   ]
  },
  {
   "cell_type": "code",
   "execution_count": null,
   "id": "d8ae1f81",
   "metadata": {},
   "outputs": [],
   "source": [
    "with open(\"ld_sstm.yaml\", \"r\") as f:\n",
    "    sstm_config = f.read()\n",
    "    "
   ]
  },
  {
   "cell_type": "code",
   "execution_count": null,
   "id": "826bfe0f",
   "metadata": {},
   "outputs": [],
   "source": [
    "def readFromFile(ext, path) :\n",
    "    fileContent = spark.read.format(ext).option(\"header\", \"true\").option(\"mergeSchema\", \"true\").load(path)\n",
    "    #fileContent = spark.read.format(ext).option(\"header\", \"true\").load(path)\n",
    "    \n",
    "    return fileContent\n"
   ]
  },
  {
   "cell_type": "code",
   "execution_count": null,
   "id": "088295e0",
   "metadata": {},
   "outputs": [],
   "source": [
    "def writeToFile(df_join , path, mode) :\n",
    "    df_join.write.parquet(path,mode=mode)"
   ]
  },
  {
   "cell_type": "code",
   "execution_count": null,
   "id": "fe962eda",
   "metadata": {},
   "outputs": [],
   "source": [
    "spark.conf.set(\"spark.sql.parquet.enableVectorizedReader\",\"false\")\n",
    "spark.conf.set(\"spark.sql.sources.partitionColumnTypeInference.enabled\", \"false\")\n"
   ]
  },
  {
   "cell_type": "code",
   "execution_count": null,
   "id": "2c402ec4",
   "metadata": {},
   "outputs": [],
   "source": [
    "from sstm_transformation.ld_builder import LDBuilder"
   ]
  },
  {
   "cell_type": "code",
   "execution_count": null,
   "id": "61fde2b8",
   "metadata": {},
   "outputs": [],
   "source": [
    "#Read All dfs \n",
    "\n",
    "df_contact =readFromFile(\"parquet\", \"s3://dev-truve-devops-05-databricks-bucketetlrawdata-wu3m2thgf3o/leaddocket/aliawadlaw/Contact/\")\n",
    "df_leaddetail =readFromFile(\"parquet\", \"s3://dev-truve-devops-05-databricks-bucketetlrawdata-wu3m2thgf3o/leaddocket/aliawadlaw/LeadDetail/\")\n",
    "df_leadrow =readFromFile(\"parquet\", \"s3://dev-truve-devops-05-databricks-bucketetlrawdata-wu3m2thgf3o/leaddocket/aliawadlaw/LeadRow/\")\n",
    "df_casetype =readFromFile(\"parquet\", \"s3://dev-truve-devops-05-databricks-bucketetlrawdata-wu3m2thgf3o/leaddocket/aliawadlaw/CaseType/\")\n",
    "df_leadsource =readFromFile(\"parquet\", \"s3://dev-truve-devops-05-databricks-bucketetlrawdata-wu3m2thgf3o/leaddocket/aliawadlaw/LeadSource//\")\n",
    "df_opportunities =readFromFile(\"parquet\", \"s3://dev-truve-devops-05-databricks-bucketetlrawdata-wu3m2thgf3o/leaddocket/aliawadlaw/Opportunities/\")\n",
    "\n",
    "df_referrals =readFromFile(\"parquet\", \"s3://dev-truve-devops-05-databricks-bucketetlrawdata-wu3m2thgf3o/leaddocket/aliawadlaw/Referrals/\")\n",
    "df_statuses =readFromFile(\"parquet\", \"s3://dev-truve-devops-05-databricks-bucketetlrawdata-wu3m2thgf3o/leaddocket/aliawadlaw/statuses/\")\n",
    "df_users =readFromFile(\"parquet\", \"s3://dev-truve-devops-05-databricks-bucketetlrawdata-wu3m2thgf3o/leaddocket/aliawadlaw/Users/\")\n",
    "\n"
   ]
  },
  {
   "cell_type": "code",
   "execution_count": null,
   "id": "3987403f",
   "metadata": {},
   "outputs": [],
   "source": [
    "\n",
    "builder = LDBuilder(\"ld_sstm.yaml\", spark=spark)\n"
   ]
  },
  {
   "cell_type": "code",
   "execution_count": null,
   "id": "9ce20a1d",
   "metadata": {},
   "outputs": [],
   "source": [
    "#Upload data on S3 \n",
    "from awsglue.dynamicframe import DynamicFrame\n",
    "def upload_result(result):\n",
    "    temp_bucket = \"s3://dev-truve-devops-05-databricks-bucketetlrawdata-wu3m2thgf3o/temp\"\n",
    "    for key, df in result.items():\n",
    "        print(f\"Writing {key}\")\n",
    "        writeToFile(df,\"s3://dev-truve-devops-05-databr-bucketetlprocesseddata-h2m2xopoctot/{}/\".format(key.lower()), \"overwrite\")\n",
    "        dyf = DynamicFrame.fromDF(dataframe=df, glue_ctx=glueContext, name=key)\n",
    "        table_name = key.lower()\n",
    "        dyf.show(10)\n",
    "        \n",
    "        datasink = glueContext.write_dynamic_frame.from_jdbc_conf(\n",
    "                        frame=dyf,\n",
    "                        catalog_connection=\"dev-glue-redshift-connection\",\n",
    "                        connection_options={\n",
    "                            \"preactions\" : \"delete from tsm.{}\".format(table_name),\n",
    "                            \"dbtable\": \"tsm.{}\".format(table_name), \n",
    "                            \"database\": \"truve\",\n",
    "                        },\n",
    "                        redshift_tmp_dir=temp_bucket,\n",
    "                        transformation_ctx=\"datasink\",\n",
    "                    )\n",
    "        '''\n",
    "        #break\n",
    "        redshift_connection_options = {\"url\": \"jdbc:redshift://dev-redshift-cluster.cxorr0thbkvd.us-west-2.redshift.amazonaws.com:5439/truve\", \n",
    "                        \"user\": \"truveadmin\", \n",
    "                        \"password\": \"XXXXXXX\",\n",
    "                        \"preactions\" : \"delete from tsm.{}\".format(table_name),\n",
    "                        \"dbtable\": \"tsm.{}\".format(table_name), \n",
    "                        \"redshiftTmpDir\": temp_bucket} \n",
    "        datasink4 = glueContext.write_dynamic_frame.from_options(frame=dyf,\n",
    "                                                        connection_type=\"redshift\",\n",
    "                                                        connection_options=redshift_connection_options)\n",
    "        '''\n",
    "        #break\n",
    "    "
   ]
  },
  {
   "cell_type": "code",
   "execution_count": null,
   "id": "65ab263f",
   "metadata": {},
   "outputs": [],
   "source": [
    "#Age Transformation\n",
    "def contact_transformation(input_df):\n",
    "    #Read Raw Data\n",
    "    result = builder.build_contact(df=input_df)\n",
    "    #print(result)\n",
    "    upload_result(result)\n",
    "    \n",
    "contact_transformation(df_contact)"
   ]
  },
  {
   "cell_type": "code",
   "execution_count": null,
   "id": "4dfccb90",
   "metadata": {},
   "outputs": [],
   "source": [
    "#Age Transformation\n",
    "def leaddetail_transformation(input_df):\n",
    "    #Read Raw Data\n",
    "    result = builder.build_leaddetail(df=input_df)\n",
    "    #print(result)\n",
    "    upload_result(result)\n",
    "    \n",
    "leaddetail_transformation(df_leaddetail)"
   ]
  },
  {
   "cell_type": "code",
   "execution_count": null,
   "id": "0ddddbaa",
   "metadata": {},
   "outputs": [],
   "source": [
    "%stop_session"
   ]
  },
  {
   "cell_type": "code",
   "execution_count": null,
   "id": "67d8178f",
   "metadata": {},
   "outputs": [],
   "source": [
    "df_leadrow.show(10)"
   ]
  },
  {
   "cell_type": "code",
   "execution_count": null,
   "id": "c937c7b1",
   "metadata": {},
   "outputs": [],
   "source": [
    "df_leadrow.where(\"id = 7385\").show()"
   ]
  },
  {
   "cell_type": "code",
   "execution_count": null,
   "id": "f73b58a3",
   "metadata": {},
   "outputs": [],
   "source": [
    "#Age Transformation\n",
    "def leadrow_transformation(input_df):\n",
    "    #Read Raw Data\n",
    "    result = builder.build_leadraw(df=input_df)\n",
    "    #print(result)\n",
    "    upload_result(result)\n",
    "    \n",
    "leadrow_transformation(df_leadrow)"
   ]
  },
  {
   "cell_type": "code",
   "execution_count": null,
   "id": "2b9b56d5",
   "metadata": {},
   "outputs": [],
   "source": [
    "#Age Transformation\n",
    "def casetype_transformation(input_df):\n",
    "    #Read Raw Data\n",
    "    result = builder.build_casetype(df=input_df)\n",
    "    #print(result)\n",
    "    upload_result(result)\n",
    "    \n",
    "casetype_transformation(df_casetype)"
   ]
  },
  {
   "cell_type": "code",
   "execution_count": null,
   "id": "cf60e2cc",
   "metadata": {},
   "outputs": [],
   "source": [
    "#Age Transformation\n",
    "def opportunities_transformation(input_df):\n",
    "    #Read Raw Data\n",
    "    result = builder.build_opportunities(df=input_df)\n",
    "    #print(result)\n",
    "    upload_result(result)\n",
    "    \n",
    "opportunities_transformation(df_opportunities)"
   ]
  },
  {
   "cell_type": "code",
   "execution_count": null,
   "id": "2ff7fed3",
   "metadata": {},
   "outputs": [],
   "source": [
    "#Age Transformation\n",
    "def ldsource_transformation(input_df):\n",
    "    #Read Raw Data\n",
    "    result = builder.build_leadsource(df=input_df)\n",
    "    #print(result)\n",
    "    upload_result(result)\n",
    "    \n",
    "ldsource_transformation(df_leadsource)"
   ]
  },
  {
   "cell_type": "code",
   "execution_count": null,
   "id": "6d3f54ee",
   "metadata": {},
   "outputs": [],
   "source": [
    "#Age Transformation\n",
    "def ldreferrals_transformation(input_df):\n",
    "    #Read Raw Data\n",
    "    result = builder.build_referrals(df=input_df)\n",
    "    #print(result)\n",
    "    upload_result(result)\n",
    "    \n",
    "ldreferrals_transformation(df_referrals)"
   ]
  },
  {
   "cell_type": "code",
   "execution_count": null,
   "id": "731ae087",
   "metadata": {},
   "outputs": [],
   "source": [
    "#Age Transformation\n",
    "def ldstatus_transformation(input_df):\n",
    "    #Read Raw Data\n",
    "    result = builder.build_statuses(df=input_df)\n",
    "    #print(result)\n",
    "    upload_result(result)\n",
    "    \n",
    "ldstatus_transformation(df_statuses)"
   ]
  },
  {
   "cell_type": "code",
   "execution_count": null,
   "id": "2b497a82",
   "metadata": {},
   "outputs": [],
   "source": [
    "df_statuses.filter(\"id = 5\").show()"
   ]
  },
  {
   "cell_type": "code",
   "execution_count": null,
   "id": "ee0255c8",
   "metadata": {},
   "outputs": [],
   "source": [
    "#Age Transformation\n",
    "def ldusers_transformation(input_df):\n",
    "    #Read Raw Data\n",
    "    result = builder.build_users(df=input_df)\n",
    "    #print(result)\n",
    "    upload_result(result)\n",
    "    \n",
    "ldusers_transformation(df_users)"
   ]
  },
  {
   "cell_type": "code",
   "execution_count": null,
   "id": "057514af",
   "metadata": {},
   "outputs": [],
   "source": []
  }
 ],
 "metadata": {
  "kernelspec": {
   "display_name": "Glue PySpark",
   "language": "python",
   "name": "glue_pyspark"
  },
  "language_info": {
   "codemirror_mode": {
    "name": "python",
    "version": 3
   },
   "file_extension": ".py",
   "mimetype": "text/x-python",
   "name": "Python_Glue_Session",
   "pygments_lexer": "python3"
  }
 },
 "nbformat": 4,
 "nbformat_minor": 5
}
