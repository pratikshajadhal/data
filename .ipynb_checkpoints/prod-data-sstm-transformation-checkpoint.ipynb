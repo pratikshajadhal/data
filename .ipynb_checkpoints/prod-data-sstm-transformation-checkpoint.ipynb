{
 "cells": [
  {
   "cell_type": "code",
   "execution_count": 2,
   "id": "8315afbb",
   "metadata": {},
   "outputs": [
    {
     "name": "stdout",
     "output_type": "stream",
     "text": [
      "Welcome to the Glue Interactive Sessions Kernel\n",
      "For more information on available magic commands, please type %help in any new cell.\n",
      "\n",
      "Please view our Getting Started page to access the most up-to-date information on the Interactive Sessions kernel: https://docs.aws.amazon.com/glue/latest/dg/interactive-sessions.html\n",
      "Current iam_role is None\n",
      "iam_role has been set to arn:aws:iam::481237842548:role/CF-dev-TruveDevops-Glue-Role.\n"
     ]
    }
   ],
   "source": [
    "%iam_role arn:aws:iam::481237842548:role/CF-dev-TruveDevops-Glue-Role"
   ]
  },
  {
   "cell_type": "code",
   "execution_count": 4,
   "id": "86f8f0a6",
   "metadata": {},
   "outputs": [
    {
     "name": "stdout",
     "output_type": "stream",
     "text": [
      "Previous region: None\n",
      "Setting new region to: us-west-2\n",
      "Region is set to: us-west-2\n"
     ]
    }
   ],
   "source": [
    "%region us-west-2"
   ]
  },
  {
   "cell_type": "code",
   "execution_count": 0,
   "id": "c7525825",
   "metadata": {},
   "outputs": [
    {
     "name": "stdout",
     "output_type": "stream",
     "text": [
      "Additional python modules to be included:\n",
      "s3://dev-truve-devops-05-databricks-bucketetlrawdata-wu3m2thgf3o/sstm_transformation-0.1.0-py3-none-any.whl\n",
      "Previous number of workers: 5\n",
      "Setting new number of workers to: 2\n",
      "Authenticating with profile=default\n",
      "glue_role_arn defined by user: arn:aws:iam::481237842548:role/CF-dev-TruveDevops-Glue-Role\n",
      "Trying to create a Glue session for the kernel.\n",
      "Worker Type: G.1X\n",
      "Number of Workers: 2\n",
      "Session ID: 87b54c12-b0c3-4532-ab6c-e5f393174c56\n",
      "Applying the following default arguments:\n",
      "--glue_kernel_version 0.31\n",
      "--enable-glue-datacatalog true\n",
      "--additional-python-modules s3://dev-truve-devops-05-databricks-bucketetlrawdata-wu3m2thgf3o/sstm_transformation-0.1.0-py3-none-any.whl\n",
      "Waiting for session 87b54c12-b0c3-4532-ab6c-e5f393174c56 to get into ready status...\n",
      "Session 87b54c12-b0c3-4532-ab6c-e5f393174c56 has been created\n",
      "\n",
      "\n"
     ]
    }
   ],
   "source": [
    "%additional_python_modules \"s3://dev-truve-devops-05-databricks-bucketetlrawdata-wu3m2thgf3o/sstm_transformation-0.1.0-py3-none-any.whl\"\n",
    "%number_of_workers 2\n",
    "\n",
    "import sys\n",
    "from awsglue.transforms import *\n",
    "from awsglue.utils import getResolvedOptions\n",
    "from pyspark.context import SparkContext\n",
    "from awsglue.context import GlueContext\n",
    "from awsglue.job import Job\n",
    "  \n",
    "sc = SparkContext.getOrCreate()\n",
    "glueContext = GlueContext(sc)\n",
    "spark = glueContext.spark_session\n",
    "job = Job(glueContext)"
   ]
  },
  {
   "cell_type": "code",
   "execution_count": 1,
   "id": "4f82a92a",
   "metadata": {},
   "outputs": [
    {
     "name": "stdout",
     "output_type": "stream",
     "text": [
      "\n"
     ]
    }
   ],
   "source": [
    "#download configuration file\n",
    "import boto3\n",
    "session = boto3.Session()\n",
    "\n",
    "s3 = session.resource('s3')\n",
    "s3.Bucket('dev-truve-devops-05-databricks-bucketetlrawdata-wu3m2thgf3o').download_file('confs/filevine/sstm.yaml', 'sstm.yaml')"
   ]
  },
  {
   "cell_type": "code",
   "execution_count": 2,
   "id": "d8ae1f81",
   "metadata": {},
   "outputs": [
    {
     "name": "stdout",
     "output_type": "stream",
     "text": [
      "\n"
     ]
    }
   ],
   "source": [
    "with open(\"sstm.yaml\", \"r\") as f:\n",
    "    sstm_config = f.read()\n",
    "    "
   ]
  },
  {
   "cell_type": "code",
   "execution_count": 3,
   "id": "826bfe0f",
   "metadata": {},
   "outputs": [
    {
     "name": "stdout",
     "output_type": "stream",
     "text": [
      "\n"
     ]
    }
   ],
   "source": [
    "def readFromFile(ext, path) :\n",
    "    fileContent = spark.read.format(ext).option(\"header\", \"true\").option(\"mergeSchema\", \"true\").load(path)\n",
    "    return fileContent\n"
   ]
  },
  {
   "cell_type": "code",
   "execution_count": 4,
   "id": "088295e0",
   "metadata": {},
   "outputs": [
    {
     "name": "stdout",
     "output_type": "stream",
     "text": [
      "\n"
     ]
    }
   ],
   "source": [
    "def writeToFile(df_join , path, mode) :\n",
    "    df_join.write.parquet(path,mode=mode)"
   ]
  },
  {
   "cell_type": "code",
   "execution_count": 5,
   "id": "fe962eda",
   "metadata": {},
   "outputs": [
    {
     "name": "stdout",
     "output_type": "stream",
     "text": [
      "\n"
     ]
    }
   ],
   "source": [
    "spark.conf.set(\"spark.sql.parquet.enableVectorizedReader\",\"false\")\n",
    "spark.conf.set(\"spark.sql.sources.partitionColumnTypeInference.enabled\", \"false\")\n"
   ]
  },
  {
   "cell_type": "code",
   "execution_count": 6,
   "id": "2c402ec4",
   "metadata": {},
   "outputs": [
    {
     "name": "stdout",
     "output_type": "stream",
     "text": [
      "\n"
     ]
    }
   ],
   "source": [
    "from sstm_transformation.tsm_builder import TSMBuilder"
   ]
  },
  {
   "cell_type": "code",
   "execution_count": 7,
   "id": "134250ac",
   "metadata": {},
   "outputs": [
    {
     "name": "stdout",
     "output_type": "stream",
     "text": [
      "\n"
     ]
    }
   ],
   "source": [
    "#Read All dfs \n",
    "df_project =readFromFile(\"parquet\", \"s3://dev-truve-devops-05-databricks-bucketetlrawdata-wu3m2thgf3o/filevine/6586/18764/*/project.parquet\")\n",
    "df_intake =readFromFile(\"parquet\", \"s3://dev-truve-devops-05-databricks-bucketetlrawdata-wu3m2thgf3o/filevine/6586/18764/*/form/intake.parquet\")\n",
    "df_contact =readFromFile(\"parquet\", \"s3://dev-truve-devops-05-databricks-bucketetlrawdata-wu3m2thgf3o/filevine/6586/contact/\")\n",
    "df_projecttype = readFromFile(\"parquet\", \"s3://dev-truve-devops-05-databricks-bucketetlrawdata-wu3m2thgf3o/filevine/6586/projecttype/\")\n",
    "df_meds = readFromFile(\"parquet\", \"s3://dev-truve-devops-05-databricks-bucketetlrawdata-wu3m2thgf3o/filevine/6586/18764/*/collections/meds.parquet\")\n"
   ]
  },
  {
   "cell_type": "code",
   "execution_count": 8,
   "id": "231dfbd7",
   "metadata": {},
   "outputs": [
    {
     "name": "stdout",
     "output_type": "stream",
     "text": [
      "\n"
     ]
    }
   ],
   "source": [
    "builder = TSMBuilder(\"sstm.yaml\", spark=spark)\n"
   ]
  },
  {
   "cell_type": "code",
   "execution_count": 9,
   "id": "c7c4d459",
   "metadata": {},
   "outputs": [
    {
     "name": "stdout",
     "output_type": "stream",
     "text": [
      "\n"
     ]
    }
   ],
   "source": [
    "#Upload data on S3 \n",
    "def upload_result(result):\n",
    "    for key, df in result.items():\n",
    "        print(f\"Writing {key}\")\n",
    "        writeToFile(df,\"s3://dev-truve-devops-05-databr-bucketetlprocesseddata-h2m2xopoctot/{}/\".format(key.lower()), \"overwrite\")\n"
   ]
  },
  {
   "cell_type": "code",
   "execution_count": null,
   "id": "65ab263f",
   "metadata": {},
   "outputs": [],
   "source": [
    "#PeopleType Transformation\n",
    "def people_type_transformation(df_contact):\n",
    "    #Read Raw Data\n",
    "    result = builder.build_peopletypes(contact_df=df_contact)\n",
    "    print(result)\n",
    "    upload_result(result)\n",
    "    \n",
    "people_type_transformation(df_contact)"
   ]
  },
  {
   "cell_type": "code",
   "execution_count": null,
   "id": "6c9d34d7",
   "metadata": {},
   "outputs": [],
   "source": [
    "#Peoples Transformation\n",
    "def people_master_transformation(df_contact):\n",
    "    #Read Raw Data\n",
    "    result = builder.build_peoplemaster(contact_df=df_contact)\n",
    "    print(result)\n",
    "    upload_result(result)\n",
    "    \n",
    "people_master_transformation(df_contact)"
   ]
  },
  {
   "cell_type": "code",
   "execution_count": null,
   "id": "7c5cd7d9",
   "metadata": {},
   "outputs": [],
   "source": [
    "#Peoples Transformation\n",
    "def projecttype_transformation(df_projecttype):\n",
    "    #Read Raw Data\n",
    "    result = builder.build_practicetypes(df_projecttype)\n",
    "    print(result)\n",
    "    upload_result(result)\n",
    "    \n",
    "projecttype_transformation(df_projecttype)"
   ]
  },
  {
   "cell_type": "code",
   "execution_count": null,
   "id": "e2d22f60",
   "metadata": {},
   "outputs": [],
   "source": [
    "#Peoples Transformation\n",
    "df_projecttype = readFromFile(\"parquet\", \"s3://dev-truve-devops-05-databricks-bucketetlrawdata-wu3m2thgf3o/filevine/6586/projecttype/\")\n",
    "\n",
    "def phases_transformation(df_projecttype):\n",
    "    #Read Raw Data\n",
    "    \n",
    "    result = builder.build_phasemaster(df_projecttype)\n",
    "    print(result)\n",
    "    upload_result(result)\n",
    "    \n",
    "phases_transformation(df_projecttype)"
   ]
  },
  {
   "cell_type": "code",
   "execution_count": null,
   "id": "d7039de0",
   "metadata": {},
   "outputs": [],
   "source": [
    "#Peoples Transformation\n",
    "def value_transformation(df_meds):\n",
    "    #Read Raw Data\n",
    "    result = builder.build_casefigures(df_meds)\n",
    "    print(result)\n",
    "    upload_result(result)\n",
    "    \n",
    "value_transformation(df_meds)"
   ]
  },
  {
   "cell_type": "code",
   "execution_count": 10,
   "id": "6eb92b6b",
   "metadata": {},
   "outputs": [
    {
     "name": "stdout",
     "output_type": "stream",
     "text": [
      "root\n",
      " |-- Truve_Org_ID: integer (nullable = false)\n",
      " |-- Case_ID: integer (nullable = true)\n",
      " |-- Practice_Type_ID: string (nullable = true)\n",
      " |-- Is_Archived: string (nullable = true)\n",
      " |-- Incident_Date: string (nullable = true)\n",
      "\n",
      "{'Cases': DataFrame[Truve_Org_ID: int, Case_ID: int, Practice_Type_ID: string, Is_Archived: string, Incident_Date: string]}\n",
      "Writing Cases\n"
     ]
    }
   ],
   "source": [
    "#Peoples Transformation\n",
    "def cases_transformation(df_project):\n",
    "    #Read Raw Data\n",
    "    result = builder.build_casemaster(df_project)\n",
    "    print(result)\n",
    "    upload_result(result)\n",
    "    \n",
    "cases_transformation(df_project)"
   ]
  },
  {
   "cell_type": "code",
   "execution_count": 13,
   "id": "6d4c3194",
   "metadata": {},
   "outputs": [
    {
     "name": "stdout",
     "output_type": "stream",
     "text": [
      "+------------+-------------+--------------+--------+---------+---------------------------+-------------+--------------+----------------+----------------+------------+------------+-------------------+-----------------+-----------+-------+-------+-------+\n",
      "|Truve_Org_ID|Client_Org_ID|Parent_Case_ID| Case_ID|Intake_ID|Person_Performing_Intake_ID|Intake_Source|Date_of_Intake|Date_of_Incident|DUI_or_HitandRun|Referral_Fee|Referral_Fee|If_Case_Referred_In|If_Qualified_Case|If_VIP_Lead|Custom1|Custom2|Custom3|\n",
      "+------------+-------------+--------------+--------+---------+---------------------------+-------------+--------------+----------------+----------------+------------+------------+-------------------+-----------------+-----------+-------+-------+-------+\n",
      "|        6586|         6586|       9252629| 9252629|  9252629|                   30625608|         null|    2021-04-28|      2021-04-22|            None|        null|        null|               null|             null|       null|   null|   null|   null|\n",
      "|        6586|         6586|       9204300| 9204300|  9204300|                   30280883|         null|    2021-04-21|      2021-04-17|            None|        null|        null|               null|             null|       null|   null|   null|   null|\n",
      "|        6586|         6586|       9234752| 9234752|  9234752|                   30280883|         null|    2021-04-26|      2021-04-24|            None|        null|        null|               null|             null|       null|   null|   null|   null|\n",
      "|        6586|         6586|       9291082| 9291082|  9291082|                   30625608|         null|    2021-05-04|      2021-04-26|            None|        null|        null|               null|             null|       null|   null|   null|   null|\n",
      "|        6586|         6586|       9150598| 9150598|  9150598|                   30280883|         null|    2021-04-15|      2021-04-14|            None|        null|        null|               null|             null|       null|   null|   null|   null|\n",
      "|        6586|         6586|      10005619|10005619| 10005619|                   31788126|         null|    2021-11-05|      2021-02-24|     Hit and Run|        null|        null|               null|             null|       null|   null|   null|   null|\n",
      "|        6586|         6586|       8917878| 8917878|  8917878|                   23907330|         null|    2021-03-24|      2021-03-24|            None|        null|        null|               null|             null|       null|   null|   null|   null|\n",
      "|        6586|         6586|      10082437|10082437| 10082437|                   31788126|         null|    2021-12-01|      2021-11-01|            None|        null|        null|               null|             null|       null|   null|   null|   null|\n",
      "|        6586|         6586|       9146364| 9146364|  9146364|                   30280883|         null|    2021-04-14|      2021-04-11|            None|        null|        null|               null|             null|       null|   null|   null|   null|\n",
      "|        6586|         6586|       8907225| 8907225|  8907225|                   29453591|         null|    2021-03-22|      2021-03-02|            None|        null|        null|               null|             null|       null|   null|   null|   null|\n",
      "|        6586|         6586|       8734475| 8734475|  8734475|                   23907329|         null|    2021-02-22|      2021-02-19|            None|        null|        null|               null|             null|       null|   null|   null|   null|\n",
      "|        6586|         6586|      10171521|10171521| 10171521|                   31788126|         null|    2021-12-30|      2021-12-12|            None|        null|        null|               null|             null|       null|   null|   null|   null|\n",
      "|        6586|         6586|       9256722| 9256722|  9256722|                   30625608|         null|    2021-04-29|      2021-04-28|            null|        null|        null|               null|             null|       null|   null|   null|   null|\n",
      "|        6586|         6586|       9908694| 9908694|  9908694|                   31788126|         null|    2021-10-06|      2021-06-03|            None|        null|        null|               null|             null|       null|   null|   null|   null|\n",
      "|        6586|         6586|       8751952| 8751952|  8751952|                   23907329|         null|    2021-02-24|      2021-02-19|            None|        null|        null|               null|             null|       null|   null|   null|   null|\n",
      "|        6586|         6586|       7532487| 7532487|  7532487|                   25602708|         null|    2020-03-16|      2020-02-24|            null|        null|        null|               null|             null|       null|   null|   null|   null|\n",
      "|        6586|         6586|       8503814| 8503814|  8503814|                   23907330|         null|    2021-01-26|      2020-10-19|            None|        null|        null|               null|             null|       null|   null|   null|   null|\n",
      "|        6586|         6586|      10033809|10033809| 10033809|                   29453591|         null|    2021-11-11|      2021-10-12|            None|        null|        null|               null|             null|       null|   null|   null|   null|\n",
      "|        6586|         6586|       9466399| 9466399|  9466399|                   30625608|         null|    2021-06-04|      2021-03-29|             DUI|        null|        null|               null|             null|       null|   null|   null|   null|\n",
      "|        6586|         6586|       9304754| 9304754|  9304754|                   30280883|         null|    2021-05-06|      2021-04-29|            None|        null|        null|               null|             null|       null|   null|   null|   null|\n",
      "|        6586|         6586|       9162587| 9162587|  9162587|                   30280883|         null|    2021-04-16|      2021-03-27|            None|        null|        null|               null|             null|       null|   null|   null|   null|\n",
      "|        6586|         6586|      10206873|10206873| 10206873|                   31788126|         null|    2022-01-18|      2021-04-09|            None|        null|        null|               null|             null|       null|   null|   null|   null|\n",
      "|        6586|         6586|       8834610| 8834610|  8834610|                   23907329|         null|    2021-03-05|      2021-03-04|            None|        null|        null|               null|             null|       null|   null|   null|   null|\n",
      "|        6586|         6586|       9470606| 9470606|  9470606|                   30625608|         null|    2021-06-08|      2021-06-03|            None|        null|        null|               null|             null|       null|   null|   null|   null|\n",
      "|        6586|         6586|       9232581| 9232581|  9232581|                   25959023|         null|    2021-04-25|      2021-04-24|            None|        null|        null|               null|             null|       null|   null|   null|   null|\n",
      "|        6586|         6586|       9819825| 9819825|  9819825|                   31788126|         null|    2021-09-17|      2021-08-19|            None|        null|        null|               null|             null|       null|   null|   null|   null|\n",
      "|        6586|         6586|       9969786| 9969786|  9969786|                   31788126|         null|    2021-10-25|      2021-01-01|     Hit and Run|        null|        null|               null|             null|       null|   null|   null|   null|\n",
      "|        6586|         6586|       9819837| 9819837|  9819837|                   31788126|         null|    2021-09-17|      2021-08-19|            None|        null|        null|               null|             null|       null|   null|   null|   null|\n",
      "|        6586|         6586|       9854136| 9854136|  9854136|                   31788126|         null|    2021-09-21|      2019-12-13|            None|        null|        null|               null|             null|       null|   null|   null|   null|\n",
      "|        6586|         6586|      10129451|10129451| 10129451|                   31764835|         null|    2021-12-08|      2020-07-15|            null|        null|        null|               null|             null|       null|   null|   null|   null|\n",
      "|        6586|         6586|       9852971| 9852971|  9852971|                   31788126|         null|    2021-09-21|      2019-12-13|            None|        null|        null|               null|             null|       null|   null|   null|   null|\n",
      "|        6586|         6586|       9664499| 9664499|  9664499|                   31788126|         null|    2021-07-21|      2021-07-18|            None|        null|        null|               null|             null|       null|   null|   null|   null|\n",
      "|        6586|         6586|       9819835| 9819835|  9819835|                   31788126|         null|    2021-09-17|      2021-08-19|            None|        null|        null|               null|             null|       null|   null|   null|   null|\n",
      "|        6586|         6586|       9590800| 9590800|  9590800|                   31788126|         null|    2021-07-14|      2021-06-23|            None|        null|        null|               null|             null|       null|   null|   null|   null|\n",
      "|        6586|         6586|       8142851| 8142851|  8142851|                   25959023|         null|    2020-11-24|      2020-08-09|            None|        null|        null|               null|             null|       null|   null|   null|   null|\n",
      "|        6586|         6586|       9466400| 9466400|  9466400|                   30625608|         null|    2021-06-04|      2021-03-29|             DUI|        null|        null|               null|             null|       null|   null|   null|   null|\n",
      "|        6586|         6586|       8862376| 8862376|  8862376|                   23907329|         null|    2021-03-11|      2020-10-19|            None|        null|        null|               null|             null|       null|   null|   null|   null|\n",
      "|        6586|         6586|       9969780| 9969780|  9969780|                   31788126|         null|    2021-10-25|      2021-01-01|     Hit and Run|        null|        null|               null|             null|       null|   null|   null|   null|\n",
      "|        6586|         6586|       8865186| 8865186|  8865186|                   23907329|         null|    2021-03-11|      2021-03-06|            None|        null|        null|               null|             null|       null|   null|   null|   null|\n",
      "|        6586|         6586|       9447353| 9447353|  9447353|                   30625608|         null|    2021-05-27|      2021-05-23|            None|        null|        null|               null|             null|       null|   null|   null|   null|\n",
      "|        6586|         6586|       8877424| 8877424|  8877424|                   23907329|         null|    2021-03-12|      2021-01-12|            None|        null|        null|               null|             null|       null|   null|   null|   null|\n",
      "|        6586|         6586|       8756979| 8756979|  8756979|                   25959023|         null|    2021-02-25|      2020-06-28|            None|        null|        null|               null|             null|       null|   null|   null|   null|\n",
      "|        6586|         6586|       9319806| 9319806|  9319806|                   30280883|         null|    2021-05-11|      2021-05-07|            None|        null|        null|               null|             null|       null|   null|   null|   null|\n",
      "|        6586|         6586|       7533298| 7533298|  7533298|                   23907324|         null|    2020-07-13|      2020-07-12|            None|        null|        null|               null|             null|       null|   null|   null|   null|\n",
      "|        6586|         6586|       9889167| 9889167|  9889167|                   31788126|         null|    2021-09-29|      2021-04-01|            None|        null|        null|               null|             null|       null|   null|   null|   null|\n",
      "|        6586|         6586|       9709847| 9709847|  9709847|                   31788126|         null|    2021-08-04|      2021-06-12|            None|        null|        null|               null|             null|       null|   null|   null|   null|\n",
      "|        6586|         6586|       9441228| 9441228|  9441228|                   30625608|         null|    2021-05-26|      2021-05-01|            None|        null|        null|               null|             null|       null|   null|   null|   null|\n",
      "|        6586|         6586|       9151470| 9151470|  9151470|                   23907330|         null|    2021-04-15|      2021-04-15|            None|        null|        null|               null|             null|       null|   null|   null|   null|\n",
      "|        6586|         6586|       9864004| 9864004|  9864004|                   31788126|         null|    2021-09-24|      2021-09-20|            None|        null|        null|               null|             null|       null|   null|   null|   null|\n",
      "|        6586|         6586|       9746778| 9746778|  9746778|                   31788126|         null|    2021-08-18|      2021-08-15|            None|        null|        null|               null|             null|       null|   null|   null|   null|\n",
      "|        6586|         6586|      10197320|10197320| 10197320|                   31788126|         null|    2022-01-12|      2022-01-10|            None|        null|        null|               null|             null|       null|   null|   null|   null|\n",
      "|        6586|         6586|       8990151| 8990151|  8990151|                   29453591|         null|    2021-04-02|      2021-04-02|            None|        null|        null|               null|             null|       null|   null|   null|   null|\n",
      "|        6586|         6586|       9746708| 9746708|  9746708|                   31788126|         null|    2021-08-18|      2021-08-15|            None|        null|        null|               null|             null|       null|   null|   null|   null|\n",
      "|        6586|         6586|      10142312|10142312| 10142312|                   31788126|         null|    2021-12-14|      2021-12-03|            None|        null|        null|               null|             null|       null|   null|   null|   null|\n",
      "|        6586|         6586|       8115333| 8115333|  8115333|                   25959023|         null|    2020-11-16|      2020-11-11|            None|        null|        null|               null|             null|       null|   null|   null|   null|\n",
      "|        6586|         6586|       9718873| 9718873|  9718873|                   29453591|         null|    2021-08-07|      2021-04-21|            None|        null|        null|               null|             null|       null|   null|   null|   null|\n",
      "|        6586|         6586|       9766312| 9766312|  9766312|                   31788126|         null|    2021-08-26|      2020-09-01|            None|        null|        null|               null|             null|       null|   null|   null|   null|\n",
      "|        6586|         6586|       9306605| 9306605|  9306605|                   23907324|         null|    2021-05-06|      2021-05-02|            None|        null|        null|               null|             null|       null|   null|   null|   null|\n",
      "|        6586|         6586|       9767696| 9767696|  9767696|                   31788126|         null|    2021-08-27|      2021-08-10|            None|        null|        null|               null|             null|       null|   null|   null|   null|\n",
      "|        6586|         6586|      10131718|10131718| 10131718|                   31788126|         null|    2021-12-09|      2021-10-19|     Hit and Run|        null|        null|               null|             null|       null|   null|   null|   null|\n",
      "|        6586|         6586|       8639235| 8639235|  8639235|                   23907330|         null|    2021-02-09|      2021-02-07|            None|        null|        null|               null|             null|       null|   null|   null|   null|\n",
      "|        6586|         6586|       9848486| 9848486|  9848486|                   31788126|         null|    2021-09-20|      2021-07-23|            None|        null|        null|               null|             null|       null|   null|   null|   null|\n",
      "|        6586|         6586|       9450626| 9450626|  9450626|                   30280883|         null|    2021-05-28|      2021-05-28|            None|        null|        null|               null|             null|       null|   null|   null|   null|\n",
      "|        6586|         6586|       9662547| 9662547|  9662547|                   31788126|         null|    2021-07-21|      2021-02-08|            None|        null|        null|               null|             null|       null|   null|   null|   null|\n",
      "|        6586|         6586|       9848703| 9848703|  9848703|                   31788126|         null|    2021-09-20|      2021-07-23|            None|        null|        null|               null|             null|       null|   null|   null|   null|\n",
      "|        6586|         6586|       8639188| 8639188|  8639188|                   23907330|         null|    2021-02-09|      2021-02-07|            None|        null|        null|               null|             null|       null|   null|   null|   null|\n",
      "|        6586|         6586|       9317010| 9317010|  9317010|                   30625608|         null|    2021-05-11|      2021-05-07|            None|        null|        null|               null|             null|       null|   null|   null|   null|\n",
      "|        6586|         6586|      10143298|10143298| 10143298|                   33005217|         null|    2021-12-15|      2021-12-09|            None|        null|        null|               null|             null|       null|   null|   null|   null|\n",
      "|        6586|         6586|       9255971| 9255971|  9255971|                   30625608|         null|    2021-04-29|      2021-04-28|            None|        null|        null|               null|             null|       null|   null|   null|   null|\n",
      "|        6586|         6586|      10006050|10006050| 10006050|                   31788126|         null|    2021-11-05|      2021-02-24|            None|        null|        null|               null|             null|       null|   null|   null|   null|\n",
      "|        6586|         6586|       9445518| 9445518|  9445518|                   30625608|         null|    2021-05-27|      2021-05-01|            None|        null|        null|               null|             null|       null|   null|   null|   null|\n",
      "|        6586|         6586|      10201700|10201700| 10201700|                   31788126|         null|    2022-01-14|      2021-06-10|            None|        null|        null|               null|             null|       null|   null|   null|   null|\n",
      "|        6586|         6586|       9729893| 9729893|  9729893|                   25959023|         null|    2021-08-11|      2021-07-25|            None|        null|        null|               null|             null|       null|   null|   null|   null|\n",
      "|        6586|         6586|       9530198| 9530198|  9530198|                   30625608|         null|    2021-06-22|      2021-06-16|     Hit and Run|        null|        null|               null|             null|       null|   null|   null|   null|\n",
      "|        6586|         6586|      10104740|10104740| 10104740|                   31788126|         null|    2021-12-02|      2021-04-17|            None|        null|        null|               null|             null|       null|   null|   null|   null|\n",
      "|        6586|         6586|       8895771| 8895771|  8895771|                   23907329|         null|    2021-03-18|      2021-03-17|            None|        null|        null|               null|             null|       null|   null|   null|   null|\n",
      "|        6586|         6586|       9709849| 9709849|  9709849|                   31788126|         null|    2021-08-04|      2021-06-12|            None|        null|        null|               null|             null|       null|   null|   null|   null|\n",
      "|        6586|         6586|       7857494| 7857494|  7857494|                   23907329|         null|    2020-10-12|      2020-10-03|            None|        null|        null|               null|             null|       null|   null|   null|   null|\n",
      "|        6586|         6586|       9990797| 9990797|  9990797|                   31788126|         null|    2021-11-01|      2021-10-20|            None|        null|        null|               null|             null|       null|   null|   null|   null|\n",
      "|        6586|         6586|       9746783| 9746783|  9746783|                   31788126|         null|    2021-08-18|      2021-08-15|            None|        null|        null|               null|             null|       null|   null|   null|   null|\n",
      "|        6586|         6586|       9892286| 9892286|  9892286|                   31788126|         null|    2021-09-30|      2021-07-16|     Hit and Run|        null|        null|               null|             null|       null|   null|   null|   null|\n",
      "|        6586|         6586|       9746781| 9746781|  9746781|                   31788126|         null|    2021-08-18|      2021-08-15|            None|        null|        null|               null|             null|       null|   null|   null|   null|\n",
      "|        6586|         6586|       8909580| 8909580|  8909580|                   29453591|         null|    2021-03-22|      2021-03-02|            None|        null|        null|               null|             null|       null|   null|   null|   null|\n",
      "|        6586|         6586|      10203989|10203989| 10203989|                   31788126|         null|    2022-01-14|      2020-09-18|     Hit and Run|        null|        null|               null|             null|       null|   null|   null|   null|\n",
      "|        6586|         6586|       8909587| 8909587|  8909587|                   29453591|         null|    2021-03-22|      2021-03-02|            None|        null|        null|               null|             null|       null|   null|   null|   null|\n",
      "|        6586|         6586|       9509266| 9509266|  9509266|                   30625608|         null|    2021-06-15|      2021-06-11|            None|        null|        null|               null|             null|       null|   null|   null|   null|\n",
      "|        6586|         6586|      10146521|10146521| 10146521|                   31788126|         null|    2021-12-16|      2021-10-18|            None|        null|        null|               null|             null|       null|   null|   null|   null|\n",
      "|        6586|         6586|      10262366|10262366| 10262366|                   33711955|         null|    2022-02-10|      2021-12-11|            None|        null|        null|               null|             null|       null|   null|   null|   null|\n",
      "|        6586|         6586|      10190389|10190389| 10190389|                   29453591|         null|    2022-01-10|      2022-01-06|            None|        null|        null|               null|             null|       null|   null|   null|   null|\n",
      "|        6586|         6586|       9300049| 9300049|  9300049|                   30280883|         null|    2021-05-04|      2021-05-01|            None|        null|        null|               null|             null|       null|   null|   null|   null|\n",
      "|        6586|         6586|       8467318| 8467318|  8467318|                   25959023|         null|    2021-01-19|      2020-09-12|            None|        null|        null|               null|             null|       null|   null|   null|   null|\n",
      "|        6586|         6586|       8909579| 8909579|  8909579|                   29453591|         null|    2021-03-22|      2021-03-02|            None|        null|        null|               null|             null|       null|   null|   null|   null|\n",
      "|        6586|         6586|       8893939| 8893939|  8893939|                   29453591|         null|    2021-03-17|      2020-10-19|            None|        null|        null|               null|             null|       null|   null|   null|   null|\n",
      "|        6586|         6586|       9924725| 9924725|  9924725|                   31788126|         null|    2021-10-12|      2020-11-13|            None|        null|        null|               null|             null|       null|   null|   null|   null|\n",
      "|        6586|         6586|       9745027| 9745027|  9745027|                   31788126|         null|    2021-08-18|      2021-08-12|            None|        null|        null|               null|             null|       null|   null|   null|   null|\n",
      "|        6586|         6586|       9163873| 9163873|  9163873|                   30280883|         null|    2021-04-16|      2021-03-27|            None|        null|        null|               null|             null|       null|   null|   null|   null|\n",
      "|        6586|         6586|       9896924| 9896924|  9896924|                   31788126|         null|    2021-10-01|      2021-09-18|            None|        null|        null|               null|             null|       null|   null|   null|   null|\n",
      "|        6586|         6586|       8722348| 8722348|  8722348|                   23907329|         null|    2021-02-20|      2021-02-19|            None|        null|        null|               null|             null|       null|   null|   null|   null|\n",
      "|        6586|         6586|       9447341| 9447341|  9447341|                   30625608|         null|    2021-05-27|      2021-05-23|            None|        null|        null|               null|             null|       null|   null|   null|   null|\n",
      "|        6586|         6586|       8909571| 8909571|  8909571|                   29453591|         null|    2021-03-22|      2021-03-02|            None|        null|        null|               null|             null|       null|   null|   null|   null|\n",
      "+------------+-------------+--------------+--------+---------+---------------------------+-------------+--------------+----------------+----------------+------------+------------+-------------------+-----------------+-----------+-------+-------+-------+\n",
      "only showing top 100 rows\n"
     ]
    }
   ],
   "source": [
    "#Peoples Transformation\n",
    "def intake_transformation(df_intake):\n",
    "    #Read Raw Data\n",
    "    result = builder.build_intakesummary(df_intake)\n",
    "    return result \n",
    "\n",
    "result = intake_transformation(df_intake)\n",
    "result[\"IntakeDetails\"] = result[\"IntakeDetails\"].drop(\"referral_fee\")"
   ]
  },
  {
   "cell_type": "code",
   "execution_count": null,
   "id": "6eda52c1",
   "metadata": {},
   "outputs": [],
   "source": [
    "upload_result(result)\n"
   ]
  },
  {
   "cell_type": "code",
   "execution_count": null,
   "id": "43adea65",
   "metadata": {},
   "outputs": [],
   "source": [
    "builder._get_table_config(\"Phases\")\n",
    "sstm_config"
   ]
  },
  {
   "cell_type": "code",
   "execution_count": null,
   "id": "e015b833",
   "metadata": {},
   "outputs": [],
   "source": [
    "def people_master_transformation():\n",
    "    #Read Raw Data\n",
    "    contact_dyf = glueContext.create_dynamic_frame_from_options(\\\n",
    "    connection_type = \"s3\", \\\n",
    "    connection_options = {\n",
    "        \"paths\": [\"s3://dev-truve-devops-05-databricks-bucketetlrawdata-wu3m2thgf3o/filevine/6586/contact/historical_contacts.parquet\"]}, \\\n",
    "    format = \"parquet\",\n",
    "    )\n",
    "    contact_sp_df = contact_dyf.toDF()\n",
    "    print(contact_sp_df.count())\n",
    "    sstm_peoplemaster_df = builder.build_peoplemaster(contact_df=contact_sp_df)\n",
    "    trans_obj = DynamicFrame.fromDF(sstm_peoplemaster_df, glueContext, \"sstm_peoplemaster\")\n",
    "    print(trans_obj)\n",
    "    #sstm_peoplemaster_df.write.mode(\"overwrite\").format(\"parquet\").save(\"s3://dev-truve-devops-05-databr-bucketetlprocesseddata-h2m2xopoctot/peoplemaster/\")\n",
    "    #print(\"PeopleTypes Processed successfully\")"
   ]
  },
  {
   "cell_type": "code",
   "execution_count": null,
   "id": "58b6a7da",
   "metadata": {},
   "outputs": [],
   "source": [
    "#people_type_transformation()\n",
    "people_master_transformation()"
   ]
  },
  {
   "cell_type": "code",
   "execution_count": null,
   "id": "9242600f",
   "metadata": {},
   "outputs": [],
   "source": [
    "df_forms =readFromFile(\"parquet\", \"s3://dev-truve-devops-05-databricks-bucketetlrawdata-wu3m2thgf3o/filevine/6586/18764/*/form/casesummary.parquet\")\n"
   ]
  },
  {
   "cell_type": "code",
   "execution_count": null,
   "id": "80d99540",
   "metadata": {},
   "outputs": [],
   "source": []
  },
  {
   "cell_type": "code",
   "execution_count": null,
   "id": "518d9b86",
   "metadata": {},
   "outputs": [],
   "source": [
    "df_forms.count()"
   ]
  },
  {
   "cell_type": "code",
   "execution_count": null,
   "id": "397dc58c",
   "metadata": {},
   "outputs": [],
   "source": [
    "df_forms.printSchema()"
   ]
  },
  {
   "cell_type": "code",
   "execution_count": null,
   "id": "d3dfcde4",
   "metadata": {},
   "outputs": [],
   "source": [
    "df_forms.show()"
   ]
  },
  {
   "cell_type": "code",
   "execution_count": null,
   "id": "12b12b8a",
   "metadata": {},
   "outputs": [],
   "source": [
    "from awsglue.dynamicframe import DynamicFrame\n",
    "\n",
    "dyf_casesummary = DynamicFrame.fromDF(df_forms, glueContext, \"nested\")\n"
   ]
  },
  {
   "cell_type": "code",
   "execution_count": null,
   "id": "51af2d6e",
   "metadata": {},
   "outputs": [],
   "source": [
    "glueContext.write_dynamic_frame.from_options(frame = dyf_casesummary,\n",
    "                                         connection_type = \"s3\",\n",
    "                                         connection_options = {\"path\": \"s3://dev-truve-devops-05-databricks-bucketetlrawdata-wu3m2thgf3o/temp/casesummary/\"},\n",
    "                                         format = \"parquet\")"
   ]
  },
  {
   "cell_type": "code",
   "execution_count": null,
   "id": "4a922154",
   "metadata": {},
   "outputs": [],
   "source": [
    "writeToFile(df_forms,\"s3://dev-truve-devops-05-databricks-bucketetlrawdata-wu3m2thgf3o/temp/casesummary/\", \"overwrite\")\n"
   ]
  },
  {
   "cell_type": "code",
   "execution_count": null,
   "id": "d30e2e35",
   "metadata": {},
   "outputs": [],
   "source": [
    "%stop_session"
   ]
  },
  {
   "cell_type": "code",
   "execution_count": null,
   "id": "db45956f",
   "metadata": {},
   "outputs": [],
   "source": [
    "df_forms =readFromFile(\"parquet\", \"s3://dev-truve-devops-05-databricks-bucketetlrawdata-wu3m2thgf3o/filevine/6586/18764/*/collection/meds.parquet\")\n"
   ]
  },
  {
   "cell_type": "code",
   "execution_count": null,
   "id": "9093400a",
   "metadata": {},
   "outputs": [],
   "source": [
    "df_forms.count()"
   ]
  },
  {
   "cell_type": "code",
   "execution_count": null,
   "id": "9b8add48",
   "metadata": {},
   "outputs": [],
   "source": [
    "df_forms.printSchema()"
   ]
  },
  {
   "cell_type": "code",
   "execution_count": null,
   "id": "1ec00517",
   "metadata": {},
   "outputs": [],
   "source": [
    "df_forms.show(n=10)"
   ]
  },
  {
   "cell_type": "code",
   "execution_count": null,
   "id": "d46a850b",
   "metadata": {},
   "outputs": [],
   "source": [
    "writeToFile(df_forms,\"s3://dev-truve-devops-05-databricks-bucketetlrawdata-wu3m2thgf3o/temp/meds/\", \"overwrite\")\n"
   ]
  },
  {
   "cell_type": "code",
   "execution_count": null,
   "id": "2d3a5ca1",
   "metadata": {},
   "outputs": [],
   "source": [
    "df_intake =readFromFile(\"parquet\", \"s3://dev-truve-devops-05-databricks-bucketetlrawdata-wu3m2thgf3o/filevine/6586/18764/*/form/intake.parquet\")\n"
   ]
  },
  {
   "cell_type": "code",
   "execution_count": null,
   "id": "02226ae5",
   "metadata": {},
   "outputs": [],
   "source": [
    "df_intake.count()"
   ]
  },
  {
   "cell_type": "code",
   "execution_count": null,
   "id": "ccf94c56",
   "metadata": {},
   "outputs": [],
   "source": [
    "df_intake.show(n=10)"
   ]
  },
  {
   "cell_type": "code",
   "execution_count": null,
   "id": "8fae13dd",
   "metadata": {},
   "outputs": [],
   "source": [
    "df_intake.printSchema()"
   ]
  },
  {
   "cell_type": "code",
   "execution_count": null,
   "id": "f35057c9",
   "metadata": {},
   "outputs": [],
   "source": [
    "writeToFile(df_intake,\"s3://dev-truve-devops-05-databricks-bucketetlrawdata-wu3m2thgf3o/temp/intake/\", \"overwrite\")\n"
   ]
  },
  {
   "cell_type": "code",
   "execution_count": null,
   "id": "3136df27",
   "metadata": {},
   "outputs": [],
   "source": [
    "df_casesummary =readFromFile(\"parquet\", \"s3://dev-truve-devops-05-databricks-bucketetlrawdata-wu3m2thgf3o/filevine/6586/18764/*/form/casesummary.parquet\")\n"
   ]
  },
  {
   "cell_type": "code",
   "execution_count": null,
   "id": "6165cdad",
   "metadata": {},
   "outputs": [],
   "source": [
    "df_casesummary.count()"
   ]
  },
  {
   "cell_type": "code",
   "execution_count": null,
   "id": "bdbf6828",
   "metadata": {},
   "outputs": [],
   "source": [
    "df_casesummary.show()"
   ]
  },
  {
   "cell_type": "code",
   "execution_count": null,
   "id": "b6fbf6e4",
   "metadata": {},
   "outputs": [],
   "source": []
  },
  {
   "cell_type": "code",
   "execution_count": null,
   "id": "a61c325e",
   "metadata": {},
   "outputs": [],
   "source": [
    "def write_parquet_files(df, name):\n",
    "    df_rept = df.repartition(1)\n",
    "    writeToFile(df_rept,\"s3://dev-truve-devops-05-databricks-bucketetlrawdata-wu3m2thgf3o/temp/{}/\".format(name), \"overwrite\")\n"
   ]
  },
  {
   "cell_type": "code",
   "execution_count": null,
   "id": "4419939e",
   "metadata": {},
   "outputs": [],
   "source": [
    "df_intake =readFromFile(\"parquet\", \"s3://dev-truve-devops-05-databricks-bucketetlrawdata-wu3m2thgf3o/filevine/6586/18764/*/form/intake.parquet\")\n"
   ]
  },
  {
   "cell_type": "code",
   "execution_count": null,
   "id": "029b3c2e",
   "metadata": {},
   "outputs": [],
   "source": [
    "write_parquet_files(df_intake, \"intake\")"
   ]
  },
  {
   "cell_type": "code",
   "execution_count": null,
   "id": "3116afe9",
   "metadata": {},
   "outputs": [],
   "source": [
    "df_intake.count()"
   ]
  },
  {
   "cell_type": "code",
   "execution_count": null,
   "id": "df3b7fbe",
   "metadata": {},
   "outputs": [],
   "source": [
    "df_project =readFromFile(\"parquet\", \"s3://dev-truve-devops-05-databricks-bucketetlrawdata-wu3m2thgf3o/filevine/6586/18764/*/project.parquet\")\n",
    "write_parquet_files(df_project, \"project\")"
   ]
  },
  {
   "cell_type": "code",
   "execution_count": null,
   "id": "2eba9e26",
   "metadata": {},
   "outputs": [],
   "source": [
    "df_meds =readFromFile(\"parquet\", \"s3://dev-truve-devops-05-databricks-bucketetlrawdata-wu3m2thgf3o/filevine/6586/18764/*/collections/meds.parquet\")\n",
    "write_parquet_files(df_meds, \"meds\")"
   ]
  },
  {
   "cell_type": "code",
   "execution_count": null,
   "id": "e377e15e",
   "metadata": {},
   "outputs": [],
   "source": []
  }
 ],
 "metadata": {
  "kernelspec": {
   "display_name": "Glue PySpark",
   "language": "python",
   "name": "glue_pyspark"
  },
  "language_info": {
   "codemirror_mode": {
    "name": "python",
    "version": 3
   },
   "file_extension": ".py",
   "mimetype": "text/x-python",
   "name": "Python_Glue_Session",
   "pygments_lexer": "python3"
  }
 },
 "nbformat": 4,
 "nbformat_minor": 5
}
