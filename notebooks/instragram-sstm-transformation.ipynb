{
 "cells": [
  {
   "cell_type": "code",
   "execution_count": null,
   "id": "8315afbb",
   "metadata": {},
   "outputs": [],
   "source": [
    "%iam_role arn:aws:iam::481237842548:role/CF-dev-TruveDevops-Glue-Role"
   ]
  },
  {
   "cell_type": "code",
   "execution_count": null,
   "id": "86f8f0a6",
   "metadata": {},
   "outputs": [],
   "source": [
    "%region us-west-2"
   ]
  },
  {
   "cell_type": "code",
   "execution_count": null,
   "id": "c7525825",
   "metadata": {},
   "outputs": [],
   "source": [
    "%additional_python_modules \"s3://dev-truve-devops-05-databricks-bucketetlrawdata-wu3m2thgf3o/sstm_transformation-0.1.0-py3-none-any.whl\"\n",
    "%number_of_workers 2\n",
    "%connections dev-glue-redshift-connection\n",
    "#%idle_timeout 30\n",
    "\n",
    "import sys\n",
    "from awsglue.transforms import *\n",
    "from awsglue.utils import getResolvedOptions\n",
    "from pyspark.context import SparkContext\n",
    "from awsglue.context import GlueContext\n",
    "from awsglue.job import Job\n",
    "  \n",
    "sc = SparkContext.getOrCreate()\n",
    "glueContext = GlueContext(sc)\n",
    "spark = glueContext.spark_session\n",
    "job = Job(glueContext)"
   ]
  },
  {
   "cell_type": "code",
   "execution_count": null,
   "id": "4f82a92a",
   "metadata": {},
   "outputs": [],
   "source": [
    "#download configuration file\n",
    "import boto3\n",
    "session = boto3.Session()\n",
    "\n",
    "s3 = session.resource('s3')\n",
    "s3.Bucket('dev-truve-devops-05-databricks-bucketetlrawdata-wu3m2thgf3o').download_file('confs/filevine/sstm.yaml', 'sstm.yaml')"
   ]
  },
  {
   "cell_type": "code",
   "execution_count": null,
   "id": "d8ae1f81",
   "metadata": {},
   "outputs": [],
   "source": [
    "with open(\"sstm.yaml\", \"r\") as f:\n",
    "    sstm_config = f.read()\n",
    "    "
   ]
  },
  {
   "cell_type": "code",
   "execution_count": null,
   "id": "826bfe0f",
   "metadata": {},
   "outputs": [],
   "source": [
    "def readFromFile(ext, path) :\n",
    "    fileContent = spark.read.format(ext).option(\"header\", \"true\").option(\"mergeSchema\", \"true\").load(path)\n",
    "    return fileContent\n"
   ]
  },
  {
   "cell_type": "code",
   "execution_count": null,
   "id": "088295e0",
   "metadata": {},
   "outputs": [],
   "source": [
    "def writeToFile(df_join , path, mode) :\n",
    "    df_join.write.parquet(path,mode=mode)"
   ]
  },
  {
   "cell_type": "code",
   "execution_count": null,
   "id": "fe962eda",
   "metadata": {},
   "outputs": [],
   "source": [
    "spark.conf.set(\"spark.sql.parquet.enableVectorizedReader\",\"false\")\n",
    "spark.conf.set(\"spark.sql.sources.partitionColumnTypeInference.enabled\", \"false\")\n"
   ]
  },
  {
   "cell_type": "code",
   "execution_count": null,
   "id": "2c402ec4",
   "metadata": {},
   "outputs": [],
   "source": [
    "from sstm_transformation.instagram_builder import InstagramBuilder"
   ]
  },
  {
   "cell_type": "code",
   "execution_count": null,
   "id": "61fde2b8",
   "metadata": {},
   "outputs": [],
   "source": [
    "#Read All dfs \n",
    "\n",
    "df_age =readFromFile(\"parquet\", \"s3://dev-truve-devops-05-databricks-bucketetlrawdata-wu3m2thgf3o/instagram/*/age.parquet\")\n",
    "df_city =readFromFile(\"parquet\", \"s3://dev-truve-devops-05-databricks-bucketetlrawdata-wu3m2thgf3o/instagram/*/city.parquet\")\n",
    "df_country =readFromFile(\"parquet\", \"s3://dev-truve-devops-05-databricks-bucketetlrawdata-wu3m2thgf3o/instagram/*/country.parquet\")\n",
    "df_date =readFromFile(\"parquet\", \"s3://dev-truve-devops-05-databricks-bucketetlrawdata-wu3m2thgf3o/instagram/*/date.parquet\")\n",
    "df_gender =readFromFile(\"parquet\", \"s3://dev-truve-devops-05-databricks-bucketetlrawdata-wu3m2thgf3o/instagram/*/gender.parquet\")\n",
    "df_hashtag =readFromFile(\"parquet\", \"s3://dev-truve-devops-05-databricks-bucketetlrawdata-wu3m2thgf3o/instagram/*/hashtag.parquet\")\n",
    "df_hour =readFromFile(\"parquet\", \"s3://dev-truve-devops-05-databricks-bucketetlrawdata-wu3m2thgf3o/instagram/*/hour.parquet\")\n",
    "df_locale =readFromFile(\"parquet\", \"s3://dev-truve-devops-05-databricks-bucketetlrawdata-wu3m2thgf3o/instagram/*/locale.parquet\")\n",
    "df_mediaType =readFromFile(\"parquet\", \"s3://dev-truve-devops-05-databricks-bucketetlrawdata-wu3m2thgf3o/instagram/*/mediaType.parquet\")\n",
    "df_post =readFromFile(\"parquet\", \"s3://dev-truve-devops-05-databricks-bucketetlrawdata-wu3m2thgf3o/instagram/*/post.parquet\")\n"
   ]
  },
  {
   "cell_type": "code",
   "execution_count": null,
   "id": "3987403f",
   "metadata": {},
   "outputs": [],
   "source": [
    "\n",
    "builder = InstagramBuilder(\"sstm.yaml\", spark=spark)\n"
   ]
  },
  {
   "cell_type": "code",
   "execution_count": null,
   "id": "9ce20a1d",
   "metadata": {},
   "outputs": [],
   "source": [
    "#Upload data on S3 \n",
    "from awsglue.dynamicframe import DynamicFrame\n",
    "def upload_result(result):\n",
    "    temp_bucket = \"s3://dev-truve-devops-05-databricks-bucketetlrawdata-wu3m2thgf3o/temp\"\n",
    "    for key, df in result.items():\n",
    "        print(f\"Writing {key}\")\n",
    "        writeToFile(df,\"s3://dev-truve-devops-05-databr-bucketetlprocesseddata-h2m2xopoctot/{}/\".format(key.lower()), \"overwrite\")\n",
    "        dyf = DynamicFrame.fromDF(dataframe=df, glue_ctx=glueContext, name=key)\n",
    "        table_name = key.lower()\n",
    "        dyf.show(10)\n",
    "        \n",
    "        datasink = glueContext.write_dynamic_frame.from_jdbc_conf(\n",
    "                        frame=dyf,\n",
    "                        catalog_connection=\"dev-glue-redshift-connection\",\n",
    "                        connection_options={\n",
    "                            \"preactions\" : \"delete from tsm.{}\".format(table_name),\n",
    "                            \"dbtable\": \"tsm.{}\".format(table_name), \n",
    "                            \"database\": \"truve\",\n",
    "                        },\n",
    "                        redshift_tmp_dir=temp_bucket,\n",
    "                        transformation_ctx=\"datasink\",\n",
    "                    )\n",
    "        '''\n",
    "        #break\n",
    "        redshift_connection_options = {\"url\": \"jdbc:redshift://dev-redshift-cluster.cxorr0thbkvd.us-west-2.redshift.amazonaws.com:5439/truve\", \n",
    "                        \"user\": \"truveadmin\", \n",
    "                        \"password\": \"XXXXXXX\",\n",
    "                        \"preactions\" : \"delete from tsm.{}\".format(table_name),\n",
    "                        \"dbtable\": \"tsm.{}\".format(table_name), \n",
    "                        \"redshiftTmpDir\": temp_bucket} \n",
    "        datasink4 = glueContext.write_dynamic_frame.from_options(frame=dyf,\n",
    "                                                        connection_type=\"redshift\",\n",
    "                                                        connection_options=redshift_connection_options)\n",
    "        '''\n",
    "        #break\n",
    "    "
   ]
  },
  {
   "cell_type": "code",
   "execution_count": null,
   "id": "65ab263f",
   "metadata": {},
   "outputs": [],
   "source": [
    "#Age Transformation\n",
    "def age_transformation(input_df):\n",
    "    #Read Raw Data\n",
    "    result = builder.build_age(df=input_df)\n",
    "    #print(result)\n",
    "    upload_result(result)\n",
    "    \n",
    "age_transformation(df_age)"
   ]
  },
  {
   "cell_type": "code",
   "execution_count": null,
   "id": "5ee145e6",
   "metadata": {},
   "outputs": [],
   "source": [
    "#Age Transformation\n",
    "def cities_transformation(input_df):\n",
    "    #Read Raw Data\n",
    "    result = builder.build_cities(df=input_df)\n",
    "    #print(result)\n",
    "    upload_result(result)\n",
    "    \n",
    "cities_transformation(df_city)"
   ]
  },
  {
   "cell_type": "code",
   "execution_count": null,
   "id": "96cb150b",
   "metadata": {},
   "outputs": [],
   "source": [
    "#Age Transformation\n",
    "def country_transformation(input_df):\n",
    "    #Read Raw Data\n",
    "    result = builder.build_countries(df=input_df)\n",
    "    #print(result)\n",
    "    upload_result(result)\n",
    "    \n",
    "country_transformation(df_country)"
   ]
  },
  {
   "cell_type": "code",
   "execution_count": null,
   "id": "83b5641c",
   "metadata": {},
   "outputs": [],
   "source": [
    "#Age Transformation\n",
    "def date_transformation(input_df):\n",
    "    #Read Raw Data\n",
    "    result = builder.build_dates(df=input_df)\n",
    "    #print(result)\n",
    "    upload_result(result)\n",
    "    \n",
    "date_transformation(df_date)"
   ]
  },
  {
   "cell_type": "code",
   "execution_count": null,
   "id": "56eb5fd4",
   "metadata": {},
   "outputs": [],
   "source": [
    "#Age Transformation\n",
    "def gender_transformation(input_df):\n",
    "    #Read Raw Data\n",
    "    result = builder.build_gender(df=input_df)\n",
    "    #print(result)\n",
    "    upload_result(result)\n",
    "    \n",
    "gender_transformation(df_gender)"
   ]
  },
  {
   "cell_type": "code",
   "execution_count": null,
   "id": "036aaab0",
   "metadata": {},
   "outputs": [],
   "source": [
    "#Age Transformation\n",
    "def post_transformation(input_df):\n",
    "    #Read Raw Data\n",
    "    result = builder.build_posts(df=input_df)\n",
    "    #print(result)\n",
    "    upload_result(result)\n",
    "    \n",
    "post_transformation(df_post)"
   ]
  },
  {
   "cell_type": "code",
   "execution_count": null,
   "id": "d5d53d86",
   "metadata": {},
   "outputs": [],
   "source": [
    "#Age Transformation\n",
    "def hashtag_transformation(input_df):\n",
    "    #Read Raw Data\n",
    "    result = builder.build_hashtags(df=input_df)\n",
    "    #print(result)\n",
    "    upload_result(result)\n",
    "    \n",
    "hashtag_transformation(df_hashtag)"
   ]
  },
  {
   "cell_type": "code",
   "execution_count": null,
   "id": "5b78f762",
   "metadata": {},
   "outputs": [],
   "source": [
    "#Age Transformation\n",
    "def hour_transformation(input_df):\n",
    "    #Read Raw Data\n",
    "    result = builder.build_hours(df=input_df)\n",
    "    #print(result)\n",
    "    upload_result(result)\n",
    "    \n",
    "hour_transformation(df_hour)"
   ]
  },
  {
   "cell_type": "code",
   "execution_count": null,
   "id": "7f132b61",
   "metadata": {},
   "outputs": [],
   "source": [
    "#Age Transformation\n",
    "def locale_transformation(input_df):\n",
    "    #Read Raw Data\n",
    "    result = builder.build_locals(df=input_df)\n",
    "    #print(result)\n",
    "    upload_result(result)\n",
    "    \n",
    "locale_transformation(df_locale)"
   ]
  },
  {
   "cell_type": "code",
   "execution_count": null,
   "id": "384a1d3e",
   "metadata": {},
   "outputs": [],
   "source": [
    "#Age Transformation\n",
    "def mediatype_transformation(input_df):\n",
    "    #Read Raw Data\n",
    "    result = builder.build_mediatypes(df=input_df)\n",
    "    #print(result)\n",
    "    upload_result(result)\n",
    "    \n",
    "mediatype_transformation(df_mediaType)"
   ]
  },
  {
   "cell_type": "code",
   "execution_count": null,
   "id": "0ddddbaa",
   "metadata": {},
   "outputs": [],
   "source": [
    "%stop_session"
   ]
  },
  {
   "cell_type": "code",
   "execution_count": null,
   "id": "f73b58a3",
   "metadata": {},
   "outputs": [],
   "source": []
  }
 ],
 "metadata": {
  "kernelspec": {
   "display_name": "Glue PySpark",
   "language": "python",
   "name": "glue_pyspark"
  },
  "language_info": {
   "codemirror_mode": {
    "name": "python",
    "version": 3
   },
   "file_extension": ".py",
   "mimetype": "text/x-python",
   "name": "Python_Glue_Session",
   "pygments_lexer": "python3"
  }
 },
 "nbformat": 4,
 "nbformat_minor": 5
}
